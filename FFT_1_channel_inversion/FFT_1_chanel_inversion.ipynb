{
  "nbformat": 4,
  "nbformat_minor": 0,
  "metadata": {
    "colab": {
      "name": "FFT_1_chanel_inversion.ipynb",
      "provenance": [],
      "collapsed_sections": [],
      "toc_visible": true
    },
    "kernelspec": {
      "name": "python3",
      "display_name": "Python 3"
    },
    "accelerator": "GPU"
  },
  "cells": [
    {
      "cell_type": "markdown",
      "metadata": {
        "id": "trR3hyj9Ti5c",
        "colab_type": "text"
      },
      "source": [
        "# Imports and versions"
      ]
    },
    {
      "cell_type": "code",
      "metadata": {
        "id": "ySbCVdVOK2oO",
        "colab_type": "code",
        "colab": {
          "base_uri": "https://localhost:8080/",
          "height": 54
        },
        "outputId": "a6a380ea-aea6-408e-f086-cb2e6da2c86c"
      },
      "source": [
        "from google.colab import drive\n",
        "import os\n",
        "\n",
        "drive.mount('/content/drive')"
      ],
      "execution_count": null,
      "outputs": [
        {
          "output_type": "stream",
          "text": [
            "Drive already mounted at /content/drive; to attempt to forcibly remount, call drive.mount(\"/content/drive\", force_remount=True).\n"
          ],
          "name": "stdout"
        }
      ]
    },
    {
      "cell_type": "code",
      "metadata": {
        "id": "Vfb2G5MwGe1S",
        "colab_type": "code",
        "colab": {
          "base_uri": "https://localhost:8080/",
          "height": 34
        },
        "outputId": "12648965-278f-4023-fb3f-b6c1ea77c4d0"
      },
      "source": [
        "!pwd"
      ],
      "execution_count": null,
      "outputs": [
        {
          "output_type": "stream",
          "text": [
            "/content\n"
          ],
          "name": "stdout"
        }
      ]
    },
    {
      "cell_type": "code",
      "metadata": {
        "id": "Y-oCvZS6K_b6",
        "colab_type": "code",
        "colab": {
          "base_uri": "https://localhost:8080/",
          "height": 34
        },
        "outputId": "12d3624f-1c5a-4420-f3ba-f5dad894c86b"
      },
      "source": [
        "os.chdir(\"/content/drive/My Drive/Jerschow_Research/my_inversion/FFT_1_chanel_inversion_files\")\n",
        "!pwd"
      ],
      "execution_count": null,
      "outputs": [
        {
          "output_type": "stream",
          "text": [
            "/content/drive/My Drive/Jerschow_Research/my_inversion/FFT_1_chanel_inversion_files\n"
          ],
          "name": "stdout"
        }
      ]
    },
    {
      "cell_type": "code",
      "metadata": {
        "id": "TRoKn2B6Ti5d",
        "colab_type": "code",
        "colab": {}
      },
      "source": [
        "import numpy as np\n",
        "import matplotlib.pyplot as plt\n",
        "from matplotlib import transforms\n",
        "from scipy import ndimage\n",
        "from scipy.io import loadmat\n",
        "from scipy import stats\n",
        "from scipy import interpolate\n",
        "import random\n",
        "import time\n",
        "import json\n",
        "import os\n",
        "import nibabel as nib\n",
        "import pickle as pk"
      ],
      "execution_count": null,
      "outputs": []
    },
    {
      "cell_type": "code",
      "metadata": {
        "id": "2Dclmap7Ti5g",
        "colab_type": "code",
        "colab": {}
      },
      "source": [
        "# set random seed for testing (to have the same state in subsequent tests, for production run don't do it)\n",
        "np.random.seed(30)"
      ],
      "execution_count": null,
      "outputs": []
    },
    {
      "cell_type": "code",
      "metadata": {
        "id": "Q77OwaYSTi5q",
        "colab_type": "code",
        "colab": {}
      },
      "source": [
        "import tensorflow as tf\n",
        "from tensorflow import keras\n",
        "from tensorflow.keras import models, layers\n",
        "from tensorflow.keras import backend as K\n",
        "from tensorflow.keras.callbacks import ModelCheckpoint\n",
        "\n",
        "#In your imports you are mixing keras and tf.keras, which are NOT compatible with each other, as you get weird errors like these.\n",
        "\n",
        "#So a simple solution is to choose keras or tf.keras, and make all imports from that package, and never mix it with the other."
      ],
      "execution_count": null,
      "outputs": []
    },
    {
      "cell_type": "code",
      "metadata": {
        "id": "tII0I1GLTi5j",
        "colab_type": "code",
        "colab": {
          "base_uri": "https://localhost:8080/",
          "height": 34
        },
        "outputId": "26ed636d-4674-490d-b97d-945d0b7a8924"
      },
      "source": [
        "!type python"
      ],
      "execution_count": null,
      "outputs": [
        {
          "output_type": "stream",
          "text": [
            "python is /usr/local/bin/python\n"
          ],
          "name": "stdout"
        }
      ]
    },
    {
      "cell_type": "code",
      "metadata": {
        "id": "xcAMv9_UTi5n",
        "colab_type": "code",
        "colab": {
          "base_uri": "https://localhost:8080/",
          "height": 102
        },
        "outputId": "ddbec90c-0603-4b21-c051-ba7a63f84957"
      },
      "source": [
        "!jupyter kernelspec list"
      ],
      "execution_count": null,
      "outputs": [
        {
          "output_type": "stream",
          "text": [
            "Available kernels:\n",
            "  ir         /usr/local/share/jupyter/kernels/ir\n",
            "  python2    /usr/local/share/jupyter/kernels/python2\n",
            "  python3    /usr/local/share/jupyter/kernels/python3\n",
            "  swift      /usr/local/share/jupyter/kernels/swift\n"
          ],
          "name": "stdout"
        }
      ]
    },
    {
      "cell_type": "code",
      "metadata": {
        "id": "RiC4d-JwTi5w",
        "colab_type": "code",
        "colab": {
          "base_uri": "https://localhost:8080/",
          "height": 51
        },
        "outputId": "5247dccc-bd69-4b62-8680-1238c4c1a48c"
      },
      "source": [
        "print(tf.__version__)\n",
        "print(tf.__file__)"
      ],
      "execution_count": null,
      "outputs": [
        {
          "output_type": "stream",
          "text": [
            "2.3.0\n",
            "/usr/local/lib/python3.6/dist-packages/tensorflow/__init__.py\n"
          ],
          "name": "stdout"
        }
      ]
    },
    {
      "cell_type": "code",
      "metadata": {
        "id": "_uWs3qNKTi50",
        "colab_type": "code",
        "colab": {
          "base_uri": "https://localhost:8080/",
          "height": 34
        },
        "outputId": "20cdf1cb-f68d-496b-d503-b1dfc41f7c6f"
      },
      "source": [
        "#on HPC can check whether we have GPU support here\n",
        "device_name = tf.test.gpu_device_name()\n",
        "if device_name != '/device:GPU:0':\n",
        "    raise SystemError('GPU device not found')\n",
        "print('Found GPU at: {}'.format(device_name))"
      ],
      "execution_count": null,
      "outputs": [
        {
          "output_type": "stream",
          "text": [
            "Found GPU at: /device:GPU:0\n"
          ],
          "name": "stdout"
        }
      ]
    },
    {
      "cell_type": "code",
      "metadata": {
        "id": "-DUdkQqvz8Jx",
        "colab_type": "code",
        "colab": {
          "base_uri": "https://localhost:8080/",
          "height": 68
        },
        "outputId": "ec156bbd-7db0-4678-93a8-1dd179850db7"
      },
      "source": [
        "print(30*'-')\n",
        "print('|','Found GPU at: {}'.format('/device:GPU:0'), '|')\n",
        "print(30*'-')"
      ],
      "execution_count": null,
      "outputs": [
        {
          "output_type": "stream",
          "text": [
            "------------------------------\n",
            "| Found GPU at: /device:GPU:0 |\n",
            "------------------------------\n"
          ],
          "name": "stdout"
        }
      ]
    },
    {
      "cell_type": "code",
      "metadata": {
        "id": "KzqrSmOov77v",
        "colab_type": "code",
        "colab": {}
      },
      "source": [
        "assert tf.config.list_physical_devices('GPU')\n",
        "assert tf.test.is_built_with_cuda()"
      ],
      "execution_count": null,
      "outputs": []
    },
    {
      "cell_type": "code",
      "metadata": {
        "id": "xEg4dDUDpHuW",
        "colab_type": "code",
        "colab": {
          "base_uri": "https://localhost:8080/",
          "height": 34
        },
        "outputId": "5c031bf3-dc1b-4af6-f67b-c6656cd5fd2b"
      },
      "source": [
        "tf.config.list_physical_devices('GPU')"
      ],
      "execution_count": null,
      "outputs": [
        {
          "output_type": "execute_result",
          "data": {
            "text/plain": [
              "[PhysicalDevice(name='/physical_device:GPU:0', device_type='GPU')]"
            ]
          },
          "metadata": {
            "tags": []
          },
          "execution_count": 13
        }
      ]
    },
    {
      "cell_type": "code",
      "metadata": {
        "id": "h6D3JjyZpYPQ",
        "colab_type": "code",
        "colab": {
          "base_uri": "https://localhost:8080/",
          "height": 34
        },
        "outputId": "1a2619e1-1a44-44a2-d79d-c94ca20daf0a"
      },
      "source": [
        "print(tf.test.gpu_device_name())"
      ],
      "execution_count": null,
      "outputs": [
        {
          "output_type": "stream",
          "text": [
            "/device:GPU:0\n"
          ],
          "name": "stdout"
        }
      ]
    },
    {
      "cell_type": "markdown",
      "metadata": {
        "id": "qr8UMSTDTi53",
        "colab_type": "text"
      },
      "source": [
        "# Read battery magnetometry data\n",
        "skipping this for now, since not needed immediately, but just defining the coordinate grid compatible with the battery data that we have. "
      ]
    },
    {
      "cell_type": "code",
      "metadata": {
        "id": "6gHgpAYmTi54",
        "colab_type": "code",
        "colab": {}
      },
      "source": [
        "# field_row_coor and field_col_coor as calculated from reading in real data and downsampling\n",
        "# so that we do not need to read in experimental data right away\n",
        "# check that can do without reading data\n",
        "# field_row_coor and field_col_coor set up the grid for the magnetic field map for 1 plane\n",
        "\n",
        "field_row_coor=np.array([7.40000000e-05, 1.97920635e-03, 3.88441270e-03, 5.78961905e-03,\n",
        "       7.69482540e-03, 9.60003175e-03, 1.15052381e-02, 1.34104444e-02,\n",
        "       1.53156508e-02, 1.72208571e-02, 1.91260635e-02, 2.10312698e-02,\n",
        "       2.29364762e-02, 2.48416825e-02, 2.67468889e-02, 2.86520952e-02,\n",
        "       3.05573016e-02, 3.24625079e-02, 3.43677143e-02, 3.62729206e-02,\n",
        "       3.81781270e-02, 4.00833333e-02, 4.19885397e-02, 4.38937460e-02,\n",
        "       4.57989524e-02, 4.77041587e-02, 4.96093651e-02, 5.15145714e-02,\n",
        "       5.34197778e-02, 5.53249841e-02, 5.72301905e-02, 5.91353968e-02,\n",
        "       6.10406032e-02, 6.29458095e-02, 6.48510159e-02, 6.67562222e-02,\n",
        "       6.86614286e-02, 7.05666349e-02, 7.24718413e-02, 7.43770476e-02,\n",
        "       7.62822540e-02, 7.81874603e-02, 8.00926667e-02, 8.19978730e-02,\n",
        "       8.39030794e-02, 8.58082857e-02, 8.77134921e-02, 8.96186984e-02,\n",
        "       9.15239048e-02, 9.34291111e-02, 9.53343175e-02, 9.72395238e-02,\n",
        "       9.91447302e-02, 1.01049937e-01, 1.02955143e-01, 1.04860349e-01,\n",
        "       1.06765556e-01, 1.08670762e-01, 1.10575968e-01, 1.12481175e-01,\n",
        "       1.14386381e-01, 1.16291587e-01, 1.18196794e-01, 1.20102000e-01])\n",
        "field_col_coor=np.array([0.001     , 0.00229032, 0.00358065, 0.00487097, 0.00616129,\n",
        "       0.00745161, 0.00874194, 0.01003226, 0.01132258, 0.0126129 ,\n",
        "       0.01390323, 0.01519355, 0.01648387, 0.01777419, 0.01906452,\n",
        "       0.02035484, 0.02164516, 0.02293548, 0.02422581, 0.02551613,\n",
        "       0.02680645, 0.02809677, 0.0293871 , 0.03067742, 0.03196774,\n",
        "       0.03325806, 0.03454839, 0.03583871, 0.03712903, 0.03841935,\n",
        "       0.03970968, 0.041     ])"
      ],
      "execution_count": null,
      "outputs": []
    },
    {
      "cell_type": "code",
      "metadata": {
        "id": "xQKYH7UsDBO5",
        "colab_type": "code",
        "colab": {
          "base_uri": "https://localhost:8080/",
          "height": 51
        },
        "outputId": "cb21b44c-b851-4214-b6e0-23dc4e8a9eba"
      },
      "source": [
        "print(field_row_coor.shape)\n",
        "print(field_col_coor.shape)"
      ],
      "execution_count": null,
      "outputs": [
        {
          "output_type": "stream",
          "text": [
            "(64,)\n",
            "(32,)\n"
          ],
          "name": "stdout"
        }
      ]
    },
    {
      "cell_type": "code",
      "metadata": {
        "id": "R1OHEpM1B71C",
        "colab_type": "code",
        "colab": {}
      },
      "source": [
        "import itertools\n",
        "lst = [i for i in itertools.product(field_row_coor, field_col_coor)]"
      ],
      "execution_count": null,
      "outputs": []
    },
    {
      "cell_type": "code",
      "metadata": {
        "id": "Hx8-WQsnCXnY",
        "colab_type": "code",
        "colab": {
          "base_uri": "https://localhost:8080/",
          "height": 34
        },
        "outputId": "421915e7-f7ef-4a94-a3db-bb917c26df00"
      },
      "source": [
        "len(lst)\n",
        "# should be the same as 64*32"
      ],
      "execution_count": null,
      "outputs": [
        {
          "output_type": "execute_result",
          "data": {
            "text/plain": [
              "2048"
            ]
          },
          "metadata": {
            "tags": []
          },
          "execution_count": 18
        }
      ]
    },
    {
      "cell_type": "code",
      "metadata": {
        "id": "UBqE6hmmCWXY",
        "colab_type": "code",
        "colab": {
          "base_uri": "https://localhost:8080/",
          "height": 282
        },
        "outputId": "3a5cebb2-db4b-4828-8313-7261ea631d2d"
      },
      "source": [
        "plt.plot([pt[0] for pt in lst], [pt[1] for pt in lst], 'b.')"
      ],
      "execution_count": null,
      "outputs": [
        {
          "output_type": "execute_result",
          "data": {
            "text/plain": [
              "[<matplotlib.lines.Line2D at 0x7f9ba31f3e10>]"
            ]
          },
          "metadata": {
            "tags": []
          },
          "execution_count": 19
        },
        {
          "output_type": "display_data",
          "data": {
            "image/png": "[encoded data removed]",
            "text/plain": [
              "<Figure size 432x288 with 1 Axes>"
            ]
          },
          "metadata": {
            "tags": [],
            "needs_background": "light"
          }
        }
      ]
    },
    {
      "cell_type": "markdown",
      "metadata": {
        "id": "iFXYTF2ETi56",
        "colab_type": "text"
      },
      "source": [
        "# setting up the grid for the magnetic susceptibility"
      ]
    },
    {
      "cell_type": "code",
      "metadata": {
        "id": "ltkgIrEGTi59",
        "colab_type": "code",
        "colab": {
          "base_uri": "https://localhost:8080/",
          "height": 51
        },
        "outputId": "03226a0d-d37e-45ce-ebfa-f6980927346f"
      },
      "source": [
        "# battery dimensions\n",
        "battery_dims=np.array([5,30,40])*1e-3;\n",
        "# battery is 5 mm thick, 30mm thick, 40mm high\n",
        "# but all dimensions are in meters so we need the e-3\n",
        "\n",
        "cell_dims=np.array([5,50,60])*1e-3;  # cell dimensions\n",
        "# cell is slightly larger than the battery\n",
        "# the final result map needs to be not confined just to the battery to allow for possible positioning problems \n",
        "# also useful check, if you get any signal outside of the battery you know its wrong\n",
        "# the cell is also the ground for our susceptibility map\n",
        "\n",
        "print(cell_dims)\n",
        "print(battery_dims)"
      ],
      "execution_count": null,
      "outputs": [
        {
          "output_type": "stream",
          "text": [
            "[0.005 0.05  0.06 ]\n",
            "[0.005 0.03  0.04 ]\n"
          ],
          "name": "stdout"
        }
      ]
    },
    {
      "cell_type": "code",
      "metadata": {
        "id": "WFQg-QHMTi6B",
        "colab_type": "code",
        "colab": {}
      },
      "source": [
        "#probe_dist=2.3e-2;   # 2 cm top and bottom\n",
        "#probe_dist=1.59e-2;   # 1.59 cm top and bottom\n",
        "#probe_dist=1e-2;   # 2 cm top and bottom\n",
        "\n",
        "probe_dist = 1.59e-4\n",
        "# smaller probe_dist yields better behaved data\n",
        "# but too small of a probe_dist yields unstable training\n",
        "\n",
        "suscept_dims=[1,16,32];\n",
        "#since we are only concerned with the y-z plane, we will just use 1 pt for x\n",
        "#this set up how many grid points we want for the magnetic susceptibility map for 1 plane\n",
        "\n",
        "dV_suscept=np.prod(cell_dims/suscept_dims);   \n",
        "# this is volume per point in the susceptibility map, seems the correct way\n",
        "\n",
        "# some recentering of coordinates based on experimental data\n",
        "# center means the center of the battery\n",
        "# we need to readjust it because humans cannot place the battery perfectly dead on its center everytime\n",
        "# for first data\n",
        "centery=0.021;\n",
        "centerz=0.06;\n",
        "\n",
        "# for second data\n",
        "centery=0.015;\n",
        "centerz=0.077;\n",
        "\n",
        "# for damaged cell data\n",
        "centery=0.020;\n",
        "centerz=0.065;\n",
        "\n",
        "# for new send data\n",
        "centery=0.021;\n",
        "centerz=0.062;\n"
      ],
      "execution_count": null,
      "outputs": []
    },
    {
      "cell_type": "markdown",
      "metadata": {
        "id": "8N8BmlWYTi6F",
        "colab_type": "text"
      },
      "source": [
        "### convert both the magnetic susceptibility grid positions and the magnetic field positions into lists `[x1,y1,z1; x2,y2,z2; etc ]`\n"
      ]
    },
    {
      "cell_type": "markdown",
      "metadata": {
        "id": "8DddBF4LHWzk",
        "colab_type": "text"
      },
      "source": [
        "`suscept_pos_list` is the list for every coordinate in the magnetic-susceptibility map\n",
        "\n",
        "`field_pos_list` is the list for every coordinate in the magnetic-field map"
      ]
    },
    {
      "cell_type": "code",
      "metadata": {
        "id": "AhK8DpZVpm9t",
        "colab_type": "code",
        "colab": {
          "base_uri": "https://localhost:8080/",
          "height": 51
        },
        "outputId": "232645bc-2d35-4586-94eb-6da4b54134b5"
      },
      "source": [
        "print(suscept_dims)\n",
        "print(cell_dims)"
      ],
      "execution_count": null,
      "outputs": [
        {
          "output_type": "stream",
          "text": [
            "[1, 16, 32]\n",
            "[0.005 0.05  0.06 ]\n"
          ],
          "name": "stdout"
        }
      ]
    },
    {
      "cell_type": "code",
      "metadata": {
        "id": "6tmWvPNZH82y",
        "colab_type": "code",
        "colab": {
          "base_uri": "https://localhost:8080/",
          "height": 51
        },
        "outputId": "847ad1ce-bd72-4fc9-b219-9122a2c15112"
      },
      "source": [
        "print(np.linspace(1,10,10))\n",
        "print(np.linspace(1,10,10)[1:9])"
      ],
      "execution_count": null,
      "outputs": [
        {
          "output_type": "stream",
          "text": [
            "[ 1.  2.  3.  4.  5.  6.  7.  8.  9. 10.]\n",
            "[2. 3. 4. 5. 6. 7. 8. 9.]\n"
          ],
          "name": "stdout"
        }
      ]
    },
    {
      "cell_type": "code",
      "metadata": {
        "id": "-3I0V9MUTi6F",
        "colab_type": "code",
        "colab": {}
      },
      "source": [
        "# this way bottom of cell starts at x=0 (+padding of 1), so the probe_dist is measured from the bottom of cell\n",
        "suscep_pos=[[],[],[]] \n",
        "  # a list of 3 lists\n",
        "for i in range(3):\n",
        "    suscep_pos[i]=np.linspace(0, cell_dims[i], suscept_dims[i]+2)\n",
        "    suscep_pos[i]=suscep_pos[i][1:(suscept_dims[i]+1)]\n",
        "\n",
        "# recenter all y and z coordinates, but skip x, so only list 1 and 2, not 0\n",
        "suscep_pos[1]=suscep_pos[1]+centery-cell_dims[1]/2\n",
        "suscep_pos[2]=suscep_pos[2]+centerz-cell_dims[2]/2\n",
        "\n",
        "suscep_x_cor,suscep_y_cor,suscep_z_cor=np.meshgrid(suscep_pos[0],suscep_pos[1],suscep_pos[2],indexing='ij')\n",
        "\n",
        "total_suscep_pts=np.prod(suscept_dims)\n",
        "assert(np.prod(suscept_dims) == np.prod(suscep_x_cor.shape) \n",
        "        == np.prod(suscep_y_cor.shape) == np.prod(suscep_z_cor.shape))\n",
        "\n",
        "suscept_pos_list=np.concatenate((suscep_x_cor.reshape((total_suscep_pts,1)),\n",
        "                                 suscep_y_cor.reshape((total_suscep_pts,1)),\n",
        "                                 suscep_z_cor.reshape((total_suscep_pts,1))\n",
        "                                 ),\n",
        "                                axis=1)"
      ],
      "execution_count": null,
      "outputs": []
    },
    {
      "cell_type": "code",
      "metadata": {
        "id": "dsOVK3aYrM0B",
        "colab_type": "code",
        "colab": {
          "base_uri": "https://localhost:8080/",
          "height": 34
        },
        "outputId": "6fd44f1f-9689-497a-cb4f-d22d22d6b982"
      },
      "source": [
        "suscep_x_cor.shape"
      ],
      "execution_count": null,
      "outputs": [
        {
          "output_type": "execute_result",
          "data": {
            "text/plain": [
              "(1, 16, 32)"
            ]
          },
          "metadata": {
            "tags": []
          },
          "execution_count": 25
        }
      ]
    },
    {
      "cell_type": "code",
      "metadata": {
        "id": "nFM34FdHZqey",
        "colab_type": "code",
        "colab": {
          "base_uri": "https://localhost:8080/",
          "height": 136
        },
        "outputId": "33e4c138-2c5a-407f-8abf-16b25ebb5cb6"
      },
      "source": [
        "# a list of lists, where every list is a [x,y,z] coordinate of the mag-suscept map\n",
        "suscept_pos_list"
      ],
      "execution_count": null,
      "outputs": [
        {
          "output_type": "execute_result",
          "data": {
            "text/plain": [
              "array([[ 0.0025    , -0.00105882,  0.03381818],\n",
              "       [ 0.0025    , -0.00105882,  0.03563636],\n",
              "       [ 0.0025    , -0.00105882,  0.03745455],\n",
              "       ...,\n",
              "       [ 0.0025    ,  0.04305882,  0.08654545],\n",
              "       [ 0.0025    ,  0.04305882,  0.08836364],\n",
              "       [ 0.0025    ,  0.04305882,  0.09018182]])"
            ]
          },
          "metadata": {
            "tags": []
          },
          "execution_count": 26
        }
      ]
    },
    {
      "cell_type": "code",
      "metadata": {
        "id": "aAvE2f8rTi6I",
        "colab_type": "code",
        "colab": {}
      },
      "source": [
        "field_row_v, field_col_v = np.meshgrid(field_row_coor, field_col_coor, indexing='ij')  \n",
        "# ij indexing produces same shape as newy, newz"
      ],
      "execution_count": null,
      "outputs": []
    },
    {
      "cell_type": "code",
      "metadata": {
        "id": "eWPm0NDeTi6K",
        "colab_type": "code",
        "colab": {}
      },
      "source": [
        "# create field-pos / amp vectors\n",
        "# remember that for two field components, I would have to stack them\n",
        "# so maybe best for now to keep them separate (position vs. field measures)\n",
        "total_field_pts=np.prod(field_row_v.shape)\n",
        "# y, z, newy, newz"
      ],
      "execution_count": null,
      "outputs": []
    },
    {
      "cell_type": "code",
      "metadata": {
        "id": "UfH2IUupTi6N",
        "colab_type": "code",
        "colab": {}
      },
      "source": [
        "field_pos_list=np.concatenate((field_col_v.reshape((total_field_pts,1)),\n",
        "                               field_row_v.reshape((total_field_pts,1))\n",
        "                               ),\n",
        "                              axis=1)\n",
        "field_pos_list=np.insert(field_pos_list,0,probe_dist,axis=1)"
      ],
      "execution_count": null,
      "outputs": []
    },
    {
      "cell_type": "code",
      "metadata": {
        "id": "SkhMDtkPpWGL",
        "colab_type": "code",
        "colab": {
          "base_uri": "https://localhost:8080/",
          "height": 136
        },
        "outputId": "24bc5516-f59d-4615-f4ff-adec9277beb0"
      },
      "source": [
        "# a list of lists, where every list is a [probe_dist,y,z] coordinate of the mag-field map\n",
        "field_pos_list"
      ],
      "execution_count": null,
      "outputs": [
        {
          "output_type": "execute_result",
          "data": {
            "text/plain": [
              "array([[1.590000e-04, 1.000000e-03, 7.400000e-05],\n",
              "       [1.590000e-04, 2.290320e-03, 7.400000e-05],\n",
              "       [1.590000e-04, 3.580650e-03, 7.400000e-05],\n",
              "       ...,\n",
              "       [1.590000e-04, 3.841935e-02, 1.201020e-01],\n",
              "       [1.590000e-04, 3.970968e-02, 1.201020e-01],\n",
              "       [1.590000e-04, 4.100000e-02, 1.201020e-01]])"
            ]
          },
          "metadata": {
            "tags": []
          },
          "execution_count": 30
        }
      ]
    },
    {
      "cell_type": "code",
      "metadata": {
        "id": "QkVs-GG15qms",
        "colab_type": "code",
        "colab": {}
      },
      "source": [
        ""
      ],
      "execution_count": null,
      "outputs": []
    },
    {
      "cell_type": "markdown",
      "metadata": {
        "id": "HpgwPXkTTi6r",
        "colab_type": "text"
      },
      "source": [
        "# Generating Training Set\n",
        "generating fake magnetic susceptibility distributions and calculating the expected magnetic fields from this based on known `A` coefficient matrix"
      ]
    },
    {
      "cell_type": "code",
      "metadata": {
        "id": "kM3QoHZATi6s",
        "colab_type": "code",
        "colab": {}
      },
      "source": [
        "num_sim2=600 #can adjust, higher means slower training time but more accurate model"
      ],
      "execution_count": null,
      "outputs": []
    },
    {
      "cell_type": "code",
      "metadata": {
        "id": "G8H3UHZvTi6y",
        "colab_type": "code",
        "colab": {}
      },
      "source": [
        "# function to forwardly calculate mag-field from synthetic mag-suscept\n",
        "\n",
        "def calcfield(suscept):\n",
        "  '''\n",
        "  input:\n",
        "    suscept: a 3-D tensor of magnetic susceptibility of one battery, must have the shape (16, 32, #_of_chanels)\n",
        "  return:\n",
        "    fieldz: 2-D matrix of the z-component of magnetic field vector space\n",
        "  '''\n",
        "  source_vec=np.squeeze(suscept[:,:,:])\n",
        "  fieldz = np.fft.fft2(source_vec)\n",
        "  fieldz = np.fft.fftshift(fieldz)\n",
        "  # fieldz = np.real(fieldz)\n",
        "  # leave the modification for later\n",
        "  return fieldz"
      ],
      "execution_count": null,
      "outputs": []
    },
    {
      "cell_type": "code",
      "metadata": {
        "id": "ZZ0a8ur8kVdj",
        "colab_type": "code",
        "colab": {
          "base_uri": "https://localhost:8080/",
          "height": 34
        },
        "outputId": "43f9604e-0160-43c9-b771-aea84b7f410d"
      },
      "source": [
        "print(suscept_dims)"
      ],
      "execution_count": null,
      "outputs": [
        {
          "output_type": "stream",
          "text": [
            "[1, 16, 32]\n"
          ],
          "name": "stdout"
        }
      ]
    },
    {
      "cell_type": "code",
      "metadata": {
        "id": "UHjvsM9rTi6v",
        "colab_type": "code",
        "colab": {}
      },
      "source": [
        "output_suscept=np.zeros((num_sim2, suscept_dims[2], suscept_dims[1],1)) \n",
        "# pre-allocate tensor for holding label values\n",
        "# 1 chanel for susceptibility\n",
        "\n",
        "\n",
        "input_field=np.empty((num_sim2, suscept_dims[2], suscept_dims[1],1), dtype=complex) \n",
        "# pre-allocate tensor for holding training data\n",
        "# for FT, must be the same shape as the suscept labels\n",
        "# set the dtype to be accepting complex values"
      ],
      "execution_count": null,
      "outputs": []
    },
    {
      "cell_type": "code",
      "metadata": {
        "id": "CJOofV3NTi62",
        "colab_type": "code",
        "colab": {}
      },
      "source": [
        "# generate random magntic susceptibility distributions, based on a set of random gaussian peaks \n",
        "\n",
        "maxlevelrange=200e-6\n",
        "  # could just set this to 200\n",
        "  # and then know that the number has the ppm unit\n",
        "numberpeaks=10;\n",
        "idx1=range(int(suscept_dims[2]))\n",
        "idx2=range(int(suscept_dims[1]))\n",
        "midx1,midx2=np.meshgrid(idx1,idx2,indexing='ij')\n",
        "for ii in range(num_sim2):\n",
        "    # for now just produce z susceptibility (easier for checking result?)\n",
        "    \n",
        "    # here provide alternative training set  exp(-x^2/(2sigma^2))\n",
        "  if True:\n",
        "    for iii in range(numberpeaks):\n",
        "      pos1=np.random.rand(1)*suscept_dims[2]\n",
        "      pos2=np.random.rand(1)*suscept_dims[1]\n",
        "      w1=np.random.rand(1)*suscept_dims[2]/5+1\n",
        "      w2=np.random.rand(1)*suscept_dims[1]/5+1\n",
        "      amp=np.random.rand(1)*maxlevelrange\n",
        "      output_suscept[ii, :, :,0]=output_suscept[ii, :, :,0]+amp*np.exp(-((midx1-pos1)/w1)**2-((midx2-pos2)/w2)**2)\n",
        "      # notice that we only generated the z-components of the mag-suscept\n",
        "  else:\n",
        "    # for network best to create the susceptibility in the transposed version\n",
        "    #output_suscept[ii, :, :,2] = maxlevelrange*np.random.rand(suscept_dims[1], suscept_dims[2])\n",
        "    output_suscept[ii, :, :,0] = maxlevelrange*np.random.rand(suscept_dims[2], suscept_dims[1])  # only z susceptibility for now \n",
        "        \n",
        "  input_field[ii, :, :,0] = (calcfield(output_suscept[ii,:,:,:]))\n",
        "  # so the input data will be the mag-field, chanel 0 will be y-component, chanel 1 will be z-component\n",
        "  # but here since fft is 1-to-1, only have 1 channel which is channel 0\n",
        "  # the output, or what we are trying to predict, are the mag-susceptibilities\n",
        "\n",
        "  # a useful unit is 10e-12, since we already did 10e6 for the suscept, we can just multiply field by another 10e6 to get that unit\n",
        "    "
      ],
      "execution_count": null,
      "outputs": []
    },
    {
      "cell_type": "code",
      "metadata": {
        "id": "dMVmyjBWfT2m",
        "colab_type": "code",
        "colab": {
          "base_uri": "https://localhost:8080/",
          "height": 34
        },
        "outputId": "a50c2fac-2a27-4380-f696-98d1973d516c"
      },
      "source": [
        "np.all(input_field[30,:,:,0] == calcfield(output_suscept[30,:,:,:]))"
      ],
      "execution_count": null,
      "outputs": [
        {
          "output_type": "execute_result",
          "data": {
            "text/plain": [
              "True"
            ]
          },
          "metadata": {
            "tags": []
          },
          "execution_count": 36
        }
      ]
    },
    {
      "cell_type": "code",
      "metadata": {
        "id": "QIqWYzUDcSsm",
        "colab_type": "code",
        "colab": {
          "base_uri": "https://localhost:8080/",
          "height": 289
        },
        "outputId": "64317b6c-30fe-4658-f4b6-2e5513acae46"
      },
      "source": [
        "input_field[0][0]"
      ],
      "execution_count": null,
      "outputs": [
        {
          "output_type": "execute_result",
          "data": {
            "text/plain": [
              "array([[-3.72183148e-07+0.00000000e+00j],\n",
              "       [-3.41201099e-07-1.39025190e-08j],\n",
              "       [ 5.25179820e-07+4.52388957e-07j],\n",
              "       [ 2.90896388e-06+6.01620654e-07j],\n",
              "       [ 2.94659154e-06-9.14251960e-06j],\n",
              "       [-2.76791037e-05-1.83748520e-05j],\n",
              "       [-2.68296366e-06+6.14657326e-05j],\n",
              "       [-4.62959892e-05-1.18653814e-05j],\n",
              "       [ 1.54298047e-04+0.00000000e+00j],\n",
              "       [-4.62959892e-05+1.18653814e-05j],\n",
              "       [-2.68296366e-06-6.14657326e-05j],\n",
              "       [-2.76791037e-05+1.83748520e-05j],\n",
              "       [ 2.94659154e-06+9.14251960e-06j],\n",
              "       [ 2.90896388e-06-6.01620654e-07j],\n",
              "       [ 5.25179820e-07-4.52388957e-07j],\n",
              "       [-3.41201099e-07+1.39025190e-08j]])"
            ]
          },
          "metadata": {
            "tags": []
          },
          "execution_count": 37
        }
      ]
    },
    {
      "cell_type": "code",
      "metadata": {
        "id": "HzRIJcw1Ti69",
        "colab_type": "code",
        "colab": {}
      },
      "source": [
        "def imshow_center(data):\n",
        "  '''\n",
        "  Display 1 chanel of the data as an image; i.e. on a 2D regular raster.\n",
        "  input:\n",
        "    data: a single battery's \n",
        "      magnetic field image that is a 2-D array with shape [64,32] with scalar data,\n",
        "      or magnetic susceptibility image that is a 2-D array with shape [32,16]\n",
        "  output:\n",
        "    figure/image displaying all the range of values\n",
        "  '''\n",
        "  maxval=np.max(np.abs(data))\n",
        "  plt.imshow(data, cmap=\"seismic\",vmin=-maxval,vmax=maxval)\n",
        "  plt.colorbar()"
      ],
      "execution_count": null,
      "outputs": []
    },
    {
      "cell_type": "code",
      "metadata": {
        "id": "VUKHc9IFoB-H",
        "colab_type": "code",
        "colab": {
          "base_uri": "https://localhost:8080/",
          "height": 51
        },
        "outputId": "ce0da534-2abd-4e5b-fa2b-0c4392c09fa3"
      },
      "source": [
        "print((input_field[33,:,:,0]).shape)\n",
        "# print((train_images_t2b[33,:,:,1]).shape)\n",
        "print((input_field).shape)"
      ],
      "execution_count": null,
      "outputs": [
        {
          "output_type": "stream",
          "text": [
            "(32, 16)\n",
            "(600, 32, 16, 1)\n"
          ],
          "name": "stdout"
        }
      ]
    },
    {
      "cell_type": "markdown",
      "metadata": {
        "id": "364of03a8qQv",
        "colab_type": "text"
      },
      "source": [
        "So I have 600 battery samples in my training set, each battery sample has 2 dimensions where each dimension is a magnetic field map of size (64$\\small{\\times}$32). The magnetic field is the input to my model."
      ]
    },
    {
      "cell_type": "code",
      "metadata": {
        "scrolled": false,
        "id": "CLWnPKSxTi7A",
        "colab_type": "code",
        "colab": {
          "base_uri": "https://localhost:8080/",
          "height": 266
        },
        "outputId": "f8988817-a9e2-4de5-ce53-7f9e8a13c8cc"
      },
      "source": [
        "imshow_center(np.abs(np.imag(input_field[33,:,:,0])))\n",
        "plt.savefig('training_input_imag.png')"
      ],
      "execution_count": null,
      "outputs": [
        {
          "output_type": "display_data",
          "data": {
            "image/png": "[encoded data removed]",
            "text/plain": [
              "<Figure size 432x288 with 2 Axes>"
            ]
          },
          "metadata": {
            "tags": [],
            "needs_background": "light"
          }
        }
      ]
    },
    {
      "cell_type": "code",
      "metadata": {
        "id": "M63m1bdomZEw",
        "colab_type": "code",
        "colab": {
          "base_uri": "https://localhost:8080/",
          "height": 266
        },
        "outputId": "9aa98d95-eeda-41b5-9c3e-55fc4566e0d7"
      },
      "source": [
        "imshow_center(np.real(input_field[33,:,:,0]))\n",
        "plt.savefig('training_input_real.png')"
      ],
      "execution_count": null,
      "outputs": [
        {
          "output_type": "display_data",
          "data": {
            "image/png": "[encoded data removed]",
            "text/plain": [
              "<Figure size 432x288 with 2 Axes>"
            ]
          },
          "metadata": {
            "tags": [],
            "needs_background": "light"
          }
        }
      ]
    },
    {
      "cell_type": "code",
      "metadata": {
        "id": "49hXMP33mbvt",
        "colab_type": "code",
        "colab": {
          "base_uri": "https://localhost:8080/",
          "height": 266
        },
        "outputId": "9cb8b7c4-ab07-4cea-bb2f-abc8977e961c"
      },
      "source": [
        "imshow_center(np.abs(input_field[33,:,:,0]))\n",
        "plt.savefig('training_sample_abs.png')"
      ],
      "execution_count": null,
      "outputs": [
        {
          "output_type": "display_data",
          "data": {
            "image/png": "[encoded data removed]",
            "text/plain": [
              "<Figure size 432x288 with 2 Axes>"
            ]
          },
          "metadata": {
            "tags": [],
            "needs_background": "light"
          }
        }
      ]
    },
    {
      "cell_type": "code",
      "metadata": {
        "id": "2YZO-6N8pG7F",
        "colab_type": "code",
        "colab": {
          "base_uri": "https://localhost:8080/",
          "height": 51
        },
        "outputId": "bc2136bd-78a8-4217-8b02-039f3ce988f5"
      },
      "source": [
        "print((output_suscept[33,:,:,0]).shape)\n",
        "print((output_suscept).shape)"
      ],
      "execution_count": null,
      "outputs": [
        {
          "output_type": "stream",
          "text": [
            "(32, 16)\n",
            "(600, 32, 16, 1)\n"
          ],
          "name": "stdout"
        }
      ]
    },
    {
      "cell_type": "markdown",
      "metadata": {
        "id": "HRlEqeD589Vs",
        "colab_type": "text"
      },
      "source": [
        "So I have 600 battery samples in my training set, each battery sample has 1 dimensions where each dimension is a magnetic susceptibility map of size (32$\\times$16). The magnetic susceptibility is my model output, what I am trying to predict/label. "
      ]
    },
    {
      "cell_type": "code",
      "metadata": {
        "id": "TLgREaQwTi7D",
        "colab_type": "code",
        "colab": {
          "base_uri": "https://localhost:8080/",
          "height": 248
        },
        "outputId": "218355ed-5689-465b-8915-f9fceff9b723"
      },
      "source": [
        "# for historical reasons, the magnetic susceptibility map shows up transpose, \n",
        "# I guess it would be good to change that at some point, but for now keeping it \n",
        "imshow_center(np.transpose(output_suscept[33,:,:,0]))\n",
        "plt.savefig('training_label.png')"
      ],
      "execution_count": null,
      "outputs": [
        {
          "output_type": "display_data",
          "data": {
            "image/png": "[encoded data removed]",
            "text/plain": [
              "<Figure size 432x288 with 2 Axes>"
            ]
          },
          "metadata": {
            "tags": [],
            "needs_background": "light"
          }
        }
      ]
    },
    {
      "cell_type": "markdown",
      "metadata": {
        "id": "PVVCggcf_ZuN",
        "colab_type": "text"
      },
      "source": [
        "note that here we only have positive values ($>0$) in our magnetic susceptibility map. \n",
        "\n",
        "Magnetic susceptibility of a material is defined as the ratio of the intensity of magnetisation ($I$) induced in the material to the magnetisation force ($H$) applied on it. \n",
        "\n",
        "Substances such as copper, lead, etc. have negative susceptibility. These substances are called diamagnetic substances. Substances with negative susceptibility signify that they are repelled by magnets.\n",
        "\n",
        "Substances such as aluminium, calcium, etc. have positive susceptibility. These substances are called paramagnetic substances. \n",
        "\n",
        "Read more on Brainly.in - https://brainly.in/question/282451#readmore"
      ]
    },
    {
      "cell_type": "markdown",
      "metadata": {
        "id": "lgpaT18Rk_Ow",
        "colab_type": "text"
      },
      "source": [
        "## train, validation, test split"
      ]
    },
    {
      "cell_type": "code",
      "metadata": {
        "id": "nSljYhV50eNP",
        "colab_type": "code",
        "colab": {
          "base_uri": "https://localhost:8080/",
          "height": 51
        },
        "outputId": "83e22d39-eade-47de-a283-73886aa60bd0"
      },
      "source": [
        "choice = input(\"abs, real, imag, comp: \")\n",
        "if choice == \"abs\":\n",
        "  input_field = np.abs(input_field)\n",
        "  print(\"taking absolute value of the complex FFT mag-field\")\n",
        "elif choice == \"real\":\n",
        "  input_field = np.real(input_field)\n",
        "  print(\"taking the real part of the complex FFT mag-field\")\n",
        "elif choice == \"imag\":\n",
        "  input_field = np.imag(input_field)\n",
        "  print(\"taking the imaginary part of the complex FFT mag-field\")\n",
        "else:\n",
        "  print(\"taking the entire complex number of the complex FFT mag-field\")"
      ],
      "execution_count": null,
      "outputs": [
        {
          "output_type": "stream",
          "text": [
            "abs, real, imag, comp: imag\n",
            "taking the imaginary part of the complex FFT mag-field\n"
          ],
          "name": "stdout"
        }
      ]
    },
    {
      "cell_type": "code",
      "metadata": {
        "id": "XfQQ45X18UB6",
        "colab_type": "code",
        "colab": {
          "base_uri": "https://localhost:8080/",
          "height": 153
        },
        "outputId": "170a2245-f81f-4856-c63c-65314b0f7089"
      },
      "source": [
        "# train, validation, and test split\n",
        "\n",
        "# a list of random indices thats 40% of the samples\n",
        "val_test_idx = random.sample(range(num_sim2), int(0.4*num_sim2))\n",
        "# get the remainder of the indices as train\n",
        "train_idx = np.setdiff1d(range(num_sim2),val_test_idx)\n",
        "\n",
        "val_data = input_field[val_test_idx[:int(0.4*num_sim2/2)], :, :, :]\n",
        "val_labels = output_suscept[val_test_idx[:int(0.4*num_sim2/2)], :, :, :]\n",
        "\n",
        "test_data = input_field[val_test_idx[int(0.4*num_sim2/2):], :, :, :]\n",
        "test_labels = output_suscept[val_test_idx[int(0.4*num_sim2/2):], :, :, :]\n",
        "\n",
        "train_data = input_field[train_idx, :, :, :]\n",
        "train_labels = output_suscept[train_idx, :, :, :]\n",
        "\n",
        "print(val_data.shape)\n",
        "print(val_labels.shape)\n",
        "print(30*'-')\n",
        "print(test_data.shape)\n",
        "print(test_labels.shape)\n",
        "print(30*'-')\n",
        "print(train_data.shape)\n",
        "print(train_labels.shape)"
      ],
      "execution_count": null,
      "outputs": [
        {
          "output_type": "stream",
          "text": [
            "(120, 32, 16, 1)\n",
            "(120, 32, 16, 1)\n",
            "------------------------------\n",
            "(120, 32, 16, 1)\n",
            "(120, 32, 16, 1)\n",
            "------------------------------\n",
            "(360, 32, 16, 1)\n",
            "(360, 32, 16, 1)\n"
          ],
          "name": "stdout"
        }
      ]
    },
    {
      "cell_type": "code",
      "metadata": {
        "id": "4Bdh6AySewx2",
        "colab_type": "code",
        "colab": {
          "base_uri": "https://localhost:8080/",
          "height": 34
        },
        "outputId": "2b77380a-95b1-47c2-cbba-b1b0cb7fcfca"
      },
      "source": [
        "# just making sure we paired the input and output correctly\n",
        "# of course, use abs / real / imag per how you transformed the training data\n",
        "np.all(test_data[30,:,:,0] == (calcfield(test_labels[30,:,:,:])))"
      ],
      "execution_count": null,
      "outputs": [
        {
          "output_type": "execute_result",
          "data": {
            "text/plain": [
              "False"
            ]
          },
          "metadata": {
            "tags": []
          },
          "execution_count": 47
        }
      ]
    },
    {
      "cell_type": "code",
      "metadata": {
        "id": "oTKbDDIYULZA",
        "colab_type": "code",
        "colab": {
          "base_uri": "https://localhost:8080/",
          "height": 85
        },
        "outputId": "62cbf478-8ab8-4e5f-ee7f-0d25e602ec9f"
      },
      "source": [
        "output_suscept[3, :, :,0][0]"
      ],
      "execution_count": null,
      "outputs": [
        {
          "output_type": "execute_result",
          "data": {
            "text/plain": [
              "array([3.76855930e-09, 9.05122475e-09, 1.77911699e-08, 2.86198153e-08,\n",
              "       3.76785612e-08, 4.05963470e-08, 3.57968463e-08, 2.58325803e-08,\n",
              "       1.52566472e-08, 7.37807842e-09, 2.99913516e-09, 1.91327854e-09,\n",
              "       6.74868800e-09, 2.48426394e-08, 5.37878350e-08, 6.63581914e-08])"
            ]
          },
          "metadata": {
            "tags": []
          },
          "execution_count": 48
        }
      ]
    },
    {
      "cell_type": "code",
      "metadata": {
        "id": "WpVf47_3mJBZ",
        "colab_type": "code",
        "colab": {
          "base_uri": "https://localhost:8080/",
          "height": 85
        },
        "outputId": "91596ba6-d55c-48fb-de9b-bc450d28e5fe"
      },
      "source": [
        "input_field[3, :, :,0][0]"
      ],
      "execution_count": null,
      "outputs": [
        {
          "output_type": "execute_result",
          "data": {
            "text/plain": [
              "array([ 0.00000000e+00, -6.87880310e-06,  2.14972625e-05,  4.16246452e-05,\n",
              "       -1.41264215e-05, -5.12059405e-05,  1.04379305e-04,  2.93932712e-04,\n",
              "        0.00000000e+00, -2.93932712e-04, -1.04379305e-04,  5.12059405e-05,\n",
              "        1.41264215e-05, -4.16246452e-05, -2.14972625e-05,  6.87880310e-06])"
            ]
          },
          "metadata": {
            "tags": []
          },
          "execution_count": 49
        }
      ]
    },
    {
      "cell_type": "code",
      "metadata": {
        "id": "OMf8kRD4Ti64",
        "colab_type": "code",
        "colab": {
          "base_uri": "https://localhost:8080/",
          "height": 34
        },
        "outputId": "0f726d61-5f67-4759-897f-6ae58a8dcac8"
      },
      "source": [
        "# TF requires this kind of transformation into tensor\n",
        "train_images_t2b=tf.constant(train_data)\n",
        "train_labels_t2b=tf.constant(train_labels)\n",
        "\n",
        "val_images_t2b=tf.constant(val_data)\n",
        "val_labels_t2b=tf.constant(val_labels)\n",
        "\n",
        "test_images_t2b=tf.constant(test_data)\n",
        "test_labels_t2b=tf.constant(test_labels)\n",
        "\n",
        "train_images_t2b.shape\n",
        "# the input images are the magnetic field map for all batteries"
      ],
      "execution_count": null,
      "outputs": [
        {
          "output_type": "execute_result",
          "data": {
            "text/plain": [
              "TensorShape([360, 32, 16, 1])"
            ]
          },
          "metadata": {
            "tags": []
          },
          "execution_count": 50
        }
      ]
    },
    {
      "cell_type": "code",
      "metadata": {
        "id": "1XBMFK0WTi67",
        "colab_type": "code",
        "colab": {
          "base_uri": "https://localhost:8080/",
          "height": 34
        },
        "outputId": "0c2caf9a-a6ea-4ec8-c0b6-62b2ff449735"
      },
      "source": [
        "test_labels_t2b.shape\n",
        "# the output images are the magnetic susceptibility map for all batteries"
      ],
      "execution_count": null,
      "outputs": [
        {
          "output_type": "execute_result",
          "data": {
            "text/plain": [
              "TensorShape([120, 32, 16, 1])"
            ]
          },
          "metadata": {
            "tags": []
          },
          "execution_count": 51
        }
      ]
    },
    {
      "cell_type": "markdown",
      "metadata": {
        "id": "Tiqn976JTi6Z",
        "colab_type": "text"
      },
      "source": [
        "# Model setup\n",
        "model based on papers (Bollman, etc) with some modifications, links given"
      ]
    },
    {
      "cell_type": "markdown",
      "metadata": {
        "id": "dU_wiqTjuPfY",
        "colab_type": "text"
      },
      "source": [
        "## define model functions"
      ]
    },
    {
      "cell_type": "code",
      "metadata": {
        "id": "XkF6ZeInTi6c",
        "colab_type": "code",
        "colab": {}
      },
      "source": [
        "#adapted from https://colab.research.google.com/drive/1ltjXmi6fSAe4YBgJrmHH_wjTl9VxFRgl\n",
        "\n",
        "def get_figure():\n",
        "    \"\"\"\n",
        "    Returns:\n",
        "      an emtpy figure object and an empty axis object to plot on. \n",
        "    \n",
        "    Removes top and right border and ticks, because those are ugly\n",
        "    \"\"\"\n",
        "    fig, ax = plt.subplots(1)\n",
        "    plt.tick_params(top=False, right=False, which='both') \n",
        "    ax.spines['top'].set_visible(False)\n",
        "    ax.spines['right'].set_visible(False)\n",
        "    return fig, ax"
      ],
      "execution_count": null,
      "outputs": []
    },
    {
      "cell_type": "code",
      "metadata": {
        "id": "Cdv63BxDTi6f",
        "colab_type": "code",
        "colab": {}
      },
      "source": [
        "def conv_block_h2(input_tensor, num_filters, dropout_level = 0.15):\n",
        "    encoder = layers.Conv2D(num_filters, (3, 3), padding='same')(input_tensor)\n",
        "    encoder = layers.BatchNormalization()(encoder)\n",
        "    encoder = layers.Activation('relu')(encoder)\n",
        "    encoder = layers.Conv2D(num_filters, (3, 3), padding='same')(encoder)\n",
        "    encoder = layers.BatchNormalization()(encoder)\n",
        "    encoder = layers.Dropout(dropout_level)(encoder)\n",
        "    encoder = layers.Activation('relu')(encoder)\n",
        "    return encoder\n",
        "\n",
        "def encoder_block_h2(input_tensor, num_filters, dropout_level = 0.15):\n",
        "    encoder = layers.BatchNormalization()(input_tensor) # added a first normalization layer\n",
        "    encoder = conv_block_h2(encoder, num_filters)\n",
        "    encoder_pool = layers.MaxPooling2D((2, 2), strides=(2, 2))(encoder)\n",
        "    return encoder_pool, encoder\n",
        "\n",
        "def decoder_block_h2(input_tensor, concat_tensor, num_filters, dropout_level = 0.15):\n",
        "    decoder = layers.Conv2DTranspose(num_filters, (2, 2), strides=(2, 2), padding='same')(input_tensor)\n",
        "    decoder = layers.concatenate([concat_tensor, decoder], axis=-1)\n",
        "    decoder = layers.Conv2D(num_filters, (3, 3), padding='same')(decoder)\n",
        "    decoder = layers.BatchNormalization()(decoder)\n",
        "    decoder = layers.Dropout(dropout_level)(decoder)\n",
        "    decoder = layers.Activation('relu')(decoder)\n",
        "    decoder = layers.Conv2D(num_filters, (3, 3), padding='same')(decoder)\n",
        "    decoder = layers.BatchNormalization()(decoder)\n",
        "    decoder = layers.Activation('relu')(decoder)\n",
        "    return decoder"
      ],
      "execution_count": null,
      "outputs": []
    },
    {
      "cell_type": "markdown",
      "metadata": {
        "id": "FI45yqAxtsXr",
        "colab_type": "text"
      },
      "source": [
        "## define loss functions"
      ]
    },
    {
      "cell_type": "code",
      "metadata": {
        "id": "4H9iul7wTi6h",
        "colab_type": "code",
        "colab": {}
      },
      "source": [
        "# define the loss function for TF, for now just the squared difference beetween predicted and true magnetic fields\n",
        "def custom_loss_mse(y_true,y_pred):\n",
        "    # print(\"y_pred shape:\",y_pred[0,:,:,0].shape)\n",
        "    # penalty=batt_mask128(y_pred[0,:,:,0])\n",
        "    # loss=K.mean(K.square(y_pred-y_true),axis=-1)+np.sum(0*np.abs(penalty)) #can adjust the penalty weight\n",
        "    loss=K.mean(K.square(y_pred-y_true),axis=None)  #+K.sum(0*K.abs(penalty)) #can adjust the penalty weight\n",
        "    return loss\n",
        "\n",
        "def custom_loss_rmse(y_true,y_pred):\n",
        "    loss=K.sqrt(K.mean(K.square(y_pred-y_true),axis=None))  #+K.sum(0*K.abs(penalty)) #can adjust the penalty weight\n",
        "    return loss\n",
        "\n",
        "def custom_loss_abs(y_true,y_pred):\n",
        "    loss=K.mean(K.abs(y_pred-y_true),axis=None)  #+K.sum(0*K.abs(penalty)) #can adjust the penalty weight\n",
        "    return loss"
      ],
      "execution_count": null,
      "outputs": []
    },
    {
      "cell_type": "code",
      "metadata": {
        "id": "0kQFfj0tTi6j",
        "colab_type": "code",
        "colab": {}
      },
      "source": [
        "inputs_h2 = layers.Input(shape=(32,16,1))\n",
        "# the dimension for EACH image in the training set\n",
        "\n",
        "encoder0_pool_h2, encoder0_h2 = encoder_block_h2(inputs_h2, 8, dropout_level = 0.15)\n",
        "encoder1_pool_h2, encoder1_h2 = encoder_block_h2(encoder0_pool_h2, 16, dropout_level = 0.15)\n",
        "encoder2_pool_h2, encoder2_h2 = encoder_block_h2(encoder1_pool_h2, 32, dropout_level = 0.15)\n",
        "encoder3_pool_h2, encoder3_h2 = encoder_block_h2(encoder2_pool_h2, 64, dropout_level = 0.15)\n",
        "center_h2 = conv_block_h2(encoder3_pool_h2, 128, dropout_level = 0.15)\n",
        "decoder3_h2 = decoder_block_h2(center_h2, encoder3_h2, 64, dropout_level = 0.15)\n",
        "decoder2_h2 = decoder_block_h2(decoder3_h2, encoder2_h2, 32, dropout_level = 0.15)\n",
        "decoder1_h2 = decoder_block_h2(decoder2_h2, encoder1_h2, 16, dropout_level = 0.15)\n",
        "decoder0_h2 = decoder_block_h2(decoder1_h2, encoder0_h2, 8, dropout_level = 0.15)\n",
        "  # add one more layer to get the same output shape as input shape\n",
        "\n",
        "outputs_h2 = layers.Conv2D(1, (1, 1), padding=\"same\")(decoder0_h2)   \n",
        "  # simply set number of output channels here as the first argument, seems legit"
      ],
      "execution_count": null,
      "outputs": []
    },
    {
      "cell_type": "code",
      "metadata": {
        "id": "i7h4louiTi6m",
        "colab_type": "code",
        "colab": {
          "base_uri": "https://localhost:8080/",
          "height": 1000
        },
        "outputId": "72c04304-badd-423d-f1f7-d358bced1a28"
      },
      "source": [
        "model_ht2b = models.Model(inputs=[inputs_h2], outputs=[outputs_h2])\n",
        "\n",
        "adam=keras.optimizers.Adam(beta_2=0.999, learning_rate=0.001)\n",
        "\n",
        "model_ht2b.compile(optimizer=adam,\n",
        "                   loss=custom_loss_rmse) # let's use rmse for optimization becuase it is a bigger target than mse\n",
        "                   # we will also use the RMSE for final evaluation\n",
        "\n",
        "model_ht2b.summary()"
      ],
      "execution_count": null,
      "outputs": [
        {
          "output_type": "stream",
          "text": [
            "Model: \"functional_1\"\n",
            "__________________________________________________________________________________________________\n",
            "Layer (type)                    Output Shape         Param #     Connected to                     \n",
            "==================================================================================================\n",
            "input_1 (InputLayer)            [(None, 32, 16, 1)]  0                                            \n",
            "__________________________________________________________________________________________________\n",
            "batch_normalization (BatchNorma (None, 32, 16, 1)    4           input_1[0][0]                    \n",
            "__________________________________________________________________________________________________\n",
            "conv2d (Conv2D)                 (None, 32, 16, 8)    80          batch_normalization[0][0]        \n",
            "__________________________________________________________________________________________________\n",
            "batch_normalization_1 (BatchNor (None, 32, 16, 8)    32          conv2d[0][0]                     \n",
            "__________________________________________________________________________________________________\n",
            "activation (Activation)         (None, 32, 16, 8)    0           batch_normalization_1[0][0]      \n",
            "__________________________________________________________________________________________________\n",
            "conv2d_1 (Conv2D)               (None, 32, 16, 8)    584         activation[0][0]                 \n",
            "__________________________________________________________________________________________________\n",
            "batch_normalization_2 (BatchNor (None, 32, 16, 8)    32          conv2d_1[0][0]                   \n",
            "__________________________________________________________________________________________________\n",
            "dropout (Dropout)               (None, 32, 16, 8)    0           batch_normalization_2[0][0]      \n",
            "__________________________________________________________________________________________________\n",
            "activation_1 (Activation)       (None, 32, 16, 8)    0           dropout[0][0]                    \n",
            "__________________________________________________________________________________________________\n",
            "max_pooling2d (MaxPooling2D)    (None, 16, 8, 8)     0           activation_1[0][0]               \n",
            "__________________________________________________________________________________________________\n",
            "batch_normalization_3 (BatchNor (None, 16, 8, 8)     32          max_pooling2d[0][0]              \n",
            "__________________________________________________________________________________________________\n",
            "conv2d_2 (Conv2D)               (None, 16, 8, 16)    1168        batch_normalization_3[0][0]      \n",
            "__________________________________________________________________________________________________\n",
            "batch_normalization_4 (BatchNor (None, 16, 8, 16)    64          conv2d_2[0][0]                   \n",
            "__________________________________________________________________________________________________\n",
            "activation_2 (Activation)       (None, 16, 8, 16)    0           batch_normalization_4[0][0]      \n",
            "__________________________________________________________________________________________________\n",
            "conv2d_3 (Conv2D)               (None, 16, 8, 16)    2320        activation_2[0][0]               \n",
            "__________________________________________________________________________________________________\n",
            "batch_normalization_5 (BatchNor (None, 16, 8, 16)    64          conv2d_3[0][0]                   \n",
            "__________________________________________________________________________________________________\n",
            "dropout_1 (Dropout)             (None, 16, 8, 16)    0           batch_normalization_5[0][0]      \n",
            "__________________________________________________________________________________________________\n",
            "activation_3 (Activation)       (None, 16, 8, 16)    0           dropout_1[0][0]                  \n",
            "__________________________________________________________________________________________________\n",
            "max_pooling2d_1 (MaxPooling2D)  (None, 8, 4, 16)     0           activation_3[0][0]               \n",
            "__________________________________________________________________________________________________\n",
            "batch_normalization_6 (BatchNor (None, 8, 4, 16)     64          max_pooling2d_1[0][0]            \n",
            "__________________________________________________________________________________________________\n",
            "conv2d_4 (Conv2D)               (None, 8, 4, 32)     4640        batch_normalization_6[0][0]      \n",
            "__________________________________________________________________________________________________\n",
            "batch_normalization_7 (BatchNor (None, 8, 4, 32)     128         conv2d_4[0][0]                   \n",
            "__________________________________________________________________________________________________\n",
            "activation_4 (Activation)       (None, 8, 4, 32)     0           batch_normalization_7[0][0]      \n",
            "__________________________________________________________________________________________________\n",
            "conv2d_5 (Conv2D)               (None, 8, 4, 32)     9248        activation_4[0][0]               \n",
            "__________________________________________________________________________________________________\n",
            "batch_normalization_8 (BatchNor (None, 8, 4, 32)     128         conv2d_5[0][0]                   \n",
            "__________________________________________________________________________________________________\n",
            "dropout_2 (Dropout)             (None, 8, 4, 32)     0           batch_normalization_8[0][0]      \n",
            "__________________________________________________________________________________________________\n",
            "activation_5 (Activation)       (None, 8, 4, 32)     0           dropout_2[0][0]                  \n",
            "__________________________________________________________________________________________________\n",
            "max_pooling2d_2 (MaxPooling2D)  (None, 4, 2, 32)     0           activation_5[0][0]               \n",
            "__________________________________________________________________________________________________\n",
            "batch_normalization_9 (BatchNor (None, 4, 2, 32)     128         max_pooling2d_2[0][0]            \n",
            "__________________________________________________________________________________________________\n",
            "conv2d_6 (Conv2D)               (None, 4, 2, 64)     18496       batch_normalization_9[0][0]      \n",
            "__________________________________________________________________________________________________\n",
            "batch_normalization_10 (BatchNo (None, 4, 2, 64)     256         conv2d_6[0][0]                   \n",
            "__________________________________________________________________________________________________\n",
            "activation_6 (Activation)       (None, 4, 2, 64)     0           batch_normalization_10[0][0]     \n",
            "__________________________________________________________________________________________________\n",
            "conv2d_7 (Conv2D)               (None, 4, 2, 64)     36928       activation_6[0][0]               \n",
            "__________________________________________________________________________________________________\n",
            "batch_normalization_11 (BatchNo (None, 4, 2, 64)     256         conv2d_7[0][0]                   \n",
            "__________________________________________________________________________________________________\n",
            "dropout_3 (Dropout)             (None, 4, 2, 64)     0           batch_normalization_11[0][0]     \n",
            "__________________________________________________________________________________________________\n",
            "activation_7 (Activation)       (None, 4, 2, 64)     0           dropout_3[0][0]                  \n",
            "__________________________________________________________________________________________________\n",
            "max_pooling2d_3 (MaxPooling2D)  (None, 2, 1, 64)     0           activation_7[0][0]               \n",
            "__________________________________________________________________________________________________\n",
            "conv2d_8 (Conv2D)               (None, 2, 1, 128)    73856       max_pooling2d_3[0][0]            \n",
            "__________________________________________________________________________________________________\n",
            "batch_normalization_12 (BatchNo (None, 2, 1, 128)    512         conv2d_8[0][0]                   \n",
            "__________________________________________________________________________________________________\n",
            "activation_8 (Activation)       (None, 2, 1, 128)    0           batch_normalization_12[0][0]     \n",
            "__________________________________________________________________________________________________\n",
            "conv2d_9 (Conv2D)               (None, 2, 1, 128)    147584      activation_8[0][0]               \n",
            "__________________________________________________________________________________________________\n",
            "batch_normalization_13 (BatchNo (None, 2, 1, 128)    512         conv2d_9[0][0]                   \n",
            "__________________________________________________________________________________________________\n",
            "dropout_4 (Dropout)             (None, 2, 1, 128)    0           batch_normalization_13[0][0]     \n",
            "__________________________________________________________________________________________________\n",
            "activation_9 (Activation)       (None, 2, 1, 128)    0           dropout_4[0][0]                  \n",
            "__________________________________________________________________________________________________\n",
            "conv2d_transpose (Conv2DTranspo (None, 4, 2, 64)     32832       activation_9[0][0]               \n",
            "__________________________________________________________________________________________________\n",
            "concatenate (Concatenate)       (None, 4, 2, 128)    0           activation_7[0][0]               \n",
            "                                                                 conv2d_transpose[0][0]           \n",
            "__________________________________________________________________________________________________\n",
            "conv2d_10 (Conv2D)              (None, 4, 2, 64)     73792       concatenate[0][0]                \n",
            "__________________________________________________________________________________________________\n",
            "batch_normalization_14 (BatchNo (None, 4, 2, 64)     256         conv2d_10[0][0]                  \n",
            "__________________________________________________________________________________________________\n",
            "dropout_5 (Dropout)             (None, 4, 2, 64)     0           batch_normalization_14[0][0]     \n",
            "__________________________________________________________________________________________________\n",
            "activation_10 (Activation)      (None, 4, 2, 64)     0           dropout_5[0][0]                  \n",
            "__________________________________________________________________________________________________\n",
            "conv2d_11 (Conv2D)              (None, 4, 2, 64)     36928       activation_10[0][0]              \n",
            "__________________________________________________________________________________________________\n",
            "batch_normalization_15 (BatchNo (None, 4, 2, 64)     256         conv2d_11[0][0]                  \n",
            "__________________________________________________________________________________________________\n",
            "activation_11 (Activation)      (None, 4, 2, 64)     0           batch_normalization_15[0][0]     \n",
            "__________________________________________________________________________________________________\n",
            "conv2d_transpose_1 (Conv2DTrans (None, 8, 4, 32)     8224        activation_11[0][0]              \n",
            "__________________________________________________________________________________________________\n",
            "concatenate_1 (Concatenate)     (None, 8, 4, 64)     0           activation_5[0][0]               \n",
            "                                                                 conv2d_transpose_1[0][0]         \n",
            "__________________________________________________________________________________________________\n",
            "conv2d_12 (Conv2D)              (None, 8, 4, 32)     18464       concatenate_1[0][0]              \n",
            "__________________________________________________________________________________________________\n",
            "batch_normalization_16 (BatchNo (None, 8, 4, 32)     128         conv2d_12[0][0]                  \n",
            "__________________________________________________________________________________________________\n",
            "dropout_6 (Dropout)             (None, 8, 4, 32)     0           batch_normalization_16[0][0]     \n",
            "__________________________________________________________________________________________________\n",
            "activation_12 (Activation)      (None, 8, 4, 32)     0           dropout_6[0][0]                  \n",
            "__________________________________________________________________________________________________\n",
            "conv2d_13 (Conv2D)              (None, 8, 4, 32)     9248        activation_12[0][0]              \n",
            "__________________________________________________________________________________________________\n",
            "batch_normalization_17 (BatchNo (None, 8, 4, 32)     128         conv2d_13[0][0]                  \n",
            "__________________________________________________________________________________________________\n",
            "activation_13 (Activation)      (None, 8, 4, 32)     0           batch_normalization_17[0][0]     \n",
            "__________________________________________________________________________________________________\n",
            "conv2d_transpose_2 (Conv2DTrans (None, 16, 8, 16)    2064        activation_13[0][0]              \n",
            "__________________________________________________________________________________________________\n",
            "concatenate_2 (Concatenate)     (None, 16, 8, 32)    0           activation_3[0][0]               \n",
            "                                                                 conv2d_transpose_2[0][0]         \n",
            "__________________________________________________________________________________________________\n",
            "conv2d_14 (Conv2D)              (None, 16, 8, 16)    4624        concatenate_2[0][0]              \n",
            "__________________________________________________________________________________________________\n",
            "batch_normalization_18 (BatchNo (None, 16, 8, 16)    64          conv2d_14[0][0]                  \n",
            "__________________________________________________________________________________________________\n",
            "dropout_7 (Dropout)             (None, 16, 8, 16)    0           batch_normalization_18[0][0]     \n",
            "__________________________________________________________________________________________________\n",
            "activation_14 (Activation)      (None, 16, 8, 16)    0           dropout_7[0][0]                  \n",
            "__________________________________________________________________________________________________\n",
            "conv2d_15 (Conv2D)              (None, 16, 8, 16)    2320        activation_14[0][0]              \n",
            "__________________________________________________________________________________________________\n",
            "batch_normalization_19 (BatchNo (None, 16, 8, 16)    64          conv2d_15[0][0]                  \n",
            "__________________________________________________________________________________________________\n",
            "activation_15 (Activation)      (None, 16, 8, 16)    0           batch_normalization_19[0][0]     \n",
            "__________________________________________________________________________________________________\n",
            "conv2d_transpose_3 (Conv2DTrans (None, 32, 16, 8)    520         activation_15[0][0]              \n",
            "__________________________________________________________________________________________________\n",
            "concatenate_3 (Concatenate)     (None, 32, 16, 16)   0           activation_1[0][0]               \n",
            "                                                                 conv2d_transpose_3[0][0]         \n",
            "__________________________________________________________________________________________________\n",
            "conv2d_16 (Conv2D)              (None, 32, 16, 8)    1160        concatenate_3[0][0]              \n",
            "__________________________________________________________________________________________________\n",
            "batch_normalization_20 (BatchNo (None, 32, 16, 8)    32          conv2d_16[0][0]                  \n",
            "__________________________________________________________________________________________________\n",
            "dropout_8 (Dropout)             (None, 32, 16, 8)    0           batch_normalization_20[0][0]     \n",
            "__________________________________________________________________________________________________\n",
            "activation_16 (Activation)      (None, 32, 16, 8)    0           dropout_8[0][0]                  \n",
            "__________________________________________________________________________________________________\n",
            "conv2d_17 (Conv2D)              (None, 32, 16, 8)    584         activation_16[0][0]              \n",
            "__________________________________________________________________________________________________\n",
            "batch_normalization_21 (BatchNo (None, 32, 16, 8)    32          conv2d_17[0][0]                  \n",
            "__________________________________________________________________________________________________\n",
            "activation_17 (Activation)      (None, 32, 16, 8)    0           batch_normalization_21[0][0]     \n",
            "__________________________________________________________________________________________________\n",
            "conv2d_18 (Conv2D)              (None, 32, 16, 1)    9           activation_17[0][0]              \n",
            "==================================================================================================\n",
            "Total params: 488,845\n",
            "Trainable params: 487,259\n",
            "Non-trainable params: 1,586\n",
            "__________________________________________________________________________________________________\n"
          ],
          "name": "stdout"
        }
      ]
    },
    {
      "cell_type": "markdown",
      "metadata": {
        "id": "FFkMuS5zRbnE",
        "colab_type": "text"
      },
      "source": [
        "**notice how the input and output shapes MUST match with EACH battery in our `training_image` and `training_label` shapes**"
      ]
    },
    {
      "cell_type": "code",
      "metadata": {
        "id": "Fc-7BZLlDd-5",
        "colab_type": "code",
        "colab": {}
      },
      "source": [
        ""
      ],
      "execution_count": null,
      "outputs": []
    },
    {
      "cell_type": "markdown",
      "metadata": {
        "id": "5q6R71zoTi7G",
        "colab_type": "text"
      },
      "source": [
        "# Training the model"
      ]
    },
    {
      "cell_type": "code",
      "metadata": {
        "id": "ea-kuLqc5hr2",
        "colab_type": "code",
        "colab": {}
      },
      "source": [
        "# checkpoint for saving the best model only, so it overwrites itself\n",
        "# could also save a model every time the monitor gets better as another option\n",
        "filepath=\"model.best.h5\"\n",
        "checkpoint = ModelCheckpoint(filepath, \n",
        "                             monitor='val_loss', # this must be the same exact string as a metric from your model training verbose output\n",
        "                             verbose=1, \n",
        "                             save_best_only=True, # only save the best model and keep overwriting\n",
        "                             mode='min', # we want minimum loss\n",
        "                             save_weights_only=False # we want to save the entire model\n",
        "                             )\n",
        "callbacks_list = [checkpoint]"
      ],
      "execution_count": null,
      "outputs": []
    },
    {
      "cell_type": "code",
      "metadata": {
        "scrolled": true,
        "id": "Wb8h64-oTi7G",
        "colab_type": "code",
        "colab": {
          "base_uri": "https://localhost:8080/",
          "height": 1000
        },
        "outputId": "e402502e-cb11-4167-c903-f8c4e711b087"
      },
      "source": [
        "# I read that using adam with learning rate 0.001 is good\n",
        "\n",
        "num_epochs=60   \n",
        "  #can adjust ultimately should be quite large\n",
        "\n",
        "history_ht2b = model_ht2b.fit(train_images_t2b, \n",
        "                              train_labels_t2b,\n",
        "                              validation_data = (val_images_t2b, val_labels_t2b),  \n",
        "                              epochs=num_epochs, \n",
        "                              batch_size=32, \n",
        "                              shuffle=True,\n",
        "                              callbacks = callbacks_list,\n",
        "                              verbose=1)"
      ],
      "execution_count": null,
      "outputs": [
        {
          "output_type": "stream",
          "text": [
            "Epoch 1/60\n",
            "12/12 [==============================] - ETA: 0s - loss: 0.5263\n",
            "Epoch 00001: val_loss improved from inf to 0.01435, saving model to model.best.h5\n",
            "12/12 [==============================] - 2s 200ms/step - loss: 0.5263 - val_loss: 0.0144\n",
            "Epoch 2/60\n",
            " 9/12 [=====================>........] - ETA: 0s - loss: 0.3144\n",
            "Epoch 00002: val_loss did not improve from 0.01435\n",
            "12/12 [==============================] - 0s 16ms/step - loss: 0.2978 - val_loss: 0.0468\n",
            "Epoch 3/60\n",
            "12/12 [==============================] - ETA: 0s - loss: 0.1424\n",
            "Epoch 00003: val_loss did not improve from 0.01435\n",
            "12/12 [==============================] - 0s 17ms/step - loss: 0.1424 - val_loss: 0.1049\n",
            "Epoch 4/60\n",
            " 9/12 [=====================>........] - ETA: 0s - loss: 0.0671\n",
            "Epoch 00004: val_loss did not improve from 0.01435\n",
            "12/12 [==============================] - 0s 16ms/step - loss: 0.0643 - val_loss: 0.1325\n",
            "Epoch 5/60\n",
            " 9/12 [=====================>........] - ETA: 0s - loss: 0.0438\n",
            "Epoch 00005: val_loss did not improve from 0.01435\n",
            "12/12 [==============================] - 0s 16ms/step - loss: 0.0428 - val_loss: 0.0984\n",
            "Epoch 6/60\n",
            " 9/12 [=====================>........] - ETA: 0s - loss: 0.0329\n",
            "Epoch 00006: val_loss did not improve from 0.01435\n",
            "12/12 [==============================] - 0s 16ms/step - loss: 0.0328 - val_loss: 0.0990\n",
            "Epoch 7/60\n",
            " 9/12 [=====================>........] - ETA: 0s - loss: 0.0288\n",
            "Epoch 00007: val_loss did not improve from 0.01435\n",
            "12/12 [==============================] - 0s 16ms/step - loss: 0.0281 - val_loss: 0.0749\n",
            "Epoch 8/60\n",
            " 9/12 [=====================>........] - ETA: 0s - loss: 0.0249\n",
            "Epoch 00008: val_loss did not improve from 0.01435\n",
            "12/12 [==============================] - 0s 16ms/step - loss: 0.0245 - val_loss: 0.0668\n",
            "Epoch 9/60\n",
            " 9/12 [=====================>........] - ETA: 0s - loss: 0.0227\n",
            "Epoch 00009: val_loss did not improve from 0.01435\n",
            "12/12 [==============================] - 0s 16ms/step - loss: 0.0226 - val_loss: 0.0432\n",
            "Epoch 10/60\n",
            " 9/12 [=====================>........] - ETA: 0s - loss: 0.0212\n",
            "Epoch 00010: val_loss did not improve from 0.01435\n",
            "12/12 [==============================] - 0s 16ms/step - loss: 0.0208 - val_loss: 0.0469\n",
            "Epoch 11/60\n",
            " 9/12 [=====================>........] - ETA: 0s - loss: 0.0181\n",
            "Epoch 00011: val_loss did not improve from 0.01435\n",
            "12/12 [==============================] - 0s 16ms/step - loss: 0.0185 - val_loss: 0.0385\n",
            "Epoch 12/60\n",
            " 9/12 [=====================>........] - ETA: 0s - loss: 0.0180\n",
            "Epoch 00012: val_loss did not improve from 0.01435\n",
            "12/12 [==============================] - 0s 15ms/step - loss: 0.0174 - val_loss: 0.0191\n",
            "Epoch 13/60\n",
            " 9/12 [=====================>........] - ETA: 0s - loss: 0.0142\n",
            "Epoch 00013: val_loss did not improve from 0.01435\n",
            "12/12 [==============================] - 0s 16ms/step - loss: 0.0148 - val_loss: 0.0262\n",
            "Epoch 14/60\n",
            " 9/12 [=====================>........] - ETA: 0s - loss: 0.0146\n",
            "Epoch 00014: val_loss improved from 0.01435 to 0.00914, saving model to model.best.h5\n",
            "12/12 [==============================] - 1s 51ms/step - loss: 0.0143 - val_loss: 0.0091\n",
            "Epoch 15/60\n",
            " 9/12 [=====================>........] - ETA: 0s - loss: 0.0123\n",
            "Epoch 00015: val_loss improved from 0.00914 to 0.00722, saving model to model.best.h5\n",
            "12/12 [==============================] - 1s 49ms/step - loss: 0.0132 - val_loss: 0.0072\n",
            "Epoch 16/60\n",
            " 9/12 [=====================>........] - ETA: 0s - loss: 0.0119\n",
            "Epoch 00016: val_loss did not improve from 0.00722\n",
            "12/12 [==============================] - 0s 16ms/step - loss: 0.0117 - val_loss: 0.0109\n",
            "Epoch 17/60\n",
            "12/12 [==============================] - ETA: 0s - loss: 0.0115\n",
            "Epoch 00017: val_loss did not improve from 0.00722\n",
            "12/12 [==============================] - 0s 16ms/step - loss: 0.0115 - val_loss: 0.0080\n",
            "Epoch 18/60\n",
            " 9/12 [=====================>........] - ETA: 0s - loss: 0.0113\n",
            "Epoch 00018: val_loss did not improve from 0.00722\n",
            "12/12 [==============================] - 0s 16ms/step - loss: 0.0112 - val_loss: 0.0150\n",
            "Epoch 19/60\n",
            " 9/12 [=====================>........] - ETA: 0s - loss: 0.0153\n",
            "Epoch 00019: val_loss improved from 0.00722 to 0.00112, saving model to model.best.h5\n",
            "12/12 [==============================] - 1s 51ms/step - loss: 0.0142 - val_loss: 0.0011\n",
            "Epoch 20/60\n",
            " 9/12 [=====================>........] - ETA: 0s - loss: 0.0100\n",
            "Epoch 00020: val_loss did not improve from 0.00112\n",
            "12/12 [==============================] - 0s 16ms/step - loss: 0.0098 - val_loss: 0.0080\n",
            "Epoch 21/60\n",
            " 9/12 [=====================>........] - ETA: 0s - loss: 0.0106\n",
            "Epoch 00021: val_loss did not improve from 0.00112\n",
            "12/12 [==============================] - 0s 16ms/step - loss: 0.0105 - val_loss: 0.0195\n",
            "Epoch 22/60\n",
            " 9/12 [=====================>........] - ETA: 0s - loss: 0.0091\n",
            "Epoch 00022: val_loss did not improve from 0.00112\n",
            "12/12 [==============================] - 0s 16ms/step - loss: 0.0088 - val_loss: 0.0072\n",
            "Epoch 23/60\n",
            " 9/12 [=====================>........] - ETA: 0s - loss: 0.0085\n",
            "Epoch 00023: val_loss did not improve from 0.00112\n",
            "12/12 [==============================] - 0s 16ms/step - loss: 0.0093 - val_loss: 0.0116\n",
            "Epoch 24/60\n",
            " 9/12 [=====================>........] - ETA: 0s - loss: 0.0088\n",
            "Epoch 00024: val_loss did not improve from 0.00112\n",
            "12/12 [==============================] - 0s 16ms/step - loss: 0.0088 - val_loss: 0.0144\n",
            "Epoch 25/60\n",
            "12/12 [==============================] - ETA: 0s - loss: 0.0078\n",
            "Epoch 00025: val_loss did not improve from 0.00112\n",
            "12/12 [==============================] - 0s 17ms/step - loss: 0.0078 - val_loss: 0.0111\n",
            "Epoch 26/60\n",
            " 9/12 [=====================>........] - ETA: 0s - loss: 0.0093\n",
            "Epoch 00026: val_loss did not improve from 0.00112\n",
            "12/12 [==============================] - 0s 16ms/step - loss: 0.0090 - val_loss: 0.0080\n",
            "Epoch 27/60\n",
            " 9/12 [=====================>........] - ETA: 0s - loss: 0.0080\n",
            "Epoch 00027: val_loss did not improve from 0.00112\n",
            "12/12 [==============================] - 0s 16ms/step - loss: 0.0081 - val_loss: 0.0073\n",
            "Epoch 28/60\n",
            " 9/12 [=====================>........] - ETA: 0s - loss: 0.0073\n",
            "Epoch 00028: val_loss did not improve from 0.00112\n",
            "12/12 [==============================] - 0s 16ms/step - loss: 0.0071 - val_loss: 0.0013\n",
            "Epoch 29/60\n",
            " 9/12 [=====================>........] - ETA: 0s - loss: 0.0074\n",
            "Epoch 00029: val_loss did not improve from 0.00112\n",
            "12/12 [==============================] - 0s 16ms/step - loss: 0.0076 - val_loss: 0.0048\n",
            "Epoch 30/60\n",
            " 9/12 [=====================>........] - ETA: 0s - loss: 0.0080\n",
            "Epoch 00030: val_loss did not improve from 0.00112\n",
            "12/12 [==============================] - 0s 16ms/step - loss: 0.0076 - val_loss: 0.0124\n",
            "Epoch 31/60\n",
            " 9/12 [=====================>........] - ETA: 0s - loss: 0.0053\n",
            "Epoch 00031: val_loss did not improve from 0.00112\n",
            "12/12 [==============================] - 0s 16ms/step - loss: 0.0059 - val_loss: 0.0063\n",
            "Epoch 32/60\n",
            " 9/12 [=====================>........] - ETA: 0s - loss: 0.0063\n",
            "Epoch 00032: val_loss did not improve from 0.00112\n",
            "12/12 [==============================] - 0s 15ms/step - loss: 0.0065 - val_loss: 0.0192\n",
            "Epoch 33/60\n",
            " 9/12 [=====================>........] - ETA: 0s - loss: 0.0071\n",
            "Epoch 00033: val_loss did not improve from 0.00112\n",
            "12/12 [==============================] - 0s 16ms/step - loss: 0.0071 - val_loss: 0.0076\n",
            "Epoch 34/60\n",
            " 9/12 [=====================>........] - ETA: 0s - loss: 0.0061\n",
            "Epoch 00034: val_loss did not improve from 0.00112\n",
            "12/12 [==============================] - 0s 16ms/step - loss: 0.0059 - val_loss: 0.0041\n",
            "Epoch 35/60\n",
            " 9/12 [=====================>........] - ETA: 0s - loss: 0.0052\n",
            "Epoch 00035: val_loss did not improve from 0.00112\n",
            "12/12 [==============================] - 0s 16ms/step - loss: 0.0056 - val_loss: 0.0042\n",
            "Epoch 36/60\n",
            " 9/12 [=====================>........] - ETA: 0s - loss: 0.0063\n",
            "Epoch 00036: val_loss did not improve from 0.00112\n",
            "12/12 [==============================] - 0s 16ms/step - loss: 0.0062 - val_loss: 0.0013\n",
            "Epoch 37/60\n",
            " 9/12 [=====================>........] - ETA: 0s - loss: 0.0060\n",
            "Epoch 00037: val_loss did not improve from 0.00112\n",
            "12/12 [==============================] - 0s 15ms/step - loss: 0.0059 - val_loss: 0.0034\n",
            "Epoch 38/60\n",
            " 9/12 [=====================>........] - ETA: 0s - loss: 0.0059\n",
            "Epoch 00038: val_loss did not improve from 0.00112\n",
            "12/12 [==============================] - 0s 16ms/step - loss: 0.0058 - val_loss: 0.0020\n",
            "Epoch 39/60\n",
            " 9/12 [=====================>........] - ETA: 0s - loss: 0.0058\n",
            "Epoch 00039: val_loss did not improve from 0.00112\n",
            "12/12 [==============================] - 0s 16ms/step - loss: 0.0068 - val_loss: 0.0062\n",
            "Epoch 40/60\n",
            " 9/12 [=====================>........] - ETA: 0s - loss: 0.0101\n",
            "Epoch 00040: val_loss did not improve from 0.00112\n",
            "12/12 [==============================] - 0s 15ms/step - loss: 0.0092 - val_loss: 0.0236\n",
            "Epoch 41/60\n",
            " 9/12 [=====================>........] - ETA: 0s - loss: 0.0092\n",
            "Epoch 00041: val_loss did not improve from 0.00112\n",
            "12/12 [==============================] - 0s 16ms/step - loss: 0.0096 - val_loss: 0.0085\n",
            "Epoch 42/60\n",
            "12/12 [==============================] - ETA: 0s - loss: 0.0070\n",
            "Epoch 00042: val_loss did not improve from 0.00112\n",
            "12/12 [==============================] - 0s 16ms/step - loss: 0.0070 - val_loss: 0.0033\n",
            "Epoch 43/60\n",
            " 9/12 [=====================>........] - ETA: 0s - loss: 0.0058\n",
            "Epoch 00043: val_loss did not improve from 0.00112\n",
            "12/12 [==============================] - 0s 17ms/step - loss: 0.0056 - val_loss: 0.0131\n",
            "Epoch 44/60\n",
            " 9/12 [=====================>........] - ETA: 0s - loss: 0.0051\n",
            "Epoch 00044: val_loss did not improve from 0.00112\n",
            "12/12 [==============================] - 0s 16ms/step - loss: 0.0051 - val_loss: 0.0080\n",
            "Epoch 45/60\n",
            " 9/12 [=====================>........] - ETA: 0s - loss: 0.0043\n",
            "Epoch 00045: val_loss did not improve from 0.00112\n",
            "12/12 [==============================] - 0s 16ms/step - loss: 0.0042 - val_loss: 0.0040\n",
            "Epoch 46/60\n",
            " 9/12 [=====================>........] - ETA: 0s - loss: 0.0057\n",
            "Epoch 00046: val_loss did not improve from 0.00112\n",
            "12/12 [==============================] - 0s 16ms/step - loss: 0.0061 - val_loss: 0.0072\n",
            "Epoch 47/60\n",
            " 9/12 [=====================>........] - ETA: 0s - loss: 0.0041\n",
            "Epoch 00047: val_loss did not improve from 0.00112\n",
            "12/12 [==============================] - 0s 15ms/step - loss: 0.0040 - val_loss: 0.0085\n",
            "Epoch 48/60\n",
            " 9/12 [=====================>........] - ETA: 0s - loss: 0.0049\n",
            "Epoch 00048: val_loss did not improve from 0.00112\n",
            "12/12 [==============================] - 0s 16ms/step - loss: 0.0048 - val_loss: 0.0067\n",
            "Epoch 49/60\n",
            " 9/12 [=====================>........] - ETA: 0s - loss: 0.0040\n",
            "Epoch 00049: val_loss did not improve from 0.00112\n",
            "12/12 [==============================] - 0s 15ms/step - loss: 0.0040 - val_loss: 0.0017\n",
            "Epoch 50/60\n",
            " 9/12 [=====================>........] - ETA: 0s - loss: 0.0053\n",
            "Epoch 00050: val_loss did not improve from 0.00112\n",
            "12/12 [==============================] - 0s 15ms/step - loss: 0.0051 - val_loss: 0.0020\n",
            "Epoch 51/60\n",
            " 9/12 [=====================>........] - ETA: 0s - loss: 0.0054\n",
            "Epoch 00051: val_loss did not improve from 0.00112\n",
            "12/12 [==============================] - 0s 16ms/step - loss: 0.0051 - val_loss: 0.0062\n",
            "Epoch 52/60\n",
            " 9/12 [=====================>........] - ETA: 0s - loss: 0.0044\n",
            "Epoch 00052: val_loss did not improve from 0.00112\n",
            "12/12 [==============================] - 0s 16ms/step - loss: 0.0046 - val_loss: 0.0041\n",
            "Epoch 53/60\n",
            " 9/12 [=====================>........] - ETA: 0s - loss: 0.0044\n",
            "Epoch 00053: val_loss did not improve from 0.00112\n",
            "12/12 [==============================] - 0s 15ms/step - loss: 0.0046 - val_loss: 0.0045\n",
            "Epoch 54/60\n",
            " 9/12 [=====================>........] - ETA: 0s - loss: 0.0041\n",
            "Epoch 00054: val_loss did not improve from 0.00112\n",
            "12/12 [==============================] - 0s 16ms/step - loss: 0.0040 - val_loss: 0.0020\n",
            "Epoch 55/60\n",
            " 9/12 [=====================>........] - ETA: 0s - loss: 0.0044\n",
            "Epoch 00055: val_loss did not improve from 0.00112\n",
            "12/12 [==============================] - 0s 16ms/step - loss: 0.0043 - val_loss: 0.0024\n",
            "Epoch 56/60\n",
            " 9/12 [=====================>........] - ETA: 0s - loss: 0.0043\n",
            "Epoch 00056: val_loss did not improve from 0.00112\n",
            "12/12 [==============================] - 0s 16ms/step - loss: 0.0044 - val_loss: 0.0055\n",
            "Epoch 57/60\n",
            " 9/12 [=====================>........] - ETA: 0s - loss: 0.0037\n",
            "Epoch 00057: val_loss did not improve from 0.00112\n",
            "12/12 [==============================] - 0s 16ms/step - loss: 0.0039 - val_loss: 0.0066\n",
            "Epoch 58/60\n",
            " 9/12 [=====================>........] - ETA: 0s - loss: 0.0044\n",
            "Epoch 00058: val_loss did not improve from 0.00112\n",
            "12/12 [==============================] - 0s 16ms/step - loss: 0.0046 - val_loss: 0.0029\n",
            "Epoch 59/60\n",
            " 9/12 [=====================>........] - ETA: 0s - loss: 0.0059\n",
            "Epoch 00059: val_loss did not improve from 0.00112\n",
            "12/12 [==============================] - 0s 16ms/step - loss: 0.0053 - val_loss: 0.0034\n",
            "Epoch 60/60\n",
            " 9/12 [=====================>........] - ETA: 0s - loss: 0.0065\n",
            "Epoch 00060: val_loss did not improve from 0.00112\n",
            "12/12 [==============================] - 0s 15ms/step - loss: 0.0063 - val_loss: 0.0039\n"
          ],
          "name": "stdout"
        }
      ]
    },
    {
      "cell_type": "code",
      "metadata": {
        "id": "Sr3R26VYDy7v",
        "colab_type": "code",
        "colab": {
          "base_uri": "https://localhost:8080/",
          "height": 313
        },
        "outputId": "a206a6d1-83c6-4dae-b6e9-3b58f95aebfa"
      },
      "source": [
        "# plot loss fn vs. epochs\n",
        "\n",
        "#adapted from https://colab.research.google.com/drive/1ltjXmi6fSAe4YBgJrmHH_wjTl9VxFRgl\n",
        "\n",
        "train_loss_history_ht2b = history_ht2b.history['loss']\n",
        "val_loss_history_ht2b = history_ht2b.history['val_loss']\n",
        "print(len(train_loss_history_ht2b))\n",
        "print(len(val_loss_history_ht2b))\n",
        "\n",
        "fig, ax = get_figure()\n",
        "# fig.set_size_inches(10,6)\n",
        "\n",
        "startpoints=0\n",
        "ax.set_yscale('log') # set y-axis to log_10 scale for better viewing\n",
        "ax.plot((np.arange(num_epochs*1))[startpoints:], train_loss_history_ht2b[startpoints:], linewidth=1, color=\"orange\", label=\"training_loss\")\n",
        "ax.plot((np.arange(num_epochs*1))[startpoints:], val_loss_history_ht2b[startpoints:], linewidth=1, color=\"blue\", label=\"validation loss\")\n",
        "ax.set_xlabel('epoch')\n",
        "ax.set_ylabel('log loss')\n",
        "ax.legend(frameon=True);\n",
        "\n",
        "# ___ epochs until convergence"
      ],
      "execution_count": null,
      "outputs": [
        {
          "output_type": "stream",
          "text": [
            "60\n",
            "60\n"
          ],
          "name": "stdout"
        },
        {
          "output_type": "display_data",
          "data": {
            "image/png": "[encoded data removed]",
            "text/plain": [
              "<Figure size 432x288 with 1 Axes>"
            ]
          },
          "metadata": {
            "tags": [],
            "needs_background": "light"
          }
        }
      ]
    },
    {
      "cell_type": "code",
      "metadata": {
        "id": "oLhH0wfB4PDN",
        "colab_type": "code",
        "colab": {}
      },
      "source": [
        "# val_loss_history_ht2b"
      ],
      "execution_count": null,
      "outputs": []
    },
    {
      "cell_type": "code",
      "metadata": {
        "id": "dOx1XrDjTi7L",
        "colab_type": "code",
        "colab": {}
      },
      "source": [
        "fig.savefig('history.png')"
      ],
      "execution_count": null,
      "outputs": []
    },
    {
      "cell_type": "code",
      "metadata": {
        "id": "8Zxi9Z8_Ti7N",
        "colab_type": "code",
        "colab": {}
      },
      "source": [
        "# save in one step\n",
        "# model_ht2b.save('model.h5')"
      ],
      "execution_count": null,
      "outputs": []
    },
    {
      "cell_type": "code",
      "metadata": {
        "id": "WA41fXTyTi7Q",
        "colab_type": "code",
        "colab": {}
      },
      "source": [
        "# save history (if needed separately)\n",
        "with open('train_history.db', 'wb') as file_pi:\n",
        "  pk.dump(train_loss_history_ht2b, file_pi)\n",
        "\n",
        "# save history (if needed separately)\n",
        "with open('val_history.db', 'wb') as file_pi:\n",
        "  pk.dump(val_loss_history_ht2b, file_pi)"
      ],
      "execution_count": null,
      "outputs": []
    },
    {
      "cell_type": "code",
      "metadata": {
        "id": "2tysVzuxEx_F",
        "colab_type": "code",
        "colab": {}
      },
      "source": [
        ""
      ],
      "execution_count": null,
      "outputs": []
    },
    {
      "cell_type": "markdown",
      "metadata": {
        "id": "Q8UOxka6Ti7T",
        "colab_type": "text"
      },
      "source": [
        "## Loading Saved Model"
      ]
    },
    {
      "cell_type": "code",
      "metadata": {
        "id": "EJ0Z4MWnTi7T",
        "colab_type": "code",
        "colab": {}
      },
      "source": [
        "# just for testing that I can read in model and proceed from here\n",
        "del model_ht2b\n",
        "del history_ht2b\n",
        "del train_loss_history_ht2b"
      ],
      "execution_count": null,
      "outputs": []
    },
    {
      "cell_type": "code",
      "metadata": {
        "id": "uNIF-bMITi7W",
        "colab_type": "code",
        "colab": {
          "base_uri": "https://localhost:8080/",
          "height": 279
        },
        "outputId": "57a9984f-e5c5-4c2d-bbf1-626d272d2f7b"
      },
      "source": [
        "loss_history_ht2b = pk.load(open('train_history.db', \"rb\"))\n",
        "val_loss_history_ht2b = pk.load(open('val_history.db', \"rb\"))\n",
        "fig, ax = get_figure()\n",
        "num_epochs=len(loss_history_ht2b)\n",
        "startpoints=0\n",
        "ax.set_yscale('log')\n",
        "ax.plot((np.arange(num_epochs*1)+1)[startpoints:], loss_history_ht2b[startpoints:], linewidth=1, color=\"orange\", label=\"training_loss\")\n",
        "ax.plot((np.arange(num_epochs*1)+1)[startpoints:], val_loss_history_ht2b[startpoints:], linewidth=1, color=\"blue\", label=\"val_loss\")\n",
        "ax.set_xlabel('epoch')\n",
        "ax.legend(frameon=False);"
      ],
      "execution_count": null,
      "outputs": [
        {
          "output_type": "display_data",
          "data": {
            "image/png": "[encoded data removed]",
            "text/plain": [
              "<Figure size 432x288 with 1 Axes>"
            ]
          },
          "metadata": {
            "tags": [],
            "needs_background": "light"
          }
        }
      ]
    },
    {
      "cell_type": "code",
      "metadata": {
        "scrolled": true,
        "id": "TtE--XnzTi7c",
        "colab_type": "code",
        "colab": {}
      },
      "source": [
        "# load in one step\n",
        "# fixed with adding custom_loss function, in future, better to save model and weights separately?\n",
        "adam=keras.optimizers.Adam(beta_2=0.999, learning_rate=0.001)\n",
        "model_ht2b=tf.keras.models.load_model('model.best.h5',custom_objects={'custom_loss_rmse': custom_loss_rmse})"
      ],
      "execution_count": null,
      "outputs": []
    },
    {
      "cell_type": "code",
      "metadata": {
        "id": "TDp8BCu_Ti7h",
        "colab_type": "code",
        "colab": {}
      },
      "source": [
        "# do I need to recompile after loading?\n",
        "model_ht2b.compile(optimizer=adam,\n",
        "                   loss=custom_loss_rmse)"
      ],
      "execution_count": null,
      "outputs": []
    },
    {
      "cell_type": "code",
      "metadata": {
        "id": "yUWWDOh4E_XJ",
        "colab_type": "code",
        "colab": {}
      },
      "source": [
        ""
      ],
      "execution_count": null,
      "outputs": []
    },
    {
      "cell_type": "markdown",
      "metadata": {
        "id": "Z6qD-rttrBQe",
        "colab_type": "text"
      },
      "source": [
        "## predict on 1 sample from the trianing set"
      ]
    },
    {
      "cell_type": "code",
      "metadata": {
        "id": "1u9FeVCR_lCE",
        "colab_type": "code",
        "colab": {
          "base_uri": "https://localhost:8080/",
          "height": 860
        },
        "outputId": "22ef58c7-232f-41f5-e443-7d982d9e4c81"
      },
      "source": [
        "# Predicting the one training data\n",
        "# adapted from https://colab.research.google.com/drive/1ltjXmi6fSAe4YBgJrmHH_wjTl9VxFRgl\n",
        "\n",
        "test_patch_nbr = 20\n",
        "susax=0\n",
        "  # this is the only chanel of the susceptibility volume\n",
        "  # we only look at this bc only this chanel has meaningful values\n",
        "  # bc we only generated the z-component of the susceptibility\n",
        "\n",
        "X_test = train_images_t2b[np.newaxis,20,:,:,:] # a single battery input image from the training set \n",
        "# why do I need to add new axis for prediction set?                    \n",
        "# because this just extracts the 20th battery in the trianing set, this is a single instance\n",
        "# so it needs a new axis because it has 1 less axis than when you trianed on all instances at once\n",
        "\n",
        "print(X_test.shape)\n",
        "y_pred_ht2 = model_ht2b.predict(X_test)\n",
        "print(y_pred_ht2.shape)\n",
        "\n",
        "plt.figure()\n",
        "imshow_center(y_pred_ht2[0,:,:,susax])\n",
        "plt.title(\"predicted susceptibility\")\n",
        "\n",
        "plt.figure()\n",
        "imshow_center(train_labels_t2b[test_patch_nbr,:,:,susax])\n",
        "plt.title(\"actual susceptibility\")\n",
        "\n",
        "plt.figure()\n",
        "imshow_center(y_pred_ht2[0,:,:,susax]-train_labels_t2b[test_patch_nbr,:,:,susax])\n",
        "# plot the predicted susceptibility - actual susceptibility in the same dimension which is 2\n",
        "plt.title(\"error between predicted and true susceptibility\")\n",
        "\n"
      ],
      "execution_count": null,
      "outputs": [
        {
          "output_type": "stream",
          "text": [
            "(1, 32, 16, 1)\n",
            "(1, 32, 16, 1)\n"
          ],
          "name": "stdout"
        },
        {
          "output_type": "execute_result",
          "data": {
            "text/plain": [
              "Text(0.5, 1.0, 'error between predicted and true susceptibility')"
            ]
          },
          "metadata": {
            "tags": []
          },
          "execution_count": 68
        },
        {
          "output_type": "display_data",
          "data": {
            "image/png": "[encoded data removed]",
            "text/plain": [
              "<Figure size 432x288 with 2 Axes>"
            ]
          },
          "metadata": {
            "tags": [],
            "needs_background": "light"
          }
        },
        {
          "output_type": "display_data",
          "data": {
            "image/png": "[encoded data removed]",
            "text/plain": [
              "<Figure size 432x288 with 2 Axes>"
            ]
          },
          "metadata": {
            "tags": [],
            "needs_background": "light"
          }
        },
        {
          "output_type": "display_data",
          "data": {
            "image/png": "[encoded data removed]",
            "text/plain": [
              "<Figure size 432x288 with 2 Axes>"
            ]
          },
          "metadata": {
            "tags": [],
            "needs_background": "light"
          }
        }
      ]
    },
    {
      "cell_type": "code",
      "metadata": {
        "id": "qW4nNM8VSOos",
        "colab_type": "code",
        "colab": {
          "base_uri": "https://localhost:8080/",
          "height": 34
        },
        "outputId": "06ec17a0-7da3-4253-96b8-b4c1b5885694"
      },
      "source": [
        "y_pred_ht2.shape"
      ],
      "execution_count": null,
      "outputs": [
        {
          "output_type": "execute_result",
          "data": {
            "text/plain": [
              "(1, 32, 16, 1)"
            ]
          },
          "metadata": {
            "tags": []
          },
          "execution_count": 69
        }
      ]
    },
    {
      "cell_type": "code",
      "metadata": {
        "id": "EVRSoIalp4Yw",
        "colab_type": "code",
        "colab": {
          "base_uri": "https://localhost:8080/",
          "height": 298
        },
        "outputId": "303822ea-528c-4ab0-e932-ab8924b5d20e"
      },
      "source": [
        "zf=calcfield(y_pred_ht2[0,:,:,:])\n",
        "# yf and zf end up too large\n",
        "# calculate the y(dimension 0) and z(dimension 1) component of the magnetic field for the 20th battery\n",
        "# from the predicted susceptibility output\n",
        "# so we are kind of like recreating the input to see if it is the same as the actual input\n",
        "# to see if the model learned the dipole forward kernel well\n",
        "\n",
        "if choice == \"abs\":\n",
        "  zf = np.abs(zf)\n",
        "  print(\"taking absolute value of the complex FFT mag-field\")\n",
        "  plt.figure()\n",
        "  imshow_center((np.squeeze(X_test[0,:,:,0])-zf))\n",
        "  plt.title(\"error between forwardly solved z-field from prediction and true input z-field\")\n",
        "elif choice == \"real\":\n",
        "  zf = np.real(zf)\n",
        "  print(\"taking the real part of the complex FFT mag-field\")\n",
        "  plt.figure()\n",
        "  imshow_center((np.squeeze(X_test[0,:,:,0])-zf))\n",
        "  plt.title(\"error between forwardly solved z-field from prediction and true input z-field\")\n",
        "elif choice == \"imag\":\n",
        "  zf = np.imag(zf)\n",
        "  print(\"taking the imaginary part of the complex FFT mag-field\")\n",
        "  plt.figure()\n",
        "  imshow_center(np.abs(np.squeeze(X_test[0,:,:,0])-zf))\n",
        "  plt.title(\"error between forwardly solved z-field from prediction and true input z-field\")\n",
        "else:\n",
        "  print(\"taking the entire complex number of the complex FFT mag-field\")\n",
        "  plt.figure()\n",
        "  imshow_center(np.abs(np.squeeze(X_test[0,:,:,0])-zf))\n",
        "  plt.title(\"error between forwardly solved z-field from prediction and true input z-field\")\n",
        "\n",
        "# plt.figure()\n",
        "# imshow_center(np.squeeze(X_test[0,:,:,0])-yf)\n",
        "# plt.title(\"error between forwardly solved y-field from prediction and true input y-field\")\n"
      ],
      "execution_count": null,
      "outputs": [
        {
          "output_type": "stream",
          "text": [
            "taking the imaginary part of the complex FFT mag-field\n"
          ],
          "name": "stdout"
        },
        {
          "output_type": "display_data",
          "data": {
            "image/png": "[encoded data removed]",
            "text/plain": [
              "<Figure size 432x288 with 2 Axes>"
            ]
          },
          "metadata": {
            "tags": [],
            "needs_background": "light"
          }
        }
      ]
    },
    {
      "cell_type": "code",
      "metadata": {
        "id": "FlRah6R6FSnZ",
        "colab_type": "code",
        "colab": {}
      },
      "source": [
        ""
      ],
      "execution_count": null,
      "outputs": []
    },
    {
      "cell_type": "markdown",
      "metadata": {
        "id": "KLr0vI4LrF3C",
        "colab_type": "text"
      },
      "source": [
        "## predict on the entire test set"
      ]
    },
    {
      "cell_type": "code",
      "metadata": {
        "scrolled": true,
        "id": "CYCt6tdVTi7l",
        "colab_type": "code",
        "colab": {
          "base_uri": "https://localhost:8080/",
          "height": 826
        },
        "outputId": "32caa1f0-1186-4932-a4ba-c708e877c177"
      },
      "source": [
        "# predicting on the entire test set\n",
        "susax=0\n",
        "X_test = test_images_t2b\n",
        "y_pred_ht2 = model_ht2b.predict(test_images_t2b)\n",
        "plt.figure()\n",
        "\n",
        "plt.figure()\n",
        "imshow_center(y_pred_ht2[20,:,:,susax])\n",
        "plt.title(\"predicted susceptibility for the 20th battery in test set\")\n",
        "plt.savefig(\"test_20_pred.png\")\n",
        "\n",
        "plt.figure()\n",
        "imshow_center(test_labels_t2b[20,:,:,susax])\n",
        "plt.title(\"actual susceptibility for the 20th battery in test set\")\n",
        "plt.savefig(\"test_20_true.png\")\n",
        "\n",
        "plt.figure()\n",
        "imshow_center(y_pred_ht2[20,:,:,susax]-test_labels_t2b[20,:,:,susax])\n",
        "# plot the the predicted susceptibility - actual susceptibility in the same chanel which is '2' for the 20th battery in test set\n",
        "# we want this difference to be as small as possible, not too extreme in either way\n",
        "plt.title(\"error between predicted and true susceptibility\")\n",
        "plt.savefig('test_20_error.png')\n",
        "\n"
      ],
      "execution_count": null,
      "outputs": [
        {
          "output_type": "display_data",
          "data": {
            "text/plain": [
              "<Figure size 432x288 with 0 Axes>"
            ]
          },
          "metadata": {
            "tags": []
          }
        },
        {
          "output_type": "display_data",
          "data": {
            "image/png": "[encoded data removed]",
            "text/plain": [
              "<Figure size 432x288 with 2 Axes>"
            ]
          },
          "metadata": {
            "tags": [],
            "needs_background": "light"
          }
        },
        {
          "output_type": "display_data",
          "data": {
            "image/png": "[encoded data removed]",
            "text/plain": [
              "<Figure size 432x288 with 2 Axes>"
            ]
          },
          "metadata": {
            "tags": [],
            "needs_background": "light"
          }
        },
        {
          "output_type": "display_data",
          "data": {
            "image/png": "[encoded data removed]",
            "text/plain": [
              "<Figure size 432x288 with 2 Axes>"
            ]
          },
          "metadata": {
            "tags": [],
            "needs_background": "light"
          }
        }
      ]
    },
    {
      "cell_type": "code",
      "metadata": {
        "id": "0CyPEazEqcOj",
        "colab_type": "code",
        "colab": {
          "base_uri": "https://localhost:8080/",
          "height": 298
        },
        "outputId": "593b09ca-4809-415f-c403-6148c84384ed"
      },
      "source": [
        "zf=calcfield(y_pred_ht2[20,:,:,:])\n",
        "# calculate the y(dimension 0) and z(dimension 1) component of the magnetic field for the 20th battery\n",
        "# from the predicted susceptibility output\n",
        "# so we are kind of like recreating the input to see if it is the same as the actual input\n",
        "# to see if the model learned the dipole forward kernel well\n",
        "\n",
        "if choice == \"abs\":\n",
        "  zf = np.abs(zf)\n",
        "  print(\"taking absolute value of the complex FFT mag-field\")\n",
        "  plt.figure()\n",
        "  imshow_center((np.squeeze(X_test[20,:,:,0])-zf))\n",
        "  plt.title(\"error between forwardly solved z-field from prediction and true input z-field\")\n",
        "elif choice == \"real\":\n",
        "  zf = np.real(zf)\n",
        "  print(\"taking the real part of the complex FFT mag-field\")\n",
        "  plt.figure()\n",
        "  imshow_center((np.squeeze(X_test[20,:,:,0])-zf))\n",
        "  plt.title(\"error between forwardly solved z-field from prediction and true input z-field\")\n",
        "elif choice == \"imag\":\n",
        "  zf = np.imag(zf)\n",
        "  print(\"taking the imaginary part of the complex FFT mag-field\")\n",
        "  plt.figure()\n",
        "  imshow_center(np.abs(np.squeeze(X_test[20,:,:,0])-zf))\n",
        "  plt.title(\"error between forwardly solved z-field from prediction and true input z-field\")\n",
        "else:\n",
        "  print(\"taking the entire complex number of the complex FFT mag-field\")\n",
        "  plt.figure()\n",
        "  imshow_center(np.abs(np.squeeze(X_test[20,:,:,0])-zf))\n",
        "  plt.title(\"error between forwardly solved z-field from prediction and true input z-field\")\n",
        "\n",
        "# plt.figure()\n",
        "# imshow_center(np.squeeze(X_test[20,:,:,0])-yf)\n",
        "# plt.title(\"error between forwardly solved y-field from prediction and true input y-field\")\n",
        "# plt.savefig('test_20_yfield_diff.png')\n"
      ],
      "execution_count": null,
      "outputs": [
        {
          "output_type": "stream",
          "text": [
            "taking the imaginary part of the complex FFT mag-field\n"
          ],
          "name": "stdout"
        },
        {
          "output_type": "display_data",
          "data": {
            "image/png": "[encoded data removed]",
            "text/plain": [
              "<Figure size 432x288 with 2 Axes>"
            ]
          },
          "metadata": {
            "tags": [],
            "needs_background": "light"
          }
        }
      ]
    },
    {
      "cell_type": "code",
      "metadata": {
        "id": "z5urTIwAOoE1",
        "colab_type": "code",
        "colab": {
          "base_uri": "https://localhost:8080/",
          "height": 458
        },
        "outputId": "036e6130-fa7a-4759-bb9d-2d8c165f0d2a"
      },
      "source": [
        "test_diff = test_labels_t2b - y_pred_ht2\n",
        "test_diff = tf.keras.backend.flatten(test_diff)\n",
        "\n",
        "plt.figure(figsize=(15,7))\n",
        "plt.hist(test_diff, bins=30, density=True, label='difference');\n",
        "mn, mx = plt.xlim()\n",
        "plt.xlim(mn, mx)\n",
        "kde_xs = np.linspace(mn, mx, 60)\n",
        "kde = stats.gaussian_kde(test_diff)\n",
        "plt.plot(kde_xs, kde.pdf(kde_xs), label=\"PDF\")\n",
        "plt.legend(loc=\"upper left\")\n",
        "plt.ylabel('Probability')\n",
        "plt.xlabel('difference')\n",
        "range = np.max([np.abs(np.min(test_diff)), np.abs(np.max(test_diff))])\n",
        "plt.xlim(-range, range)\n",
        "plt.title(\"Histogram of differences\");\n",
        "plt.savefig(\"test_diff_hist.png\")"
      ],
      "execution_count": null,
      "outputs": [
        {
          "output_type": "display_data",
          "data": {
            "image/png": "[encoded data removed]",
            "text/plain": [
              "<Figure size 1080x504 with 1 Axes>"
            ]
          },
          "metadata": {
            "tags": [],
            "needs_background": "light"
          }
        }
      ]
    },
    {
      "cell_type": "code",
      "metadata": {
        "id": "ZFPpfTYnFouV",
        "colab_type": "code",
        "colab": {}
      },
      "source": [
        ""
      ],
      "execution_count": null,
      "outputs": []
    },
    {
      "cell_type": "markdown",
      "metadata": {
        "id": "2FkAOqcDsuG8",
        "colab_type": "text"
      },
      "source": [
        "### calculate final loss"
      ]
    },
    {
      "cell_type": "code",
      "metadata": {
        "id": "3LPk3bS2F1bT",
        "colab_type": "code",
        "colab": {
          "base_uri": "https://localhost:8080/",
          "height": 102
        },
        "outputId": "338bf428-66f3-4492-969e-7eec774f22d8"
      },
      "source": [
        "final_loss = custom_loss_rmse(test_labels_t2b, y_pred_ht2)\n",
        "print('final RMSE loss on test set:', final_loss.numpy())\n",
        "NRMSE = final_loss/K.mean(test_labels_t2b)\n",
        "print('final normalized RMSE loss (div mean) on the test set:', NRMSE.numpy())\n",
        "RMSE_range = final_loss /(tf.reduce_max(test_labels_t2b) - tf.reduce_min(test_labels_t2b))\n",
        "print('final normalized RMSE loss (div range) on the test set:', RMSE_range.numpy())\n",
        "test_arr = tf.keras.backend.flatten(test_labels_t2b).numpy()\n",
        "IQR = stats.iqr(test_arr)\n",
        "RMSE_IQR = final_loss/IQR\n",
        "print('final normalized RMSE loss (div IQR) on the test set:', RMSE_IQR.numpy())\n",
        "Boll_NRMSE = tf.norm(y_pred_ht2-test_labels_t2b) / tf.norm(test_labels_t2b)\n",
        "print('final Bollman normalized RMSE loss on the test set:', Boll_NRMSE.numpy())"
      ],
      "execution_count": null,
      "outputs": [
        {
          "output_type": "stream",
          "text": [
            "final RMSE loss on test set: 0.0011175351023996966\n",
            "final normalized RMSE loss (div mean) on the test set: 20.422419709802305\n",
            "final normalized RMSE loss (div range) on the test set: 2.254500501165893\n",
            "final normalized RMSE loss (div IQR) on the test set: 14.436164787952764\n",
            "final Bollman normalized RMSE loss on the test set: 13.68561451279893\n"
          ],
          "name": "stdout"
        }
      ]
    },
    {
      "cell_type": "code",
      "metadata": {
        "id": "1_TgAP98Hua4",
        "colab_type": "code",
        "colab": {
          "base_uri": "https://localhost:8080/",
          "height": 85
        },
        "outputId": "ff588915-ddef-407b-b90a-2529af864e62"
      },
      "source": [
        "y_pred_ht2[20,:,:,0][0]"
      ],
      "execution_count": null,
      "outputs": [
        {
          "output_type": "execute_result",
          "data": {
            "text/plain": [
              "array([0.00445898, 0.00248521, 0.00350256, 0.00319536, 0.00351764,\n",
              "       0.00319827, 0.00349577, 0.00318593, 0.00349711, 0.00317775,\n",
              "       0.00349277, 0.0031852 , 0.00350521, 0.003159  , 0.00341991,\n",
              "       0.00387959], dtype=float32)"
            ]
          },
          "metadata": {
            "tags": []
          },
          "execution_count": 75
        }
      ]
    },
    {
      "cell_type": "code",
      "metadata": {
        "id": "i5Rxs2LXHOKd",
        "colab_type": "code",
        "colab": {
          "base_uri": "https://localhost:8080/",
          "height": 102
        },
        "outputId": "c6303a23-50d9-4990-aa4f-d2b13ee62cb3"
      },
      "source": [
        "test_labels_t2b[20,:,:,0][0]"
      ],
      "execution_count": null,
      "outputs": [
        {
          "output_type": "execute_result",
          "data": {
            "text/plain": [
              "<tf.Tensor: shape=(16,), dtype=float64, numpy=\n",
              "array([8.36463283e-05, 7.23345707e-05, 4.53592640e-05, 2.06266923e-05,\n",
              "       6.83214171e-06, 1.98566035e-06, 1.94279687e-06, 3.11160867e-06,\n",
              "       2.28769268e-06, 6.80444467e-07, 8.12234787e-08, 3.88807884e-09,\n",
              "       7.46300880e-11, 5.74447252e-13, 1.77427538e-15, 2.21344848e-18])>"
            ]
          },
          "metadata": {
            "tags": []
          },
          "execution_count": 76
        }
      ]
    },
    {
      "cell_type": "code",
      "metadata": {
        "id": "ZsTMNcw0GWzW",
        "colab_type": "code",
        "colab": {
          "base_uri": "https://localhost:8080/",
          "height": 34
        },
        "outputId": "a3f64149-958a-47b1-e3f4-472929e32036"
      },
      "source": [
        "# check memory address\n",
        "id(y_pred_ht2[20,:,:,0])"
      ],
      "execution_count": null,
      "outputs": [
        {
          "output_type": "execute_result",
          "data": {
            "text/plain": [
              "140305188928208"
            ]
          },
          "metadata": {
            "tags": []
          },
          "execution_count": 77
        }
      ]
    },
    {
      "cell_type": "code",
      "metadata": {
        "id": "GcsfIhk0nsm4",
        "colab_type": "code",
        "colab": {
          "base_uri": "https://localhost:8080/",
          "height": 34
        },
        "outputId": "7f7493d6-3de8-48d7-d99b-3bfd404d938d"
      },
      "source": [
        "# check memory address\n",
        "id(y_pred_ht2[30,:,:,0])"
      ],
      "execution_count": null,
      "outputs": [
        {
          "output_type": "execute_result",
          "data": {
            "text/plain": [
              "140305188735936"
            ]
          },
          "metadata": {
            "tags": []
          },
          "execution_count": 78
        }
      ]
    },
    {
      "cell_type": "markdown",
      "metadata": {
        "id": "qldQt1oQY24l",
        "colab_type": "text"
      },
      "source": [
        "### plot `Boll_NRMSE` for each battery to see if prediction is bad consistently or good for some and bad for some "
      ]
    },
    {
      "cell_type": "code",
      "metadata": {
        "id": "NckmU6bLZBqd",
        "colab_type": "code",
        "colab": {
          "base_uri": "https://localhost:8080/",
          "height": 34
        },
        "outputId": "bc7ea750-9da3-4a59-9fd9-93b7e6d07d4f"
      },
      "source": [
        "y_pred_ht2.shape"
      ],
      "execution_count": null,
      "outputs": [
        {
          "output_type": "execute_result",
          "data": {
            "text/plain": [
              "(120, 32, 16, 1)"
            ]
          },
          "metadata": {
            "tags": []
          },
          "execution_count": 79
        }
      ]
    },
    {
      "cell_type": "code",
      "metadata": {
        "id": "LoSAO8obZO3B",
        "colab_type": "code",
        "colab": {
          "base_uri": "https://localhost:8080/",
          "height": 34
        },
        "outputId": "e7a783a2-c8ff-479c-aa3d-04b5d3c349af"
      },
      "source": [
        "test_labels_t2b.shape"
      ],
      "execution_count": null,
      "outputs": [
        {
          "output_type": "execute_result",
          "data": {
            "text/plain": [
              "TensorShape([120, 32, 16, 1])"
            ]
          },
          "metadata": {
            "tags": []
          },
          "execution_count": 80
        }
      ]
    },
    {
      "cell_type": "code",
      "metadata": {
        "id": "HFH8ibhCbU5X",
        "colab_type": "code",
        "colab": {
          "base_uri": "https://localhost:8080/",
          "height": 34
        },
        "outputId": "4b6a20a2-1e9c-4be4-ca61-68db42f22343"
      },
      "source": [
        "y_pred_ht2[0,:,:,:].shape"
      ],
      "execution_count": null,
      "outputs": [
        {
          "output_type": "execute_result",
          "data": {
            "text/plain": [
              "(32, 16, 1)"
            ]
          },
          "metadata": {
            "tags": []
          },
          "execution_count": 81
        }
      ]
    },
    {
      "cell_type": "code",
      "metadata": {
        "id": "AiSHWrt9bYYl",
        "colab_type": "code",
        "colab": {
          "base_uri": "https://localhost:8080/",
          "height": 34
        },
        "outputId": "4287ceb7-4183-4e14-809a-bcdbb1e0ff30"
      },
      "source": [
        "test_labels_t2b[0,:,:,:].shape"
      ],
      "execution_count": null,
      "outputs": [
        {
          "output_type": "execute_result",
          "data": {
            "text/plain": [
              "TensorShape([32, 16, 1])"
            ]
          },
          "metadata": {
            "tags": []
          },
          "execution_count": 82
        }
      ]
    },
    {
      "cell_type": "code",
      "metadata": {
        "id": "qh4H_apAZSex",
        "colab_type": "code",
        "colab": {}
      },
      "source": [
        "Boll_NRMSE_test_lst = []\n",
        "\n",
        "for i in np.arange(int(test_labels_t2b.shape[0])):\n",
        "  # print(i)\n",
        "  Boll_NRMSE = (tf.norm(y_pred_ht2[i,:,:,:]-test_labels_t2b[i,:,:,:]) \n",
        "                / tf.norm(test_labels_t2b[i,:,:,:]))\n",
        "  Boll_NRMSE_test_lst.append(Boll_NRMSE)"
      ],
      "execution_count": null,
      "outputs": []
    },
    {
      "cell_type": "code",
      "metadata": {
        "id": "jsQUWw4AZ3RU",
        "colab_type": "code",
        "colab": {
          "base_uri": "https://localhost:8080/",
          "height": 442
        },
        "outputId": "768bc8e5-080a-4988-f956-0773540ec143"
      },
      "source": [
        "fig1 = plt.figure(figsize=(15,7))\n",
        "plt.plot(Boll_NRMSE_test_lst, label=\"Boll_NRMSE per battery\")\n",
        "plt.legend()\n",
        "plt.xlabel(\"battery #\")\n",
        "plt.ylabel(\"Boll_NRMSE\")\n",
        "plt.savefig(\"Boll_NRMSE_per_battery.png\")"
      ],
      "execution_count": null,
      "outputs": [
        {
          "output_type": "display_data",
          "data": {
            "image/png": "[encoded data removed]",
            "text/plain": [
              "<Figure size 1080x504 with 1 Axes>"
            ]
          },
          "metadata": {
            "tags": [],
            "needs_background": "light"
          }
        }
      ]
    },
    {
      "cell_type": "code",
      "metadata": {
        "id": "BbUZf5Kpfo8i",
        "colab_type": "code",
        "colab": {
          "base_uri": "https://localhost:8080/",
          "height": 1000
        },
        "outputId": "8b2596cb-d652-427a-f618-b2b8aa70e658"
      },
      "source": [
        "best_batt = np.argmin(Boll_NRMSE_test_lst)\n",
        "best_batt_NRMSE = min(Boll_NRMSE_test_lst).numpy()\n",
        "print(\"The best predicted battery is battery\", best_batt, \"from the test set with a Boll_NRMSE of \", best_batt_NRMSE)\n",
        "\n",
        "plt.figure()\n",
        "imshow_center(y_pred_ht2[best_batt,:,:,susax])\n",
        "plt.title(\"predicted susceptibility for the \"+str(best_batt)+\" battery in test set\")\n",
        "plt.savefig(\"test_best_pred.png\")\n",
        "\n",
        "plt.figure()\n",
        "imshow_center(test_labels_t2b[best_batt,:,:,susax])\n",
        "plt.title(\"actual susceptibility for the \"+str(best_batt)+\" battery in test set\")\n",
        "plt.savefig(\"test_best_true.png\")\n",
        "\n",
        "plt.figure()\n",
        "imshow_center(y_pred_ht2[best_batt,:,:,susax]-test_labels_t2b[best_batt,:,:,susax])\n",
        "# plot the the predicted susceptibility - actual susceptibility in the same chanel which is '2' for the best battery in test set\n",
        "# we want this difference to be as small as possible, not too extreme in either way\n",
        "plt.title(\"error between predicted and true susceptibility\")\n",
        "plt.savefig('test_best_error.png')\n",
        "\n",
        "zf=calcfield(y_pred_ht2[best_batt,:,:,:])\n",
        "# calculate the y(dimension 0) and z(dimension 1) component of the magnetic field for the 20th battery\n",
        "# from the predicted susceptibility output\n",
        "# so we are kind of like recreating the input to see if it is the same as the actual input\n",
        "# to see if the model learned the dipole forward kernel well\n",
        "\n",
        "if choice == \"abs\":\n",
        "  zf = np.abs(zf)\n",
        "  print(\"taking absolute value of the complex FFT mag-field\")\n",
        "  plt.figure()\n",
        "  imshow_center((np.squeeze(X_test[best_batt,:,:,0])-zf))\n",
        "  plt.title(\"error between forwardly solved z-field from prediction and true input z-field\")\n",
        "elif choice == \"real\":\n",
        "  zf = np.real(zf)\n",
        "  print(\"taking the real part of the complex FFT mag-field\")\n",
        "  plt.figure()\n",
        "  imshow_center((np.squeeze(X_test[best_batt,:,:,0])-zf))\n",
        "  plt.title(\"error between forwardly solved z-field from prediction and true input z-field\")\n",
        "elif choice == \"imag\":\n",
        "  zf = np.imag(zf)\n",
        "  print(\"taking the imaginary part of the complex FFT mag-field\")\n",
        "  plt.figure()\n",
        "  imshow_center(np.abs(np.squeeze(X_test[best_batt,:,:,0])-zf))\n",
        "  plt.title(\"error between forwardly solved z-field from prediction and true input z-field\")\n",
        "else:\n",
        "  print(\"taking the entire complex number of the complex FFT mag-field\")\n",
        "  plt.figure()\n",
        "  imshow_center(np.abs(np.squeeze(X_test[best_batt,:,:,0])-zf))\n",
        "  plt.title(\"error between forwardly solved z-field from prediction and true input z-field\")\n",
        "\n",
        "# plt.figure()\n",
        "# imshow_center(np.squeeze(X_test[best_batt,:,:,0])-yf)\n",
        "# plt.title(\"error between forwardly solved y-field from prediction and true input y-field\")\n",
        "# plt.savefig('test_best_yfield_diff.png')\n"
      ],
      "execution_count": null,
      "outputs": [
        {
          "output_type": "stream",
          "text": [
            "The best predicted battery is battery 22 from the test set with a Boll_NRMSE of  7.039020501425249\n",
            "taking the imaginary part of the complex FFT mag-field\n"
          ],
          "name": "stdout"
        },
        {
          "output_type": "display_data",
          "data": {
            "image/png": "[encoded data removed]",
            "text/plain": [
              "<Figure size 432x288 with 2 Axes>"
            ]
          },
          "metadata": {
            "tags": [],
            "needs_background": "light"
          }
        },
        {
          "output_type": "display_data",
          "data": {
            "image/png": "[encoded data removed]",
            "text/plain": [
              "<Figure size 432x288 with 2 Axes>"
            ]
          },
          "metadata": {
            "tags": [],
            "needs_background": "light"
          }
        },
        {
          "output_type": "display_data",
          "data": {
            "image/png": "[encoded data removed]",
            "text/plain": [
              "<Figure size 432x288 with 2 Axes>"
            ]
          },
          "metadata": {
            "tags": [],
            "needs_background": "light"
          }
        },
        {
          "output_type": "display_data",
          "data": {
            "image/png": "[encoded data removed]",
            "text/plain": [
              "<Figure size 432x288 with 2 Axes>"
            ]
          },
          "metadata": {
            "tags": [],
            "needs_background": "light"
          }
        }
      ]
    },
    {
      "cell_type": "code",
      "metadata": {
        "id": "HhXEeXBrirBc",
        "colab_type": "code",
        "colab": {
          "base_uri": "https://localhost:8080/",
          "height": 1000
        },
        "outputId": "f3d1a53d-ffa7-4bcb-df91-12c9b6591be9"
      },
      "source": [
        "worst_batt = np.argmax(Boll_NRMSE_test_lst)\n",
        "worst_batt_NRMSE = max(Boll_NRMSE_test_lst).numpy()\n",
        "print(\"The worst predicted battery is battery \", worst_batt, \"from the test set with a Boll_NRMSE of \", worst_batt_NRMSE)\n",
        "\n",
        "plt.figure()\n",
        "imshow_center(y_pred_ht2[worst_batt,:,:,susax])\n",
        "plt.title(\"predicted susceptibility for the \"+str(worst_batt)+\" battery in test set\")\n",
        "plt.savefig(\"test_worst_pred.png\")\n",
        "\n",
        "plt.figure()\n",
        "imshow_center(test_labels_t2b[worst_batt,:,:,susax])\n",
        "plt.title(\"actual susceptibility for the \"+str(worst_batt)+\" battery in test set\")\n",
        "plt.savefig(\"test_worst_true.png\")\n",
        "\n",
        "plt.figure()\n",
        "imshow_center(y_pred_ht2[worst_batt,:,:,susax]-test_labels_t2b[worst_batt,:,:,susax])\n",
        "# plot the the predicted susceptibility - actual susceptibility in the same chanel which is '2' for the best battery in test set\n",
        "# we want this difference to be as small as possible, not too extreme in either way\n",
        "plt.title(\"error between predicted and true susceptibility\")\n",
        "plt.savefig('test_worst_error.png')\n",
        "\n",
        "zf=calcfield(y_pred_ht2[worst_batt,:,:,:])\n",
        "# calculate the y(dimension 0) and z(dimension 1) component of the magnetic field for the 20th battery\n",
        "# from the predicted susceptibility output\n",
        "# so we are kind of like recreating the input to see if it is the same as the actual input\n",
        "# to see if the model learned the dipole forward kernel well\n",
        "\n",
        "if choice == \"abs\":\n",
        "  zf = np.abs(zf)\n",
        "  print(\"taking absolute value of the complex FFT mag-field\")\n",
        "  plt.figure()\n",
        "  imshow_center((np.squeeze(X_test[worst_batt,:,:,0])-zf))\n",
        "  plt.title(\"error between forwardly solved z-field from prediction and true input z-field\")\n",
        "elif choice == \"real\":\n",
        "  zf = np.real(zf)\n",
        "  print(\"taking the real part of the complex FFT mag-field\")\n",
        "  plt.figure()\n",
        "  imshow_center((np.squeeze(X_test[worst_batt,:,:,0])-zf))\n",
        "  plt.title(\"error between forwardly solved z-field from prediction and true input z-field\")\n",
        "elif choice == \"imag\":\n",
        "  zf = np.imag(zf)\n",
        "  print(\"taking the imaginary part of the complex FFT mag-field\")\n",
        "  plt.figure()\n",
        "  imshow_center(np.abs(np.squeeze(X_test[worst_batt,:,:,0])-zf))\n",
        "  plt.title(\"error between forwardly solved z-field from prediction and true input z-field\")\n",
        "else:\n",
        "  print(\"taking the entire complex number of the complex FFT mag-field\")\n",
        "  plt.figure()\n",
        "  imshow_center(np.abs(np.squeeze(X_test[worst_batt,:,:,0])-zf))\n",
        "  plt.title(\"error between forwardly solved z-field from prediction and true input z-field\")\n",
        "\n",
        "# plt.figure()\n",
        "# imshow_center(np.squeeze(X_test[worst_batt,:,:,0])-yf)\n",
        "# plt.title(\"error between forwardly solved y-field from prediction and true input y-field\")\n",
        "# plt.savefig('test_worst_yfield_diff.png')\n"
      ],
      "execution_count": null,
      "outputs": [
        {
          "output_type": "stream",
          "text": [
            "The worst predicted battery is battery  47 from the test set with a Boll_NRMSE of  33.411559405939215\n",
            "taking the imaginary part of the complex FFT mag-field\n"
          ],
          "name": "stdout"
        },
        {
          "output_type": "display_data",
          "data": {
            "image/png": "[encoded data removed]",
            "text/plain": [
              "<Figure size 432x288 with 2 Axes>"
            ]
          },
          "metadata": {
            "tags": [],
            "needs_background": "light"
          }
        },
        {
          "output_type": "display_data",
          "data": {
            "image/png": "[encoded data removed]",
            "text/plain": [
              "<Figure size 432x288 with 2 Axes>"
            ]
          },
          "metadata": {
            "tags": [],
            "needs_background": "light"
          }
        },
        {
          "output_type": "display_data",
          "data": {
            "image/png": "[encoded data removed]",
            "text/plain": [
              "<Figure size 432x288 with 2 Axes>"
            ]
          },
          "metadata": {
            "tags": [],
            "needs_background": "light"
          }
        },
        {
          "output_type": "display_data",
          "data": {
            "image/png": "[encoded data removed]",
            "text/plain": [
              "<Figure size 432x288 with 2 Axes>"
            ]
          },
          "metadata": {
            "tags": [],
            "needs_background": "light"
          }
        }
      ]
    },
    {
      "cell_type": "markdown",
      "metadata": {
        "id": "4EclDrBAGkQW",
        "colab_type": "text"
      },
      "source": [
        "#### check one-sample predictions"
      ]
    },
    {
      "cell_type": "code",
      "metadata": {
        "id": "km1ivTICgntW",
        "colab_type": "code",
        "colab": {
          "base_uri": "https://localhost:8080/",
          "height": 34
        },
        "outputId": "cefeac7e-50d9-4d99-fce5-ebf65d9ccdb4"
      },
      "source": [
        "# making sure the pairing is still correct\n",
        "np.all(test_images_t2b[10,:,:,0].numpy() == calcfield(test_labels_t2b[10,:,:,:].numpy()))"
      ],
      "execution_count": null,
      "outputs": [
        {
          "output_type": "execute_result",
          "data": {
            "text/plain": [
              "False"
            ]
          },
          "metadata": {
            "tags": []
          },
          "execution_count": 87
        }
      ]
    },
    {
      "cell_type": "code",
      "metadata": {
        "id": "XtKFEXBracdD",
        "colab_type": "code",
        "colab": {
          "base_uri": "https://localhost:8080/",
          "height": 85
        },
        "outputId": "8b83da13-26d5-4bde-8426-84e2433cd0e0"
      },
      "source": [
        "y_pred_10 = model_ht2b.predict(test_images_t2b[np.newaxis,10,:,:,:])\n",
        "y_pred_30 = model_ht2b.predict(test_images_t2b[np.newaxis,30,:,:,:])\n",
        "\n",
        "print(y_pred_10.shape)\n",
        "print(y_pred_30.shape)\n",
        "print(y_pred_ht2.shape)\n",
        "print(test_labels_t2b.shape)"
      ],
      "execution_count": null,
      "outputs": [
        {
          "output_type": "stream",
          "text": [
            "(1, 32, 16, 1)\n",
            "(1, 32, 16, 1)\n",
            "(120, 32, 16, 1)\n",
            "(120, 32, 16, 1)\n"
          ],
          "name": "stdout"
        }
      ]
    },
    {
      "cell_type": "code",
      "metadata": {
        "id": "jQauigTLax5D",
        "colab_type": "code",
        "colab": {
          "base_uri": "https://localhost:8080/",
          "height": 34
        },
        "outputId": "306e0e3c-c6b7-48b1-dca9-78063b785df1"
      },
      "source": [
        "np.all(y_pred_10 == y_pred_30)"
      ],
      "execution_count": null,
      "outputs": [
        {
          "output_type": "execute_result",
          "data": {
            "text/plain": [
              "False"
            ]
          },
          "metadata": {
            "tags": []
          },
          "execution_count": 89
        }
      ]
    },
    {
      "cell_type": "code",
      "metadata": {
        "id": "H7rkoRe9hTMX",
        "colab_type": "code",
        "colab": {
          "base_uri": "https://localhost:8080/",
          "height": 34
        },
        "outputId": "d6452caa-697b-48b1-dc6e-7216c73a763c"
      },
      "source": [
        "np.all(y_pred_10 == model_ht2b.predict(test_images_t2b[np.newaxis,10,:,:,:]))"
      ],
      "execution_count": null,
      "outputs": [
        {
          "output_type": "execute_result",
          "data": {
            "text/plain": [
              "True"
            ]
          },
          "metadata": {
            "tags": []
          },
          "execution_count": 90
        }
      ]
    },
    {
      "cell_type": "code",
      "metadata": {
        "id": "Oebfhmora05N",
        "colab_type": "code",
        "colab": {
          "base_uri": "https://localhost:8080/",
          "height": 34
        },
        "outputId": "e0200b40-c570-4d26-cc1b-c279b9bbb050"
      },
      "source": [
        "np.all(model_ht2b.predict(test_images_t2b[np.newaxis,30,:,:,:]) == y_pred_ht2[30,:,:,:])"
      ],
      "execution_count": null,
      "outputs": [
        {
          "output_type": "execute_result",
          "data": {
            "text/plain": [
              "False"
            ]
          },
          "metadata": {
            "tags": []
          },
          "execution_count": 91
        }
      ]
    },
    {
      "cell_type": "code",
      "metadata": {
        "id": "jauJ4pGDkj7O",
        "colab_type": "code",
        "colab": {
          "base_uri": "https://localhost:8080/",
          "height": 289
        },
        "outputId": "623a16f3-b3bf-494b-a502-d91e36f14b28"
      },
      "source": [
        "y_pred_10[0][0]"
      ],
      "execution_count": null,
      "outputs": [
        {
          "output_type": "execute_result",
          "data": {
            "text/plain": [
              "array([[0.00445905],\n",
              "       [0.00248521],\n",
              "       [0.00350257],\n",
              "       [0.00319536],\n",
              "       [0.00351761],\n",
              "       [0.0031983 ],\n",
              "       [0.0034958 ],\n",
              "       [0.00318594],\n",
              "       [0.0034971 ],\n",
              "       [0.00317775],\n",
              "       [0.0034928 ],\n",
              "       [0.00318519],\n",
              "       [0.00350519],\n",
              "       [0.00315899],\n",
              "       [0.00341988],\n",
              "       [0.00387956]], dtype=float32)"
            ]
          },
          "metadata": {
            "tags": []
          },
          "execution_count": 92
        }
      ]
    },
    {
      "cell_type": "code",
      "metadata": {
        "id": "Bfwz3E5dknLd",
        "colab_type": "code",
        "colab": {
          "base_uri": "https://localhost:8080/",
          "height": 289
        },
        "outputId": "66713809-e258-4e15-a1d3-ca0b74e0d9ae"
      },
      "source": [
        "y_pred_ht2[10][0]"
      ],
      "execution_count": null,
      "outputs": [
        {
          "output_type": "execute_result",
          "data": {
            "text/plain": [
              "array([[0.00445903],\n",
              "       [0.00248525],\n",
              "       [0.00350259],\n",
              "       [0.00319534],\n",
              "       [0.00351759],\n",
              "       [0.0031983 ],\n",
              "       [0.0034958 ],\n",
              "       [0.00318597],\n",
              "       [0.00349713],\n",
              "       [0.00317772],\n",
              "       [0.00349276],\n",
              "       [0.00318519],\n",
              "       [0.00350518],\n",
              "       [0.00315901],\n",
              "       [0.00341988],\n",
              "       [0.00387959]], dtype=float32)"
            ]
          },
          "metadata": {
            "tags": []
          },
          "execution_count": 93
        }
      ]
    },
    {
      "cell_type": "markdown",
      "metadata": {
        "id": "n2GApwpWk3iQ",
        "colab_type": "text"
      },
      "source": [
        "So the reason you are not getting the exact same result when predicting on just one sample Vs. predicting on the entire test set are just trivial rounding differences. In actuality the results do match. I.e., the $10^{th}$ prediction from the entire predictions set matches the prediction on the $10^{th}$ input in the test set."
      ]
    },
    {
      "cell_type": "markdown",
      "metadata": {
        "id": "JOF5pYcwYyuC",
        "colab_type": "text"
      },
      "source": [
        "# Grid Search over Model"
      ]
    },
    {
      "cell_type": "code",
      "metadata": {
        "id": "Hj10zpAGY00u",
        "colab_type": "code",
        "colab": {}
      },
      "source": [
        "# our model might not be able to be wrapped in a scikit_learn model\n",
        "# so we have to do the for-loops by hand\n",
        "# train and val sets are not part of the input, so they must be defined as global variables prior\n",
        "\n",
        "def grid_search(dropout_level_lst=[0.05], beta2_lst=[0.999], beta1_lst=[0.9], lr_rate_lst = [0.001],\n",
        "                epsilon_lst=[1e-08], epo_lst = [10], bat_size_lst = [10]):\n",
        "  # initialize values\n",
        "  val_loss = np.inf\n",
        "  best_params = dict()\n",
        "\n",
        "  for dp_level in dropout_level_lst:\n",
        "    inputs_h2 = layers.Input(shape=(32,16,1))\n",
        "    # same as (rscale, cscale, 2)\n",
        "    # also same as the dimension for EACH image in the training set\n",
        "    encoder0_pool_h2, encoder0_h2 = encoder_block_h2(inputs_h2, 8, dropout_level=dp_level)\n",
        "    encoder1_pool_h2, encoder1_h2 = encoder_block_h2(encoder0_pool_h2, 16, dropout_level=dp_level)\n",
        "    encoder2_pool_h2, encoder2_h2 = encoder_block_h2(encoder1_pool_h2, 32, dropout_level=dp_level)\n",
        "    encoder3_pool_h2, encoder3_h2 = encoder_block_h2(encoder2_pool_h2, 64, dropout_level=dp_level)\n",
        "    center_h2 = conv_block_h2(encoder3_pool_h2, 128, dropout_level=dp_level)\n",
        "    decoder3_h2 = decoder_block_h2(center_h2, encoder3_h2, 64, dropout_level=dp_level)\n",
        "    decoder2_h2 = decoder_block_h2(decoder3_h2, encoder2_h2, 32, dropout_level=dp_level)\n",
        "    decoder1_h2 = decoder_block_h2(decoder2_h2, encoder1_h2, 16, dropout_level=dp_level)\n",
        "    decoder0_h2 = decoder_block_h2(decoder1_h2, encoder0_h2, 8, dropout_level = dp_level)\n",
        "    outputs_h2 = layers.Conv2D(1, (1, 1), padding=\"same\")(decoder0_h2)   # simply set number of output channels here, seems legit\n",
        "\n",
        "    model_ht2b = models.Model(inputs=[inputs_h2], outputs=[outputs_h2])\n",
        "\n",
        "    for beta2 in beta2_lst:\n",
        "      for beta1 in beta1_lst:\n",
        "        for lr_rate in lr_rate_lst:\n",
        "          for eps in epsilon_lst:\n",
        "            adam=keras.optimizers.Adam(learning_rate = lr_rate, beta_1 = beta1, beta_2=beta2, epsilon = eps)\n",
        "\n",
        "            model_ht2b.compile(optimizer=adam,\n",
        "                               loss=custom_loss_rmse) # let's use rmse for optimization becuase it is a bigger target than mse\n",
        "\n",
        "            # construct checkpoint for saving the best model for current training\n",
        "            filepath=\"current.best.h5\"\n",
        "            checkpoint = ModelCheckpoint(filepath, \n",
        "                                        monitor='val_loss', # this must be the same string as a metric from your model training verbose output\n",
        "                                        verbose=1, \n",
        "                                        save_best_only=True, \n",
        "                                        mode='min', # we want minimum loss\n",
        "                                        save_weights_only=False # we want to save the entire model, not just the weights\n",
        "                                        )\n",
        "            callbacks_list = [checkpoint]\n",
        "\n",
        "            for epo in epo_lst:\n",
        "              for bat_size in bat_size_lst:\n",
        "                start = time.time()\n",
        "                history_ht2b = model_ht2b.fit(train_images_t2b, \n",
        "                                              train_labels_t2b,\n",
        "                                              validation_data = (val_images_t2b, val_labels_t2b),  \n",
        "                                              epochs=epo, \n",
        "                                              batch_size=bat_size, \n",
        "                                              shuffle=True,\n",
        "                                              callbacks = callbacks_list,\n",
        "                                              verbose=1)\n",
        "                training_time = time.time()-start\n",
        "                \n",
        "                # load best model from current training b/c the best model might not be the last model\n",
        "                model_ht2b = tf.keras.models.load_model('current.best.h5',custom_objects={'custom_loss_rmse': custom_loss_rmse})\n",
        "                new_loss = custom_loss_rmse(val_labels_t2b, model_ht2b.predict(val_images_t2b))\n",
        "                \n",
        "                if new_loss.numpy() < val_loss:\n",
        "                  print()\n",
        "                  print('final validation loss decreased from ', val_loss, ' to ', new_loss.numpy())\n",
        "                  print('saving the current best model as the overall best model')\n",
        "                  print(100*'*')\n",
        "                  val_loss = new_loss.numpy()\n",
        "                  \n",
        "                  best_params['best_dropout_rate'] = dp_level\n",
        "                  best_params['best_beta_2'] = beta2\n",
        "                  best_params['best_beta_1'] = beta1\n",
        "                  best_params['best_learning_rate'] = lr_rate\n",
        "                  best_params['best_epsilon'] = eps\n",
        "                  best_params['best_epochs'] = epo\n",
        "                  best_params['best_batch_size'] = bat_size\n",
        "\n",
        "                  best_params['best_val_loss_reached'] = val_loss\n",
        "                  best_params['training_time'] = training_time\n",
        "                  # best_params['val_loss_his'] = history_ht2b.history['val_loss']\n",
        "                  # best_params['train_loss_his'] = history_ht2b.history['loss']\n",
        "                    # comment these out for now because they take way too much space when printed out \n",
        "                  \n",
        "                  # save the best overall grid-searched model found so far \n",
        "                  model_ht2b.save('model.best.h5')\n",
        "                  \n",
        "                  # save history of validation-loss from the best model to observe epochs effect\n",
        "                  with open('best_val_loss_history.db', 'wb') as file_pi:\n",
        "                    pk.dump(history_ht2b.history['val_loss'], file_pi)\n",
        "                  # later open with \n",
        "                  # val_loss_history_ht2b = pk.load(open('best_val_loss_history.db', \"rb\"))\n",
        "\n",
        "                  # save history of training-loss from the best model to observe epochs effect\n",
        "                  with open('best_train_loss_history.db', 'wb') as file_pi:\n",
        "                    pk.dump(history_ht2b.history['loss'], file_pi)\n",
        "                  # later open with \n",
        "                  # train_loss_history_ht2b = pk.load(open('best_train_loss_history.db', \"rb\"))\n",
        "\n",
        "                  # save the best_params dictionary along the way incase training gets killed mid-way and the function doesn't get to finish\n",
        "                  # \"w\" mode automatically overwrites if the file already exists\n",
        "                  param_json = json.dumps(best_params)\n",
        "                  f = open(\"best_params.json\",\"w\")\n",
        "                  f.write(param_json)\n",
        "                  f.close()\n",
        "\n",
        "                  # save a plot of the val_loss_history for the best performing model for observation\n",
        "                  fig, ax = get_figure()\n",
        "                  fig.set_size_inches(20,10)\n",
        "                  num_epochs=len(history_ht2b.history['val_loss'])\n",
        "                  startpoints=0\n",
        "                  ax.set_yscale('log') # set y-axis to log_10 scale for better viewing\n",
        "                  ax.plot((np.arange(num_epochs*1)+1)[startpoints:], \n",
        "                          history_ht2b.history['loss'][startpoints:], \n",
        "                          linewidth=1, color=\"orange\", \n",
        "                          label=\"training_loss\")\n",
        "                  ax.plot((np.arange(num_epochs*1)+1)[startpoints:], \n",
        "                          history_ht2b.history['val_loss'][startpoints:], \n",
        "                          linewidth=1, color=\"blue\", \n",
        "                          label=\"validation loss\")\n",
        "                  ax.set_xlabel('epochs')\n",
        "                  ax.set_ylabel('log loss')\n",
        "                  ax.legend(frameon=False);\n",
        "                  fig.savefig('best_model_loss_history.png')\n",
        "                else:\n",
        "                  print('final validation loss did not decrease for this set of parameters')\n",
        "                  print('current overall best model and parameters does not get updated')\n",
        "                  print(100*'*')\n",
        "  return best_params"
      ],
      "execution_count": null,
      "outputs": []
    },
    {
      "cell_type": "code",
      "metadata": {
        "id": "PYEi-4TpdqyI",
        "colab_type": "code",
        "colab": {
          "base_uri": "https://localhost:8080/",
          "height": 1000
        },
        "outputId": "acbdb5f6-de6e-4e58-ec09-3962dd2c1949"
      },
      "source": [
        "best_params = grid_search()"
      ],
      "execution_count": null,
      "outputs": [
        {
          "output_type": "stream",
          "text": [
            "Epoch 1/10\n",
            "32/36 [=========================>....] - ETA: 0s - loss: 0.6045\n",
            "Epoch 00001: val_loss improved from inf to 0.01903, saving model to current.best.h5\n",
            "36/36 [==============================] - 2s 54ms/step - loss: 0.5793 - val_loss: 0.0190\n",
            "Epoch 2/10\n",
            "33/36 [==========================>...] - ETA: 0s - loss: 0.2188\n",
            "Epoch 00002: val_loss did not improve from 0.01903\n",
            "36/36 [==============================] - 0s 13ms/step - loss: 0.2086 - val_loss: 0.0358\n",
            "Epoch 3/10\n",
            "35/36 [============================>.] - ETA: 0s - loss: 0.0745\n",
            "Epoch 00003: val_loss improved from 0.01903 to 0.01646, saving model to current.best.h5\n",
            "36/36 [==============================] - 1s 24ms/step - loss: 0.0743 - val_loss: 0.0165\n",
            "Epoch 4/10\n",
            "33/36 [==========================>...] - ETA: 0s - loss: 0.0494\n",
            "Epoch 00004: val_loss improved from 0.01646 to 0.00418, saving model to current.best.h5\n",
            "36/36 [==============================] - 1s 25ms/step - loss: 0.0493 - val_loss: 0.0042\n",
            "Epoch 5/10\n",
            "36/36 [==============================] - ETA: 0s - loss: 0.0359\n",
            "Epoch 00005: val_loss improved from 0.00418 to 0.00362, saving model to current.best.h5\n",
            "36/36 [==============================] - 1s 24ms/step - loss: 0.0359 - val_loss: 0.0036\n",
            "Epoch 6/10\n",
            "35/36 [============================>.] - ETA: 0s - loss: 0.0304\n",
            "Epoch 00006: val_loss did not improve from 0.00362\n",
            "36/36 [==============================] - 0s 13ms/step - loss: 0.0304 - val_loss: 0.0062\n",
            "Epoch 7/10\n",
            "34/36 [===========================>..] - ETA: 0s - loss: 0.0261\n",
            "Epoch 00007: val_loss did not improve from 0.00362\n",
            "36/36 [==============================] - 0s 13ms/step - loss: 0.0258 - val_loss: 0.0087\n",
            "Epoch 8/10\n",
            "36/36 [==============================] - ETA: 0s - loss: 0.0216\n",
            "Epoch 00008: val_loss did not improve from 0.00362\n",
            "36/36 [==============================] - 0s 13ms/step - loss: 0.0216 - val_loss: 0.0203\n",
            "Epoch 9/10\n",
            "35/36 [============================>.] - ETA: 0s - loss: 0.0162\n",
            "Epoch 00009: val_loss did not improve from 0.00362\n",
            "36/36 [==============================] - 0s 13ms/step - loss: 0.0171 - val_loss: 0.0114\n",
            "Epoch 10/10\n",
            "36/36 [==============================] - ETA: 0s - loss: 0.0183\n",
            "Epoch 00010: val_loss did not improve from 0.00362\n",
            "36/36 [==============================] - 0s 13ms/step - loss: 0.0183 - val_loss: 0.0059\n",
            "\n",
            "final validation loss decreased from  inf  to  0.0036160011870957553\n",
            "saving the current best model as the overall best model\n",
            "****************************************************************************************************\n"
          ],
          "name": "stdout"
        },
        {
          "output_type": "display_data",
          "data": {
            "image/png": "[encoded data removed]",
            "text/plain": [
              "<Figure size 1440x720 with 1 Axes>"
            ]
          },
          "metadata": {
            "tags": [],
            "needs_background": "light"
          }
        }
      ]
    },
    {
      "cell_type": "code",
      "metadata": {
        "id": "moBS1KHyWQpQ",
        "colab_type": "code",
        "colab": {
          "base_uri": "https://localhost:8080/",
          "height": 170
        },
        "outputId": "1852e266-dded-4186-fdaf-5ae2df28fd77"
      },
      "source": [
        "best_params"
      ],
      "execution_count": null,
      "outputs": [
        {
          "output_type": "execute_result",
          "data": {
            "text/plain": [
              "{'best_batch_size': 10,\n",
              " 'best_beta_1': 0.9,\n",
              " 'best_beta_2': 0.999,\n",
              " 'best_dropout_rate': 0.05,\n",
              " 'best_epochs': 10,\n",
              " 'best_epsilon': 1e-08,\n",
              " 'best_learning_rate': 0.001,\n",
              " 'best_val_loss_reached': 0.0036160011870957553,\n",
              " 'training_time': 10.879305124282837}"
            ]
          },
          "metadata": {
            "tags": []
          },
          "execution_count": 96
        }
      ]
    },
    {
      "cell_type": "code",
      "metadata": {
        "id": "XiED44ItVmke",
        "colab_type": "code",
        "colab": {}
      },
      "source": [
        "# save the best_params dictionary\n",
        "with open('best_params.p', 'wb') as fp:\n",
        "    pk.dump(best_params, fp)"
      ],
      "execution_count": null,
      "outputs": []
    },
    {
      "cell_type": "code",
      "metadata": {
        "id": "vZobjCYjWWNX",
        "colab_type": "code",
        "colab": {}
      },
      "source": [
        "# try:\n",
        "#   del best_params\n",
        "# except:\n",
        "#   a=3\n",
        "\n",
        "# with open('/content/best_params.p', 'rb') as fp:\n",
        "#     best_params = pk.load(fp)\n",
        "\n",
        "# best_params"
      ],
      "execution_count": null,
      "outputs": []
    },
    {
      "cell_type": "code",
      "metadata": {
        "id": "gjSoA3wVyKwM",
        "colab_type": "code",
        "colab": {}
      },
      "source": [
        "param_json = json.dumps(best_params)\n",
        "f = open(\"best_params.json\",\"w\")\n",
        "f.write(param_json)\n",
        "f.close()"
      ],
      "execution_count": null,
      "outputs": []
    },
    {
      "cell_type": "code",
      "metadata": {
        "id": "PVe2FJdzyfhk",
        "colab_type": "code",
        "colab": {}
      },
      "source": [
        "# try:\n",
        "#   del best_params\n",
        "# except:\n",
        "#   a=3\n",
        "\n",
        "# f = open(\"best_params.json\", \"r\")\n",
        "# try:\n",
        "#     best_params = json.load(f)\n",
        "# finally:\n",
        "#     f.close()\n",
        "\n",
        "# best_params"
      ],
      "execution_count": null,
      "outputs": []
    },
    {
      "cell_type": "code",
      "metadata": {
        "id": "UTca3SglKl0K",
        "colab_type": "code",
        "colab": {}
      },
      "source": [
        ""
      ],
      "execution_count": null,
      "outputs": []
    },
    {
      "cell_type": "markdown",
      "metadata": {
        "id": "P5wx1sGgDzKU",
        "colab_type": "text"
      },
      "source": [
        "## predict using overall best model"
      ]
    },
    {
      "cell_type": "code",
      "metadata": {
        "id": "qMsS8nMHtzMo",
        "colab_type": "code",
        "colab": {}
      },
      "source": [
        "del best_params"
      ],
      "execution_count": null,
      "outputs": []
    },
    {
      "cell_type": "code",
      "metadata": {
        "id": "XQXP2uqZt0bE",
        "colab_type": "code",
        "colab": {
          "base_uri": "https://localhost:8080/",
          "height": 170
        },
        "outputId": "0ad5eb47-8c9b-4d3f-c6c1-2cf752d31703"
      },
      "source": [
        "# load the json file later with\n",
        "f = open(\"best_params.json\", \"r\")\n",
        "try:\n",
        "    best_params = json.load(f)\n",
        "finally:\n",
        "    f.close()\n",
        "\n",
        "best_params"
      ],
      "execution_count": null,
      "outputs": [
        {
          "output_type": "execute_result",
          "data": {
            "text/plain": [
              "{'best_batch_size': 10,\n",
              " 'best_beta_1': 0.9,\n",
              " 'best_beta_2': 0.999,\n",
              " 'best_dropout_rate': 0.05,\n",
              " 'best_epochs': 10,\n",
              " 'best_epsilon': 1e-08,\n",
              " 'best_learning_rate': 0.001,\n",
              " 'best_val_loss_reached': 0.0036160011870957553,\n",
              " 'training_time': 10.879305124282837}"
            ]
          },
          "metadata": {
            "tags": []
          },
          "execution_count": 102
        }
      ]
    },
    {
      "cell_type": "code",
      "metadata": {
        "id": "NHovbxi1hl_O",
        "colab_type": "code",
        "colab": {}
      },
      "source": [
        "del model_ht2b\n",
        "# load overall best model\n",
        "model_ht2b=tf.keras.models.load_model('model.best.h5',custom_objects={'custom_loss_rmse': custom_loss_rmse})"
      ],
      "execution_count": null,
      "outputs": []
    },
    {
      "cell_type": "code",
      "metadata": {
        "id": "GuxDJ5r-Dx8j",
        "colab_type": "code",
        "colab": {}
      },
      "source": [
        "susax=0\n",
        "X_test = test_images_t2b\n",
        "y_pred_ht2 = model_ht2b.predict(test_images_t2b)"
      ],
      "execution_count": null,
      "outputs": []
    },
    {
      "cell_type": "code",
      "metadata": {
        "id": "L40ZMCyQhn68",
        "colab_type": "code",
        "colab": {
          "base_uri": "https://localhost:8080/",
          "height": 1000
        },
        "outputId": "bb0f6031-7029-4a8c-f888-d0ab10d37619"
      },
      "source": [
        "plt.figure()\n",
        "imshow_center(y_pred_ht2[20,:,:,susax])\n",
        "plt.title(\"predicted susceptibility for the 20th battery in test set\")\n",
        "plt.savefig(\"test_20_pred.png\")\n",
        "\n",
        "plt.figure()\n",
        "imshow_center(test_labels_t2b[20,:,:,susax])\n",
        "plt.title(\"actual susceptibility for the 20th battery in test set\")\n",
        "plt.savefig(\"test_20_true.png\")\n",
        "\n",
        "plt.figure()\n",
        "imshow_center(y_pred_ht2[20,:,:,susax]-test_labels_t2b[20,:,:,susax])\n",
        "# plot the the predicted susceptibility - actual susceptibility in the same chanel which is '2' for the 20th battery in test set\n",
        "# we want this difference to be as small as possible, not too extreme in either way\n",
        "plt.title(\"error between predicted and true susceptibility\")\n",
        "plt.savefig('test_20_error.png')\n",
        "\n",
        "zf=calcfield(y_pred_ht2[20,:,:,:])\n",
        "# calculate the y(dimension 0) and z(dimension 1) component of the magnetic field for the 20th battery\n",
        "# from the predicted susceptibility output\n",
        "# so we are kind of like recreating the input to see if it is the same as the actual input\n",
        "# to see if the model learned the dipole forward kernel well\n",
        "\n",
        "if choice == \"abs\":\n",
        "  zf = np.abs(zf)\n",
        "  print(\"taking absolute value of the complex FFT mag-field\")\n",
        "  plt.figure()\n",
        "  imshow_center((np.squeeze(X_test[20,:,:,0])-zf))\n",
        "  plt.title(\"error between forwardly solved z-field from prediction and true input z-field\")\n",
        "elif choice == \"real\":\n",
        "  zf = np.real(zf)\n",
        "  print(\"taking the real part of the complex FFT mag-field\")\n",
        "  plt.figure()\n",
        "  imshow_center((np.squeeze(X_test[20,:,:,0])-zf))\n",
        "  plt.title(\"error between forwardly solved z-field from prediction and true input z-field\")\n",
        "elif choice == \"imag\":\n",
        "  zf = np.imag(zf)\n",
        "  print(\"taking the imaginary part of the complex FFT mag-field\")\n",
        "  plt.figure()\n",
        "  imshow_center(np.abs(np.squeeze(X_test[20,:,:,0])-zf))\n",
        "  plt.title(\"error between forwardly solved z-field from prediction and true input z-field\")\n",
        "else:\n",
        "  print(\"taking the entire complex number of the complex FFT mag-field\")\n",
        "  plt.figure()\n",
        "  imshow_center(np.abs(np.squeeze(X_test[20,:,:,0])-zf))\n",
        "  plt.title(\"error between forwardly solved z-field from prediction and true input z-field\")\n",
        "\n",
        "# plt.figure()\n",
        "# imshow_center(np.squeeze(X_test[0,:,:,0])-yf)\n",
        "# plt.title(\"error between forwardly solved y-field from prediction and true input y-field\")\n",
        "# plt.savefig('test_20_yfield_diff.png')\n",
        "\n"
      ],
      "execution_count": null,
      "outputs": [
        {
          "output_type": "stream",
          "text": [
            "taking the imaginary part of the complex FFT mag-field\n"
          ],
          "name": "stdout"
        },
        {
          "output_type": "display_data",
          "data": {
            "image/png": "[encoded data removed]",
            "text/plain": [
              "<Figure size 432x288 with 2 Axes>"
            ]
          },
          "metadata": {
            "tags": [],
            "needs_background": "light"
          }
        },
        {
          "output_type": "display_data",
          "data": {
            "image/png": "[encoded data removed]",
            "text/plain": [
              "<Figure size 432x288 with 2 Axes>"
            ]
          },
          "metadata": {
            "tags": [],
            "needs_background": "light"
          }
        },
        {
          "output_type": "display_data",
          "data": {
            "image/png": "[encoded data removed]",
            "text/plain": [
              "<Figure size 432x288 with 2 Axes>"
            ]
          },
          "metadata": {
            "tags": [],
            "needs_background": "light"
          }
        },
        {
          "output_type": "display_data",
          "data": {
            "image/png": "[encoded data removed]",
            "text/plain": [
              "<Figure size 432x288 with 2 Axes>"
            ]
          },
          "metadata": {
            "tags": [],
            "needs_background": "light"
          }
        }
      ]
    },
    {
      "cell_type": "code",
      "metadata": {
        "id": "ZABt8l_O1IfG",
        "colab_type": "code",
        "colab": {
          "base_uri": "https://localhost:8080/",
          "height": 458
        },
        "outputId": "79da32ce-5488-4ed9-9d0c-aa9efe99941c"
      },
      "source": [
        "test_diff = test_labels_t2b - y_pred_ht2\n",
        "test_diff = tf.keras.backend.flatten(test_diff)\n",
        "plt.figure(figsize=(15,7))\n",
        "plt.hist(test_diff, bins=30, density=True, label='difference');\n",
        "mn, mx = plt.xlim()\n",
        "plt.xlim(mn, mx)\n",
        "kde_xs = np.linspace(mn, mx, 60)\n",
        "kde = stats.gaussian_kde(test_diff)\n",
        "plt.plot(kde_xs, kde.pdf(kde_xs), label=\"PDF\")\n",
        "plt.legend(loc=\"upper left\")\n",
        "plt.ylabel('Probability')\n",
        "plt.xlabel('difference')\n",
        "range = np.max([np.abs(np.min(test_diff)), np.abs(np.max(test_diff))])\n",
        "plt.xlim(-range, range)\n",
        "plt.title(\"Histogram of differences\");\n",
        "plt.savefig(\"test_diff_hist.png\")"
      ],
      "execution_count": null,
      "outputs": [
        {
          "output_type": "display_data",
          "data": {
            "image/png": "[encoded data removed]",
            "text/plain": [
              "<Figure size 1080x504 with 1 Axes>"
            ]
          },
          "metadata": {
            "tags": [],
            "needs_background": "light"
          }
        }
      ]
    },
    {
      "cell_type": "code",
      "metadata": {
        "id": "D9gsGqTpx-cB",
        "colab_type": "code",
        "colab": {
          "base_uri": "https://localhost:8080/",
          "height": 102
        },
        "outputId": "ed768e63-8df7-41fb-a038-5e584694532d"
      },
      "source": [
        "final_loss = custom_loss_rmse(test_labels_t2b, y_pred_ht2)\n",
        "print('final RMSE loss on test set:', final_loss.numpy())\n",
        "NRMSE = final_loss/K.mean(test_labels_t2b)\n",
        "print('final normalized RMSE loss (div mean) on the test set:', NRMSE.numpy())\n",
        "RMSE_range = final_loss /(tf.reduce_max(test_labels_t2b) - tf.reduce_min(test_labels_t2b))\n",
        "print('final normalized RMSE loss (div range) on the test set:', RMSE_range.numpy())\n",
        "test_arr = tf.keras.backend.flatten(test_labels_t2b).numpy()\n",
        "IQR = stats.iqr(test_arr)\n",
        "RMSE_IQR = final_loss/IQR\n",
        "print('final normalized RMSE loss (div IQR) on the test set:', RMSE_IQR.numpy())\n",
        "Boll_NRMSE = tf.norm(y_pred_ht2-test_labels_t2b) / tf.norm(test_labels_t2b)\n",
        "print('final Bollman normalized RMSE loss on the test set:', Boll_NRMSE.numpy())"
      ],
      "execution_count": null,
      "outputs": [
        {
          "output_type": "stream",
          "text": [
            "final RMSE loss on test set: 0.00361609204415609\n",
            "final normalized RMSE loss (div mean) on the test set: 66.08235327593293\n",
            "final normalized RMSE loss (div range) on the test set: 7.295056153767324\n",
            "final normalized RMSE loss (div IQR) on the test set: 46.71217980155363\n",
            "final Bollman normalized RMSE loss on the test set: 44.28356805334544\n"
          ],
          "name": "stdout"
        }
      ]
    },
    {
      "cell_type": "code",
      "metadata": {
        "id": "ccuFUwHH7Vwf",
        "colab_type": "code",
        "colab": {}
      },
      "source": [
        ""
      ],
      "execution_count": null,
      "outputs": []
    },
    {
      "cell_type": "code",
      "metadata": {
        "colab_type": "code",
        "id": "DmeTPjl9ebfo",
        "colab": {}
      },
      "source": [
        "Boll_NRMSE_test_lst = []\n",
        "\n",
        "for i in np.arange(int(test_labels_t2b.shape[0])):\n",
        "  # print(i)\n",
        "  Boll_NRMSE = (tf.norm(y_pred_ht2[i,:,:,:]-test_labels_t2b[i,:,:,:]) \n",
        "                / tf.norm(test_labels_t2b[i,:,:,:]))\n",
        "  Boll_NRMSE_test_lst.append(Boll_NRMSE)"
      ],
      "execution_count": null,
      "outputs": []
    },
    {
      "cell_type": "code",
      "metadata": {
        "colab_type": "code",
        "id": "ebdk8Zwhebfs",
        "colab": {
          "base_uri": "https://localhost:8080/",
          "height": 442
        },
        "outputId": "ca35e219-d652-43d6-91cb-f13143ecf9ef"
      },
      "source": [
        "plt.figure(figsize=(15,7))\n",
        "plt.plot(Boll_NRMSE_test_lst, label=\"Boll_NRMSE per battery\")\n",
        "plt.legend()\n",
        "plt.xlabel(\"battery #\")\n",
        "plt.ylabel(\"Boll_NRMSE\")\n",
        "plt.savefig(\"Boll_NRMSE_per_battery.png\")"
      ],
      "execution_count": null,
      "outputs": [
        {
          "output_type": "display_data",
          "data": {
            "image/png": "[encoded data removed]",
            "text/plain": [
              "<Figure size 1080x504 with 1 Axes>"
            ]
          },
          "metadata": {
            "tags": [],
            "needs_background": "light"
          }
        }
      ]
    },
    {
      "cell_type": "code",
      "metadata": {
        "colab_type": "code",
        "id": "01GtKbCcKsut",
        "colab": {
          "base_uri": "https://localhost:8080/",
          "height": 1000
        },
        "outputId": "fda7d269-6410-497d-f173-06acd4301e74"
      },
      "source": [
        "best_batt = np.argmin(Boll_NRMSE_test_lst)\n",
        "best_batt_NRMSE = min(Boll_NRMSE_test_lst).numpy()\n",
        "print(\"The best predicted battery is battery\", best_batt, \"from the test set with a Boll_NRMSE of \", best_batt_NRMSE)\n",
        "\n",
        "best_pred = y_pred_ht2[best_batt,:,:,susax]\n",
        "\n",
        "plt.figure()\n",
        "imshow_center(y_pred_ht2[best_batt,:,:,susax])\n",
        "plt.title(\"predicted susceptibility for battery \"+str(best_batt)+\" in test set\")\n",
        "plt.savefig(\"test_best_pred.png\")\n",
        "\n",
        "plt.figure()\n",
        "imshow_center(test_labels_t2b[best_batt,:,:,susax])\n",
        "plt.title(\"actual susceptibility for battery \"+str(best_batt)+\" in test set\")\n",
        "plt.savefig(\"test_best_true.png\")\n",
        "\n",
        "plt.figure()\n",
        "imshow_center(y_pred_ht2[best_batt,:,:,susax]-test_labels_t2b[best_batt,:,:,susax])\n",
        "# plot the the predicted susceptibility - actual susceptibility in the same chanel which is '2' for the best battery in test set\n",
        "# we want this difference to be as small as possible, not too extreme in either way\n",
        "plt.title(\"error between predicted and true susceptibility\")\n",
        "plt.savefig('test_best_error.png')\n",
        "\n",
        "zf=calcfield(y_pred_ht2[best_batt,:,:,:])\n",
        "# calculate the y(dimension 0) and z(dimension 1) component of the magnetic field for the 20th battery\n",
        "# from the predicted susceptibility output\n",
        "# so we are kind of like recreating the input to see if it is the same as the actual input\n",
        "# to see if the model learned the dipole forward kernel well\n",
        "\n",
        "if choice == \"abs\":\n",
        "  zf = np.abs(zf)\n",
        "  print(\"taking absolute value of the complex FFT mag-field\")\n",
        "  plt.figure()\n",
        "  imshow_center((np.squeeze(X_test[best_batt,:,:,0])-zf))\n",
        "  plt.title(\"error between forwardly solved z-field from prediction and true input z-field\")\n",
        "elif choice == \"real\":\n",
        "  zf = np.real(zf)\n",
        "  print(\"taking the real part of the complex FFT mag-field\")\n",
        "  plt.figure()\n",
        "  imshow_center((np.squeeze(X_test[best_batt,:,:,0])-zf))\n",
        "  plt.title(\"error between forwardly solved z-field from prediction and true input z-field\")\n",
        "elif choice == \"imag\":\n",
        "  zf = np.imag(zf)\n",
        "  print(\"taking the imaginary part of the complex FFT mag-field\")\n",
        "  plt.figure()\n",
        "  imshow_center(np.abs(np.squeeze(X_test[best_batt,:,:,0])-zf))\n",
        "  plt.title(\"error between forwardly solved z-field from prediction and true input z-field\")\n",
        "else:\n",
        "  print(\"taking the entire complex number of the complex FFT mag-field\")\n",
        "  plt.figure()\n",
        "  imshow_center(np.abs(np.squeeze(X_test[best_batt,:,:,0])-zf))\n",
        "  plt.title(\"error between forwardly solved z-field from prediction and true input z-field\")\n",
        "\n",
        "# plt.figure()\n",
        "# imshow_center(np.squeeze(X_test[best_batt,:,:,0])-yf)\n",
        "# plt.title(\"error between forwardly solved y-field from prediction and true input y-field\")\n",
        "# plt.savefig('test_best_yfield_diff.png')"
      ],
      "execution_count": null,
      "outputs": [
        {
          "output_type": "stream",
          "text": [
            "The best predicted battery is battery 22 from the test set with a Boll_NRMSE of  23.015423174826577\n",
            "taking the imaginary part of the complex FFT mag-field\n"
          ],
          "name": "stdout"
        },
        {
          "output_type": "display_data",
          "data": {
            "image/png": "[encoded data removed]",
            "text/plain": [
              "<Figure size 432x288 with 2 Axes>"
            ]
          },
          "metadata": {
            "tags": [],
            "needs_background": "light"
          }
        },
        {
          "output_type": "display_data",
          "data": {
            "image/png": "[encoded data removed]",
            "text/plain": [
              "<Figure size 432x288 with 2 Axes>"
            ]
          },
          "metadata": {
            "tags": [],
            "needs_background": "light"
          }
        },
        {
          "output_type": "display_data",
          "data": {
            "image/png": "[encoded data removed]",
            "text/plain": [
              "<Figure size 432x288 with 2 Axes>"
            ]
          },
          "metadata": {
            "tags": [],
            "needs_background": "light"
          }
        },
        {
          "output_type": "display_data",
          "data": {
            "image/png": "[encoded data removed]",
            "text/plain": [
              "<Figure size 432x288 with 2 Axes>"
            ]
          },
          "metadata": {
            "tags": [],
            "needs_background": "light"
          }
        }
      ]
    },
    {
      "cell_type": "code",
      "metadata": {
        "colab_type": "code",
        "id": "BN8YDvXXKsuw",
        "colab": {
          "base_uri": "https://localhost:8080/",
          "height": 1000
        },
        "outputId": "cc437b57-f73e-46c7-cb95-f4fe7d46dbd5"
      },
      "source": [
        "worst_batt = np.argmax(Boll_NRMSE_test_lst)\n",
        "worst_batt_NRMSE = max(Boll_NRMSE_test_lst).numpy()\n",
        "print(\"The worst predicted battery is battery\", worst_batt, \"from the test set with a Boll_NRMSE of \", worst_batt_NRMSE)\n",
        "\n",
        "worst_pred = y_pred_ht2[worst_batt,:,:,susax]\n",
        "\n",
        "plt.figure()\n",
        "imshow_center(y_pred_ht2[worst_batt,:,:,susax])\n",
        "plt.title(\"predicted susceptibility for battery \"+str(worst_batt)+\" in test set\")\n",
        "plt.savefig(\"test_worst_pred.png\")\n",
        "\n",
        "plt.figure()\n",
        "imshow_center(test_labels_t2b[worst_batt,:,:,susax])\n",
        "plt.title(\"actual susceptibility for battery \"+str(worst_batt)+\" in test set\")\n",
        "plt.savefig(\"test_worst_true.png\")\n",
        "\n",
        "plt.figure()\n",
        "imshow_center(y_pred_ht2[worst_batt,:,:,susax]-test_labels_t2b[worst_batt,:,:,susax])\n",
        "# plot the the predicted susceptibility - actual susceptibility in the same chanel which is '2' for the best battery in test set\n",
        "# we want this difference to be as small as possible, not too extreme in either way\n",
        "plt.title(\"error between predicted and true susceptibility\")\n",
        "plt.savefig('test_worst_error.png')\n",
        "\n",
        "zf=calcfield(y_pred_ht2[worst_batt,:,:,:])\n",
        "# calculate the y(dimension 0) and z(dimension 1) component of the magnetic field for the 20th battery\n",
        "# from the predicted susceptibility output\n",
        "# so we are kind of like recreating the input to see if it is the same as the actual input\n",
        "# to see if the model learned the dipole forward kernel well\n",
        "\n",
        "if choice == \"abs\":\n",
        "  zf = np.abs(zf)\n",
        "  print(\"taking absolute value of the complex FFT mag-field\")\n",
        "  plt.figure()\n",
        "  imshow_center((np.squeeze(X_test[worst_batt,:,:,0])-zf))\n",
        "  plt.title(\"error between forwardly solved z-field from prediction and true input z-field\")\n",
        "elif choice == \"real\":\n",
        "  zf = np.real(zf)\n",
        "  print(\"taking the real part of the complex FFT mag-field\")\n",
        "  plt.figure()\n",
        "  imshow_center((np.squeeze(X_test[worst_batt,:,:,0])-zf))\n",
        "  plt.title(\"error between forwardly solved z-field from prediction and true input z-field\")\n",
        "elif choice == \"imag\":\n",
        "  zf = np.imag(zf)\n",
        "  print(\"taking the imaginary part of the complex FFT mag-field\")\n",
        "  plt.figure()\n",
        "  imshow_center(np.abs(np.squeeze(X_test[worst_batt,:,:,0])-zf))\n",
        "  plt.title(\"error between forwardly solved z-field from prediction and true input z-field\")\n",
        "else:\n",
        "  print(\"taking the entire complex number of the complex FFT mag-field\")\n",
        "  plt.figure()\n",
        "  imshow_center(np.abs(np.squeeze(X_test[worst_batt,:,:,0])-zf))\n",
        "  plt.title(\"error between forwardly solved z-field from prediction and true input z-field\")\n",
        "\n",
        "# plt.figure()\n",
        "# imshow_center(np.squeeze(X_test[worst_batt,:,:,0])-yf)\n",
        "# plt.title(\"error between forwardly solved y-field from prediction and true input y-field\")\n",
        "# plt.savefig('test_worst_yfield_diff.png')\n"
      ],
      "execution_count": null,
      "outputs": [
        {
          "output_type": "stream",
          "text": [
            "The worst predicted battery is battery 47 from the test set with a Boll_NRMSE of  106.94203131069199\n",
            "taking the imaginary part of the complex FFT mag-field\n"
          ],
          "name": "stdout"
        },
        {
          "output_type": "display_data",
          "data": {
            "image/png": "[encoded data removed]",
            "text/plain": [
              "<Figure size 432x288 with 2 Axes>"
            ]
          },
          "metadata": {
            "tags": [],
            "needs_background": "light"
          }
        },
        {
          "output_type": "display_data",
          "data": {
            "image/png": "[encoded data removed]",
            "text/plain": [
              "<Figure size 432x288 with 2 Axes>"
            ]
          },
          "metadata": {
            "tags": [],
            "needs_background": "light"
          }
        },
        {
          "output_type": "display_data",
          "data": {
            "image/png": "[encoded data removed]",
            "text/plain": [
              "<Figure size 432x288 with 2 Axes>"
            ]
          },
          "metadata": {
            "tags": [],
            "needs_background": "light"
          }
        },
        {
          "output_type": "display_data",
          "data": {
            "image/png": "[encoded data removed]",
            "text/plain": [
              "<Figure size 432x288 with 2 Axes>"
            ]
          },
          "metadata": {
            "tags": [],
            "needs_background": "light"
          }
        }
      ]
    },
    {
      "cell_type": "code",
      "metadata": {
        "id": "xNeEMjzg2ELD",
        "colab_type": "code",
        "colab": {
          "base_uri": "https://localhost:8080/",
          "height": 34
        },
        "outputId": "a92b3411-d8b9-4fbd-d0d2-3071c509fc20"
      },
      "source": [
        "print(\"are predictions for the two different batteries different?\" ,\n",
        "      np.all(y_pred_ht2[worst_batt,:,:,susax] == y_pred_ht2[best_batt,:,:,susax]) == False)"
      ],
      "execution_count": null,
      "outputs": [
        {
          "output_type": "stream",
          "text": [
            "are predictions for the two different batteries different? False\n"
          ],
          "name": "stdout"
        }
      ]
    },
    {
      "cell_type": "code",
      "metadata": {
        "id": "sNvQxTKYMcfI",
        "colab_type": "code",
        "colab": {
          "base_uri": "https://localhost:8080/",
          "height": 51
        },
        "outputId": "b1cca648-0764-41f2-cfb1-26c3ca3e4bad"
      },
      "source": [
        "# note that these changes with each execution!\n",
        "# because the object created from this slice is temporary and is not stored nor fixed\n",
        "print(id(y_pred_ht2[worst_batt,:,:,0]))\n",
        "print(id(y_pred_ht2[best_batt,:,:,0]))"
      ],
      "execution_count": null,
      "outputs": [
        {
          "output_type": "stream",
          "text": [
            "140305131374112\n",
            "140305131374112\n"
          ],
          "name": "stdout"
        }
      ]
    },
    {
      "cell_type": "code",
      "metadata": {
        "id": "prgVO3UIs19-",
        "colab_type": "code",
        "colab": {
          "base_uri": "https://localhost:8080/",
          "height": 51
        },
        "outputId": "28edb774-49d5-4c3a-e61d-9d8375a79ac9"
      },
      "source": [
        "# only an individual number that is NOT an integer is actually a fixed object and can be used to check\n",
        "# to see if it is a part of the same object in a sense\n",
        "print(id(y_pred_ht2[worst_batt][0][0][0]))\n",
        "print(id(y_pred_ht2[best_batt][0][0][0]))"
      ],
      "execution_count": null,
      "outputs": [
        {
          "output_type": "stream",
          "text": [
            "140306426098912\n",
            "140306426098912\n"
          ],
          "name": "stdout"
        }
      ]
    },
    {
      "cell_type": "code",
      "metadata": {
        "id": "fmY9X2s3t9hx",
        "colab_type": "code",
        "colab": {
          "base_uri": "https://localhost:8080/",
          "height": 51
        },
        "outputId": "a5372e5b-8df4-404b-c1ab-35c38f521a57"
      },
      "source": [
        "print((y_pred_ht2[worst_batt][0][0][0]))\n",
        "print((y_pred_ht2[best_batt][0][0][0]))"
      ],
      "execution_count": null,
      "outputs": [
        {
          "output_type": "stream",
          "text": [
            "-0.004360717\n",
            "-0.004360717\n"
          ],
          "name": "stdout"
        }
      ]
    },
    {
      "cell_type": "code",
      "metadata": {
        "id": "phVx_cXtrx6C",
        "colab_type": "code",
        "colab": {
          "base_uri": "https://localhost:8080/",
          "height": 51
        },
        "outputId": "6934f9b0-457b-41bd-9c82-9d82e4db4620"
      },
      "source": [
        "print(id(worst_pred))\n",
        "print(id(best_pred))"
      ],
      "execution_count": null,
      "outputs": [
        {
          "output_type": "stream",
          "text": [
            "140305189544144\n",
            "140305143936544\n"
          ],
          "name": "stdout"
        }
      ]
    },
    {
      "cell_type": "code",
      "metadata": {
        "id": "2W06GsW8pnMP",
        "colab_type": "code",
        "colab": {
          "base_uri": "https://localhost:8080/",
          "height": 51
        },
        "outputId": "faf3bf5b-b5d8-49bf-c16d-c29206d07a50"
      },
      "source": [
        "a = [1,2,3,4]\n",
        "b = a[0:3]\n",
        "c = a[0:3]\n",
        "print(id(b))\n",
        "print(id(c))\n",
        "# ids are different even though they point to the same slice!"
      ],
      "execution_count": null,
      "outputs": [
        {
          "output_type": "stream",
          "text": [
            "140305128840520\n",
            "140305131836680\n"
          ],
          "name": "stdout"
        }
      ]
    },
    {
      "cell_type": "code",
      "metadata": {
        "id": "tHPDlXnpsisQ",
        "colab_type": "code",
        "colab": {}
      },
      "source": [
        "a = [1.1, 2, 3, 4]\n",
        "aa = [4, 3, 2, 1.1]\n",
        "b = a[2]\n",
        "c = a[2]"
      ],
      "execution_count": null,
      "outputs": []
    },
    {
      "cell_type": "code",
      "metadata": {
        "id": "caKuZXH1tGLK",
        "colab_type": "code",
        "colab": {
          "base_uri": "https://localhost:8080/",
          "height": 119
        },
        "outputId": "b64a987b-8e62-4eb1-dfbb-007d72ad9e8f"
      },
      "source": [
        "print(id(b))\n",
        "print(id(c))\n",
        "# id's are the same when they point to the same 1 particular INTEGER element!\n",
        "\n",
        "print(id(a[0]))\n",
        "print(id(aa[-1]))\n",
        "\n",
        "print(id(aa[1]))\n",
        "print(id(3))"
      ],
      "execution_count": null,
      "outputs": [
        {
          "output_type": "stream",
          "text": [
            "10914560\n",
            "10914560\n",
            "140305144232672\n",
            "140306427570096\n",
            "10914560\n",
            "10914560\n"
          ],
          "name": "stdout"
        }
      ]
    },
    {
      "cell_type": "code",
      "metadata": {
        "id": "b6lreuNGtQCF",
        "colab_type": "code",
        "colab": {}
      },
      "source": [
        ""
      ],
      "execution_count": null,
      "outputs": []
    },
    {
      "cell_type": "code",
      "metadata": {
        "id": "WJCkvc-is8a0",
        "colab_type": "code",
        "colab": {}
      },
      "source": [
        ""
      ],
      "execution_count": null,
      "outputs": []
    }
  ]
}