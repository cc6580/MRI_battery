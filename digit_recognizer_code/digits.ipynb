{
  "nbformat": 4,
  "nbformat_minor": 0,
  "metadata": {
    "colab": {
      "name": "digits.ipynb",
      "provenance": [],
      "collapsed_sections": [],
      "toc_visible": true
    },
    "kernelspec": {
      "name": "python3",
      "display_name": "Python 3"
    }
  },
  "cells": [
    {
      "cell_type": "code",
      "metadata": {
        "id": "V_5y5T1hiBe7",
        "colab_type": "code",
        "outputId": "97d256ef-27ff-4449-f427-9d37efb7845e",
        "colab": {
          "base_uri": "https://localhost:8080/",
          "height": 122
        }
      },
      "source": [
        "from google.colab import drive\n",
        "drive.mount('/content/drive')"
      ],
      "execution_count": 4,
      "outputs": [
        {
          "output_type": "stream",
          "text": [
            "Go to this URL in a browser: https://accounts.google.com/o/oauth2/auth?client_id=947318989803-6bn6qk8qdgf4n4g3pfee6491hc0brc4i.apps.googleusercontent.com&redirect_uri=urn%3aietf%3awg%3aoauth%3a2.0%3aoob&response_type=code&scope=email%20https%3a%2f%2fwww.googleapis.com%2fauth%2fdocs.test%20https%3a%2f%2fwww.googleapis.com%2fauth%2fdrive%20https%3a%2f%2fwww.googleapis.com%2fauth%2fdrive.photos.readonly%20https%3a%2f%2fwww.googleapis.com%2fauth%2fpeopleapi.readonly\n",
            "\n",
            "Enter your authorization code:\n",
            "··········\n",
            "Mounted at /content/drive\n"
          ],
          "name": "stdout"
        }
      ]
    },
    {
      "cell_type": "code",
      "metadata": {
        "id": "lE1EER0-iadD",
        "colab_type": "code",
        "colab": {}
      },
      "source": [
        "import numpy as np\n",
        "import pandas as pd\n",
        "from sklearn.model_selection import train_test_split"
      ],
      "execution_count": 0,
      "outputs": []
    },
    {
      "cell_type": "code",
      "metadata": {
        "id": "rILVqkm1wF3i",
        "colab_type": "code",
        "colab": {}
      },
      "source": [
        "# Models\n",
        "from keras.models import Sequential, load_model, Model\n",
        "from keras.layers import Dense, Conv2D, Flatten, MaxPooling2D, BatchNormalization, Activation, Dropout\n",
        "from keras.losses import categorical_crossentropy\n",
        "from keras.optimizers import Adam\n",
        "from keras.preprocessing.image import ImageDataGenerator\n",
        "from keras import Model\n",
        "from keras.callbacks import ModelCheckpoint\n",
        "\n",
        "# Data preparation\n",
        "from sklearn.preprocessing import OneHotEncoder\n",
        "from sklearn.model_selection import train_test_split\n",
        "from sklearn.decomposition import PCA\n",
        "\n",
        "# Plotting and display\n",
        "from IPython.display import display\n",
        "from matplotlib import pyplot as plt\n",
        "\n",
        "np.random.seed(0)"
      ],
      "execution_count": 0,
      "outputs": []
    },
    {
      "cell_type": "markdown",
      "metadata": {
        "id": "051qOH61FvSa",
        "colab_type": "text"
      },
      "source": [
        "# arabic digits"
      ]
    },
    {
      "cell_type": "markdown",
      "metadata": {
        "id": "LE1VrdKeiTwV",
        "colab_type": "text"
      },
      "source": [
        "## load dataset"
      ]
    },
    {
      "cell_type": "code",
      "metadata": {
        "id": "f7UAhbeyibeN",
        "colab_type": "code",
        "outputId": "bb79051c-6bfa-4ec2-d8f7-10a04a12edf8",
        "colab": {
          "base_uri": "https://localhost:8080/",
          "height": 51
        }
      },
      "source": [
        "train = pd.read_csv('/content/drive/My Drive/Digit Recognizer/train.csv')\n",
        "# since the test.csv set has no labels, we won't be using it\n",
        "# we will just split the test set out from the train set \n",
        "print(train.shape)\n",
        "print(train.iloc[:,0].unique())"
      ],
      "execution_count": 5,
      "outputs": [
        {
          "output_type": "stream",
          "text": [
            "(42000, 785)\n",
            "[1 0 4 7 3 5 8 9 2 6]\n"
          ],
          "name": "stdout"
        }
      ]
    },
    {
      "cell_type": "code",
      "metadata": {
        "id": "oh2UAvZvzSnt",
        "colab_type": "code",
        "colab": {}
      },
      "source": [
        "# Scale the image pixel values from 0-255 to 0-1 range so the neural net can converge faster\n",
        "train.iloc[:, 1:] = train.iloc[:, 1:] / 255"
      ],
      "execution_count": 0,
      "outputs": []
    },
    {
      "cell_type": "code",
      "metadata": {
        "id": "66CqnDeJsbMf",
        "colab_type": "code",
        "colab": {}
      },
      "source": [
        "train, test = train_test_split(train, test_size=0.25)"
      ],
      "execution_count": 0,
      "outputs": []
    },
    {
      "cell_type": "code",
      "metadata": {
        "id": "_X160-0vis1i",
        "colab_type": "code",
        "outputId": "73e786fc-b0e3-41b8-8681-c915799c32d2",
        "colab": {
          "base_uri": "https://localhost:8080/",
          "height": 51
        }
      },
      "source": [
        "print(train.shape)\n",
        "print(test.shape)"
      ],
      "execution_count": 8,
      "outputs": [
        {
          "output_type": "stream",
          "text": [
            "(31500, 785)\n",
            "(10500, 785)\n"
          ],
          "name": "stdout"
        }
      ]
    },
    {
      "cell_type": "code",
      "metadata": {
        "id": "0Dhj21eyjCU-",
        "colab_type": "code",
        "colab": {}
      },
      "source": [
        "# Separate the label from the data\n",
        "train_X = train.iloc[:, 1:].values\n",
        "train_y = train.iloc[:, 0].values.reshape(-1,1)\n",
        "test_X = test.iloc[:, 1:].values\n",
        "test_y = test.iloc[:, 0].values.reshape(-1,1)"
      ],
      "execution_count": 0,
      "outputs": []
    },
    {
      "cell_type": "code",
      "metadata": {
        "id": "x3PyksYFvcw1",
        "colab_type": "code",
        "outputId": "1882acd6-4938-4a68-88a8-14751e406081",
        "colab": {
          "base_uri": "https://localhost:8080/",
          "height": 85
        }
      },
      "source": [
        "print(train_X.shape)\n",
        "print(train_y.shape)\n",
        "print(test_X.shape)\n",
        "print(test_y.shape)"
      ],
      "execution_count": 10,
      "outputs": [
        {
          "output_type": "stream",
          "text": [
            "(31500, 784)\n",
            "(31500, 1)\n",
            "(10500, 784)\n",
            "(10500, 1)\n"
          ],
          "name": "stdout"
        }
      ]
    },
    {
      "cell_type": "code",
      "metadata": {
        "id": "W_bEadX9vgv_",
        "colab_type": "code",
        "colab": {}
      },
      "source": [
        "# function to One-hot encode the categorical values\n",
        "def one_hot_encode_categories(y):\n",
        "    \n",
        "    encoder = OneHotEncoder(handle_unknown='ignore', sparse=False)\n",
        "\n",
        "    y_one_hot = pd.DataFrame(encoder.fit_transform(y), columns=encoder.get_feature_names())\n",
        "        \n",
        "    return y_one_hot, encoder"
      ],
      "execution_count": 0,
      "outputs": []
    },
    {
      "cell_type": "code",
      "metadata": {
        "id": "gvCL9gTgwOQ9",
        "colab_type": "code",
        "outputId": "3ef2c1ca-b26a-4907-be07-d43f8b8c2382",
        "colab": {
          "base_uri": "https://localhost:8080/",
          "height": 238
        }
      },
      "source": [
        "# One hot encode y\n",
        "train_y_onehot, encoder = one_hot_encode_categories(train_y)\n",
        "train_y_onehot.columns = pd.DataFrame(train_y_onehot.columns)[0].apply(lambda x: x[-1])\n",
        "\n",
        "test_y_onehot, encoder = one_hot_encode_categories(test_y)\n",
        "test_y_onehot.columns = pd.DataFrame(test_y_onehot.columns)[0].apply(lambda x: x[-1])\n",
        "\n",
        "print(train_y_onehot.head())\n",
        "print(70*'*')\n",
        "print(test_y_onehot.head())"
      ],
      "execution_count": 12,
      "outputs": [
        {
          "output_type": "stream",
          "text": [
            "0    0    1    2    3    4    5    6    7    8    9\n",
            "0  0.0  1.0  0.0  0.0  0.0  0.0  0.0  0.0  0.0  0.0\n",
            "1  0.0  0.0  0.0  0.0  0.0  0.0  0.0  0.0  1.0  0.0\n",
            "2  0.0  0.0  0.0  0.0  0.0  0.0  0.0  0.0  0.0  1.0\n",
            "3  0.0  0.0  0.0  0.0  0.0  0.0  0.0  1.0  0.0  0.0\n",
            "4  0.0  0.0  1.0  0.0  0.0  0.0  0.0  0.0  0.0  0.0\n",
            "**********************************************************************\n",
            "0    0    1    2    3    4    5    6    7    8    9\n",
            "0  0.0  0.0  0.0  1.0  0.0  0.0  0.0  0.0  0.0  0.0\n",
            "1  0.0  0.0  0.0  0.0  0.0  0.0  1.0  0.0  0.0  0.0\n",
            "2  0.0  0.0  0.0  0.0  0.0  0.0  0.0  0.0  0.0  1.0\n",
            "3  0.0  0.0  0.0  0.0  0.0  1.0  0.0  0.0  0.0  0.0\n",
            "4  0.0  0.0  0.0  0.0  0.0  0.0  1.0  0.0  0.0  0.0\n"
          ],
          "name": "stdout"
        }
      ]
    },
    {
      "cell_type": "markdown",
      "metadata": {
        "id": "343s3vRfkd1L",
        "colab_type": "text"
      },
      "source": [
        "## display digits"
      ]
    },
    {
      "cell_type": "code",
      "metadata": {
        "id": "qUJ0k5XmxzAd",
        "colab_type": "code",
        "colab": {}
      },
      "source": [
        "# reshape the train digits into 28x28 entries\n",
        "# so we can plot those pixels\n",
        "train_X_reshaped = train_X.reshape(-1,28,28)"
      ],
      "execution_count": 0,
      "outputs": []
    },
    {
      "cell_type": "code",
      "metadata": {
        "id": "l9gth_87x4Oe",
        "colab_type": "code",
        "outputId": "5fa65741-b51b-4101-98c2-8f898bbcffe0",
        "colab": {
          "base_uri": "https://localhost:8080/",
          "height": 134
        }
      },
      "source": [
        "def plot_sample_images(X, y, images_to_show=10, random=True):\n",
        "\n",
        "    fig = plt.figure(1)\n",
        "\n",
        "    images_to_show = min(X.shape[0], images_to_show)\n",
        "\n",
        "    # Set the canvas based on the numer of images\n",
        "    fig.set_size_inches(18.5, images_to_show * 0.3)\n",
        "\n",
        "    # Generate random integers (non repeating)\n",
        "    if random == True:\n",
        "        idx = np.random.choice(range(X.shape[0]), images_to_show, replace=False)\n",
        "    else:\n",
        "        idx = np.arange(images_to_show)\n",
        "        \n",
        "    # Print the images with labels\n",
        "    for i in range(images_to_show):\n",
        "        plt.subplot(images_to_show/10 + 1, 10, i+1)\n",
        "        plt.title(str(y[idx[i]]))\n",
        "        plt.imshow(X[idx[i], :, :], cmap='Greys')\n",
        "\n",
        "\n",
        "plot_sample_images(train_X_reshaped, train_y)"
      ],
      "execution_count": 14,
      "outputs": [
        {
          "output_type": "display_data",
          "data": {
            "image/png": "[encoded data removed]",
            "text/plain": [
              "<Figure size 1332x216 with 10 Axes>"
            ]
          },
          "metadata": {
            "tags": [],
            "needs_background": "light"
          }
        }
      ]
    },
    {
      "cell_type": "code",
      "metadata": {
        "id": "bMOUGS4ax5To",
        "colab_type": "code",
        "colab": {}
      },
      "source": [
        ""
      ],
      "execution_count": 0,
      "outputs": []
    },
    {
      "cell_type": "markdown",
      "metadata": {
        "id": "sJSf7AQ8z9k1",
        "colab_type": "text"
      },
      "source": [
        "## simple CNN model"
      ]
    },
    {
      "cell_type": "markdown",
      "metadata": {
        "id": "yc-ssTy5E1Vu",
        "colab_type": "text"
      },
      "source": [
        "look into code to graphically represent a NN"
      ]
    },
    {
      "cell_type": "code",
      "metadata": {
        "id": "NRObrq8Nz_Ys",
        "colab_type": "code",
        "colab": {}
      },
      "source": [
        "def model_definition():\n",
        "    # Define a simple model in Keras\n",
        "    model = Sequential()\n",
        "\n",
        "    # Add layers to the model\n",
        "\n",
        "    # Add convolutional layer\n",
        "    model.add(Conv2D(50, kernel_size=(5,5), input_shape=(28,28,1)))\n",
        "\n",
        "    # Add ReLu activation function\n",
        "    model.add(Activation('relu'))\n",
        "\n",
        "    # Add dropout layer for generalization\n",
        "    model.add(Dropout(0.05))\n",
        "\n",
        "    # Add maxpool layer\n",
        "    model.add(MaxPooling2D(pool_size=(2, 2), strides=None, padding='valid', data_format=None))\n",
        "\n",
        "    # Add batch normalization to help learning and avoid vanishing or exploding gradient\n",
        "    model.add(BatchNormalization())\n",
        "\n",
        "    # Add convolutional layer\n",
        "    model.add(Conv2D(50, kernel_size=(3,3)))\n",
        "\n",
        "    # Add ReLu activation function\n",
        "    model.add(Activation('relu'))\n",
        "\n",
        "    # Add dropout layer for generalization\n",
        "    model.add(Dropout(0.05))\n",
        "\n",
        "    # Maxpool layer\n",
        "    model.add(MaxPooling2D(pool_size=(2, 2), strides=None, padding='valid', data_format=None))\n",
        "\n",
        "    # Add batch normalization to help learning and avoid vanishing or exploding gradient\n",
        "    model.add(BatchNormalization())\n",
        "\n",
        "    # Add flatten layer to get 1d data for dense layer\n",
        "    model.add(Flatten())\n",
        "\n",
        "    # Dense layer\n",
        "    model.add(Dense(100, input_dim=650))\n",
        "    \n",
        "    # Add ReLu activation function\n",
        "    model.add(Activation('relu'))\n",
        "\n",
        "    # Dense layer\n",
        "    model.add(Dense(10))\n",
        "    \n",
        "    # Add sigmoid activation function to get values beteween 0-1\n",
        "    model.add(Activation('softmax'))\n",
        "    \n",
        "    return model"
      ],
      "execution_count": 0,
      "outputs": []
    },
    {
      "cell_type": "code",
      "metadata": {
        "id": "zNggM32s0OLe",
        "colab_type": "code",
        "colab": {}
      },
      "source": [
        "model = model_definition()"
      ],
      "execution_count": 0,
      "outputs": []
    },
    {
      "cell_type": "code",
      "metadata": {
        "id": "YU-AGx-90V3e",
        "colab_type": "code",
        "colab": {}
      },
      "source": [
        "# Compile the model\n",
        "model.compile(loss=categorical_crossentropy, \n",
        "              optimizer=Adam(lr=0.0005), \n",
        "              metrics=[\"categorical_accuracy\"])"
      ],
      "execution_count": 0,
      "outputs": []
    },
    {
      "cell_type": "code",
      "metadata": {
        "id": "28n1dugr0j42",
        "colab_type": "code",
        "outputId": "c3dba5df-8384-4c93-8cc6-a4ae9120dc58",
        "colab": {
          "base_uri": "https://localhost:8080/",
          "height": 663
        }
      },
      "source": [
        "# Let's see the model configuration\n",
        "model.summary()"
      ],
      "execution_count": 18,
      "outputs": [
        {
          "output_type": "stream",
          "text": [
            "Model: \"sequential_1\"\n",
            "_________________________________________________________________\n",
            "Layer (type)                 Output Shape              Param #   \n",
            "=================================================================\n",
            "conv2d_1 (Conv2D)            (None, 24, 24, 50)        1300      \n",
            "_________________________________________________________________\n",
            "activation_1 (Activation)    (None, 24, 24, 50)        0         \n",
            "_________________________________________________________________\n",
            "dropout_1 (Dropout)          (None, 24, 24, 50)        0         \n",
            "_________________________________________________________________\n",
            "max_pooling2d_1 (MaxPooling2 (None, 12, 12, 50)        0         \n",
            "_________________________________________________________________\n",
            "batch_normalization_1 (Batch (None, 12, 12, 50)        200       \n",
            "_________________________________________________________________\n",
            "conv2d_2 (Conv2D)            (None, 10, 10, 50)        22550     \n",
            "_________________________________________________________________\n",
            "activation_2 (Activation)    (None, 10, 10, 50)        0         \n",
            "_________________________________________________________________\n",
            "dropout_2 (Dropout)          (None, 10, 10, 50)        0         \n",
            "_________________________________________________________________\n",
            "max_pooling2d_2 (MaxPooling2 (None, 5, 5, 50)          0         \n",
            "_________________________________________________________________\n",
            "batch_normalization_2 (Batch (None, 5, 5, 50)          200       \n",
            "_________________________________________________________________\n",
            "flatten_1 (Flatten)          (None, 1250)              0         \n",
            "_________________________________________________________________\n",
            "dense_1 (Dense)              (None, 100)               125100    \n",
            "_________________________________________________________________\n",
            "activation_3 (Activation)    (None, 100)               0         \n",
            "_________________________________________________________________\n",
            "dense_2 (Dense)              (None, 10)                1010      \n",
            "_________________________________________________________________\n",
            "activation_4 (Activation)    (None, 10)                0         \n",
            "=================================================================\n",
            "Total params: 150,360\n",
            "Trainable params: 150,160\n",
            "Non-trainable params: 200\n",
            "_________________________________________________________________\n"
          ],
          "name": "stdout"
        }
      ]
    },
    {
      "cell_type": "code",
      "metadata": {
        "id": "CYJ3NOCd01f-",
        "colab_type": "code",
        "colab": {}
      },
      "source": [
        "# reshape data for model input\n",
        "train_X_reshaped = train_X.reshape(-1,28,28,1)\n",
        "test_X_reshaped = test_X.reshape(-1,28,28,1)"
      ],
      "execution_count": 0,
      "outputs": []
    },
    {
      "cell_type": "markdown",
      "metadata": {
        "id": "MNKU5tlRFMxi",
        "colab_type": "text"
      },
      "source": [
        ""
      ]
    },
    {
      "cell_type": "code",
      "metadata": {
        "id": "eju1U37G1Kvi",
        "colab_type": "code",
        "outputId": "e12195a3-09ed-4602-9e2d-53abc8065f48",
        "colab": {
          "base_uri": "https://localhost:8080/",
          "height": 85
        }
      },
      "source": [
        "print(\"The train image shape: {}\".format(train_X_reshaped.shape))\n",
        "print(\"The train label shape: {}\".format(train_y_onehot.shape))\n",
        "print(\"The test label shape: {}\".format(test_X_reshaped.shape))\n",
        "print(\"The test label shape: {}\".format(test_y_onehot.shape))"
      ],
      "execution_count": 20,
      "outputs": [
        {
          "output_type": "stream",
          "text": [
            "The train image shape: (31500, 28, 28, 1)\n",
            "The train label shape: (31500, 10)\n",
            "The test label shape: (10500, 28, 28, 1)\n",
            "The test label shape: (10500, 10)\n"
          ],
          "name": "stdout"
        }
      ]
    },
    {
      "cell_type": "markdown",
      "metadata": {
        "id": "-RnM1t8N1R6l",
        "colab_type": "text"
      },
      "source": [
        "## Image Augmentation"
      ]
    },
    {
      "cell_type": "markdown",
      "metadata": {
        "id": "vuN1HStk1aQX",
        "colab_type": "text"
      },
      "source": [
        "Augmentation means creating additional images from the already existing by rotating, mirroring, shearing, blabla the original ones. It is kind of awesome, so check it out later, and hide it in your back pocket in case you will need it. :)"
      ]
    },
    {
      "cell_type": "markdown",
      "metadata": {
        "id": "cigbjdMC1k1K",
        "colab_type": "text"
      },
      "source": [
        "## model training"
      ]
    },
    {
      "cell_type": "markdown",
      "metadata": {
        "id": "Pa9VaaU8ObDg",
        "colab_type": "text"
      },
      "source": [
        "First, setup checkpoints where each time the model sees something that is better than all it has seen before it saves the entire model (weights + sturcture)) and write over existing saved model when a better model is seen. API see [here](https://www.tensorflow.org/api_docs/python/tf/keras/callbacks/ModelCheckpoint). If you want to just save the weights, see [here](https://machinelearningmastery.com/check-point-deep-learning-models-keras/)."
      ]
    },
    {
      "cell_type": "code",
      "metadata": {
        "id": "7zJklL90OiP6",
        "colab_type": "code",
        "colab": {}
      },
      "source": [
        "# checkpoint\n",
        "filepath=\"/content/drive/My Drive/Digit Recognizer/arabic.model.best.h5\"\n",
        "checkpoint = ModelCheckpoint(filepath, \n",
        "                             monitor='val_categorical_accuracy', # this must be the same string as a metric from your model training\n",
        "                             verbose=1, \n",
        "                             save_best_only=True, \n",
        "                             mode='max',\n",
        "                             save_weights_only=False)\n",
        "callbacks_list = [checkpoint]"
      ],
      "execution_count": 0,
      "outputs": []
    },
    {
      "cell_type": "code",
      "metadata": {
        "id": "d3jXHHvg10P6",
        "colab_type": "code",
        "outputId": "cf45d00f-be5f-4a66-ede0-f66451163fe6",
        "colab": {
          "base_uri": "https://localhost:8080/",
          "height": 1000
        }
      },
      "source": [
        "# Let's train the model and also save the best model weights so we can use them later\n",
        "history = model.fit(train_X_reshaped, train_y_onehot,\n",
        "                    batch_size=30,\n",
        "                    validation_data=(test_X_reshaped, test_y_onehot),\n",
        "                    epochs=20,\n",
        "                    callbacks = callbacks_list)"
      ],
      "execution_count": 27,
      "outputs": [
        {
          "output_type": "stream",
          "text": [
            "Train on 31500 samples, validate on 10500 samples\n",
            "Epoch 1/20\n",
            "31500/31500 [==============================] - 55s 2ms/step - loss: 0.0348 - categorical_accuracy: 0.9884 - val_loss: 0.0614 - val_categorical_accuracy: 0.9820\n",
            "\n",
            "Epoch 00001: val_categorical_accuracy improved from -inf to 0.98200, saving model to /content/drive/My Drive/Digit Recognizer/arabic.model.best.h5\n",
            "Epoch 2/20\n",
            "31500/31500 [==============================] - 55s 2ms/step - loss: 0.0238 - categorical_accuracy: 0.9926 - val_loss: 0.0459 - val_categorical_accuracy: 0.9862\n",
            "\n",
            "Epoch 00002: val_categorical_accuracy improved from 0.98200 to 0.98619, saving model to /content/drive/My Drive/Digit Recognizer/arabic.model.best.h5\n",
            "Epoch 3/20\n",
            "31500/31500 [==============================] - 56s 2ms/step - loss: 0.0199 - categorical_accuracy: 0.9930 - val_loss: 0.0482 - val_categorical_accuracy: 0.9870\n",
            "\n",
            "Epoch 00003: val_categorical_accuracy improved from 0.98619 to 0.98695, saving model to /content/drive/My Drive/Digit Recognizer/arabic.model.best.h5\n",
            "Epoch 4/20\n",
            "31500/31500 [==============================] - 55s 2ms/step - loss: 0.0159 - categorical_accuracy: 0.9949 - val_loss: 0.0507 - val_categorical_accuracy: 0.9868\n",
            "\n",
            "Epoch 00004: val_categorical_accuracy did not improve from 0.98695\n",
            "Epoch 5/20\n",
            "31500/31500 [==============================] - 55s 2ms/step - loss: 0.0128 - categorical_accuracy: 0.9958 - val_loss: 0.0431 - val_categorical_accuracy: 0.9879\n",
            "\n",
            "Epoch 00005: val_categorical_accuracy improved from 0.98695 to 0.98790, saving model to /content/drive/My Drive/Digit Recognizer/arabic.model.best.h5\n",
            "Epoch 6/20\n",
            "31500/31500 [==============================] - 55s 2ms/step - loss: 0.0096 - categorical_accuracy: 0.9969 - val_loss: 0.0506 - val_categorical_accuracy: 0.9871\n",
            "\n",
            "Epoch 00006: val_categorical_accuracy did not improve from 0.98790\n",
            "Epoch 7/20\n",
            "31500/31500 [==============================] - 55s 2ms/step - loss: 0.0096 - categorical_accuracy: 0.9972 - val_loss: 0.0479 - val_categorical_accuracy: 0.9879\n",
            "\n",
            "Epoch 00007: val_categorical_accuracy did not improve from 0.98790\n",
            "Epoch 8/20\n",
            "31500/31500 [==============================] - 55s 2ms/step - loss: 0.0097 - categorical_accuracy: 0.9968 - val_loss: 0.0520 - val_categorical_accuracy: 0.9883\n",
            "\n",
            "Epoch 00008: val_categorical_accuracy improved from 0.98790 to 0.98829, saving model to /content/drive/My Drive/Digit Recognizer/arabic.model.best.h5\n",
            "Epoch 9/20\n",
            "31500/31500 [==============================] - 55s 2ms/step - loss: 0.0053 - categorical_accuracy: 0.9980 - val_loss: 0.0603 - val_categorical_accuracy: 0.9877\n",
            "\n",
            "Epoch 00009: val_categorical_accuracy did not improve from 0.98829\n",
            "Epoch 10/20\n",
            "31500/31500 [==============================] - 55s 2ms/step - loss: 0.0089 - categorical_accuracy: 0.9975 - val_loss: 0.0590 - val_categorical_accuracy: 0.9871\n",
            "\n",
            "Epoch 00010: val_categorical_accuracy did not improve from 0.98829\n",
            "Epoch 11/20\n",
            "31500/31500 [==============================] - 55s 2ms/step - loss: 0.0054 - categorical_accuracy: 0.9980 - val_loss: 0.0644 - val_categorical_accuracy: 0.9884\n",
            "\n",
            "Epoch 00011: val_categorical_accuracy improved from 0.98829 to 0.98838, saving model to /content/drive/My Drive/Digit Recognizer/arabic.model.best.h5\n",
            "Epoch 12/20\n",
            "31500/31500 [==============================] - 55s 2ms/step - loss: 0.0068 - categorical_accuracy: 0.9979 - val_loss: 0.0480 - val_categorical_accuracy: 0.9900\n",
            "\n",
            "Epoch 00012: val_categorical_accuracy improved from 0.98838 to 0.99000, saving model to /content/drive/My Drive/Digit Recognizer/arabic.model.best.h5\n",
            "Epoch 13/20\n",
            "31500/31500 [==============================] - 55s 2ms/step - loss: 0.0053 - categorical_accuracy: 0.9981 - val_loss: 0.0545 - val_categorical_accuracy: 0.9887\n",
            "\n",
            "Epoch 00013: val_categorical_accuracy did not improve from 0.99000\n",
            "Epoch 14/20\n",
            "31500/31500 [==============================] - 55s 2ms/step - loss: 0.0048 - categorical_accuracy: 0.9984 - val_loss: 0.0461 - val_categorical_accuracy: 0.9914\n",
            "\n",
            "Epoch 00014: val_categorical_accuracy improved from 0.99000 to 0.99143, saving model to /content/drive/My Drive/Digit Recognizer/arabic.model.best.h5\n",
            "Epoch 15/20\n",
            "31500/31500 [==============================] - 55s 2ms/step - loss: 0.0035 - categorical_accuracy: 0.9990 - val_loss: 0.0789 - val_categorical_accuracy: 0.9863\n",
            "\n",
            "Epoch 00015: val_categorical_accuracy did not improve from 0.99143\n",
            "Epoch 16/20\n",
            "31500/31500 [==============================] - 55s 2ms/step - loss: 0.0074 - categorical_accuracy: 0.9977 - val_loss: 0.0511 - val_categorical_accuracy: 0.9888\n",
            "\n",
            "Epoch 00016: val_categorical_accuracy did not improve from 0.99143\n",
            "Epoch 17/20\n",
            "31500/31500 [==============================] - 55s 2ms/step - loss: 0.0022 - categorical_accuracy: 0.9994 - val_loss: 0.0431 - val_categorical_accuracy: 0.9908\n",
            "\n",
            "Epoch 00017: val_categorical_accuracy did not improve from 0.99143\n",
            "Epoch 18/20\n",
            "31500/31500 [==============================] - 55s 2ms/step - loss: 0.0036 - categorical_accuracy: 0.9989 - val_loss: 0.0633 - val_categorical_accuracy: 0.9870\n",
            "\n",
            "Epoch 00018: val_categorical_accuracy did not improve from 0.99143\n",
            "Epoch 19/20\n",
            "31500/31500 [==============================] - 55s 2ms/step - loss: 0.0059 - categorical_accuracy: 0.9979 - val_loss: 0.0519 - val_categorical_accuracy: 0.9907\n",
            "\n",
            "Epoch 00019: val_categorical_accuracy did not improve from 0.99143\n",
            "Epoch 20/20\n",
            "31500/31500 [==============================] - 55s 2ms/step - loss: 0.0045 - categorical_accuracy: 0.9988 - val_loss: 0.0482 - val_categorical_accuracy: 0.9905\n",
            "\n",
            "Epoch 00020: val_categorical_accuracy did not improve from 0.99143\n"
          ],
          "name": "stdout"
        }
      ]
    },
    {
      "cell_type": "code",
      "metadata": {
        "id": "AkXbL57j7FXn",
        "colab_type": "code",
        "outputId": "b1dd8bdb-40a1-4496-fb90-8bea5630ab92",
        "colab": {
          "base_uri": "https://localhost:8080/",
          "height": 34
        }
      },
      "source": [
        "# evaluate the model\n",
        "scores = model.evaluate(test_X_reshaped, test_y_onehot, verbose=0)\n",
        "print(\"validation %s: %.2f%%\" % (model.metrics_names[1], scores[1]*100))"
      ],
      "execution_count": 28,
      "outputs": [
        {
          "output_type": "stream",
          "text": [
            "validation categorical_accuracy: 99.05%\n"
          ],
          "name": "stdout"
        }
      ]
    },
    {
      "cell_type": "code",
      "metadata": {
        "id": "vmoQQ_H025p4",
        "colab_type": "code",
        "colab": {}
      },
      "source": [
        "# model.save(\"/content/drive/My Drive/Digit Recognizer/best_model.h5\")"
      ],
      "execution_count": 0,
      "outputs": []
    },
    {
      "cell_type": "code",
      "metadata": {
        "id": "UNhEDsXE7i_g",
        "colab_type": "code",
        "colab": {}
      },
      "source": [
        "# if need to load later, use\n",
        "# model = load_model(\"/content/drive/My Drive/Digit Recognizer/best_model.h5\")"
      ],
      "execution_count": 0,
      "outputs": []
    },
    {
      "cell_type": "code",
      "metadata": {
        "id": "YBMark0R3Tnp",
        "colab_type": "code",
        "colab": {}
      },
      "source": [
        "model.get_weights()"
      ],
      "execution_count": 0,
      "outputs": []
    },
    {
      "cell_type": "code",
      "metadata": {
        "id": "8zhcTne_8CNl",
        "colab_type": "code",
        "outputId": "5cdcafa7-7687-4727-d03f-06d99a2c3b54",
        "colab": {
          "base_uri": "https://localhost:8080/",
          "height": 34
        }
      },
      "source": [
        "model.get_layer(index=14)"
      ],
      "execution_count": 30,
      "outputs": [
        {
          "output_type": "execute_result",
          "data": {
            "text/plain": [
              "<keras.layers.core.Activation at 0x7fbf78260be0>"
            ]
          },
          "metadata": {
            "tags": []
          },
          "execution_count": 30
        }
      ]
    },
    {
      "cell_type": "code",
      "metadata": {
        "id": "cRumQEUEAYsD",
        "colab_type": "code",
        "colab": {}
      },
      "source": [
        "pred_y_onehot = model.predict(test_X_reshaped)\n",
        "# this will return the one-hot encoded version"
      ],
      "execution_count": 0,
      "outputs": []
    },
    {
      "cell_type": "code",
      "metadata": {
        "id": "6Ulij-SFCuLZ",
        "colab_type": "code",
        "colab": {}
      },
      "source": [
        "# transform back to just output 1 class per instance\n",
        "pred_y = encoder.inverse_transform(pred_y_onehot)[:,0]"
      ],
      "execution_count": 0,
      "outputs": []
    },
    {
      "cell_type": "code",
      "metadata": {
        "id": "JRmMvyDqCvlr",
        "colab_type": "code",
        "outputId": "3e492e77-5948-4154-fc2e-b99d737f4886",
        "colab": {
          "base_uri": "https://localhost:8080/",
          "height": 34
        }
      },
      "source": [
        "np.unique(pred_y)"
      ],
      "execution_count": 33,
      "outputs": [
        {
          "output_type": "execute_result",
          "data": {
            "text/plain": [
              "array([0, 1, 2, 3, 4, 5, 6, 7, 8, 9])"
            ]
          },
          "metadata": {
            "tags": []
          },
          "execution_count": 33
        }
      ]
    },
    {
      "cell_type": "code",
      "metadata": {
        "id": "ACAfNTlXEFC0",
        "colab_type": "code",
        "outputId": "10543274-4ea3-44b5-dc09-6f3d595ef622",
        "colab": {
          "base_uri": "https://localhost:8080/",
          "height": 134
        }
      },
      "source": [
        "# plot hand-written digits in the test set and our prediction\n",
        "plot_sample_images(test_X_reshaped.reshape(-1, 28, 28), pred_y)"
      ],
      "execution_count": 35,
      "outputs": [
        {
          "output_type": "display_data",
          "data": {
            "image/png": "[encoded data removed]",
            "text/plain": [
              "<Figure size 1332x216 with 10 Axes>"
            ]
          },
          "metadata": {
            "tags": [],
            "needs_background": "light"
          }
        }
      ]
    },
    {
      "cell_type": "code",
      "metadata": {
        "id": "GFCPfgYGEivX",
        "colab_type": "code",
        "colab": {}
      },
      "source": [
        ""
      ],
      "execution_count": 0,
      "outputs": []
    },
    {
      "cell_type": "markdown",
      "metadata": {
        "colab_type": "text",
        "id": "GL28bSiPHv9J"
      },
      "source": [
        "# Tengwar digits"
      ]
    },
    {
      "cell_type": "code",
      "metadata": {
        "id": "h4o3jv8fqy2F",
        "colab_type": "code",
        "colab": {}
      },
      "source": [
        ""
      ],
      "execution_count": 0,
      "outputs": []
    },
    {
      "cell_type": "markdown",
      "metadata": {
        "colab_type": "text",
        "id": "OZiswKgbHv9L"
      },
      "source": [
        "## load dataset"
      ]
    },
    {
      "cell_type": "code",
      "metadata": {
        "colab_type": "code",
        "outputId": "819996d6-5d44-45ea-d4ab-f33b5fd1b2a8",
        "id": "_6_13ThoHv9L",
        "colab": {
          "base_uri": "https://localhost:8080/",
          "height": 51
        }
      },
      "source": [
        "train = pd.read_csv('/content/drive/My Drive/Digit Recognizer/tengwar_data.csv')\n",
        "# since the test set has no labels, we won't be using it\n",
        "# we will just split the test set out from the train set \n",
        "print(train.shape)\n",
        "print(train.iloc[:,0].unique())"
      ],
      "execution_count": 36,
      "outputs": [
        {
          "output_type": "stream",
          "text": [
            "(308, 4097)\n",
            "[ 0.  1.  2.  3.  4.  5.  6.  7.  8.  9. 10. 11.]\n"
          ],
          "name": "stdout"
        }
      ]
    },
    {
      "cell_type": "code",
      "metadata": {
        "id": "0e6EML0mO1Ks",
        "colab_type": "code",
        "outputId": "e175cc01-b2b6-4c35-c9a5-a72f75add4f3",
        "colab": {
          "base_uri": "https://localhost:8080/",
          "height": 34
        }
      },
      "source": [
        "# convert the labels from float to integer\n",
        "train.iloc[:,0] = train.iloc[:,0].apply(lambda x: int(x))\n",
        "print(train.iloc[:,0].unique())"
      ],
      "execution_count": 37,
      "outputs": [
        {
          "output_type": "stream",
          "text": [
            "[ 0  1  2  3  4  5  6  7  8  9 10 11]\n"
          ],
          "name": "stdout"
        }
      ]
    },
    {
      "cell_type": "code",
      "metadata": {
        "colab_type": "code",
        "id": "SxudCWEoHv9P",
        "colab": {}
      },
      "source": [
        "# Scale the image pixel values from 0-255 to 0-1 range so the neural net can to converge faster\n",
        "train.iloc[:, 1:] = train.iloc[:, 1:] / 255"
      ],
      "execution_count": 0,
      "outputs": []
    },
    {
      "cell_type": "code",
      "metadata": {
        "colab_type": "code",
        "id": "OeZSy3ifHv9R",
        "colab": {}
      },
      "source": [
        "train, test = train_test_split(train, test_size=0.25)"
      ],
      "execution_count": 0,
      "outputs": []
    },
    {
      "cell_type": "code",
      "metadata": {
        "colab_type": "code",
        "outputId": "2f373668-0710-4c05-81b8-026441addbc3",
        "id": "2fbLB8k2Hv9T",
        "colab": {
          "base_uri": "https://localhost:8080/",
          "height": 51
        }
      },
      "source": [
        "print(train.shape)\n",
        "print(test.shape)"
      ],
      "execution_count": 40,
      "outputs": [
        {
          "output_type": "stream",
          "text": [
            "(231, 4097)\n",
            "(77, 4097)\n"
          ],
          "name": "stdout"
        }
      ]
    },
    {
      "cell_type": "code",
      "metadata": {
        "colab_type": "code",
        "id": "LuX-DWi8Hv9X",
        "colab": {}
      },
      "source": [
        "# Separate the label from the data\n",
        "train_X = train.iloc[:, 1:].values\n",
        "train_y = train.iloc[:, 0].values.reshape(-1,1)\n",
        "test_X = test.iloc[:, 1:].values\n",
        "test_y = test.iloc[:, 0].values.reshape(-1,1)"
      ],
      "execution_count": 0,
      "outputs": []
    },
    {
      "cell_type": "code",
      "metadata": {
        "colab_type": "code",
        "outputId": "8753e5a9-12b6-46b7-efcd-043308542258",
        "id": "ReFebFTfHv9Z",
        "colab": {
          "base_uri": "https://localhost:8080/",
          "height": 85
        }
      },
      "source": [
        "print(train_X.shape)\n",
        "print(train_y.shape)\n",
        "print(test_X.shape)\n",
        "print(test_y.shape)"
      ],
      "execution_count": 42,
      "outputs": [
        {
          "output_type": "stream",
          "text": [
            "(231, 4096)\n",
            "(231, 1)\n",
            "(77, 4096)\n",
            "(77, 1)\n"
          ],
          "name": "stdout"
        }
      ]
    },
    {
      "cell_type": "code",
      "metadata": {
        "colab_type": "code",
        "id": "bL1GukUDHv9b",
        "colab": {}
      },
      "source": [
        "# function to One-hot encode the categorical values\n",
        "def one_hot_encode_categories(y):\n",
        "    \n",
        "    encoder = OneHotEncoder(handle_unknown='ignore', sparse=False)\n",
        "\n",
        "    y_one_hot = pd.DataFrame(encoder.fit_transform(y), columns=encoder.get_feature_names())\n",
        "        \n",
        "    return y_one_hot, encoder"
      ],
      "execution_count": 0,
      "outputs": []
    },
    {
      "cell_type": "code",
      "metadata": {
        "colab_type": "code",
        "outputId": "300d5c2a-e531-4c6c-8d42-a2c791bf472d",
        "id": "JsJszGX3Hv9e",
        "colab": {
          "base_uri": "https://localhost:8080/",
          "height": 238
        }
      },
      "source": [
        "# One hot encode y\n",
        "train_y_onehot, encoder = one_hot_encode_categories(train_y)\n",
        "train_y_onehot.columns = pd.DataFrame(train_y_onehot.columns)[0].apply(lambda x: x[3:])\n",
        "\n",
        "test_y_onehot, encoder = one_hot_encode_categories(test_y)\n",
        "test_y_onehot.columns = pd.DataFrame(test_y_onehot.columns)[0].apply(lambda x: x[3:])\n",
        "\n",
        "print(train_y_onehot.head())\n",
        "print(70*'*')\n",
        "print(test_y_onehot.head())"
      ],
      "execution_count": 44,
      "outputs": [
        {
          "output_type": "stream",
          "text": [
            "0    0    1    2    3    4    5    6    7    8    9   10   11\n",
            "0  0.0  0.0  0.0  0.0  1.0  0.0  0.0  0.0  0.0  0.0  0.0  0.0\n",
            "1  0.0  0.0  0.0  1.0  0.0  0.0  0.0  0.0  0.0  0.0  0.0  0.0\n",
            "2  0.0  0.0  0.0  0.0  0.0  0.0  0.0  1.0  0.0  0.0  0.0  0.0\n",
            "3  0.0  1.0  0.0  0.0  0.0  0.0  0.0  0.0  0.0  0.0  0.0  0.0\n",
            "4  0.0  0.0  0.0  0.0  1.0  0.0  0.0  0.0  0.0  0.0  0.0  0.0\n",
            "**********************************************************************\n",
            "0    0    1    2    3    4    5    6    7    8    9   10   11\n",
            "0  0.0  0.0  0.0  0.0  0.0  0.0  0.0  0.0  0.0  1.0  0.0  0.0\n",
            "1  0.0  0.0  1.0  0.0  0.0  0.0  0.0  0.0  0.0  0.0  0.0  0.0\n",
            "2  0.0  0.0  0.0  0.0  0.0  0.0  0.0  0.0  0.0  1.0  0.0  0.0\n",
            "3  0.0  1.0  0.0  0.0  0.0  0.0  0.0  0.0  0.0  0.0  0.0  0.0\n",
            "4  0.0  0.0  0.0  0.0  0.0  0.0  0.0  1.0  0.0  0.0  0.0  0.0\n"
          ],
          "name": "stdout"
        }
      ]
    },
    {
      "cell_type": "markdown",
      "metadata": {
        "colab_type": "text",
        "id": "iP3KxErRHv9g"
      },
      "source": [
        "## display digits"
      ]
    },
    {
      "cell_type": "code",
      "metadata": {
        "colab_type": "code",
        "id": "aegZsP1EHv9g",
        "colab": {}
      },
      "source": [
        "# reshape the train digits into 64x64 entries\n",
        "# so we can plot those pixels\n",
        "train_X_reshaped = train_X.reshape(-1,64,64)\n",
        "test_X_reshaped = test_X.reshape(-1,64,64)"
      ],
      "execution_count": 0,
      "outputs": []
    },
    {
      "cell_type": "code",
      "metadata": {
        "id": "v-uQvjAYTGyE",
        "colab_type": "code",
        "outputId": "f886e725-f613-4ff8-e993-36d457c8fb36",
        "colab": {
          "base_uri": "https://localhost:8080/",
          "height": 51
        }
      },
      "source": [
        "print(train_X_reshaped.shape)\n",
        "print(test_X_reshaped.shape)"
      ],
      "execution_count": 46,
      "outputs": [
        {
          "output_type": "stream",
          "text": [
            "(231, 64, 64)\n",
            "(77, 64, 64)\n"
          ],
          "name": "stdout"
        }
      ]
    },
    {
      "cell_type": "code",
      "metadata": {
        "colab_type": "code",
        "outputId": "0985623e-f88f-4998-f50b-fa0575c12d03",
        "id": "7OREg84pHv9k",
        "colab": {
          "base_uri": "https://localhost:8080/",
          "height": 389
        }
      },
      "source": [
        "def plot_sample_images(X, y, images_to_show=10, random=True):\n",
        "\n",
        "    fig = plt.figure(1)\n",
        "\n",
        "    images_to_show = min(X.shape[0], images_to_show)\n",
        "\n",
        "    # Set the canvas based on the numer of images\n",
        "    fig.set_size_inches(18.5, images_to_show * 0.3)\n",
        "\n",
        "    # Generate random integers (non repeating)\n",
        "    if random == True:\n",
        "        idx = np.random.choice(range(X.shape[0]), images_to_show, replace=False)\n",
        "    else:\n",
        "        idx = np.arange(images_to_show)\n",
        "        \n",
        "    # Print the images with labels\n",
        "    for i in range(images_to_show):\n",
        "        plt.subplot(images_to_show/10 + 1, 10, i+1)\n",
        "        plt.title(str(y[idx[i]]))\n",
        "        plt.imshow(X[idx[i], :, :], cmap='Greys')\n",
        "\n",
        "\n",
        "plot_sample_images(train_X_reshaped, train_y, images_to_show=30)"
      ],
      "execution_count": 47,
      "outputs": [
        {
          "output_type": "display_data",
          "data": {
            "image/png": "[encoded data removed]",
            "text/plain": [
              "<Figure size 1332x648 with 30 Axes>"
            ]
          },
          "metadata": {
            "tags": [],
            "needs_background": "light"
          }
        }
      ]
    },
    {
      "cell_type": "markdown",
      "metadata": {
        "id": "Awz8Kt4Lfhr6",
        "colab_type": "text"
      },
      "source": [
        "### rescale"
      ]
    },
    {
      "cell_type": "markdown",
      "metadata": {
        "id": "Ov-yWVzkGRJr",
        "colab_type": "text"
      },
      "source": [
        "#### handwritten version"
      ]
    },
    {
      "cell_type": "code",
      "metadata": {
        "id": "X4WzQ-7nPhh9",
        "colab_type": "code",
        "colab": {}
      },
      "source": [
        "# rescale images to be 28x28\n",
        "train_X_rescaled = np.empty((train_X.shape[0], 28,28))\n",
        "\n",
        "for image in range(train_X.shape[0]):\n",
        "  for i in range(8):\n",
        "    for j in range(8):\n",
        "      train_X_rescaled[image][i,j] = sum(sum(train_X_reshaped[image][3*i:3*i+3, 3*j:3*j+3]))/9\n",
        "\n",
        "  for i in range(8):\n",
        "    for j in range(0,20):\n",
        "      train_X_rescaled[image][i,8+j] = sum(sum(train_X_reshaped[image][3*i:3*i+3, 24+2*j:24+2*j+2]))/6\n",
        "\n",
        "  for i in range(0,20):\n",
        "    for j in range(8):\n",
        "      train_X_rescaled[image][8+i,j] = sum(sum(train_X_reshaped[image][24+2*i:24+2*i+2, 3*j:3*j+3]))/6\n",
        "  \n",
        "  for i in range(0,20):\n",
        "    for j in range(0,20):\n",
        "      train_X_rescaled[image][8+i,8+j] = sum(sum(train_X_reshaped[image][24+2*i:24+2*i+2, 24+2*j:24+2*j+2]))/4\n",
        "          "
      ],
      "execution_count": 0,
      "outputs": []
    },
    {
      "cell_type": "code",
      "metadata": {
        "id": "HD81btCldCli",
        "colab_type": "code",
        "outputId": "a4813902-1b6e-4e18-8ced-28aa2b0e627a",
        "colab": {
          "base_uri": "https://localhost:8080/",
          "height": 34
        }
      },
      "source": [
        "train_X_rescaled.shape"
      ],
      "execution_count": 0,
      "outputs": [
        {
          "output_type": "execute_result",
          "data": {
            "text/plain": [
              "(231, 28, 28)"
            ]
          },
          "metadata": {
            "tags": []
          },
          "execution_count": 298
        }
      ]
    },
    {
      "cell_type": "code",
      "metadata": {
        "id": "MEOBFcB7dJiB",
        "colab_type": "code",
        "outputId": "3b3448d4-52c9-46b0-ea94-1e0c06aa84c9",
        "colab": {
          "base_uri": "https://localhost:8080/",
          "height": 389
        }
      },
      "source": [
        "plot_sample_images(train_X_rescaled, train_y, images_to_show=30)"
      ],
      "execution_count": 0,
      "outputs": [
        {
          "output_type": "display_data",
          "data": {
            "image/png": "[encoded data removed]",
            "text/plain": [
              "<Figure size 1332x648 with 30 Axes>"
            ]
          },
          "metadata": {
            "tags": [],
            "needs_background": "light"
          }
        }
      ]
    },
    {
      "cell_type": "code",
      "metadata": {
        "id": "IR_04ERVeodY",
        "colab_type": "code",
        "colab": {}
      },
      "source": [
        "# now that we know this rescaling works, we also rescale our test\n",
        "# rescale images to be 28x28\n",
        "test_X_rescaled = np.empty((test_X.shape[0], 28,28))\n",
        "\n",
        "for image in range(test_X.shape[0]):\n",
        "  for i in range(8):\n",
        "    for j in range(8):\n",
        "      test_X_rescaled[image][i,j] = sum(sum(test_X_reshaped[image][3*i:3*i+3, 3*j:3*j+3]))/9\n",
        "\n",
        "  for i in range(8):\n",
        "    for j in range(0,20):\n",
        "      test_X_rescaled[image][i,8+j] = sum(sum(test_X_reshaped[image][3*i:3*i+3, 24+2*j:24+2*j+2]))/6\n",
        "\n",
        "  for i in range(0,20):\n",
        "    for j in range(8):\n",
        "      test_X_rescaled[image][8+i,j] = sum(sum(test_X_reshaped[image][24+2*i:24+2*i+2, 3*j:3*j+3]))/6\n",
        "  \n",
        "  for i in range(0,20):\n",
        "    for j in range(0,20):\n",
        "      test_X_rescaled[image][8+i,8+j] = sum(sum(test_X_reshaped[image][24+2*i:24+2*i+2, 24+2*j:24+2*j+2]))/4"
      ],
      "execution_count": 0,
      "outputs": []
    },
    {
      "cell_type": "code",
      "metadata": {
        "id": "yOSeX5hFfoGi",
        "colab_type": "code",
        "outputId": "6c915539-677b-4c1f-c75e-68ec8d763955",
        "colab": {
          "base_uri": "https://localhost:8080/",
          "height": 34
        }
      },
      "source": [
        "test_X_rescaled.shape"
      ],
      "execution_count": 0,
      "outputs": [
        {
          "output_type": "execute_result",
          "data": {
            "text/plain": [
              "(77, 28, 28)"
            ]
          },
          "metadata": {
            "tags": []
          },
          "execution_count": 303
        }
      ]
    },
    {
      "cell_type": "markdown",
      "metadata": {
        "id": "5pboTGQDXEIa",
        "colab_type": "text"
      },
      "source": [
        "#### interpolation version"
      ]
    },
    {
      "cell_type": "markdown",
      "metadata": {
        "id": "EU1As8HwXGVD",
        "colab_type": "text"
      },
      "source": [
        "Using [`numpy.interp`](https://numpy.org/devdocs/reference/generated/numpy.interp.html) we can possible get the 784 in-between pixel values from our 4097 pixel values. However, since the pixel were flattened from 2-D, neighboring pixels in this linear representation may not mean neighboring pixels for the actual image (no column-wise locality on record). Since `numpy.interp` can only interpolate linear data, we use [`scipy.interpolate.interp2d`](https://docs.scipy.org/doc/scipy/reference/generated/scipy.interpolate.interp2d.html) instead for interpolation of 2-D data."
      ]
    },
    {
      "cell_type": "code",
      "metadata": {
        "id": "E0XWrISeYdMW",
        "colab_type": "code",
        "colab": {}
      },
      "source": [
        "from scipy.interpolate import interp2d"
      ],
      "execution_count": 0,
      "outputs": []
    },
    {
      "cell_type": "code",
      "metadata": {
        "id": "cBX00_JXX9ql",
        "colab_type": "code",
        "colab": {}
      },
      "source": [
        "# we have to iterpolate and resclae for EACH image\n",
        "train_X_rescaled = np.empty((train_X.shape[0], 28,28))\n",
        "\n",
        "for image in range(train_X.shape[0]):\n",
        "  f = interp2d(x = np.arange(0,64),\n",
        "               y = np.arange(0,64),\n",
        "               z = train_X_reshaped[image])\n",
        "  rescaled_values = f(x = np.arange(0,64,64/28),\n",
        "                      y = np.arange(0,64,64/28))\n",
        "  train_X_rescaled[image] = rescaled_values"
      ],
      "execution_count": 0,
      "outputs": []
    },
    {
      "cell_type": "code",
      "metadata": {
        "colab_type": "code",
        "outputId": "6705d2c0-4408-46f9-878a-d0a46df772c6",
        "id": "QXoeoDTucKzZ",
        "colab": {
          "base_uri": "https://localhost:8080/",
          "height": 34
        }
      },
      "source": [
        "train_X_rescaled.shape"
      ],
      "execution_count": 71,
      "outputs": [
        {
          "output_type": "execute_result",
          "data": {
            "text/plain": [
              "(231, 28, 28)"
            ]
          },
          "metadata": {
            "tags": []
          },
          "execution_count": 71
        }
      ]
    },
    {
      "cell_type": "code",
      "metadata": {
        "colab_type": "code",
        "outputId": "0d6bba10-405e-4659-c209-72bb71ece5a9",
        "id": "ntF1jj3bcKze",
        "colab": {
          "base_uri": "https://localhost:8080/",
          "height": 389
        }
      },
      "source": [
        "plot_sample_images(train_X_rescaled, train_y, images_to_show=30)"
      ],
      "execution_count": 72,
      "outputs": [
        {
          "output_type": "display_data",
          "data": {
            "image/png": "[encoded data removed]",
            "text/plain": [
              "<Figure size 1332x648 with 30 Axes>"
            ]
          },
          "metadata": {
            "tags": [],
            "needs_background": "light"
          }
        }
      ]
    },
    {
      "cell_type": "code",
      "metadata": {
        "id": "HszYSYYecMc6",
        "colab_type": "code",
        "colab": {}
      },
      "source": [
        "# again, rescale the test set also\n",
        "# we have to iterpolate and resclae for EACH image\n",
        "test_X_rescaled = np.empty((test_X.shape[0], 28,28))\n",
        "\n",
        "for image in range(test_X.shape[0]):\n",
        "  f = interp2d(x = np.arange(0,64),\n",
        "               y = np.arange(0,64),\n",
        "               z = test_X_reshaped[image])\n",
        "  rescaled_values = f(x = np.arange(0,64,64/28),\n",
        "                      y = np.arange(0,64,64/28))\n",
        "  test_X_rescaled[image] = rescaled_values"
      ],
      "execution_count": 0,
      "outputs": []
    },
    {
      "cell_type": "code",
      "metadata": {
        "id": "Lr33iotAcY-Y",
        "colab_type": "code",
        "colab": {
          "base_uri": "https://localhost:8080/",
          "height": 34
        },
        "outputId": "f86cfbca-d740-4b90-c77a-f677c10157c2"
      },
      "source": [
        "test_X_rescaled.shape"
      ],
      "execution_count": 75,
      "outputs": [
        {
          "output_type": "execute_result",
          "data": {
            "text/plain": [
              "(77, 28, 28)"
            ]
          },
          "metadata": {
            "tags": []
          },
          "execution_count": 75
        }
      ]
    },
    {
      "cell_type": "markdown",
      "metadata": {
        "colab_type": "text",
        "id": "sFVwP8gfHv9q"
      },
      "source": [
        "## load pre-trained model"
      ]
    },
    {
      "cell_type": "code",
      "metadata": {
        "colab_type": "code",
        "id": "83FXxBFVHv9s",
        "colab": {}
      },
      "source": [
        "base_model = load_model('/content/drive/My Drive/Digit Recognizer/arabic.model.best.h5')"
      ],
      "execution_count": 0,
      "outputs": []
    },
    {
      "cell_type": "code",
      "metadata": {
        "id": "lRV84FfqeTQt",
        "colab_type": "code",
        "outputId": "3ce66d99-3a34-4318-98d2-333d93990b8f",
        "colab": {
          "base_uri": "https://localhost:8080/",
          "height": 663
        }
      },
      "source": [
        "base_model.summary()\n",
        "# this will be the same model structure as our model above"
      ],
      "execution_count": 116,
      "outputs": [
        {
          "output_type": "stream",
          "text": [
            "Model: \"sequential_1\"\n",
            "_________________________________________________________________\n",
            "Layer (type)                 Output Shape              Param #   \n",
            "=================================================================\n",
            "conv2d_1 (Conv2D)            (None, 24, 24, 50)        1300      \n",
            "_________________________________________________________________\n",
            "activation_1 (Activation)    (None, 24, 24, 50)        0         \n",
            "_________________________________________________________________\n",
            "dropout_1 (Dropout)          (None, 24, 24, 50)        0         \n",
            "_________________________________________________________________\n",
            "max_pooling2d_1 (MaxPooling2 (None, 12, 12, 50)        0         \n",
            "_________________________________________________________________\n",
            "batch_normalization_1 (Batch (None, 12, 12, 50)        200       \n",
            "_________________________________________________________________\n",
            "conv2d_2 (Conv2D)            (None, 10, 10, 50)        22550     \n",
            "_________________________________________________________________\n",
            "activation_2 (Activation)    (None, 10, 10, 50)        0         \n",
            "_________________________________________________________________\n",
            "dropout_2 (Dropout)          (None, 10, 10, 50)        0         \n",
            "_________________________________________________________________\n",
            "max_pooling2d_2 (MaxPooling2 (None, 5, 5, 50)          0         \n",
            "_________________________________________________________________\n",
            "batch_normalization_2 (Batch (None, 5, 5, 50)          200       \n",
            "_________________________________________________________________\n",
            "flatten_1 (Flatten)          (None, 1250)              0         \n",
            "_________________________________________________________________\n",
            "dense_1 (Dense)              (None, 100)               125100    \n",
            "_________________________________________________________________\n",
            "activation_3 (Activation)    (None, 100)               0         \n",
            "_________________________________________________________________\n",
            "dense_2 (Dense)              (None, 10)                1010      \n",
            "_________________________________________________________________\n",
            "activation_4 (Activation)    (None, 10)                0         \n",
            "=================================================================\n",
            "Total params: 150,360\n",
            "Trainable params: 150,160\n",
            "Non-trainable params: 200\n",
            "_________________________________________________________________\n"
          ],
          "name": "stdout"
        }
      ]
    },
    {
      "cell_type": "code",
      "metadata": {
        "colab_type": "code",
        "id": "UWATD5eIHv9z",
        "colab": {}
      },
      "source": [
        "# reshape data for model input\n",
        "train_X_reshaped = train_X_rescaled.reshape(-1,28,28,1)\n",
        "test_X_reshaped = test_X_rescaled.reshape(-1,28,28,1)"
      ],
      "execution_count": 0,
      "outputs": []
    },
    {
      "cell_type": "code",
      "metadata": {
        "colab_type": "code",
        "outputId": "5d231702-24c6-4134-a4e8-1ba7bbfabe90",
        "id": "qgbU8CsNHv92",
        "colab": {
          "base_uri": "https://localhost:8080/",
          "height": 85
        }
      },
      "source": [
        "print(\"The train image shape: {}\".format(train_X_reshaped.shape))\n",
        "print(\"The train label shape: {}\".format(train_y_onehot.shape))\n",
        "print(\"The test label shape: {}\".format(test_X_reshaped.shape))\n",
        "print(\"The test label shape: {}\".format(test_y_onehot.shape))"
      ],
      "execution_count": 118,
      "outputs": [
        {
          "output_type": "stream",
          "text": [
            "The train image shape: (231, 28, 28, 1)\n",
            "The train label shape: (231, 12)\n",
            "The test label shape: (77, 28, 28, 1)\n",
            "The test label shape: (77, 12)\n"
          ],
          "name": "stdout"
        }
      ]
    },
    {
      "cell_type": "markdown",
      "metadata": {
        "colab_type": "text",
        "id": "cKoAREALHv93"
      },
      "source": [
        "## Image Augmentation"
      ]
    },
    {
      "cell_type": "markdown",
      "metadata": {
        "colab_type": "text",
        "id": "Tay9PIjDHv94"
      },
      "source": [
        "Augmentation means creating additional images from the already existing by rotating, mirroring, shearing, blabla the original ones. It is kind of awesome, so check it out later, and hide it in your back pocket in case you will need it. :)"
      ]
    },
    {
      "cell_type": "markdown",
      "metadata": {
        "colab_type": "text",
        "id": "omZSytMjHv94"
      },
      "source": [
        "## transfer learning"
      ]
    },
    {
      "cell_type": "markdown",
      "metadata": {
        "id": "lGeBD0h_f_bs",
        "colab_type": "text"
      },
      "source": [
        "### remove the last few dense layers"
      ]
    },
    {
      "cell_type": "code",
      "metadata": {
        "colab_type": "code",
        "id": "qzaqYDfbHv94",
        "colab": {}
      },
      "source": [
        "# first, let's pop out the last dense layers \n",
        "for i in range(4):\n",
        "  base_model.pop()"
      ],
      "execution_count": 0,
      "outputs": []
    },
    {
      "cell_type": "code",
      "metadata": {
        "id": "orrVUEFmgYlP",
        "colab_type": "code",
        "outputId": "62189634-4c7e-4838-dd07-5a4f9038318d",
        "colab": {
          "base_uri": "https://localhost:8080/",
          "height": 527
        }
      },
      "source": [
        "# Compile the model\n",
        "base_model.compile(loss=categorical_crossentropy, \n",
        "              optimizer=Adam(lr=0.0005), \n",
        "              metrics=[\"categorical_accuracy\"])\n",
        "base_model.summary()"
      ],
      "execution_count": 120,
      "outputs": [
        {
          "output_type": "stream",
          "text": [
            "Model: \"sequential_1\"\n",
            "_________________________________________________________________\n",
            "Layer (type)                 Output Shape              Param #   \n",
            "=================================================================\n",
            "conv2d_1 (Conv2D)            (None, 24, 24, 50)        1300      \n",
            "_________________________________________________________________\n",
            "activation_1 (Activation)    (None, 24, 24, 50)        0         \n",
            "_________________________________________________________________\n",
            "dropout_1 (Dropout)          (None, 24, 24, 50)        0         \n",
            "_________________________________________________________________\n",
            "max_pooling2d_1 (MaxPooling2 (None, 12, 12, 50)        0         \n",
            "_________________________________________________________________\n",
            "batch_normalization_1 (Batch (None, 12, 12, 50)        200       \n",
            "_________________________________________________________________\n",
            "conv2d_2 (Conv2D)            (None, 10, 10, 50)        22550     \n",
            "_________________________________________________________________\n",
            "activation_2 (Activation)    (None, 10, 10, 50)        0         \n",
            "_________________________________________________________________\n",
            "dropout_2 (Dropout)          (None, 10, 10, 50)        0         \n",
            "_________________________________________________________________\n",
            "max_pooling2d_2 (MaxPooling2 (None, 5, 5, 50)          0         \n",
            "_________________________________________________________________\n",
            "batch_normalization_2 (Batch (None, 5, 5, 50)          200       \n",
            "_________________________________________________________________\n",
            "flatten_1 (Flatten)          (None, 1250)              0         \n",
            "=================================================================\n",
            "Total params: 24,250\n",
            "Trainable params: 24,050\n",
            "Non-trainable params: 200\n",
            "_________________________________________________________________\n"
          ],
          "name": "stdout"
        }
      ]
    },
    {
      "cell_type": "code",
      "metadata": {
        "id": "jdLWWPMfguCG",
        "colab_type": "code",
        "outputId": "036c885b-dbf7-4de4-ad2c-7a9da7d97dbe",
        "colab": {
          "base_uri": "https://localhost:8080/",
          "height": 34
        }
      },
      "source": [
        "len(base_model.weights)"
      ],
      "execution_count": 121,
      "outputs": [
        {
          "output_type": "execute_result",
          "data": {
            "text/plain": [
              "12"
            ]
          },
          "metadata": {
            "tags": []
          },
          "execution_count": 121
        }
      ]
    },
    {
      "cell_type": "markdown",
      "metadata": {
        "id": "6puYhBbaiAyk",
        "colab_type": "text"
      },
      "source": [
        "### add additional dense layers"
      ]
    },
    {
      "cell_type": "code",
      "metadata": {
        "id": "H4dckKmEiHmE",
        "colab_type": "code",
        "colab": {}
      },
      "source": [
        "x = base_model.output\n",
        "x=Dense(200,activation='relu')(x) #we add dense layers so that the model can learn more complex functions and classify for better results.\n",
        "x=Dense(100,activation='relu')(x) #dense layer 2\n",
        "preds=Dense(12,activation='softmax')(x) #final layer with softmax activation for our 12 output classes"
      ],
      "execution_count": 0,
      "outputs": []
    },
    {
      "cell_type": "code",
      "metadata": {
        "id": "TuJKmugYimn0",
        "colab_type": "code",
        "colab": {}
      },
      "source": [
        "tengwar_model=Model(inputs=base_model.input,outputs=preds)\n",
        "#specify the inputs\n",
        "#specify the outputs\n",
        "#now a model has been created based on our architecture"
      ],
      "execution_count": 0,
      "outputs": []
    },
    {
      "cell_type": "markdown",
      "metadata": {
        "id": "_h-7wEOpjfbz",
        "colab_type": "text"
      },
      "source": [
        "### freeze base layers"
      ]
    },
    {
      "cell_type": "code",
      "metadata": {
        "id": "sJBqno6_jK9I",
        "colab_type": "code",
        "outputId": "d7e4f311-9818-448e-ac1f-0273ccb1643d",
        "colab": {
          "base_uri": "https://localhost:8080/",
          "height": 221
        }
      },
      "source": [
        "tengwar_model.layers[:-3]"
      ],
      "execution_count": 124,
      "outputs": [
        {
          "output_type": "execute_result",
          "data": {
            "text/plain": [
              "[<keras.engine.input_layer.InputLayer at 0x7fbf7639eba8>,\n",
              " <keras.layers.convolutional.Conv2D at 0x7fbf7639ee80>,\n",
              " <keras.layers.core.Activation at 0x7fbf74eb5e10>,\n",
              " <keras.layers.core.Dropout at 0x7fbf76230be0>,\n",
              " <keras.layers.pooling.MaxPooling2D at 0x7fbf76230550>,\n",
              " <keras.layers.normalization.BatchNormalization at 0x7fbf76230898>,\n",
              " <keras.layers.convolutional.Conv2D at 0x7fbf74eb5e80>,\n",
              " <keras.layers.core.Activation at 0x7fbf76230048>,\n",
              " <keras.layers.core.Dropout at 0x7fbf762c7160>,\n",
              " <keras.layers.pooling.MaxPooling2D at 0x7fbf762c7f98>,\n",
              " <keras.layers.normalization.BatchNormalization at 0x7fbf750b7be0>,\n",
              " <keras.layers.core.Flatten at 0x7fbf7627ee80>]"
            ]
          },
          "metadata": {
            "tags": []
          },
          "execution_count": 124
        }
      ]
    },
    {
      "cell_type": "code",
      "metadata": {
        "id": "Iumd8zOFjFP6",
        "colab_type": "code",
        "colab": {}
      },
      "source": [
        "for layer in tengwar_model.layers[:-3]:\n",
        "    layer.trainable=False\n",
        "for layer in tengwar_model.layers[-3:]:\n",
        "    layer.trainable=True"
      ],
      "execution_count": 0,
      "outputs": []
    },
    {
      "cell_type": "code",
      "metadata": {
        "id": "jTlBW6kVkiq8",
        "colab_type": "code",
        "outputId": "6751ab2a-1a7a-45d2-b9c2-df70a244b2d0",
        "colab": {
          "base_uri": "https://localhost:8080/",
          "height": 1000
        }
      },
      "source": [
        "tengwar_model.get_config()\n",
        "# we can see that all the base layers are untrainable"
      ],
      "execution_count": 126,
      "outputs": [
        {
          "output_type": "execute_result",
          "data": {
            "text/plain": [
              "{'input_layers': [['conv2d_1_input', 0, 0]],\n",
              " 'layers': [{'class_name': 'InputLayer',\n",
              "   'config': {'batch_input_shape': (None, 28, 28, 1),\n",
              "    'dtype': 'float32',\n",
              "    'name': 'conv2d_1_input',\n",
              "    'sparse': False},\n",
              "   'inbound_nodes': [],\n",
              "   'name': 'conv2d_1_input'},\n",
              "  {'class_name': 'Conv2D',\n",
              "   'config': {'activation': 'linear',\n",
              "    'activity_regularizer': None,\n",
              "    'batch_input_shape': (None, 28, 28, 1),\n",
              "    'bias_constraint': None,\n",
              "    'bias_initializer': {'class_name': 'Zeros', 'config': {}},\n",
              "    'bias_regularizer': None,\n",
              "    'data_format': 'channels_last',\n",
              "    'dilation_rate': (1, 1),\n",
              "    'dtype': 'float32',\n",
              "    'filters': 50,\n",
              "    'kernel_constraint': None,\n",
              "    'kernel_initializer': {'class_name': 'VarianceScaling',\n",
              "     'config': {'distribution': 'uniform',\n",
              "      'mode': 'fan_avg',\n",
              "      'scale': 1.0,\n",
              "      'seed': None}},\n",
              "    'kernel_regularizer': None,\n",
              "    'kernel_size': (5, 5),\n",
              "    'name': 'conv2d_1',\n",
              "    'padding': 'valid',\n",
              "    'strides': (1, 1),\n",
              "    'trainable': False,\n",
              "    'use_bias': True},\n",
              "   'inbound_nodes': [[['conv2d_1_input', 0, 0, {}]]],\n",
              "   'name': 'conv2d_1'},\n",
              "  {'class_name': 'Activation',\n",
              "   'config': {'activation': 'relu',\n",
              "    'dtype': 'float32',\n",
              "    'name': 'activation_1',\n",
              "    'trainable': False},\n",
              "   'inbound_nodes': [[['conv2d_1', 0, 0, {}]]],\n",
              "   'name': 'activation_1'},\n",
              "  {'class_name': 'Dropout',\n",
              "   'config': {'dtype': 'float32',\n",
              "    'name': 'dropout_1',\n",
              "    'noise_shape': None,\n",
              "    'rate': 0.05,\n",
              "    'seed': None,\n",
              "    'trainable': False},\n",
              "   'inbound_nodes': [[['activation_1', 0, 0, {}]]],\n",
              "   'name': 'dropout_1'},\n",
              "  {'class_name': 'MaxPooling2D',\n",
              "   'config': {'data_format': 'channels_last',\n",
              "    'dtype': 'float32',\n",
              "    'name': 'max_pooling2d_1',\n",
              "    'padding': 'valid',\n",
              "    'pool_size': (2, 2),\n",
              "    'strides': (2, 2),\n",
              "    'trainable': False},\n",
              "   'inbound_nodes': [[['dropout_1', 0, 0, {}]]],\n",
              "   'name': 'max_pooling2d_1'},\n",
              "  {'class_name': 'BatchNormalization',\n",
              "   'config': {'axis': -1,\n",
              "    'beta_constraint': None,\n",
              "    'beta_initializer': {'class_name': 'Zeros', 'config': {}},\n",
              "    'beta_regularizer': None,\n",
              "    'center': True,\n",
              "    'dtype': 'float32',\n",
              "    'epsilon': 0.001,\n",
              "    'gamma_constraint': None,\n",
              "    'gamma_initializer': {'class_name': 'Ones', 'config': {}},\n",
              "    'gamma_regularizer': None,\n",
              "    'momentum': 0.99,\n",
              "    'moving_mean_initializer': {'class_name': 'Zeros', 'config': {}},\n",
              "    'moving_variance_initializer': {'class_name': 'Ones', 'config': {}},\n",
              "    'name': 'batch_normalization_1',\n",
              "    'scale': True,\n",
              "    'trainable': False},\n",
              "   'inbound_nodes': [[['max_pooling2d_1', 0, 0, {}]]],\n",
              "   'name': 'batch_normalization_1'},\n",
              "  {'class_name': 'Conv2D',\n",
              "   'config': {'activation': 'linear',\n",
              "    'activity_regularizer': None,\n",
              "    'bias_constraint': None,\n",
              "    'bias_initializer': {'class_name': 'Zeros', 'config': {}},\n",
              "    'bias_regularizer': None,\n",
              "    'data_format': 'channels_last',\n",
              "    'dilation_rate': (1, 1),\n",
              "    'dtype': 'float32',\n",
              "    'filters': 50,\n",
              "    'kernel_constraint': None,\n",
              "    'kernel_initializer': {'class_name': 'VarianceScaling',\n",
              "     'config': {'distribution': 'uniform',\n",
              "      'mode': 'fan_avg',\n",
              "      'scale': 1.0,\n",
              "      'seed': None}},\n",
              "    'kernel_regularizer': None,\n",
              "    'kernel_size': (3, 3),\n",
              "    'name': 'conv2d_2',\n",
              "    'padding': 'valid',\n",
              "    'strides': (1, 1),\n",
              "    'trainable': False,\n",
              "    'use_bias': True},\n",
              "   'inbound_nodes': [[['batch_normalization_1', 0, 0, {}]]],\n",
              "   'name': 'conv2d_2'},\n",
              "  {'class_name': 'Activation',\n",
              "   'config': {'activation': 'relu',\n",
              "    'dtype': 'float32',\n",
              "    'name': 'activation_2',\n",
              "    'trainable': False},\n",
              "   'inbound_nodes': [[['conv2d_2', 0, 0, {}]]],\n",
              "   'name': 'activation_2'},\n",
              "  {'class_name': 'Dropout',\n",
              "   'config': {'dtype': 'float32',\n",
              "    'name': 'dropout_2',\n",
              "    'noise_shape': None,\n",
              "    'rate': 0.05,\n",
              "    'seed': None,\n",
              "    'trainable': False},\n",
              "   'inbound_nodes': [[['activation_2', 0, 0, {}]]],\n",
              "   'name': 'dropout_2'},\n",
              "  {'class_name': 'MaxPooling2D',\n",
              "   'config': {'data_format': 'channels_last',\n",
              "    'dtype': 'float32',\n",
              "    'name': 'max_pooling2d_2',\n",
              "    'padding': 'valid',\n",
              "    'pool_size': (2, 2),\n",
              "    'strides': (2, 2),\n",
              "    'trainable': False},\n",
              "   'inbound_nodes': [[['dropout_2', 0, 0, {}]]],\n",
              "   'name': 'max_pooling2d_2'},\n",
              "  {'class_name': 'BatchNormalization',\n",
              "   'config': {'axis': -1,\n",
              "    'beta_constraint': None,\n",
              "    'beta_initializer': {'class_name': 'Zeros', 'config': {}},\n",
              "    'beta_regularizer': None,\n",
              "    'center': True,\n",
              "    'dtype': 'float32',\n",
              "    'epsilon': 0.001,\n",
              "    'gamma_constraint': None,\n",
              "    'gamma_initializer': {'class_name': 'Ones', 'config': {}},\n",
              "    'gamma_regularizer': None,\n",
              "    'momentum': 0.99,\n",
              "    'moving_mean_initializer': {'class_name': 'Zeros', 'config': {}},\n",
              "    'moving_variance_initializer': {'class_name': 'Ones', 'config': {}},\n",
              "    'name': 'batch_normalization_2',\n",
              "    'scale': True,\n",
              "    'trainable': False},\n",
              "   'inbound_nodes': [[['max_pooling2d_2', 0, 0, {}]]],\n",
              "   'name': 'batch_normalization_2'},\n",
              "  {'class_name': 'Flatten',\n",
              "   'config': {'data_format': 'channels_last',\n",
              "    'dtype': 'float32',\n",
              "    'name': 'flatten_1',\n",
              "    'trainable': False},\n",
              "   'inbound_nodes': [[['batch_normalization_2', 0, 0, {}]]],\n",
              "   'name': 'flatten_1'},\n",
              "  {'class_name': 'Dense',\n",
              "   'config': {'activation': 'relu',\n",
              "    'activity_regularizer': None,\n",
              "    'bias_constraint': None,\n",
              "    'bias_initializer': {'class_name': 'Zeros', 'config': {}},\n",
              "    'bias_regularizer': None,\n",
              "    'dtype': 'float32',\n",
              "    'kernel_constraint': None,\n",
              "    'kernel_initializer': {'class_name': 'VarianceScaling',\n",
              "     'config': {'distribution': 'uniform',\n",
              "      'mode': 'fan_avg',\n",
              "      'scale': 1.0,\n",
              "      'seed': None}},\n",
              "    'kernel_regularizer': None,\n",
              "    'name': 'dense_6',\n",
              "    'trainable': True,\n",
              "    'units': 200,\n",
              "    'use_bias': True},\n",
              "   'inbound_nodes': [[['flatten_1', 0, 0, {}]]],\n",
              "   'name': 'dense_6'},\n",
              "  {'class_name': 'Dense',\n",
              "   'config': {'activation': 'relu',\n",
              "    'activity_regularizer': None,\n",
              "    'bias_constraint': None,\n",
              "    'bias_initializer': {'class_name': 'Zeros', 'config': {}},\n",
              "    'bias_regularizer': None,\n",
              "    'dtype': 'float32',\n",
              "    'kernel_constraint': None,\n",
              "    'kernel_initializer': {'class_name': 'VarianceScaling',\n",
              "     'config': {'distribution': 'uniform',\n",
              "      'mode': 'fan_avg',\n",
              "      'scale': 1.0,\n",
              "      'seed': None}},\n",
              "    'kernel_regularizer': None,\n",
              "    'name': 'dense_7',\n",
              "    'trainable': True,\n",
              "    'units': 100,\n",
              "    'use_bias': True},\n",
              "   'inbound_nodes': [[['dense_6', 0, 0, {}]]],\n",
              "   'name': 'dense_7'},\n",
              "  {'class_name': 'Dense',\n",
              "   'config': {'activation': 'softmax',\n",
              "    'activity_regularizer': None,\n",
              "    'bias_constraint': None,\n",
              "    'bias_initializer': {'class_name': 'Zeros', 'config': {}},\n",
              "    'bias_regularizer': None,\n",
              "    'dtype': 'float32',\n",
              "    'kernel_constraint': None,\n",
              "    'kernel_initializer': {'class_name': 'VarianceScaling',\n",
              "     'config': {'distribution': 'uniform',\n",
              "      'mode': 'fan_avg',\n",
              "      'scale': 1.0,\n",
              "      'seed': None}},\n",
              "    'kernel_regularizer': None,\n",
              "    'name': 'dense_8',\n",
              "    'trainable': True,\n",
              "    'units': 12,\n",
              "    'use_bias': True},\n",
              "   'inbound_nodes': [[['dense_7', 0, 0, {}]]],\n",
              "   'name': 'dense_8'}],\n",
              " 'name': 'model_5',\n",
              " 'output_layers': [['dense_8', 0, 0]]}"
            ]
          },
          "metadata": {
            "tags": []
          },
          "execution_count": 126
        }
      ]
    },
    {
      "cell_type": "code",
      "metadata": {
        "id": "rB9lvQICjr8t",
        "colab_type": "code",
        "outputId": "bbc6a1c6-2d8c-43d9-955b-2dc87a810bfd",
        "colab": {
          "base_uri": "https://localhost:8080/",
          "height": 663
        }
      },
      "source": [
        "# Compile the model\n",
        "tengwar_model.compile(loss=categorical_crossentropy, \n",
        "              optimizer=Adam(lr=0.0005), \n",
        "              metrics=[\"categorical_accuracy\"])\n",
        "tengwar_model.summary()"
      ],
      "execution_count": 127,
      "outputs": [
        {
          "output_type": "stream",
          "text": [
            "Model: \"model_5\"\n",
            "_________________________________________________________________\n",
            "Layer (type)                 Output Shape              Param #   \n",
            "=================================================================\n",
            "conv2d_1_input (InputLayer)  (None, 28, 28, 1)         0         \n",
            "_________________________________________________________________\n",
            "conv2d_1 (Conv2D)            (None, 24, 24, 50)        1300      \n",
            "_________________________________________________________________\n",
            "activation_1 (Activation)    (None, 24, 24, 50)        0         \n",
            "_________________________________________________________________\n",
            "dropout_1 (Dropout)          (None, 24, 24, 50)        0         \n",
            "_________________________________________________________________\n",
            "max_pooling2d_1 (MaxPooling2 (None, 12, 12, 50)        0         \n",
            "_________________________________________________________________\n",
            "batch_normalization_1 (Batch (None, 12, 12, 50)        200       \n",
            "_________________________________________________________________\n",
            "conv2d_2 (Conv2D)            (None, 10, 10, 50)        22550     \n",
            "_________________________________________________________________\n",
            "activation_2 (Activation)    (None, 10, 10, 50)        0         \n",
            "_________________________________________________________________\n",
            "dropout_2 (Dropout)          (None, 10, 10, 50)        0         \n",
            "_________________________________________________________________\n",
            "max_pooling2d_2 (MaxPooling2 (None, 5, 5, 50)          0         \n",
            "_________________________________________________________________\n",
            "batch_normalization_2 (Batch (None, 5, 5, 50)          200       \n",
            "_________________________________________________________________\n",
            "flatten_1 (Flatten)          (None, 1250)              0         \n",
            "_________________________________________________________________\n",
            "dense_6 (Dense)              (None, 200)               250200    \n",
            "_________________________________________________________________\n",
            "dense_7 (Dense)              (None, 100)               20100     \n",
            "_________________________________________________________________\n",
            "dense_8 (Dense)              (None, 12)                1212      \n",
            "=================================================================\n",
            "Total params: 295,762\n",
            "Trainable params: 271,512\n",
            "Non-trainable params: 24,250\n",
            "_________________________________________________________________\n"
          ],
          "name": "stdout"
        }
      ]
    },
    {
      "cell_type": "markdown",
      "metadata": {
        "id": "s0kgXyUalCXI",
        "colab_type": "text"
      },
      "source": [
        "### model training"
      ]
    },
    {
      "cell_type": "code",
      "metadata": {
        "id": "cHeuRyAfcuFc",
        "colab_type": "code",
        "colab": {}
      },
      "source": [
        "# checkpoint\n",
        "filepath=\"/content/drive/My Drive/Digit Recognizer/tengwar.model.best.h5\"\n",
        "checkpoint = ModelCheckpoint(filepath, \n",
        "                             monitor='val_categorical_accuracy', # this must be the same string as a metric from your model training\n",
        "                             verbose=1, \n",
        "                             save_best_only=True, \n",
        "                             mode='max',\n",
        "                             save_weights_only=False)\n",
        "callbacks_list = [checkpoint]"
      ],
      "execution_count": 0,
      "outputs": []
    },
    {
      "cell_type": "code",
      "metadata": {
        "id": "Coj-v1gmlJPM",
        "colab_type": "code",
        "outputId": "317b76bc-4900-4c57-f377-4b7fd61d2e71",
        "colab": {
          "base_uri": "https://localhost:8080/",
          "height": 1000
        }
      },
      "source": [
        "# Let's train the model and also save the best model weights so we can use them later\n",
        "history = tengwar_model.fit(train_X_reshaped, train_y_onehot,\n",
        "                    batch_size=30,\n",
        "                    validation_data=(test_X_reshaped, test_y_onehot),\n",
        "                    epochs=50,\n",
        "                    callbacks = callbacks_list)"
      ],
      "execution_count": 129,
      "outputs": [
        {
          "output_type": "stream",
          "text": [
            "Train on 231 samples, validate on 77 samples\n",
            "Epoch 1/50\n",
            "231/231 [==============================] - 0s 2ms/step - loss: 2.2311 - categorical_accuracy: 0.2338 - val_loss: 1.7453 - val_categorical_accuracy: 0.5974\n",
            "\n",
            "Epoch 00001: val_categorical_accuracy improved from -inf to 0.59740, saving model to /content/drive/My Drive/Digit Recognizer/tengwar.model.best.h5\n",
            "Epoch 2/50\n",
            "231/231 [==============================] - 0s 957us/step - loss: 0.8696 - categorical_accuracy: 0.7922 - val_loss: 1.2173 - val_categorical_accuracy: 0.6234\n",
            "\n",
            "Epoch 00002: val_categorical_accuracy improved from 0.59740 to 0.62338, saving model to /content/drive/My Drive/Digit Recognizer/tengwar.model.best.h5\n",
            "Epoch 3/50\n",
            "231/231 [==============================] - 0s 992us/step - loss: 0.3833 - categorical_accuracy: 0.9091 - val_loss: 0.8574 - val_categorical_accuracy: 0.7662\n",
            "\n",
            "Epoch 00003: val_categorical_accuracy improved from 0.62338 to 0.76623, saving model to /content/drive/My Drive/Digit Recognizer/tengwar.model.best.h5\n",
            "Epoch 4/50\n",
            "231/231 [==============================] - 0s 991us/step - loss: 0.1736 - categorical_accuracy: 0.9697 - val_loss: 0.7176 - val_categorical_accuracy: 0.7922\n",
            "\n",
            "Epoch 00004: val_categorical_accuracy improved from 0.76623 to 0.79221, saving model to /content/drive/My Drive/Digit Recognizer/tengwar.model.best.h5\n",
            "Epoch 5/50\n",
            "231/231 [==============================] - 0s 963us/step - loss: 0.0862 - categorical_accuracy: 0.9913 - val_loss: 0.6497 - val_categorical_accuracy: 0.7922\n",
            "\n",
            "Epoch 00005: val_categorical_accuracy did not improve from 0.79221\n",
            "Epoch 6/50\n",
            "231/231 [==============================] - 0s 997us/step - loss: 0.0462 - categorical_accuracy: 1.0000 - val_loss: 0.6059 - val_categorical_accuracy: 0.8312\n",
            "\n",
            "Epoch 00006: val_categorical_accuracy improved from 0.79221 to 0.83117, saving model to /content/drive/My Drive/Digit Recognizer/tengwar.model.best.h5\n",
            "Epoch 7/50\n",
            "231/231 [==============================] - 0s 975us/step - loss: 0.0317 - categorical_accuracy: 1.0000 - val_loss: 0.5790 - val_categorical_accuracy: 0.8182\n",
            "\n",
            "Epoch 00007: val_categorical_accuracy did not improve from 0.83117\n",
            "Epoch 8/50\n",
            "231/231 [==============================] - 0s 1ms/step - loss: 0.0264 - categorical_accuracy: 1.0000 - val_loss: 0.5744 - val_categorical_accuracy: 0.7922\n",
            "\n",
            "Epoch 00008: val_categorical_accuracy did not improve from 0.83117\n",
            "Epoch 9/50\n",
            "231/231 [==============================] - 0s 1ms/step - loss: 0.0185 - categorical_accuracy: 1.0000 - val_loss: 0.5718 - val_categorical_accuracy: 0.7922\n",
            "\n",
            "Epoch 00009: val_categorical_accuracy did not improve from 0.83117\n",
            "Epoch 10/50\n",
            "231/231 [==============================] - 0s 958us/step - loss: 0.0149 - categorical_accuracy: 1.0000 - val_loss: 0.5576 - val_categorical_accuracy: 0.8442\n",
            "\n",
            "Epoch 00010: val_categorical_accuracy improved from 0.83117 to 0.84416, saving model to /content/drive/My Drive/Digit Recognizer/tengwar.model.best.h5\n",
            "Epoch 11/50\n",
            "231/231 [==============================] - 0s 977us/step - loss: 0.0122 - categorical_accuracy: 1.0000 - val_loss: 0.5513 - val_categorical_accuracy: 0.8571\n",
            "\n",
            "Epoch 00011: val_categorical_accuracy improved from 0.84416 to 0.85714, saving model to /content/drive/My Drive/Digit Recognizer/tengwar.model.best.h5\n",
            "Epoch 12/50\n",
            "231/231 [==============================] - 0s 1ms/step - loss: 0.0113 - categorical_accuracy: 1.0000 - val_loss: 0.5507 - val_categorical_accuracy: 0.8442\n",
            "\n",
            "Epoch 00012: val_categorical_accuracy did not improve from 0.85714\n",
            "Epoch 13/50\n",
            "231/231 [==============================] - 0s 986us/step - loss: 0.0102 - categorical_accuracy: 1.0000 - val_loss: 0.5495 - val_categorical_accuracy: 0.8182\n",
            "\n",
            "Epoch 00013: val_categorical_accuracy did not improve from 0.85714\n",
            "Epoch 14/50\n",
            "231/231 [==============================] - 0s 959us/step - loss: 0.0085 - categorical_accuracy: 1.0000 - val_loss: 0.5494 - val_categorical_accuracy: 0.8052\n",
            "\n",
            "Epoch 00014: val_categorical_accuracy did not improve from 0.85714\n",
            "Epoch 15/50\n",
            "231/231 [==============================] - 0s 983us/step - loss: 0.0080 - categorical_accuracy: 1.0000 - val_loss: 0.5433 - val_categorical_accuracy: 0.8312\n",
            "\n",
            "Epoch 00015: val_categorical_accuracy did not improve from 0.85714\n",
            "Epoch 16/50\n",
            "231/231 [==============================] - 0s 1ms/step - loss: 0.0071 - categorical_accuracy: 1.0000 - val_loss: 0.5393 - val_categorical_accuracy: 0.8442\n",
            "\n",
            "Epoch 00016: val_categorical_accuracy did not improve from 0.85714\n",
            "Epoch 17/50\n",
            "231/231 [==============================] - 0s 1ms/step - loss: 0.0059 - categorical_accuracy: 1.0000 - val_loss: 0.5340 - val_categorical_accuracy: 0.8442\n",
            "\n",
            "Epoch 00017: val_categorical_accuracy did not improve from 0.85714\n",
            "Epoch 18/50\n",
            "231/231 [==============================] - 0s 974us/step - loss: 0.0057 - categorical_accuracy: 1.0000 - val_loss: 0.5320 - val_categorical_accuracy: 0.8442\n",
            "\n",
            "Epoch 00018: val_categorical_accuracy did not improve from 0.85714\n",
            "Epoch 19/50\n",
            "231/231 [==============================] - 0s 994us/step - loss: 0.0053 - categorical_accuracy: 1.0000 - val_loss: 0.5352 - val_categorical_accuracy: 0.8312\n",
            "\n",
            "Epoch 00019: val_categorical_accuracy did not improve from 0.85714\n",
            "Epoch 20/50\n",
            "231/231 [==============================] - 0s 996us/step - loss: 0.0049 - categorical_accuracy: 1.0000 - val_loss: 0.5375 - val_categorical_accuracy: 0.8052\n",
            "\n",
            "Epoch 00020: val_categorical_accuracy did not improve from 0.85714\n",
            "Epoch 21/50\n",
            "231/231 [==============================] - 0s 995us/step - loss: 0.0045 - categorical_accuracy: 1.0000 - val_loss: 0.5428 - val_categorical_accuracy: 0.8052\n",
            "\n",
            "Epoch 00021: val_categorical_accuracy did not improve from 0.85714\n",
            "Epoch 22/50\n",
            "231/231 [==============================] - 0s 951us/step - loss: 0.0043 - categorical_accuracy: 1.0000 - val_loss: 0.5395 - val_categorical_accuracy: 0.8052\n",
            "\n",
            "Epoch 00022: val_categorical_accuracy did not improve from 0.85714\n",
            "Epoch 23/50\n",
            "231/231 [==============================] - 0s 1ms/step - loss: 0.0034 - categorical_accuracy: 1.0000 - val_loss: 0.5348 - val_categorical_accuracy: 0.8182\n",
            "\n",
            "Epoch 00023: val_categorical_accuracy did not improve from 0.85714\n",
            "Epoch 24/50\n",
            "231/231 [==============================] - 0s 1000us/step - loss: 0.0036 - categorical_accuracy: 1.0000 - val_loss: 0.5320 - val_categorical_accuracy: 0.8052\n",
            "\n",
            "Epoch 00024: val_categorical_accuracy did not improve from 0.85714\n",
            "Epoch 25/50\n",
            "231/231 [==============================] - 0s 1ms/step - loss: 0.0031 - categorical_accuracy: 1.0000 - val_loss: 0.5333 - val_categorical_accuracy: 0.8052\n",
            "\n",
            "Epoch 00025: val_categorical_accuracy did not improve from 0.85714\n",
            "Epoch 26/50\n",
            "231/231 [==============================] - 0s 974us/step - loss: 0.0033 - categorical_accuracy: 1.0000 - val_loss: 0.5354 - val_categorical_accuracy: 0.8052\n",
            "\n",
            "Epoch 00026: val_categorical_accuracy did not improve from 0.85714\n",
            "Epoch 27/50\n",
            "231/231 [==============================] - 0s 1ms/step - loss: 0.0028 - categorical_accuracy: 1.0000 - val_loss: 0.5362 - val_categorical_accuracy: 0.8182\n",
            "\n",
            "Epoch 00027: val_categorical_accuracy did not improve from 0.85714\n",
            "Epoch 28/50\n",
            "231/231 [==============================] - 0s 963us/step - loss: 0.0026 - categorical_accuracy: 1.0000 - val_loss: 0.5355 - val_categorical_accuracy: 0.8182\n",
            "\n",
            "Epoch 00028: val_categorical_accuracy did not improve from 0.85714\n",
            "Epoch 29/50\n",
            "231/231 [==============================] - 0s 1ms/step - loss: 0.0027 - categorical_accuracy: 1.0000 - val_loss: 0.5350 - val_categorical_accuracy: 0.8312\n",
            "\n",
            "Epoch 00029: val_categorical_accuracy did not improve from 0.85714\n",
            "Epoch 30/50\n",
            "231/231 [==============================] - 0s 939us/step - loss: 0.0022 - categorical_accuracy: 1.0000 - val_loss: 0.5359 - val_categorical_accuracy: 0.7922\n",
            "\n",
            "Epoch 00030: val_categorical_accuracy did not improve from 0.85714\n",
            "Epoch 31/50\n",
            "231/231 [==============================] - 0s 940us/step - loss: 0.0023 - categorical_accuracy: 1.0000 - val_loss: 0.5345 - val_categorical_accuracy: 0.8182\n",
            "\n",
            "Epoch 00031: val_categorical_accuracy did not improve from 0.85714\n",
            "Epoch 32/50\n",
            "231/231 [==============================] - 0s 1ms/step - loss: 0.0026 - categorical_accuracy: 1.0000 - val_loss: 0.5340 - val_categorical_accuracy: 0.7922\n",
            "\n",
            "Epoch 00032: val_categorical_accuracy did not improve from 0.85714\n",
            "Epoch 33/50\n",
            "231/231 [==============================] - 0s 963us/step - loss: 0.0022 - categorical_accuracy: 1.0000 - val_loss: 0.5348 - val_categorical_accuracy: 0.8182\n",
            "\n",
            "Epoch 00033: val_categorical_accuracy did not improve from 0.85714\n",
            "Epoch 34/50\n",
            "231/231 [==============================] - 0s 1ms/step - loss: 0.0021 - categorical_accuracy: 1.0000 - val_loss: 0.5382 - val_categorical_accuracy: 0.8182\n",
            "\n",
            "Epoch 00034: val_categorical_accuracy did not improve from 0.85714\n",
            "Epoch 35/50\n",
            "231/231 [==============================] - 0s 1ms/step - loss: 0.0020 - categorical_accuracy: 1.0000 - val_loss: 0.5390 - val_categorical_accuracy: 0.8052\n",
            "\n",
            "Epoch 00035: val_categorical_accuracy did not improve from 0.85714\n",
            "Epoch 36/50\n",
            "231/231 [==============================] - 0s 990us/step - loss: 0.0018 - categorical_accuracy: 1.0000 - val_loss: 0.5378 - val_categorical_accuracy: 0.8052\n",
            "\n",
            "Epoch 00036: val_categorical_accuracy did not improve from 0.85714\n",
            "Epoch 37/50\n",
            "231/231 [==============================] - 0s 948us/step - loss: 0.0016 - categorical_accuracy: 1.0000 - val_loss: 0.5346 - val_categorical_accuracy: 0.8182\n",
            "\n",
            "Epoch 00037: val_categorical_accuracy did not improve from 0.85714\n",
            "Epoch 38/50\n",
            "231/231 [==============================] - 0s 1ms/step - loss: 0.0016 - categorical_accuracy: 1.0000 - val_loss: 0.5328 - val_categorical_accuracy: 0.8182\n",
            "\n",
            "Epoch 00038: val_categorical_accuracy did not improve from 0.85714\n",
            "Epoch 39/50\n",
            "231/231 [==============================] - 0s 974us/step - loss: 0.0015 - categorical_accuracy: 1.0000 - val_loss: 0.5322 - val_categorical_accuracy: 0.8182\n",
            "\n",
            "Epoch 00039: val_categorical_accuracy did not improve from 0.85714\n",
            "Epoch 40/50\n",
            "231/231 [==============================] - 0s 991us/step - loss: 0.0015 - categorical_accuracy: 1.0000 - val_loss: 0.5307 - val_categorical_accuracy: 0.8312\n",
            "\n",
            "Epoch 00040: val_categorical_accuracy did not improve from 0.85714\n",
            "Epoch 41/50\n",
            "231/231 [==============================] - 0s 958us/step - loss: 0.0013 - categorical_accuracy: 1.0000 - val_loss: 0.5327 - val_categorical_accuracy: 0.8182\n",
            "\n",
            "Epoch 00041: val_categorical_accuracy did not improve from 0.85714\n",
            "Epoch 42/50\n",
            "231/231 [==============================] - 0s 965us/step - loss: 0.0013 - categorical_accuracy: 1.0000 - val_loss: 0.5328 - val_categorical_accuracy: 0.8182\n",
            "\n",
            "Epoch 00042: val_categorical_accuracy did not improve from 0.85714\n",
            "Epoch 43/50\n",
            "231/231 [==============================] - 0s 1ms/step - loss: 0.0013 - categorical_accuracy: 1.0000 - val_loss: 0.5338 - val_categorical_accuracy: 0.8052\n",
            "\n",
            "Epoch 00043: val_categorical_accuracy did not improve from 0.85714\n",
            "Epoch 44/50\n",
            "231/231 [==============================] - 0s 945us/step - loss: 0.0012 - categorical_accuracy: 1.0000 - val_loss: 0.5341 - val_categorical_accuracy: 0.8182\n",
            "\n",
            "Epoch 00044: val_categorical_accuracy did not improve from 0.85714\n",
            "Epoch 45/50\n",
            "231/231 [==============================] - 0s 984us/step - loss: 0.0013 - categorical_accuracy: 1.0000 - val_loss: 0.5346 - val_categorical_accuracy: 0.8182\n",
            "\n",
            "Epoch 00045: val_categorical_accuracy did not improve from 0.85714\n",
            "Epoch 46/50\n",
            "231/231 [==============================] - 0s 1ms/step - loss: 0.0012 - categorical_accuracy: 1.0000 - val_loss: 0.5322 - val_categorical_accuracy: 0.8182\n",
            "\n",
            "Epoch 00046: val_categorical_accuracy did not improve from 0.85714\n",
            "Epoch 47/50\n",
            "231/231 [==============================] - 0s 1ms/step - loss: 0.0010 - categorical_accuracy: 1.0000 - val_loss: 0.5325 - val_categorical_accuracy: 0.8182\n",
            "\n",
            "Epoch 00047: val_categorical_accuracy did not improve from 0.85714\n",
            "Epoch 48/50\n",
            "231/231 [==============================] - 0s 945us/step - loss: 0.0011 - categorical_accuracy: 1.0000 - val_loss: 0.5324 - val_categorical_accuracy: 0.8182\n",
            "\n",
            "Epoch 00048: val_categorical_accuracy did not improve from 0.85714\n",
            "Epoch 49/50\n",
            "231/231 [==============================] - 0s 978us/step - loss: 0.0012 - categorical_accuracy: 1.0000 - val_loss: 0.5334 - val_categorical_accuracy: 0.8182\n",
            "\n",
            "Epoch 00049: val_categorical_accuracy did not improve from 0.85714\n",
            "Epoch 50/50\n",
            "231/231 [==============================] - 0s 1ms/step - loss: 0.0010 - categorical_accuracy: 1.0000 - val_loss: 0.5305 - val_categorical_accuracy: 0.8312\n",
            "\n",
            "Epoch 00050: val_categorical_accuracy did not improve from 0.85714\n"
          ],
          "name": "stdout"
        }
      ]
    },
    {
      "cell_type": "markdown",
      "metadata": {
        "id": "gVvAPSWddtMM",
        "colab_type": "text"
      },
      "source": [
        "The validation accuracy does not improve after the Epoch 11."
      ]
    },
    {
      "cell_type": "code",
      "metadata": {
        "colab_type": "code",
        "outputId": "ad9904d2-ece9-4b4e-9310-1bbae7655eaa",
        "id": "3NpMHnleHv97",
        "colab": {
          "base_uri": "https://localhost:8080/",
          "height": 34
        }
      },
      "source": [
        "# load and evaluate the best model\n",
        "tengwar_model = load_model('/content/drive/My Drive/Digit Recognizer/tengwar.model.best.h5')\n",
        "scores = tengwar_model.evaluate(test_X_reshaped, test_y_onehot, verbose=0)\n",
        "print(\"validation %s: %.2f%%\" % (tengwar_model.metrics_names[1], scores[1]*100))"
      ],
      "execution_count": 133,
      "outputs": [
        {
          "output_type": "stream",
          "text": [
            "validation categorical_accuracy: 85.71%\n"
          ],
          "name": "stdout"
        }
      ]
    },
    {
      "cell_type": "code",
      "metadata": {
        "colab_type": "code",
        "id": "GVfQPt8QHv99",
        "colab": {}
      },
      "source": [
        "# tengwar_model.save(\"/content/drive/My Drive/Digit Recognizer/best_tengwar_model.h5\")"
      ],
      "execution_count": 0,
      "outputs": []
    },
    {
      "cell_type": "code",
      "metadata": {
        "colab_type": "code",
        "id": "qJg-2n01Hv-K",
        "colab": {}
      },
      "source": [
        "pred_y_onehot = tengwar_model.predict(test_X_reshaped)\n",
        "# this will return the one-hot encoded version"
      ],
      "execution_count": 0,
      "outputs": []
    },
    {
      "cell_type": "code",
      "metadata": {
        "colab_type": "code",
        "id": "E1ppsLmFHv-M",
        "colab": {}
      },
      "source": [
        "# transform back to just output 1 class\n",
        "pred_y = encoder.inverse_transform(pred_y_onehot)[:,0]"
      ],
      "execution_count": 0,
      "outputs": []
    },
    {
      "cell_type": "code",
      "metadata": {
        "colab_type": "code",
        "outputId": "49b5b686-ccaa-4cb4-f9c8-cd002f75240f",
        "id": "jUU4l5laHv-O",
        "colab": {
          "base_uri": "https://localhost:8080/",
          "height": 34
        }
      },
      "source": [
        "np.unique(pred_y)"
      ],
      "execution_count": 137,
      "outputs": [
        {
          "output_type": "execute_result",
          "data": {
            "text/plain": [
              "array([ 0,  1,  2,  3,  4,  5,  6,  7,  8,  9, 10, 11])"
            ]
          },
          "metadata": {
            "tags": []
          },
          "execution_count": 137
        }
      ]
    },
    {
      "cell_type": "code",
      "metadata": {
        "colab_type": "code",
        "outputId": "16ee2156-3956-47e3-cc7d-a70999bbfffb",
        "id": "WEmhDvNxHv-Q",
        "colab": {
          "base_uri": "https://localhost:8080/",
          "height": 255
        }
      },
      "source": [
        "# plot hand-written digits in the test set and our prediction\n",
        "plot_sample_images(test_X_reshaped.reshape(-1, 28, 28), pred_y, images_to_show=20)"
      ],
      "execution_count": 138,
      "outputs": [
        {
          "output_type": "display_data",
          "data": {
            "image/png": "[encoded data removed]",
            "text/plain": [
              "<Figure size 1332x432 with 20 Axes>"
            ]
          },
          "metadata": {
            "tags": [],
            "needs_background": "light"
          }
        }
      ]
    },
    {
      "cell_type": "markdown",
      "metadata": {
        "id": "zsyCZ60wHv-T",
        "colab_type": "text"
      },
      "source": [
        "![image.png](data:image/png;base64,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)"
      ]
    },
    {
      "cell_type": "markdown",
      "metadata": {
        "id": "GQuX_qDMmziT",
        "colab_type": "text"
      },
      "source": [
        "![image.png](data:image/png;base64,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)"
      ]
    },
    {
      "cell_type": "code",
      "metadata": {
        "id": "nOP7YP1VnPQV",
        "colab_type": "code",
        "colab": {}
      },
      "source": [
        ""
      ],
      "execution_count": 0,
      "outputs": []
    }
  ]
}