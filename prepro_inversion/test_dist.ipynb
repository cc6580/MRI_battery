{
  "nbformat": 4,
  "nbformat_minor": 0,
  "metadata": {
    "colab": {
      "name": "test_dist.ipynb",
      "provenance": [],
      "collapsed_sections": [],
      "toc_visible": true
    },
    "kernelspec": {
      "name": "python3",
      "display_name": "Python 3"
    },
    "accelerator": "GPU"
  },
  "cells": [
    {
      "cell_type": "markdown",
      "metadata": {
        "id": "OsgWPqXU_0cH",
        "colab_type": "text"
      },
      "source": [
        "# Imports"
      ]
    },
    {
      "cell_type": "code",
      "metadata": {
        "id": "N25WPfhZ_u5X",
        "colab_type": "code",
        "colab": {}
      },
      "source": [
        "import numpy as np\n",
        "import matplotlib.pyplot as plt\n",
        "from matplotlib import transforms\n",
        "from scipy import ndimage\n",
        "from scipy.io import loadmat\n",
        "from scipy import stats\n",
        "import pandas as pd\n",
        "import random\n",
        "import time\n",
        "import json\n",
        "import os\n",
        "import nibabel as nib\n",
        "import pickle as pk\n",
        "from scipy import interpolate"
      ],
      "execution_count": null,
      "outputs": []
    },
    {
      "cell_type": "code",
      "metadata": {
        "id": "ASAHhHYK_z0M",
        "colab_type": "code",
        "colab": {}
      },
      "source": [
        "import tensorflow as tf\n",
        "from tensorflow import keras\n",
        "from tensorflow.keras import models, layers\n",
        "from tensorflow.keras import backend as K\n",
        "from tensorflow.keras.callbacks import ModelCheckpoint\n",
        "\n",
        "#In your imports you are mixing keras and tf.keras, which are NOT compatible with each other, as you get weird errors like these.\n",
        "\n",
        "#So a simple solution is to choose keras or tf.keras, and make all imports from that package, and never mix it with the other."
      ],
      "execution_count": null,
      "outputs": []
    },
    {
      "cell_type": "markdown",
      "metadata": {
        "id": "K4ibhJdU_33c",
        "colab_type": "text"
      },
      "source": [
        "# read battery MRI data"
      ]
    },
    {
      "cell_type": "code",
      "metadata": {
        "id": "-qvTfhDZ_8kP",
        "colab_type": "code",
        "colab": {}
      },
      "source": [
        "rscale=np.array([7.40000000e-05, 1.97920635e-03, 3.88441270e-03, 5.78961905e-03,\n",
        "       7.69482540e-03, 9.60003175e-03, 1.15052381e-02, 1.34104444e-02,\n",
        "       1.53156508e-02, 1.72208571e-02, 1.91260635e-02, 2.10312698e-02,\n",
        "       2.29364762e-02, 2.48416825e-02, 2.67468889e-02, 2.86520952e-02,\n",
        "       3.05573016e-02, 3.24625079e-02, 3.43677143e-02, 3.62729206e-02,\n",
        "       3.81781270e-02, 4.00833333e-02, 4.19885397e-02, 4.38937460e-02,\n",
        "       4.57989524e-02, 4.77041587e-02, 4.96093651e-02, 5.15145714e-02,\n",
        "       5.34197778e-02, 5.53249841e-02, 5.72301905e-02, 5.91353968e-02,\n",
        "       6.10406032e-02, 6.29458095e-02, 6.48510159e-02, 6.67562222e-02,\n",
        "       6.86614286e-02, 7.05666349e-02, 7.24718413e-02, 7.43770476e-02,\n",
        "       7.62822540e-02, 7.81874603e-02, 8.00926667e-02, 8.19978730e-02,\n",
        "       8.39030794e-02, 8.58082857e-02, 8.77134921e-02, 8.96186984e-02,\n",
        "       9.15239048e-02, 9.34291111e-02, 9.53343175e-02, 9.72395238e-02,\n",
        "       9.91447302e-02, 1.01049937e-01, 1.02955143e-01, 1.04860349e-01,\n",
        "       1.06765556e-01, 1.08670762e-01, 1.10575968e-01, 1.12481175e-01,\n",
        "       1.14386381e-01, 1.16291587e-01, 1.18196794e-01, 1.20102000e-01])\n",
        "cscale=np.array([0.001     , 0.00229032, 0.00358065, 0.00487097, 0.00616129,\n",
        "       0.00745161, 0.00874194, 0.01003226, 0.01132258, 0.0126129 ,\n",
        "       0.01390323, 0.01519355, 0.01648387, 0.01777419, 0.01906452,\n",
        "       0.02035484, 0.02164516, 0.02293548, 0.02422581, 0.02551613,\n",
        "       0.02680645, 0.02809677, 0.0293871 , 0.03067742, 0.03196774,\n",
        "       0.03325806, 0.03454839, 0.03583871, 0.03712903, 0.03841935,\n",
        "       0.03970968, 0.041     ])"
      ],
      "execution_count": null,
      "outputs": []
    },
    {
      "cell_type": "markdown",
      "metadata": {
        "id": "3Ce1m_Cx_9uz",
        "colab_type": "text"
      },
      "source": [
        "# set up grid for mag-suscept map"
      ]
    },
    {
      "cell_type": "code",
      "metadata": {
        "id": "EqQfnGqhAFaG",
        "colab_type": "code",
        "colab": {}
      },
      "source": [
        "battery_dims=np.array([5,30,40])*1e-3;\n",
        "cell_dims=np.array([5,50,60])*1e-3;\n",
        "# probe_dist=1.59e-4; \n",
        "npts=[1,16,32];\n",
        "dV=np.prod(cell_dims/npts); "
      ],
      "execution_count": null,
      "outputs": []
    },
    {
      "cell_type": "code",
      "metadata": {
        "id": "DmSawE8_lJ4k",
        "colab_type": "code",
        "colab": {
          "base_uri": "https://localhost:8080/",
          "height": 34
        },
        "outputId": "ff21bb12-0117-4721-aae6-3e49adf104ea"
      },
      "source": [
        "1.59e1"
      ],
      "execution_count": null,
      "outputs": [
        {
          "output_type": "execute_result",
          "data": {
            "text/plain": [
              "15.9"
            ]
          },
          "metadata": {
            "tags": []
          },
          "execution_count": 45
        }
      ]
    },
    {
      "cell_type": "code",
      "metadata": {
        "id": "ipSRu2RNAGgw",
        "colab_type": "code",
        "colab": {}
      },
      "source": [
        "# re-adjust for centering-----------------------------------------------------------------------------------------------------------------------------\n",
        "# for first data\n",
        "centery=0.021;\n",
        "centerz=0.06;\n",
        "\n",
        "# for second data\n",
        "centery=0.015;\n",
        "centerz=0.077;\n",
        "\n",
        "# for damaged cell data\n",
        "centery=0.020;\n",
        "centerz=0.065;\n",
        "\n",
        "# for new send data\n",
        "centery=0.021;\n",
        "centerz=0.062;"
      ],
      "execution_count": null,
      "outputs": []
    },
    {
      "cell_type": "markdown",
      "metadata": {
        "id": "aLemPxh3AMgX",
        "colab_type": "text"
      },
      "source": [
        "# convert both the magnetic susceptibility grid positions and the magnetic field positions into lists of the form `[x1,y1,z1; x2,y2,z2; etc ]`"
      ]
    },
    {
      "cell_type": "code",
      "metadata": {
        "id": "IuwTP4DgATj6",
        "colab_type": "code",
        "colab": {}
      },
      "source": [
        "# for mag-suscep\n",
        "srcpos=[[],[],[]]\n",
        "for i in range(3):\n",
        "    srcpos[i]=np.linspace(0,cell_dims[i],npts[i]+2)\n",
        "    srcpos[i]=srcpos[i][1:(npts[i]+1)]\n",
        "# recenter all y and z coordinates\n",
        "srcpos[1]=srcpos[1]+centery-cell_dims[1]/2\n",
        "srcpos[2]=srcpos[2]+centerz-cell_dims[2]/2\n",
        "\n",
        "srcxv,srcyv,srczv=np.meshgrid(srcpos[0],srcpos[1],srcpos[2],indexing='ij')\n",
        "\n",
        "src_fulllength=np.prod(npts)\n",
        "src_pos_list=np.concatenate((srcxv.reshape((src_fulllength,1)),srcyv.reshape((src_fulllength,1)),\n",
        "                             srczv.reshape((src_fulllength,1))),axis=1)"
      ],
      "execution_count": null,
      "outputs": []
    },
    {
      "cell_type": "code",
      "metadata": {
        "id": "20S7adSkAX1X",
        "colab_type": "code",
        "colab": {}
      },
      "source": [
        "rv, cv = np.meshgrid(rscale, cscale, indexing='ij')\n",
        "fulllength=np.prod(rv.shape)\n",
        "# field_pos_list=np.concatenate((cv.reshape((fulllength,1)),rv.reshape((fulllength,1))),axis=1)\n",
        "# field_pos_list=np.insert(field_pos_list,0,probe_dist,axis=1)"
      ],
      "execution_count": null,
      "outputs": []
    },
    {
      "cell_type": "code",
      "metadata": {
        "id": "idC0rBdSNzU5",
        "colab_type": "code",
        "colab": {
          "base_uri": "https://localhost:8080/",
          "height": 34
        },
        "outputId": "0b812d64-8240-4fa2-ffa8-d5d665cb3256"
      },
      "source": [
        "[0.5e-2 * i for i in range(1,6)]"
      ],
      "execution_count": null,
      "outputs": [
        {
          "output_type": "execute_result",
          "data": {
            "text/plain": [
              "[0.005, 0.01, 0.015, 0.02, 0.025]"
            ]
          },
          "metadata": {
            "tags": []
          },
          "execution_count": 49
        }
      ]
    },
    {
      "cell_type": "code",
      "metadata": {
        "id": "TRaxvE6PAahs",
        "colab_type": "code",
        "colab": {
          "base_uri": "https://localhost:8080/",
          "height": 119
        },
        "outputId": "022589fd-2e5c-4b7f-9f12-98fb00201422"
      },
      "source": [
        "# make a dictionary of all the different field_pos_lists generated with different probe_distances\n",
        "\n",
        "field_dict = dict()\n",
        "dist_list = [0.5e-2 * i for i in range(1,6)]\n",
        "  # 5mm to 20 mm with 5mm increments\n",
        "\n",
        "for dist in dist_list:\n",
        "  probe_dist=dist\n",
        "  print(probe_dist)\n",
        "  field_pos_list=np.concatenate((cv.reshape((fulllength,1)),\n",
        "                                rv.reshape((fulllength,1))\n",
        "                                ),\n",
        "                                axis=1)\n",
        "  field_pos_list=np.insert(field_pos_list,0,probe_dist,axis=1)\n",
        "\n",
        "  field_dict[dist] = field_pos_list\n",
        "\n",
        "print(100*'*')"
      ],
      "execution_count": null,
      "outputs": [
        {
          "output_type": "stream",
          "text": [
            "0.005\n",
            "0.01\n",
            "0.015\n",
            "0.02\n",
            "0.025\n",
            "****************************************************************************************************\n"
          ],
          "name": "stdout"
        }
      ]
    },
    {
      "cell_type": "code",
      "metadata": {
        "id": "IZw_slc9AnSY",
        "colab_type": "code",
        "colab": {
          "base_uri": "https://localhost:8080/",
          "height": 34
        },
        "outputId": "82561ee5-ae32-44c8-8cb9-538c9648549f"
      },
      "source": [
        "field_dict.keys()"
      ],
      "execution_count": null,
      "outputs": [
        {
          "output_type": "execute_result",
          "data": {
            "text/plain": [
              "dict_keys([0.005, 0.01, 0.015, 0.02, 0.025])"
            ]
          },
          "metadata": {
            "tags": []
          },
          "execution_count": 51
        }
      ]
    },
    {
      "cell_type": "code",
      "metadata": {
        "id": "1L4REQVeXnoZ",
        "colab_type": "code",
        "colab": {
          "base_uri": "https://localhost:8080/",
          "height": 136
        },
        "outputId": "170f1bea-6d9f-4693-9a04-cdaea6e2e1b3"
      },
      "source": [
        "field_dict[0.005] == field_dict[0.02]"
      ],
      "execution_count": null,
      "outputs": [
        {
          "output_type": "execute_result",
          "data": {
            "text/plain": [
              "array([[False,  True,  True],\n",
              "       [False,  True,  True],\n",
              "       [False,  True,  True],\n",
              "       ...,\n",
              "       [False,  True,  True],\n",
              "       [False,  True,  True],\n",
              "       [False,  True,  True]])"
            ]
          },
          "metadata": {
            "tags": []
          },
          "execution_count": 52
        }
      ]
    },
    {
      "cell_type": "markdown",
      "metadata": {
        "id": "D0hoogeLYdpj",
        "colab_type": "text"
      },
      "source": [
        "# set up conversion matrix between magn. susceptibility and magn. field\n",
        "so that we have $\\mathbf{B}(field)=A \\cdot \\mathbf{m} (suscept)$ as a matrix-vector multiplication"
      ]
    },
    {
      "cell_type": "code",
      "metadata": {
        "id": "XQop5utRA7p2",
        "colab_type": "code",
        "colab": {}
      },
      "source": [
        "# modified for multidim to include multiple field components (y-z)\n",
        "# now modif for x-y-z source dims\n",
        "\n",
        "oneD=False   # to do z-only calc in this framework for magnetic susceptibility (may be more stable)\n",
        "\n",
        "# make a dict of different A tensors generated by different mag-field tensors\n",
        "A_dict = dict()\n",
        "\n",
        "for key in field_dict.keys():\n",
        "  field_pos_list = field_dict[key]\n",
        "\n",
        "  # make sure to reshape such that multiply the correct field components\n",
        "  # A matrix is not very sparse, so maybe faster to do in non-sparse setup\n",
        "  fpl=field_pos_list.shape[0]\n",
        "  A=np.zeros((2,field_pos_list.shape[0],src_pos_list.shape[0],3),dtype=float)\n",
        "  for i in range(src_pos_list.shape[0]):\n",
        "    # for every point in the source position, aka cell grid \n",
        "      posdiff=src_pos_list[i,:]-field_pos_list\n",
        "        # this is a broadcasted operation\n",
        "        # posdiff is field_pos_list but every row is subtracted from ths ith row in suscept_pos_list\n",
        "      inv_r=1/np.sqrt(np.sum(posdiff**2,axis=1))\n",
        "        # performed for each row\n",
        "      inv_r5=inv_r**5\n",
        "      inv_r3=inv_r**3\n",
        "      \n",
        "      for fidx in range(2):\n",
        "          fidx2=fidx+1    # this is the real dim index (compatible with sidx)\n",
        "                          # since I only have y and z components of the field\n",
        "          \n",
        "          if oneD:\n",
        "              sidx=2\n",
        "              A[fidx,:,i,sidx]=3*posdiff[:,fidx2]*posdiff[:,sidx]*inv_r5\n",
        "              # A[0, :, i, 2] = 3*posdiff[:,1]*posdiff[:,2] * inv_r5\n",
        "              # A[1, :, i, 2] = 3*posdiff[:,2]*posdiff[:,2] * inv_r5\n",
        "              if sidx==fidx2:\n",
        "                  A[fidx,:,i,sidx]=A[fidx,:,i,sidx]-inv_r3\n",
        "                  #A[1, :, i, 2] = A[1, :, i, 2] - inv_r3\n",
        "          else:\n",
        "              for sidx in range(3):\n",
        "                  A[fidx,:,i,sidx]=3*posdiff[:,fidx2]*posdiff[:,sidx]*inv_r5\n",
        "                  #A[0, :, i, 0] = 3*posdiff[:, 1] * posdiff[:,0] * inv_r5\n",
        "                  #A[0, :, i, 1] = 3*posdiff[:, 1] * posdiff[:,1] * inv_r5\n",
        "                  #A[0, :, i, 2] = 3*posdiff[:, 1] * posdiff[:,2] * inv_r5\n",
        "                  #A[1, :, i, 0] = 3*posdiff[:, 2] * posdiff[:,0] * inv_r5\n",
        "                  #A[1, :, i, 1] = 3*posdiff[:, 2] * posdiff[:,1] * inv_r5\n",
        "                  #A[1, :, i, 2] = 3*posdiff[:, 2] * posdiff[:,2] * inv_r5\n",
        "                  if sidx==fidx2:\n",
        "                      A[fidx,:,i,sidx]=A[fidx,:,i,sidx]-inv_r3\n",
        "                      #A[0, :, i, 1] = A[0, :, i, 1] - inv_r3\n",
        "                      #A[1, :, i, 2] = A[1, :, i, 2] - inv_r3\n",
        "      \n",
        "  A_dict[key]=A.reshape((fpl*2,src_pos_list.shape[0]*3))"
      ],
      "execution_count": null,
      "outputs": []
    },
    {
      "cell_type": "code",
      "metadata": {
        "id": "DnETxXaBB0gG",
        "colab_type": "code",
        "colab": {}
      },
      "source": [
        "assert A_dict.keys() == field_dict.keys()"
      ],
      "execution_count": null,
      "outputs": []
    },
    {
      "cell_type": "code",
      "metadata": {
        "id": "NEJrBrgAXKdV",
        "colab_type": "code",
        "colab": {}
      },
      "source": [
        "assert np.any(A_dict[0.005] != A_dict[0.025])"
      ],
      "execution_count": null,
      "outputs": []
    },
    {
      "cell_type": "code",
      "metadata": {
        "id": "HFlA7EIJB7Yt",
        "colab_type": "code",
        "colab": {}
      },
      "source": [
        "for key in A_dict.keys():\n",
        "  # proper conversion units\n",
        "  B0=20e-6\n",
        "  A_dict[key]=A_dict[key]*dV*B0/4/np.pi"
      ],
      "execution_count": null,
      "outputs": []
    },
    {
      "cell_type": "markdown",
      "metadata": {
        "id": "wV6mJA39Cb6Q",
        "colab_type": "text"
      },
      "source": [
        "# generate training set"
      ]
    },
    {
      "cell_type": "code",
      "metadata": {
        "id": "CSISJQAICuJz",
        "colab_type": "code",
        "colab": {}
      },
      "source": [
        "num_sim2=300 #can adjust, higher means slower training time but more accurate model"
      ],
      "execution_count": null,
      "outputs": []
    },
    {
      "cell_type": "code",
      "metadata": {
        "id": "gurz1OsNWe3V",
        "colab_type": "code",
        "colab": {}
      },
      "source": [
        "# function to forwardly calculate mag-field from synthetic mag-suscept\n",
        "def calcfield(suscept, A):\n",
        "  '''\n",
        "  input:\n",
        "    suscept: a 3-D array of magnetic susceptibility, must have the same shape as npts\n",
        "    A: the 'A' coefficient tensor corresponding to the suscept generated from the different mag-field position grids\n",
        "  return:\n",
        "    fieldy: 2-D matrix of the y-component of magnetic field vector space\n",
        "    fieldz: 2-D matrix of the z-component of magnetic field vector space\n",
        "  '''\n",
        "  source_vec=np.squeeze(suscept[:,:,:]).reshape((src_fulllength*3,1))\n",
        "  magfield=np.dot(A,source_vec)\n",
        "  fieldy = magfield[0:fpl,0].reshape((rv.shape[0],rv.shape[1])) * 10e6\n",
        "  fieldz = magfield[fpl:2*fpl,0].reshape((rv.shape[0],rv.shape[1])) * 10e6\n",
        "    # scale both by 10e6\n",
        "    # now in unit of nano-tesla\n",
        "  return fieldy, fieldz"
      ],
      "execution_count": null,
      "outputs": []
    },
    {
      "cell_type": "code",
      "metadata": {
        "id": "5hj-LiEoWMgR",
        "colab_type": "code",
        "colab": {}
      },
      "source": [
        "# generate random magntic susceptibility distributions, based on a set of random gaussian peaks \n",
        "\n",
        "# genearte 1 set of data for each different probe_dist\n",
        "# this will be a dictionary of dictionaries\n",
        "set_dict = dict()\n",
        "\n",
        "for key in A_dict.keys():\n",
        "  data_dict = dict()\n",
        "  training_labels=np.zeros((num_sim2, npts[2], npts[1],3)) \n",
        "  training_data=np.zeros((num_sim2, rv.shape[0], rv.shape[1],2))\n",
        "  maxlevelrange=200e-3 # with unit parts-per-thousand\n",
        "  numberpeaks=10;\n",
        "  idx1=range(npts[2])\n",
        "  idx2=range(npts[1])\n",
        "  midx1,midx2=np.meshgrid(idx1,idx2,indexing='ij')\n",
        "  for ii in range(num_sim2):\n",
        "    # for now just produce z susceptibility (easier for checking result?)\n",
        "    # here provide alternative training set  exp(-x^2/(2sigma^2))\n",
        "    if True:\n",
        "      for iii in range(numberpeaks):\n",
        "          pos1=np.random.rand(1)*npts[2]\n",
        "          pos2=np.random.rand(1)*npts[1]\n",
        "          w1=np.random.rand(1)*npts[2]/5+1\n",
        "          w2=np.random.rand(1)*npts[1]/5+1\n",
        "          amp=np.random.rand(1)*maxlevelrange\n",
        "          training_labels[ii, :, :,2]=training_labels[ii, :, :,2]+amp*np.exp(-((midx1-pos1)/w1)**2-((midx2-pos2)/w2)**2)\n",
        "    else:\n",
        "      # for network best to create the susceptibility in the transposed version\n",
        "      #training_labels[ii, :, :,2] = maxlevelrange*np.random.rand(npts[1], npts[2])\n",
        "      training_labels[ii, :, :,2] = maxlevelrange*np.random.rand(npts[2], npts[1])  # only z susceptibility for now \n",
        "        \n",
        "    training_data[ii, :, :,0],training_data[ii, :, :,1] = calcfield(training_labels[ii,:,:,:], A_dict[key])\n",
        "    # so the input data will be the mag-field, chanel 0 will be y-component, chanel 1 will be z-component\n",
        "    # the output, or what we are trying to predict, are the mag susceptibilities\n",
        "\n",
        "  # train, validation, and test split-------------------------------------------------------------------------------------------------------------\n",
        "\n",
        "  # a list of random indices thats 40% of the samples\n",
        "  val_test_idx = random.sample(range(num_sim2), int(0.4*num_sim2))\n",
        "  # get the remainder of the indices as train\n",
        "  train_idx = np.setdiff1d(range(num_sim2),val_test_idx)\n",
        "\n",
        "  val_data = training_data[val_test_idx[:int(0.4*num_sim2/2)], :, :, :]\n",
        "  val_labels = training_labels[val_test_idx[:int(0.4*num_sim2/2)], :, :, :]\n",
        "\n",
        "  test_data = training_data[val_test_idx[int(0.4*num_sim2/2):], :, :, :]\n",
        "  test_labels = training_labels[val_test_idx[int(0.4*num_sim2/2):], :, :, :]\n",
        "\n",
        "  train_data = training_data[train_idx, :, :, :]\n",
        "  train_labels = training_labels[train_idx, :, :, :]\n",
        "\n",
        "  # TF requires this kind of transformation into tensor\n",
        "  train_images_t2b=tf.constant(train_data)\n",
        "  train_labels_t2b=tf.constant(train_labels)\n",
        "\n",
        "  val_images_t2b=tf.constant(val_data)\n",
        "  val_labels_t2b=tf.constant(val_labels)\n",
        "\n",
        "  test_images_t2b=tf.constant(test_data)\n",
        "  test_labels_t2b=tf.constant(test_labels)\n",
        "\n",
        "  data_dict['train_images_t2b'] = train_images_t2b\n",
        "  data_dict['train_labels_t2b'] = train_labels_t2b\n",
        "  data_dict['val_images_t2b'] = val_images_t2b\n",
        "  data_dict['val_labels_t2b'] = val_labels_t2b\n",
        "  data_dict['test_images_t2b'] = test_images_t2b\n",
        "  data_dict['test_labels_t2b'] = test_labels_t2b\n",
        "\n",
        "  # put this dictionary of datasets into the dictionary of different probe_dist\n",
        "  set_dict[key] = data_dict"
      ],
      "execution_count": null,
      "outputs": []
    },
    {
      "cell_type": "code",
      "metadata": {
        "id": "rQX2ZfhnbXbn",
        "colab_type": "code",
        "colab": {
          "base_uri": "https://localhost:8080/",
          "height": 34
        },
        "outputId": "e78854e1-02f4-4228-c7b5-4b0b3bfdda63"
      },
      "source": [
        "set_dict.keys()"
      ],
      "execution_count": null,
      "outputs": [
        {
          "output_type": "execute_result",
          "data": {
            "text/plain": [
              "dict_keys([0.005, 0.01, 0.015, 0.02, 0.025])"
            ]
          },
          "metadata": {
            "tags": []
          },
          "execution_count": 60
        }
      ]
    },
    {
      "cell_type": "code",
      "metadata": {
        "id": "TeLWmKPjbG1F",
        "colab_type": "code",
        "colab": {
          "base_uri": "https://localhost:8080/",
          "height": 54
        },
        "outputId": "562489b5-02e9-4e11-90c9-6fce86800103"
      },
      "source": [
        "set_dict[0.025].keys()"
      ],
      "execution_count": null,
      "outputs": [
        {
          "output_type": "execute_result",
          "data": {
            "text/plain": [
              "dict_keys(['train_images_t2b', 'train_labels_t2b', 'val_images_t2b', 'val_labels_t2b', 'test_images_t2b', 'test_labels_t2b'])"
            ]
          },
          "metadata": {
            "tags": []
          },
          "execution_count": 61
        }
      ]
    },
    {
      "cell_type": "markdown",
      "metadata": {
        "id": "Rw5h6svMxazd",
        "colab_type": "text"
      },
      "source": [
        "For each distance, I have a set of 6 datasets, `trainx`, `trainy`, `valx`, `valy`, `testx`, `testy`."
      ]
    },
    {
      "cell_type": "code",
      "metadata": {
        "id": "Mnr0qnlrbOaK",
        "colab_type": "code",
        "colab": {}
      },
      "source": [
        "# make sure we have actually generated different data based on differet probe_dist\n",
        "assert np.any(set_dict[0.025]['train_images_t2b'] != set_dict[0.005]['train_images_t2b'])"
      ],
      "execution_count": null,
      "outputs": []
    },
    {
      "cell_type": "code",
      "metadata": {
        "id": "bef4ETfMbcVU",
        "colab_type": "code",
        "colab": {}
      },
      "source": [
        "def imshow_center(data):\n",
        "  '''\n",
        "  Display 1 chanel of the data as an image; i.e. on a 2D regular raster.\n",
        "  input:\n",
        "    data: a single battery's \n",
        "      magnetic field image that is a 2-D array with shape [64,32] with scalar data,\n",
        "      or magnetic susceptibility image that is a 2-D array with shape [32,16]\n",
        "  output:\n",
        "    figure/image displaying all the range of values\n",
        "  '''\n",
        "  maxval=np.max(np.abs(data))\n",
        "  plt.imshow(data, cmap=\"seismic\",vmin=-maxval,vmax=maxval)\n",
        "  plt.colorbar()"
      ],
      "execution_count": null,
      "outputs": []
    },
    {
      "cell_type": "code",
      "metadata": {
        "id": "gBTnSFxub1gf",
        "colab_type": "code",
        "colab": {
          "base_uri": "https://localhost:8080/",
          "height": 68
        },
        "outputId": "82db0a7b-827d-4705-9751-1d9e341f3e77"
      },
      "source": [
        "print((set_dict[0.025]['train_images_t2b']).shape)\n",
        "print((set_dict[0.025]['train_images_t2b'][33,:,:,0]).shape)\n",
        "print((set_dict[0.025]['train_images_t2b'][33,:,:,1]).shape)"
      ],
      "execution_count": null,
      "outputs": [
        {
          "output_type": "stream",
          "text": [
            "(180, 64, 32, 2)\n",
            "(64, 32)\n",
            "(64, 32)\n"
          ],
          "name": "stdout"
        }
      ]
    },
    {
      "cell_type": "code",
      "metadata": {
        "colab_type": "code",
        "id": "lQVZU3lUpNBM",
        "colab": {
          "base_uri": "https://localhost:8080/",
          "height": 268
        },
        "outputId": "d068103d-ddd1-4ae3-9871-4d3478ee5e52"
      },
      "source": [
        "imshow_center(set_dict[0.025]['train_images_t2b'][33,:,:,0])\n",
        "# plt.savefig('training_sample.png')"
      ],
      "execution_count": null,
      "outputs": [
        {
          "output_type": "display_data",
          "data": {
            "image/png": "[encoded data removed]",
            "text/plain": [
              "<Figure size 432x288 with 2 Axes>"
            ]
          },
          "metadata": {
            "tags": [],
            "needs_background": "light"
          }
        }
      ]
    },
    {
      "cell_type": "markdown",
      "metadata": {
        "id": "ZlRqVPVexugp",
        "colab_type": "text"
      },
      "source": [
        "The 33rd battery's magnetic field generated from the `-4` distance."
      ]
    },
    {
      "cell_type": "code",
      "metadata": {
        "colab_type": "code",
        "id": "DyC5fRKipNBR",
        "colab": {
          "base_uri": "https://localhost:8080/",
          "height": 85
        },
        "outputId": "ece59370-8260-443a-980c-9f4371af51f8"
      },
      "source": [
        "print((set_dict[0.025]['train_labels_t2b']).shape)\n",
        "print((set_dict[0.025]['train_labels_t2b'][33,:,:,0]).shape)\n",
        "print((set_dict[0.025]['train_labels_t2b'][33,:,:,1]).shape)\n",
        "print((set_dict[0.025]['train_labels_t2b'][33,:,:,2]).shape)\n"
      ],
      "execution_count": null,
      "outputs": [
        {
          "output_type": "stream",
          "text": [
            "(180, 32, 16, 3)\n",
            "(32, 16)\n",
            "(32, 16)\n",
            "(32, 16)\n"
          ],
          "name": "stdout"
        }
      ]
    },
    {
      "cell_type": "code",
      "metadata": {
        "colab_type": "code",
        "id": "7QEXZzLepNBV",
        "colab": {
          "base_uri": "https://localhost:8080/",
          "height": 248
        },
        "outputId": "4af8711c-0047-4e04-f698-7543a52d3e5e"
      },
      "source": [
        "# for historical reasons, the magnetic susceptibility map shows up transpose, \n",
        "# I guess it would be good to change that at some point, but for now keeping it \n",
        "imshow_center(np.transpose(set_dict[0.025]['train_labels_t2b'][33,:,:,2]))\n",
        "plt.savefig('label_sample.png')"
      ],
      "execution_count": null,
      "outputs": [
        {
          "output_type": "display_data",
          "data": {
            "image/png": "[encoded data removed]",
            "text/plain": [
              "<Figure size 432x288 with 2 Axes>"
            ]
          },
          "metadata": {
            "tags": [],
            "needs_background": "light"
          }
        }
      ]
    },
    {
      "cell_type": "code",
      "metadata": {
        "id": "U_Qij2xDb23I",
        "colab_type": "code",
        "colab": {
          "base_uri": "https://localhost:8080/",
          "height": 268
        },
        "outputId": "5abe71c6-7831-4523-e5f8-9f6c9bc0b0be"
      },
      "source": [
        "imshow_center(set_dict[0.005]['train_images_t2b'][33,:,:,0])\n",
        "# plt.savefig('training_sample.png')"
      ],
      "execution_count": null,
      "outputs": [
        {
          "output_type": "display_data",
          "data": {
            "image/png": "[encoded data removed]",
            "text/plain": [
              "<Figure size 432x288 with 2 Axes>"
            ]
          },
          "metadata": {
            "tags": [],
            "needs_background": "light"
          }
        }
      ]
    },
    {
      "cell_type": "code",
      "metadata": {
        "id": "Vsi6ROlrepJV",
        "colab_type": "code",
        "colab": {
          "base_uri": "https://localhost:8080/",
          "height": 85
        },
        "outputId": "c9cdb89e-76c6-418e-83cf-04123fc4b64e"
      },
      "source": [
        "print((set_dict[0.005]['train_labels_t2b'][33,:,:,0]).shape)\n",
        "print((set_dict[0.005]['train_labels_t2b'][33,:,:,1]).shape)\n",
        "print((set_dict[0.005]['train_labels_t2b'][33,:,:,2]).shape)\n",
        "print((set_dict[0.005]['train_labels_t2b']).shape)"
      ],
      "execution_count": null,
      "outputs": [
        {
          "output_type": "stream",
          "text": [
            "(32, 16)\n",
            "(32, 16)\n",
            "(32, 16)\n",
            "(180, 32, 16, 3)\n"
          ],
          "name": "stdout"
        }
      ]
    },
    {
      "cell_type": "code",
      "metadata": {
        "id": "uh6bAdU8cBw5",
        "colab_type": "code",
        "colab": {
          "base_uri": "https://localhost:8080/",
          "height": 248
        },
        "outputId": "ce310b23-5808-4a4b-a4bf-847a53f67aac"
      },
      "source": [
        "# for historical reasons, the magnetic susceptibility map shows up transpose, \n",
        "# I guess it would be good to change that at some point, but for now keeping it \n",
        "imshow_center(np.transpose(set_dict[0.005]['train_labels_t2b'][33,:,:,2]))\n",
        "# os.mkdir('0.005')\n",
        "# plt.savefig('0.005/label_sample.png')"
      ],
      "execution_count": null,
      "outputs": [
        {
          "output_type": "display_data",
          "data": {
            "image/png": "[encoded data removed]",
            "text/plain": [
              "<Figure size 432x288 with 2 Axes>"
            ]
          },
          "metadata": {
            "tags": [],
            "needs_background": "light"
          }
        }
      ]
    },
    {
      "cell_type": "code",
      "metadata": {
        "colab_type": "code",
        "id": "orFV4pWtdWnA",
        "colab": {
          "base_uri": "https://localhost:8080/",
          "height": 268
        },
        "outputId": "84be758f-c078-47dd-e456-6c1cfa0d860b"
      },
      "source": [
        "imshow_center(set_dict[0.015]['train_images_t2b'][33,:,:,0])\n",
        "# plt.savefig('training_sample.png')"
      ],
      "execution_count": null,
      "outputs": [
        {
          "output_type": "display_data",
          "data": {
            "image/png": "[encoded data removed]",
            "text/plain": [
              "<Figure size 432x288 with 2 Axes>"
            ]
          },
          "metadata": {
            "tags": [],
            "needs_background": "light"
          }
        }
      ]
    },
    {
      "cell_type": "code",
      "metadata": {
        "colab_type": "code",
        "id": "jKf3PKQjdWnF",
        "colab": {
          "base_uri": "https://localhost:8080/",
          "height": 248
        },
        "outputId": "538091f2-b3f8-41d9-e645-69b5c999467b"
      },
      "source": [
        "# for historical reasons, the magnetic susceptibility map shows up transpose, \n",
        "# I guess it would be good to change that at some point, but for now keeping it \n",
        "imshow_center(np.transpose(set_dict[0.015]['train_labels_t2b'][33,:,:,2]))\n",
        "# plt.savefig('label_sample.png')"
      ],
      "execution_count": null,
      "outputs": [
        {
          "output_type": "display_data",
          "data": {
            "image/png": "[encoded data removed]",
            "text/plain": [
              "<Figure size 432x288 with 2 Axes>"
            ]
          },
          "metadata": {
            "tags": [],
            "needs_background": "light"
          }
        }
      ]
    },
    {
      "cell_type": "markdown",
      "metadata": {
        "id": "Ac9KYCK_dYln",
        "colab_type": "text"
      },
      "source": [
        "we see a pattern that the larger the `probe_dist`, the smaller the changes in the magnetic field."
      ]
    },
    {
      "cell_type": "markdown",
      "metadata": {
        "id": "zQc1AOQ6dpG0",
        "colab_type": "text"
      },
      "source": [
        "## plot average of generated suscept/field vs. `probe_dist`\n",
        "\n",
        "since different `probe_dist` will generate different ranges of values for `mag_field`, if we want to scale them to be between `-1~1`, we need to first look at their ranges."
      ]
    },
    {
      "cell_type": "code",
      "metadata": {
        "colab_type": "code",
        "id": "rqhmIDeY_cYC",
        "colab": {
          "base_uri": "https://localhost:8080/",
          "height": 34
        },
        "outputId": "e22fdcf3-9376-468e-c7ca-a3be1b3e491c"
      },
      "source": [
        "set_dict.keys()"
      ],
      "execution_count": null,
      "outputs": [
        {
          "output_type": "execute_result",
          "data": {
            "text/plain": [
              "dict_keys([0.005, 0.01, 0.015, 0.02, 0.025])"
            ]
          },
          "metadata": {
            "tags": []
          },
          "execution_count": 73
        }
      ]
    },
    {
      "cell_type": "code",
      "metadata": {
        "colab_type": "code",
        "id": "khMGX0ff_cYI",
        "colab": {
          "base_uri": "https://localhost:8080/",
          "height": 54
        },
        "outputId": "aa6db616-feac-43e2-e543-14aaace797fc"
      },
      "source": [
        "set_dict[0.025].keys()"
      ],
      "execution_count": null,
      "outputs": [
        {
          "output_type": "execute_result",
          "data": {
            "text/plain": [
              "dict_keys(['train_images_t2b', 'train_labels_t2b', 'val_images_t2b', 'val_labels_t2b', 'test_images_t2b', 'test_labels_t2b'])"
            ]
          },
          "metadata": {
            "tags": []
          },
          "execution_count": 74
        }
      ]
    },
    {
      "cell_type": "code",
      "metadata": {
        "id": "HSri8kD-CZPG",
        "colab_type": "code",
        "colab": {
          "base_uri": "https://localhost:8080/",
          "height": 136
        },
        "outputId": "d5d59d98-08de-4d66-e520-e4396e0993ba"
      },
      "source": [
        "A=['input_field', 'input_field', 'input_field', 'input_field', 'output_suscept', 'output_suscept', 'output_suscept']\n",
        "B=['min', 'mean', 'RMS-mean', 'max', 'min', 'mean', 'max']\n",
        "\n",
        "[i for i in zip(A,B)]"
      ],
      "execution_count": null,
      "outputs": [
        {
          "output_type": "execute_result",
          "data": {
            "text/plain": [
              "[('input_field', 'min'),\n",
              " ('input_field', 'mean'),\n",
              " ('input_field', 'RMS-mean'),\n",
              " ('input_field', 'max'),\n",
              " ('output_suscept', 'min'),\n",
              " ('output_suscept', 'mean'),\n",
              " ('output_suscept', 'max')]"
            ]
          },
          "metadata": {
            "tags": []
          },
          "execution_count": 91
        }
      ]
    },
    {
      "cell_type": "code",
      "metadata": {
        "id": "7yWN3isu_ddC",
        "colab_type": "code",
        "colab": {}
      },
      "source": [
        "C=np.empty((len(set_dict.keys()),7))\n",
        "i=0\n",
        "for dist in set_dict.keys():\n",
        "\n",
        "  C[i,0] = (np.min(set_dict[dist]['train_images_t2b']))\n",
        "  C[i,1] = (np.mean(set_dict[dist]['train_images_t2b']))\n",
        "  C[i,2] = (np.sqrt(np.mean(np.square(set_dict[dist]['train_images_t2b']))))\n",
        "  C[i,3] = (np.max(set_dict[dist]['train_images_t2b']))\n",
        "\n",
        "  C[i,4] = (np.min(set_dict[dist]['train_labels_t2b']))\n",
        "  C[i,5] = (np.mean(set_dict[dist]['train_labels_t2b']))\n",
        "  C[i,6] = (np.max(set_dict[dist]['train_labels_t2b']))\n",
        "\n",
        "  i+=1"
      ],
      "execution_count": null,
      "outputs": []
    },
    {
      "cell_type": "code",
      "metadata": {
        "id": "9a7ewlrPDzqW",
        "colab_type": "code",
        "colab": {
          "base_uri": "https://localhost:8080/",
          "height": 235
        },
        "outputId": "76856e73-feef-47de-ba17-37cd306be253"
      },
      "source": [
        "df = pd.DataFrame(data=C, columns=pd.MultiIndex.from_tuples(zip(A,B)), index=set_dict.keys())\n",
        "df"
      ],
      "execution_count": null,
      "outputs": [
        {
          "output_type": "execute_result",
          "data": {
            "text/html": [
              "<div>\n",
              "<style scoped>\n",
              "    .dataframe tbody tr th:only-of-type {\n",
              "        vertical-align: middle;\n",
              "    }\n",
              "\n",
              "    .dataframe tbody tr th {\n",
              "        vertical-align: top;\n",
              "    }\n",
              "\n",
              "    .dataframe thead tr th {\n",
              "        text-align: left;\n",
              "    }\n",
              "</style>\n",
              "<table border=\"1\" class=\"dataframe\">\n",
              "  <thead>\n",
              "    <tr>\n",
              "      <th></th>\n",
              "      <th colspan=\"4\" halign=\"left\">input_field</th>\n",
              "      <th colspan=\"3\" halign=\"left\">output_suscept</th>\n",
              "    </tr>\n",
              "    <tr>\n",
              "      <th></th>\n",
              "      <th>min</th>\n",
              "      <th>mean</th>\n",
              "      <th>RMS-mean</th>\n",
              "      <th>max</th>\n",
              "      <th>min</th>\n",
              "      <th>mean</th>\n",
              "      <th>max</th>\n",
              "    </tr>\n",
              "  </thead>\n",
              "  <tbody>\n",
              "    <tr>\n",
              "      <th>0.005</th>\n",
              "      <td>-19.444371</td>\n",
              "      <td>-0.028247</td>\n",
              "      <td>1.654980</td>\n",
              "      <td>10.653857</td>\n",
              "      <td>0.0</td>\n",
              "      <td>0.018502</td>\n",
              "      <td>0.475010</td>\n",
              "    </tr>\n",
              "    <tr>\n",
              "      <th>0.010</th>\n",
              "      <td>-4.508306</td>\n",
              "      <td>-0.030782</td>\n",
              "      <td>0.513183</td>\n",
              "      <td>2.226888</td>\n",
              "      <td>0.0</td>\n",
              "      <td>0.018292</td>\n",
              "      <td>0.505934</td>\n",
              "    </tr>\n",
              "    <tr>\n",
              "      <th>0.015</th>\n",
              "      <td>-1.761819</td>\n",
              "      <td>-0.029597</td>\n",
              "      <td>0.256118</td>\n",
              "      <td>0.689854</td>\n",
              "      <td>0.0</td>\n",
              "      <td>0.018632</td>\n",
              "      <td>0.546906</td>\n",
              "    </tr>\n",
              "    <tr>\n",
              "      <th>0.020</th>\n",
              "      <td>-0.781347</td>\n",
              "      <td>-0.026248</td>\n",
              "      <td>0.153500</td>\n",
              "      <td>0.351512</td>\n",
              "      <td>0.0</td>\n",
              "      <td>0.018012</td>\n",
              "      <td>0.459327</td>\n",
              "    </tr>\n",
              "    <tr>\n",
              "      <th>0.025</th>\n",
              "      <td>-0.438886</td>\n",
              "      <td>-0.024426</td>\n",
              "      <td>0.109820</td>\n",
              "      <td>0.228799</td>\n",
              "      <td>0.0</td>\n",
              "      <td>0.018407</td>\n",
              "      <td>0.438479</td>\n",
              "    </tr>\n",
              "  </tbody>\n",
              "</table>\n",
              "</div>"
            ],
            "text/plain": [
              "      input_field                      ... output_suscept                    \n",
              "              min      mean  RMS-mean  ...            min      mean       max\n",
              "0.005  -19.444371 -0.028247  1.654980  ...            0.0  0.018502  0.475010\n",
              "0.010   -4.508306 -0.030782  0.513183  ...            0.0  0.018292  0.505934\n",
              "0.015   -1.761819 -0.029597  0.256118  ...            0.0  0.018632  0.546906\n",
              "0.020   -0.781347 -0.026248  0.153500  ...            0.0  0.018012  0.459327\n",
              "0.025   -0.438886 -0.024426  0.109820  ...            0.0  0.018407  0.438479\n",
              "\n",
              "[5 rows x 7 columns]"
            ]
          },
          "metadata": {
            "tags": []
          },
          "execution_count": 94
        }
      ]
    },
    {
      "cell_type": "markdown",
      "metadata": {
        "id": "Tiqn976JTi6Z",
        "colab_type": "text"
      },
      "source": [
        "# Model setup\n",
        "model based on papers (Bollman, etc) with some modifications, links given"
      ]
    },
    {
      "cell_type": "markdown",
      "metadata": {
        "id": "dU_wiqTjuPfY",
        "colab_type": "text"
      },
      "source": [
        "## define model functions"
      ]
    },
    {
      "cell_type": "code",
      "metadata": {
        "id": "gD0vu28ShPWO",
        "colab_type": "code",
        "colab": {}
      },
      "source": [
        "def get_figure():\n",
        "    \"\"\"\n",
        "    Returns:\n",
        "      an emtpy figure and an empty axis objects to plot on. \n",
        "    \n",
        "    Removes top and right border and ticks, because those are ugly\n",
        "    \"\"\"\n",
        "    fig, ax = plt.subplots(1)\n",
        "    plt.tick_params(top=False, right=False, which='both') \n",
        "    ax.spines['top'].set_visible(False)\n",
        "    ax.spines['right'].set_visible(False)\n",
        "    return fig, ax\n",
        "\n",
        "def conv_block_h2(input_tensor, num_filters, dropout_level = 0.05):\n",
        "    encoder = layers.Conv2D(num_filters, (3, 3), padding='same')(input_tensor)\n",
        "    encoder = layers.BatchNormalization()(encoder)\n",
        "    encoder = layers.Activation('relu')(encoder)\n",
        "    encoder = layers.Conv2D(num_filters, (3, 3), padding='same')(encoder)\n",
        "    encoder = layers.BatchNormalization()(encoder)\n",
        "    encoder = layers.Dropout(dropout_level)(encoder)\n",
        "    encoder = layers.Activation('relu')(encoder)\n",
        "    return encoder\n",
        "\n",
        "def encoder_block_h2(input_tensor, num_filters, dropout_level = 0.05):\n",
        "    encoder = layers.BatchNormalization()(input_tensor) # added a first normalization layer\n",
        "    encoder = conv_block_h2(input_tensor, num_filters)\n",
        "    encoder_pool = layers.MaxPooling2D((2, 2), strides=(2, 2))(encoder)\n",
        "    return encoder_pool, encoder\n",
        "\n",
        "def decoder_block_h2(input_tensor, concat_tensor, num_filters, dropout_level = 0.05):\n",
        "    decoder = layers.Conv2DTranspose(num_filters, (2, 2), strides=(2, 2), padding='same')(input_tensor)\n",
        "    decoder = layers.concatenate([concat_tensor, decoder], axis=-1)\n",
        "    decoder = layers.Conv2D(num_filters, (3, 3), padding='same')(decoder)\n",
        "    decoder = layers.BatchNormalization()(decoder)\n",
        "    decoder = layers.Dropout(dropout_level)(decoder)\n",
        "    decoder = layers.Activation('relu')(decoder)\n",
        "    decoder = layers.Conv2D(num_filters, (3, 3), padding='same')(decoder)\n",
        "    decoder = layers.BatchNormalization()(decoder)\n",
        "    decoder = layers.Activation('relu')(decoder)\n",
        "    return decoder\n",
        "\n"
      ],
      "execution_count": null,
      "outputs": []
    },
    {
      "cell_type": "markdown",
      "metadata": {
        "id": "FI45yqAxtsXr",
        "colab_type": "text"
      },
      "source": [
        "## define loss functions"
      ]
    },
    {
      "cell_type": "code",
      "metadata": {
        "id": "HLsWGovshUm3",
        "colab_type": "code",
        "colab": {}
      },
      "source": [
        "def custom_loss_mse(y_true,y_pred):\n",
        "    loss=K.mean(K.square(y_pred-y_true),axis=None)  #+K.sum(0*K.abs(penalty)) #can adjust the penalty weight\n",
        "    return loss\n",
        "\n",
        "def custom_loss_rmse(y_true,y_pred):\n",
        "    loss=K.sqrt(K.mean(K.square(y_pred-y_true),axis=None))  #+K.sum(0*K.abs(penalty)) #can adjust the penalty weight\n",
        "    return loss\n",
        "\n",
        "def custom_loss_abs(y_true,y_pred):\n",
        "    loss=K.mean(K.abs(y_pred-y_true),axis=None)  #+K.sum(0*K.abs(penalty)) #can adjust the penalty weight\n",
        "    return loss"
      ],
      "execution_count": null,
      "outputs": []
    },
    {
      "cell_type": "markdown",
      "metadata": {
        "id": "Y8I0MjJ2hRqM",
        "colab_type": "text"
      },
      "source": [
        "# 'Grid Search' (but really, just use 1 set of the best parameters) model on different datasets"
      ]
    },
    {
      "cell_type": "code",
      "metadata": {
        "id": "Yim6YOpKplfL",
        "colab_type": "code",
        "colab": {
          "base_uri": "https://localhost:8080/",
          "height": 34
        },
        "outputId": "52a1cf7c-ef6f-4597-a7e6-f7e7e35b8032"
      },
      "source": [
        "[i*64 for i in range(4,0,-1)]"
      ],
      "execution_count": null,
      "outputs": [
        {
          "output_type": "execute_result",
          "data": {
            "text/plain": [
              "[256, 192, 128, 64]"
            ]
          },
          "metadata": {
            "tags": []
          },
          "execution_count": 104
        }
      ]
    },
    {
      "cell_type": "code",
      "metadata": {
        "id": "iIRaxNq2zjeq",
        "colab_type": "code",
        "colab": {
          "base_uri": "https://localhost:8080/",
          "height": 35
        },
        "outputId": "188c372f-072b-42ab-8832-9b1e23e02ab5"
      },
      "source": [
        "dist=-2\n",
        "str(dist)+'/test_20_difference.png'"
      ],
      "execution_count": null,
      "outputs": [
        {
          "output_type": "execute_result",
          "data": {
            "application/vnd.google.colaboratory.intrinsic+json": {
              "type": "string"
            },
            "text/plain": [
              "'-2/test_20_difference.png'"
            ]
          },
          "metadata": {
            "tags": []
          },
          "execution_count": 105
        }
      ]
    },
    {
      "cell_type": "code",
      "metadata": {
        "id": "oxaqwx-ehisQ",
        "colab_type": "code",
        "colab": {}
      },
      "source": [
        "def grid_search(train_images_t2b, train_labels_t2b, val_images_t2b, val_labels_t2b, cur_path,\n",
        "                dropout_level_lst=[0.05], beta2_lst=[0.999], beta1_lst=[0.9], lr_rate_lst = [0.001],\n",
        "                epsilon_lst=[1e-08], epo_lst = [3000], bat_size_lst = [512]\n",
        "                ):\n",
        "  # initialize values\n",
        "  val_loss = np.inf\n",
        "  best_params = dict()\n",
        "  dir=cur_path\n",
        "\n",
        "  for dp_level in dropout_level_lst:\n",
        "    inputs_h2 = layers.Input(shape=(64,32,2))\n",
        "    # same as (rscale, cscale, 2)\n",
        "    # also same as the dimension for EACH image in the training set\n",
        "    encoder0_pool_h2, encoder0_h2 = encoder_block_h2(inputs_h2, 8, dropout_level=dp_level)\n",
        "    encoder1_pool_h2, encoder1_h2 = encoder_block_h2(encoder0_pool_h2, 16, dropout_level=dp_level)\n",
        "    encoder2_pool_h2, encoder2_h2 = encoder_block_h2(encoder1_pool_h2, 32, dropout_level=dp_level)\n",
        "    encoder3_pool_h2, encoder3_h2 = encoder_block_h2(encoder2_pool_h2, 64, dropout_level=dp_level)\n",
        "    center_h2 = conv_block_h2(encoder3_pool_h2, 128, dropout_level=dp_level)\n",
        "    decoder3_h2 = decoder_block_h2(center_h2, encoder3_h2, 64, dropout_level=dp_level)\n",
        "    decoder2_h2 = decoder_block_h2(decoder3_h2, encoder2_h2, 32, dropout_level=dp_level)\n",
        "    decoder1_h2 = decoder_block_h2(decoder2_h2, encoder1_h2, 16, dropout_level=dp_level)\n",
        "    outputs_h2 = layers.Conv2D(3, (1, 1), padding=\"same\")(decoder1_h2)   # simply set number of output channels here, seems legit\n",
        "\n",
        "    model_ht2b = models.Model(inputs=[inputs_h2], outputs=[outputs_h2])\n",
        "\n",
        "    for beta2 in beta2_lst:\n",
        "      for beta1 in beta1_lst:\n",
        "        for lr_rate in lr_rate_lst:\n",
        "          for eps in epsilon_lst:\n",
        "            adam=keras.optimizers.Adam() # use all default values\n",
        "                                         # so, just use one value as a place holder in your grid search for all Adam parameter values\n",
        "\n",
        "            model_ht2b.compile(optimizer=adam,\n",
        "                               loss=custom_loss_rmse) # let's use rmse for optimization becuase it is a bigger target than mse\n",
        "\n",
        "            # construct checkpoint for saving the best model for current training\n",
        "            curr_best_filepath=str(dir)+\"/current.best.h5\"\n",
        "            checkpoint = ModelCheckpoint(curr_best_filepath, \n",
        "                                        monitor='val_loss', # this must be the same string as a metric from your model training verbose output\n",
        "                                        verbose=1, \n",
        "                                        save_best_only=True, # only save the model if it out-performs all previous ones\n",
        "                                        mode='min', # we want minimum loss\n",
        "                                        save_weights_only=False # we want to save the entire model, not just the weights\n",
        "                                        )\n",
        "            callbacks_list = [checkpoint]\n",
        "\n",
        "            for epo in epo_lst:\n",
        "              for bat_size in bat_size_lst:\n",
        "                start = time.time()\n",
        "                history_ht2b = model_ht2b.fit(train_images_t2b, \n",
        "                                              train_labels_t2b,\n",
        "                                              validation_data = (val_images_t2b, val_labels_t2b),  \n",
        "                                              epochs=epo, \n",
        "                                              batch_size=bat_size, \n",
        "                                              shuffle=True,\n",
        "                                              callbacks = callbacks_list,\n",
        "                                              verbose=1)\n",
        "                training_time = time.time()-start\n",
        "                \n",
        "                # load best model from current training b/c the best model might not be the last model\n",
        "                model_ht2b = tf.keras.models.load_model(curr_best_filepath, \n",
        "                                                        custom_objects={'custom_loss_rmse': custom_loss_rmse})\n",
        "                new_loss = custom_loss_rmse(val_labels_t2b, model_ht2b.predict(val_images_t2b))\n",
        "                \n",
        "                if new_loss.numpy() < val_loss:\n",
        "                  print()\n",
        "                  print('final validation loss decreased from ', val_loss, ' to ', new_loss.numpy())\n",
        "                  print('saving the current best model as the overall best model')\n",
        "                  print(100*'*')\n",
        "                  val_loss = new_loss.numpy()\n",
        "                  \n",
        "                  best_params['best_dropout_rate'] = dp_level\n",
        "                  best_params['best_beta_2'] = beta2\n",
        "                  best_params['best_beta_1'] = beta1\n",
        "                  best_params['best_learning_rate'] = lr_rate\n",
        "                  best_params['best_epsilon'] = eps\n",
        "                  best_params['best_epochs'] = epo\n",
        "                  best_params['best_batch_size'] = bat_size\n",
        "\n",
        "                  best_params['best_val_loss_reached'] = val_loss\n",
        "                  best_params['training_time'] = training_time\n",
        "                  best_params['val_loss_his'] = history_ht2b.history['val_loss']\n",
        "                  best_params['train_loss_his'] = history_ht2b.history['loss']\n",
        "                    # comment these out for now because they take way too much space when printed out \n",
        "                  \n",
        "                  # save the best overall grid-searched model found so far \n",
        "                  best_filepath = str(dir)+'/model.best.h5'\n",
        "                  model_ht2b.save(best_filepath)\n",
        "                  \n",
        "                  # save history of validation-loss from the best model to observe epochs effect\n",
        "                  with open(str(dir)+'/best_val_loss_history.db', 'wb') as file_pi:\n",
        "                    pk.dump(history_ht2b.history['val_loss'], file_pi)\n",
        "                  # later open with \n",
        "                  # val_loss_history_ht2b = pk.load(open('best_val_loss_history.db', \"rb\"))\n",
        "\n",
        "                  # save history of training-loss from the best model to observe epochs effect\n",
        "                  with open(str(dir)+'/best_train_loss_history.db', 'wb') as file_pi:\n",
        "                    pk.dump(history_ht2b.history['loss'], file_pi)\n",
        "                  # later open with \n",
        "                  # train_loss_history_ht2b = pk.load(open('best_train_loss_history.db', \"rb\"))\n",
        "\n",
        "                  # save the best_params dictionary along the way incase training gets killed mid-way and the function doesn't get to finish\n",
        "                  # \"w\" mode automatically overwrites if the file already exists\n",
        "                  param_json = json.dumps(best_params)\n",
        "                  f = open(str(dir)+'/best_params.json',\"w\")\n",
        "                  f.write(param_json)\n",
        "                  f.close()\n",
        "\n",
        "                  # save a plot of the val_loss_history for the best performing model for observation\n",
        "                  fig, ax = get_figure()\n",
        "                  fig.set_size_inches(20,10)\n",
        "                  num_epochs=len(history_ht2b.history['val_loss'])\n",
        "                  startpoints=0\n",
        "                  ax.set_yscale('log') # set y-axis to log_10 scale for better viewing\n",
        "                  ax.plot((np.arange(num_epochs*1)+1)[startpoints:], \n",
        "                          history_ht2b.history['loss'][startpoints:], \n",
        "                          linewidth=1, color=\"orange\", \n",
        "                          label=\"training_loss\")\n",
        "                  ax.plot((np.arange(num_epochs*1)+1)[startpoints:], \n",
        "                          history_ht2b.history['val_loss'][startpoints:], \n",
        "                          linewidth=1, color=\"blue\", \n",
        "                          label=\"validation loss\")\n",
        "                  ax.set_xlabel('epochs')\n",
        "                  ax.set_ylabel('log loss')\n",
        "                  ax.legend(frameon=False);\n",
        "                  fig.savefig(str(dir)+'/best_model_loss_history.png')\n",
        "                else:\n",
        "                  print('final validation loss did not decrease for this set of parameters')\n",
        "                  print('current overall best model and parameters does not get updated')\n",
        "                  print(100*'*')\n",
        "  return best_params"
      ],
      "execution_count": null,
      "outputs": []
    },
    {
      "cell_type": "code",
      "metadata": {
        "id": "XgdSY5hXibg1",
        "colab_type": "code",
        "colab": {
          "base_uri": "https://localhost:8080/",
          "height": 54
        },
        "outputId": "262a6d76-00f7-498b-c058-33db78a28c00"
      },
      "source": [
        "set_dict[0.025].keys()"
      ],
      "execution_count": null,
      "outputs": [
        {
          "output_type": "execute_result",
          "data": {
            "text/plain": [
              "dict_keys(['train_images_t2b', 'train_labels_t2b', 'val_images_t2b', 'val_labels_t2b', 'test_images_t2b', 'test_labels_t2b'])"
            ]
          },
          "metadata": {
            "tags": []
          },
          "execution_count": 107
        }
      ]
    },
    {
      "cell_type": "code",
      "metadata": {
        "id": "WtydvUYAaTKi",
        "colab_type": "code",
        "colab": {
          "base_uri": "https://localhost:8080/",
          "height": 34
        },
        "outputId": "bc13169c-a586-4a20-f30d-cf40b8cae441"
      },
      "source": [
        "set_dict.keys()"
      ],
      "execution_count": null,
      "outputs": [
        {
          "output_type": "execute_result",
          "data": {
            "text/plain": [
              "dict_keys([0.005, 0.01, 0.015, 0.02, 0.025])"
            ]
          },
          "metadata": {
            "tags": []
          },
          "execution_count": 64
        }
      ]
    },
    {
      "cell_type": "code",
      "metadata": {
        "id": "lXg_pS7imrZJ",
        "colab_type": "code",
        "colab": {}
      },
      "source": [
        "# !rm -r *"
      ],
      "execution_count": null,
      "outputs": []
    },
    {
      "cell_type": "code",
      "metadata": {
        "id": "n_7CH7AAnKDu",
        "colab_type": "code",
        "colab": {}
      },
      "source": [
        "os.mkdir('sub/subsub')"
      ],
      "execution_count": null,
      "outputs": []
    },
    {
      "cell_type": "code",
      "metadata": {
        "id": "WNsLpnpBhlj0",
        "colab_type": "code",
        "cellView": "both",
        "colab": {}
      },
      "source": [
        "result_dict = dict()\n",
        "dp_list = [0.05, 0.10, 0.15]\n",
        "\n",
        "for dist in set_dict.keys():\n",
        "  for dp_rate in dp_list:\n",
        "    cur_path=str(dp_rate)+'dp'+ '/'+str(dist)+'dist'\n",
        "    print(cur_path)\n",
        "    specs_dict = dict()\n",
        "    \n",
        "    try:\n",
        "      os.mkdir(str(dp_rate)+'dp')\n",
        "    except:\n",
        "      print(\"directory already exists\")\n",
        "\n",
        "    try:\n",
        "      os.mkdir(str(cur_path)) # make a directory before we can put things under it\n",
        "    except:\n",
        "      print(\"directory already exists\")\n",
        "\n",
        "    best_params = grid_search(set_dict[dist]['train_images_t2b'], set_dict[dist]['train_labels_t2b'],\n",
        "                              set_dict[dist]['val_images_t2b'], set_dict[dist]['val_labels_t2b'], cur_path = cur_path,\n",
        "                              dropout_level_lst = [dp_rate], epo_lst=[30], bat_size_lst=[128])\n",
        "    \n",
        "    specs_dict['best_val_loss_reached'] = best_params['best_val_loss_reached']\n",
        "    specs_dict['training_time'] = best_params['training_time']\n",
        "    specs_dict['val_loss_his'] = best_params['val_loss_his']\n",
        "    specs_dict['train_loss_his'] = best_params['train_loss_his']\n",
        "\n",
        "    # predict w the best model, or in this case, only 1 model, on the test set\n",
        "    model_ht2b=tf.keras.models.load_model(str(cur_path)+'/model.best.h5',\n",
        "                                          custom_objects={'custom_loss_rmse': custom_loss_rmse})\n",
        "    \n",
        "    # in-sample -------------------------------------------------------------------------------------------------------------------------------------\n",
        "\n",
        "    susax=2\n",
        "    train_images_t2b = set_dict[dist]['train_images_t2b']\n",
        "    train_labels_t2b = set_dict[dist]['train_labels_t2b']\n",
        "    X_train = train_images_t2b\n",
        "    y_pred_ht2 = model_ht2b.predict(train_images_t2b)\n",
        "\n",
        "    plt.figure()\n",
        "    imshow_center(y_pred_ht2[20,:,:,susax])\n",
        "    plt.title(\"predicted susceptibility for the 20th battery in train set\")\n",
        "    plt.savefig(cur_path+\"/train_20_pred.png\")\n",
        "    plt.close()\n",
        "\n",
        "    plt.figure()\n",
        "    imshow_center(train_labels_t2b[20,:,:,susax])\n",
        "    plt.title(\"actual susceptibility for the 20th battery in train set\")\n",
        "    plt.savefig(cur_path+\"/train_20_true.png\")\n",
        "    plt.close()\n",
        "\n",
        "    plt.figure()\n",
        "    imshow_center(y_pred_ht2[20,:,:,susax]-train_labels_t2b[20,:,:,susax])\n",
        "    # plot the the predicted susceptibility - actual susceptibility in the same chanel which is '2' for the 20th battery in test set\n",
        "    # we want this difference to be as small as possible, not too extreme in either way\n",
        "    plt.title(\"error between predicted and true susceptibility\")\n",
        "    plt.savefig(cur_path+\"/train_20_error.png\")\n",
        "    plt.close()\n",
        "\n",
        "    train_diff = train_labels_t2b - y_pred_ht2\n",
        "    train_diff = tf.keras.backend.flatten(train_diff)\n",
        "    plt.figure(figsize=(15,7))\n",
        "    plt.hist(train_diff, bins=30, density=True, label='difference');\n",
        "    mn, mx = plt.xlim()\n",
        "    plt.xlim(mn, mx)\n",
        "    kde_xs = np.linspace(mn, mx, 60)\n",
        "    kde = stats.gaussian_kde(train_diff)\n",
        "    plt.plot(kde_xs, kde.pdf(kde_xs), label=\"PDF\")\n",
        "    plt.legend(loc=\"upper left\")\n",
        "    plt.ylabel('Probability')\n",
        "    plt.xlabel('difference')\n",
        "    range = np.max([np.abs(np.min(train_diff)), np.abs(np.max(train_diff))])\n",
        "    plt.xlim(-range, range)\n",
        "    plt.title(\"Histogram of differences\");\n",
        "    plt.savefig(cur_path+\"/train_diff_hist.png\")\n",
        "    plt.close()\n",
        "\n",
        "    yf,zf=calcfield(y_pred_ht2[20,:,:,:], A_dict[dist])\n",
        "    # calculate the y(dimension 0) and z(dimension 1) component of the magnetic field for the 20th battery\n",
        "    # from the predicted susceptibility output\n",
        "    # so we are kind of like recreating the input to see if it is the same as the actual input\n",
        "    # to see if the model learned the dipole forward kernel well\n",
        "\n",
        "    plt.figure()\n",
        "    imshow_center(np.squeeze(X_train[20,:,:,0])-yf)\n",
        "    plt.title(\"error between forwardly solved y-field from prediction and true input y-field\")\n",
        "    plt.savefig(cur_path+\"/train_20_yfield_diff.png\")\n",
        "    plt.close()\n",
        "\n",
        "    plt.figure()\n",
        "    imshow_center(np.squeeze(X_train[20,:,:,1])-zf)\n",
        "    plt.title(\"error between forwardly solved z-field from prediction and true input z-field\")\n",
        "    plt.savefig(cur_path+\"/train_20_zfield_diff.png\")\n",
        "    plt.close()\n",
        "\n",
        "    # calculate final train loss ------------\n",
        "\n",
        "    final_loss = custom_loss_rmse(train_labels_t2b, y_pred_ht2)\n",
        "    print('final RMSE loss on train set:', final_loss.numpy())\n",
        "    NRMSE = final_loss/K.mean(train_labels_t2b)\n",
        "    print('final normalized RMSE loss (div mean) on the train set:', NRMSE.numpy())\n",
        "    RMSE_range = final_loss /(tf.reduce_max(train_labels_t2b) - tf.reduce_min(train_labels_t2b))\n",
        "    print('final normalized RMSE loss (div range) on the train set:', RMSE_range.numpy())\n",
        "    train_arr = tf.keras.backend.flatten(train_labels_t2b).numpy()\n",
        "    IQR = stats.iqr(train_arr)\n",
        "    RMSE_IQR = final_loss/IQR\n",
        "    print('final normalized RMSE loss (div IQR) on the train set:', RMSE_IQR.numpy())\n",
        "    Boll_NRMSE = tf.norm(y_pred_ht2-train_labels_t2b) / tf.norm(train_labels_t2b)\n",
        "    print('final Bollman normalized RMSE loss on the train set:', Boll_NRMSE.numpy())\n",
        "\n",
        "    specs_dict['train_final_RMSE'] = final_loss.numpy()\n",
        "    specs_dict['train_final_NRMSE'] = NRMSE.numpy()\n",
        "    specs_dict['train_final_RMSE_range'] = RMSE_range.numpy()\n",
        "    specs_dict['train_final_RMSE_IQR'] = RMSE_IQR.numpy()\n",
        "    specs_dict['train_final_Boll_NRMSE'] = Boll_NRMSE.numpy()\n",
        "\n",
        "    # view final loss per battery ----------\n",
        "\n",
        "    Boll_NRMSE_train_lst = []\n",
        "\n",
        "    for i in np.arange(int(train_labels_t2b.shape[0])):\n",
        "      # print(i)\n",
        "      Boll_NRMSE = (tf.norm(y_pred_ht2[i,:,:,:]-train_labels_t2b[i,:,:,:]) \n",
        "                    / tf.norm(train_labels_t2b[i,:,:,:]))\n",
        "      Boll_NRMSE_train_lst.append(Boll_NRMSE)\n",
        "\n",
        "    plt.figure(figsize=(15,7))\n",
        "    plt.plot(Boll_NRMSE_train_lst, label=\"Boll_NRMSE per battery\")\n",
        "    plt.legend()\n",
        "    plt.xlabel(\"battery #\")\n",
        "    plt.ylabel(\"Boll_NRMSE\")\n",
        "    plt.savefig(cur_path+\"/train_Boll_NRMSE_per_battery.png\")\n",
        "    plt.close()\n",
        "\n",
        "    # -------------------------------------------\n",
        "\n",
        "    best_batt = np.argmin(Boll_NRMSE_train_lst)\n",
        "    best_batt_NRMSE = min(Boll_NRMSE_train_lst).numpy()\n",
        "    print(\"The best predicted battery is battery \", best_batt, \"from the train set with a Boll_NRMSE of \", best_batt_NRMSE)\n",
        "\n",
        "    plt.figure()\n",
        "    imshow_center(y_pred_ht2[best_batt,:,:,susax])\n",
        "    plt.title(\"predicted susceptibility for the \"+str(best_batt)+\" battery in train set\")\n",
        "    plt.savefig(cur_path+\"/train_best_pred.png\")\n",
        "    plt.close()\n",
        "\n",
        "    plt.figure()\n",
        "    imshow_center(train_labels_t2b[best_batt,:,:,susax])\n",
        "    plt.title(\"actual susceptibility for the \"+str(best_batt)+\" battery in train set\")\n",
        "    plt.savefig(cur_path+\"/train_best_true.png\")\n",
        "    plt.close()\n",
        "\n",
        "    plt.figure()\n",
        "    imshow_center(y_pred_ht2[best_batt,:,:,susax]-train_labels_t2b[best_batt,:,:,susax])\n",
        "    # plot the the predicted susceptibility - actual susceptibility in the same chanel which is '2' for the best battery in test set\n",
        "    # we want this difference to be as small as possible, not too extreme in either way\n",
        "    plt.title(\"error between predicted and true susceptibility\")\n",
        "    plt.savefig(cur_path+\"/train_best_error.png\")\n",
        "    plt.close()\n",
        "\n",
        "    yf,zf=calcfield(y_pred_ht2[best_batt,:,:,:], A_dict[dist])\n",
        "    # calculate the y(dimension 0) and z(dimension 1) component of the magnetic field for the 20th battery\n",
        "    # from the predicted susceptibility output\n",
        "    # so we are kind of like recreating the input to see if it is the same as the actual input\n",
        "    # to see if the model learned the dipole forward kernel well\n",
        "\n",
        "    plt.figure()\n",
        "    imshow_center(np.squeeze(X_train[best_batt,:,:,0])-yf)\n",
        "    plt.title(\"error between forwardly solved y-field from prediction and true input y-field\")\n",
        "    plt.savefig(cur_path+\"/train_best_yfield_diff.png\")\n",
        "    plt.close()\n",
        "\n",
        "    plt.figure()\n",
        "    imshow_center(np.squeeze(X_train[best_batt,:,:,1])-zf)\n",
        "    plt.title(\"error between forwardly solved z-field from prediction and true input z-field\")\n",
        "    plt.savefig(cur_path+\"/train_best_zfield_diff.png\")\n",
        "    plt.close()\n",
        "\n",
        "    # -------------------------------------------\n",
        "\n",
        "    worst_batt = np.argmax(Boll_NRMSE_train_lst)\n",
        "    worst_batt_NRMSE = max(Boll_NRMSE_train_lst).numpy()\n",
        "    print(\"The worst predicted battery is battery\", worst_batt, \"from the train set with a Boll_NRMSE of \", worst_batt_NRMSE)\n",
        "\n",
        "    plt.figure()\n",
        "    imshow_center(y_pred_ht2[worst_batt,:,:,susax])\n",
        "    plt.title(\"predicted susceptibility for the \"+str(worst_batt)+\" battery in train set\")\n",
        "    plt.savefig(cur_path+\"/train_worst_pred.png\")\n",
        "    plt.close()\n",
        "\n",
        "    plt.figure()\n",
        "    imshow_center(train_labels_t2b[worst_batt,:,:,susax])\n",
        "    plt.title(\"actual susceptibility for the \"+str(worst_batt)+\" battery in train set\")\n",
        "    plt.savefig(cur_path+\"/train_worst_true.png\")\n",
        "    plt.close()\n",
        "\n",
        "    plt.figure()\n",
        "    imshow_center(y_pred_ht2[worst_batt,:,:,susax]-train_labels_t2b[worst_batt,:,:,susax])\n",
        "    # plot the the predicted susceptibility - actual susceptibility in the same chanel which is '2' for the best battery in test set\n",
        "    # we want this difference to be as small as possible, not too extreme in either way\n",
        "    plt.title(\"error between predicted and true susceptibility\")\n",
        "    plt.savefig(cur_path+\"/train_worst_error.png\")\n",
        "    plt.close()\n",
        "\n",
        "    yf,zf=calcfield(y_pred_ht2[worst_batt,:,:,:], A_dict[dist])\n",
        "    # calculate the y(dimension 0) and z(dimension 1) component of the magnetic field for the 20th battery\n",
        "    # from the predicted susceptibility output\n",
        "    # so we are kind of like recreating the input to see if it is the same as the actual input\n",
        "    # to see if the model learned the dipole forward kernel well\n",
        "\n",
        "    plt.figure()\n",
        "    imshow_center(np.squeeze(X_train[worst_batt,:,:,0])-yf)\n",
        "    plt.title(\"error between forwardly solved y-field from prediction and true input y-field\")\n",
        "    plt.savefig(cur_path+\"/train_worst_yfield_diff.png\")\n",
        "    plt.close()\n",
        "\n",
        "    plt.figure()\n",
        "    imshow_center(np.squeeze(X_train[worst_batt,:,:,1])-zf)\n",
        "    plt.title(\"error between forwardly solved z-field from prediction and true input z-field\")\n",
        "    plt.savefig(cur_path+\"/train_worst_zfield_diff.png\")\n",
        "    plt.close()\n",
        "\n",
        "    print(\"are predictions for the two different batteries different?\" ,\n",
        "          np.all(y_pred_ht2[worst_batt,:,:,susax] == y_pred_ht2[best_batt,:,:,susax]) == False)\n",
        "\n",
        "    # out-of-sample ----------------------------------------------------------------------------------------------------------------------\n",
        "\n",
        "    susax=2\n",
        "    test_images_t2b = set_dict[dist]['test_images_t2b']\n",
        "    test_labels_t2b = set_dict[dist]['test_labels_t2b']\n",
        "    X_test = test_images_t2b\n",
        "    y_pred_ht2 = model_ht2b.predict(test_images_t2b)\n",
        "\n",
        "    plt.figure()\n",
        "    imshow_center(y_pred_ht2[20,:,:,susax])\n",
        "    plt.title(\"predicted susceptibility for the 20th battery in test set\")\n",
        "    plt.savefig(cur_path+\"/test_20_pred.png\")\n",
        "    plt.close()\n",
        "\n",
        "    plt.figure()\n",
        "    imshow_center(test_labels_t2b[20,:,:,susax])\n",
        "    plt.title(\"actual susceptibility for the 20th battery in test set\")\n",
        "    plt.savefig(cur_path+\"/test_20_true.png\")\n",
        "    plt.close()\n",
        "\n",
        "    plt.figure()\n",
        "    imshow_center(y_pred_ht2[20,:,:,susax]-test_labels_t2b[20,:,:,susax])\n",
        "    # plot the the predicted susceptibility - actual susceptibility in the same chanel which is '2' for the 20th battery in test set\n",
        "    # we want this difference to be as small as possible, not too extreme in either way\n",
        "    plt.title(\"error between predicted and true susceptibility\")\n",
        "    plt.savefig(cur_path+\"/test_20_error.png\")\n",
        "    plt.close()\n",
        "\n",
        "    test_diff = test_labels_t2b - y_pred_ht2\n",
        "    test_diff = tf.keras.backend.flatten(test_diff)\n",
        "    plt.figure(figsize=(15,7))\n",
        "    plt.hist(test_diff, bins=30, density=True, label='difference');\n",
        "    mn, mx = plt.xlim()\n",
        "    plt.xlim(mn, mx)\n",
        "    kde_xs = np.linspace(mn, mx, 60)\n",
        "    kde = stats.gaussian_kde(test_diff)\n",
        "    plt.plot(kde_xs, kde.pdf(kde_xs), label=\"PDF\")\n",
        "    plt.legend(loc=\"upper left\")\n",
        "    plt.ylabel('Probability')\n",
        "    plt.xlabel('difference')\n",
        "    range = np.max([np.abs(np.min(test_diff)), np.abs(np.max(test_diff))])\n",
        "    plt.xlim(-range, range)\n",
        "    plt.title(\"Histogram of differences\");\n",
        "    plt.savefig(cur_path+\"/test_diff_hist.png\")\n",
        "    plt.close()\n",
        "\n",
        "    yf,zf=calcfield(y_pred_ht2[20,:,:,:], A_dict[dist])\n",
        "    # calculate the y(dimension 0) and z(dimension 1) component of the magnetic field for the 20th battery\n",
        "    # from the predicted susceptibility output\n",
        "    # so we are kind of like recreating the input to see if it is the same as the actual input\n",
        "    # to see if the model learned the dipole forward kernel well\n",
        "\n",
        "    plt.figure()\n",
        "    imshow_center(np.squeeze(X_test[20,:,:,0])-yf)\n",
        "    plt.title(\"error between forwardly solved y-field from prediction and true input y-field\")\n",
        "    plt.savefig(cur_path+\"/test_20_yfield_diff.png\")\n",
        "    plt.close()\n",
        "\n",
        "    plt.figure()\n",
        "    imshow_center(np.squeeze(X_test[20,:,:,1])-zf)\n",
        "    plt.title(\"error between forwardly solved z-field from prediction and true input z-field\")\n",
        "    plt.savefig(cur_path+\"/test_20_zfield_diff.png\")\n",
        "    plt.close()\n",
        "\n",
        "    # calculate final test loss ------------\n",
        "\n",
        "    final_loss = custom_loss_rmse(test_labels_t2b, y_pred_ht2)\n",
        "    print('final RMSE loss on test set:', final_loss.numpy())\n",
        "    NRMSE = final_loss/K.mean(test_labels_t2b)\n",
        "    print('final normalized RMSE loss (div mean) on the test set:', NRMSE.numpy())\n",
        "    RMSE_range = final_loss /(tf.reduce_max(test_labels_t2b) - tf.reduce_min(test_labels_t2b))\n",
        "    print('final normalized RMSE loss (div range) on the test set:', RMSE_range.numpy())\n",
        "    test_arr = tf.keras.backend.flatten(test_labels_t2b).numpy()\n",
        "    IQR = stats.iqr(test_arr)\n",
        "    RMSE_IQR = final_loss/IQR\n",
        "    print('final normalized RMSE loss (div IQR) on the test set:', RMSE_IQR.numpy())\n",
        "    print('final norm of the difference tensor:', tf.norm(y_pred_ht2-test_labels_t2b).numpy())\n",
        "    Boll_NRMSE = tf.norm(y_pred_ht2-test_labels_t2b) / tf.norm(test_labels_t2b)\n",
        "    print('final Bollman normalized RMSE loss on the test set:', Boll_NRMSE.numpy())\n",
        "\n",
        "    specs_dict['test_final_RMSE'] = final_loss.numpy()\n",
        "    specs_dict['test_final_NRMSE'] = NRMSE.numpy()\n",
        "    specs_dict['test_final_RMSE_range'] = RMSE_range.numpy()\n",
        "    specs_dict['test_final_RMSE_IQR'] = RMSE_IQR.numpy()\n",
        "    specs_dict['test_final_Boll_NRMSE'] = Boll_NRMSE.numpy()\n",
        "\n",
        "    # view final loss per battery ----------\n",
        "    Boll_NRMSE_test_lst = []\n",
        "\n",
        "    for i in np.arange(int(test_labels_t2b.shape[0])):\n",
        "      # print(i)\n",
        "      Boll_NRMSE = (tf.norm(y_pred_ht2[i,:,:,:]-test_labels_t2b[i,:,:,:]) \n",
        "                    / tf.norm(test_labels_t2b[i,:,:,:]))\n",
        "      Boll_NRMSE_test_lst.append(Boll_NRMSE)\n",
        "\n",
        "    plt.figure(figsize=(15,7))\n",
        "    plt.plot(Boll_NRMSE_test_lst, label=\"Boll_NRMSE per battery\")\n",
        "    plt.legend()\n",
        "    plt.xlabel(\"battery #\")\n",
        "    plt.ylabel(\"Boll_NRMSE\")\n",
        "    plt.savefig(cur_path+\"/test_Boll_NRMSE_per_battery.png\")\n",
        "    plt.close()\n",
        "\n",
        "    # -------------------------------------------\n",
        "\n",
        "    best_batt = np.argmin(Boll_NRMSE_test_lst)\n",
        "    best_batt_NRMSE = min(Boll_NRMSE_test_lst).numpy()\n",
        "    print(\"The best predicted battery is battery\", best_batt, \"from the test set with a Boll_NRMSE of \", best_batt_NRMSE)\n",
        "\n",
        "    plt.figure()\n",
        "    imshow_center(y_pred_ht2[best_batt,:,:,susax])\n",
        "    plt.title(\"predicted susceptibility for the \"+str(best_batt)+\" battery in test set\")\n",
        "    plt.savefig(cur_path+\"/test_best_pred.png\")\n",
        "    plt.close()\n",
        "\n",
        "    plt.figure()\n",
        "    imshow_center(test_labels_t2b[best_batt,:,:,susax])\n",
        "    plt.title(\"actual susceptibility for the \"+str(best_batt)+\" battery in test set\")\n",
        "    plt.savefig(cur_path+\"/test_best_true.png\")\n",
        "    plt.close()\n",
        "\n",
        "    plt.figure()\n",
        "    imshow_center(y_pred_ht2[best_batt,:,:,susax]-test_labels_t2b[best_batt,:,:,susax])\n",
        "    # plot the the predicted susceptibility - actual susceptibility in the same chanel which is '2' for the best battery in test set\n",
        "    # we want this difference to be as small as possible, not too extreme in either way\n",
        "    plt.title(\"error between predicted and true susceptibility\")\n",
        "    plt.savefig(cur_path+\"/test_best_error.png\")\n",
        "    plt.close()\n",
        "\n",
        "    yf,zf=calcfield(y_pred_ht2[best_batt,:,:,:], A_dict[dist])\n",
        "    # calculate the y(dimension 0) and z(dimension 1) component of the magnetic field for the 20th battery\n",
        "    # from the predicted susceptibility output\n",
        "    # so we are kind of like recreating the input to see if it is the same as the actual input\n",
        "    # to see if the model learned the dipole forward kernel well\n",
        "\n",
        "    plt.figure()\n",
        "    imshow_center(np.squeeze(X_test[best_batt,:,:,0])-yf)\n",
        "    plt.title(\"error between forwardly solved y-field from prediction and true input y-field\")\n",
        "    plt.savefig(cur_path+\"/test_best_yfield_diff.png\")\n",
        "    plt.close()\n",
        "\n",
        "    plt.figure()\n",
        "    imshow_center(np.squeeze(X_test[best_batt,:,:,1])-zf)\n",
        "    plt.title(\"error between forwardly solved z-field from prediction and true input z-field\")\n",
        "    plt.savefig(cur_path+\"/test_best_zfield_diff.png\")\n",
        "    plt.close()\n",
        "\n",
        "    # -------------------------------------------\n",
        "\n",
        "    worst_batt = np.argmax(Boll_NRMSE_test_lst)\n",
        "    worst_batt_NRMSE = max(Boll_NRMSE_test_lst).numpy()\n",
        "    print(\"The worst predicted battery is battery\", worst_batt, \"from the test set with a Boll_NRMSE of \", worst_batt_NRMSE)\n",
        "\n",
        "    plt.figure()\n",
        "    imshow_center(y_pred_ht2[worst_batt,:,:,susax])\n",
        "    plt.title(\"predicted susceptibility for the \"+str(worst_batt)+\" battery in test set\")\n",
        "    plt.savefig(cur_path+\"/test_worst_pred.png\")\n",
        "    plt.close()\n",
        "\n",
        "    plt.figure()\n",
        "    imshow_center(test_labels_t2b[worst_batt,:,:,susax])\n",
        "    plt.title(\"actual susceptibility for the \"+str(worst_batt)+\" battery in test set\")\n",
        "    plt.savefig(cur_path+\"/test_worst_true.png\")\n",
        "    plt.close()\n",
        "\n",
        "    plt.figure()\n",
        "    imshow_center(y_pred_ht2[worst_batt,:,:,susax]-test_labels_t2b[worst_batt,:,:,susax])\n",
        "    # plot the the predicted susceptibility - actual susceptibility in the same chanel which is '2' for the best battery in test set\n",
        "    # we want this difference to be as small as possible, not too extreme in either way\n",
        "    plt.title(\"error between predicted and true susceptibility\")\n",
        "    plt.savefig(cur_path+\"/test_worst_error.png\")\n",
        "    plt.close()\n",
        "\n",
        "    yf,zf=calcfield(y_pred_ht2[worst_batt,:,:,:], A_dict[dist])\n",
        "    # calculate the y(dimension 0) and z(dimension 1) component of the magnetic field for the 20th battery\n",
        "    # from the predicted susceptibility output\n",
        "    # so we are kind of like recreating the input to see if it is the same as the actual input\n",
        "    # to see if the model learned the dipole forward kernel well\n",
        "\n",
        "    plt.figure()\n",
        "    imshow_center(np.squeeze(X_test[worst_batt,:,:,0])-yf)\n",
        "    plt.title(\"error between forwardly solved y-field from prediction and true input y-field\")\n",
        "    plt.savefig(cur_path+\"/test_worst_yfield_diff.png\")\n",
        "    plt.close()\n",
        "\n",
        "    plt.figure()\n",
        "    imshow_center(np.squeeze(X_test[worst_batt,:,:,1])-zf)\n",
        "    plt.title(\"error between forwardly solved z-field from prediction and true input z-field\")\n",
        "    plt.savefig(cur_path+\"/test_worst_zfield_diff.png\")\n",
        "    plt.close()\n",
        "\n",
        "    print(\"are predictions for the two different batteries different?\" ,\n",
        "          np.all(y_pred_ht2[worst_batt,:,:,susax] == y_pred_ht2[best_batt,:,:,susax]) == False)\n",
        "    \n",
        "    # save specs to result dictionary\n",
        "    result_dict[cur_path] = specs_dict\n",
        "\n",
        "    print(100*'|')"
      ],
      "execution_count": null,
      "outputs": []
    },
    {
      "cell_type": "code",
      "metadata": {
        "id": "m4HWyU0LlUCz",
        "colab_type": "code",
        "colab": {
          "base_uri": "https://localhost:8080/",
          "height": 54
        },
        "outputId": "8040cd50-1190-4bd9-db92-a66785fcbebb"
      },
      "source": [
        "result_dict.keys()"
      ],
      "execution_count": null,
      "outputs": [
        {
          "output_type": "execute_result",
          "data": {
            "text/plain": [
              "dict_keys(['0.05dp/0.005dist', '0.1dp/0.005dist', '0.15dp/0.005dist', '0.05dp/0.01dist', '0.1dp/0.01dist', '0.15dp/0.01dist', '0.05dp/0.015dist', '0.1dp/0.015dist', '0.15dp/0.015dist', '0.05dp/0.02dist', '0.1dp/0.02dist', '0.15dp/0.02dist', '0.05dp/0.025dist', '0.1dp/0.025dist', '0.15dp/0.025dist'])"
            ]
          },
          "metadata": {
            "tags": []
          },
          "execution_count": 124
        }
      ]
    },
    {
      "cell_type": "code",
      "metadata": {
        "id": "aMAkG4mDwjKw",
        "colab_type": "code",
        "colab": {}
      },
      "source": [
        "assert len(result_dict.keys()) == len(dp_list) * len(set_dict.keys())"
      ],
      "execution_count": null,
      "outputs": []
    },
    {
      "cell_type": "code",
      "metadata": {
        "id": "7khkRIDcsb51",
        "colab_type": "code",
        "colab": {}
      },
      "source": [
        "assert len(result_dict['0.1dp/0.02dist'].keys()) == 14\n",
        "# there should be 14 different specs for each distance "
      ],
      "execution_count": null,
      "outputs": []
    },
    {
      "cell_type": "markdown",
      "metadata": {
        "id": "gxAERuArpP-p",
        "colab_type": "text"
      },
      "source": [
        "## plot the fianl test `Boll_NRMSE` across the different trials"
      ]
    },
    {
      "cell_type": "code",
      "metadata": {
        "id": "kkGEdv2nrxhT",
        "colab_type": "code",
        "colab": {
          "base_uri": "https://localhost:8080/",
          "height": 54
        },
        "outputId": "4c052a3b-5e89-4093-e5a3-f455698bfb44"
      },
      "source": [
        "result_dict.keys()"
      ],
      "execution_count": null,
      "outputs": [
        {
          "output_type": "execute_result",
          "data": {
            "text/plain": [
              "dict_keys(['0.05dp/0.005dist', '0.1dp/0.005dist', '0.15dp/0.005dist', '0.05dp/0.01dist', '0.1dp/0.01dist', '0.15dp/0.01dist', '0.05dp/0.015dist', '0.1dp/0.015dist', '0.15dp/0.015dist', '0.05dp/0.02dist', '0.1dp/0.02dist', '0.15dp/0.02dist', '0.05dp/0.025dist', '0.1dp/0.025dist', '0.15dp/0.025dist'])"
            ]
          },
          "metadata": {
            "tags": []
          },
          "execution_count": 131
        }
      ]
    },
    {
      "cell_type": "code",
      "metadata": {
        "id": "PQs_5If7r9zk",
        "colab_type": "code",
        "colab": {
          "base_uri": "https://localhost:8080/",
          "height": 54
        },
        "outputId": "432c49bb-e0e6-4fb9-9c9e-2a77275303b4"
      },
      "source": [
        "result_dict['0.05dp/0.005dist'].keys()"
      ],
      "execution_count": null,
      "outputs": [
        {
          "output_type": "execute_result",
          "data": {
            "text/plain": [
              "dict_keys(['best_val_loss_reached', 'training_time', 'val_loss_his', 'train_loss_his', 'train_final_RMSE', 'train_final_NRMSE', 'train_final_RMSE_range', 'train_final_RMSE_IQR', 'train_final_Boll_NRMSE', 'test_final_RMSE', 'test_final_NRMSE', 'test_final_RMSE_range', 'test_final_RMSE_IQR', 'test_final_Boll_NRMSE'])"
            ]
          },
          "metadata": {
            "tags": []
          },
          "execution_count": 133
        }
      ]
    },
    {
      "cell_type": "code",
      "metadata": {
        "id": "JPaKJIm6sfzA",
        "colab_type": "code",
        "colab": {
          "base_uri": "https://localhost:8080/",
          "height": 655
        },
        "outputId": "5646d175-c463-428f-f32d-9db7da12fe9e"
      },
      "source": [
        "fig,axs = plt.subplots(2,3, sharey='row')\n",
        "fig.set_size_inches(15,10)\n",
        "fig.text(0.5, 0.04, 'probe_dist', ha='center', size='x-large')\n",
        "fig.text(0.04, 0.5, 'best_val_RMSE                                            Boll_NRMSE',\n",
        "         va='center', rotation='vertical', size='x-large')\n",
        "i=0\n",
        "\n",
        " \n",
        "for dp in dp_list:\n",
        "  Boll_NRMSE_lst = []\n",
        "  best_val_loss_lst=[]\n",
        "  x=[]\n",
        "\n",
        "  for dist in dist_list:\n",
        "    key = str(dp)+'dp/'+str(dist)+'dist'\n",
        "    x.append(dist)\n",
        "    Boll_NRMSE_lst.append(result_dict[key]['test_final_Boll_NRMSE'])\n",
        "    best_val_loss_lst.append(result_dict[key]['best_val_loss_reached'])\n",
        "\n",
        "  axs[0,i].plot(x, Boll_NRMSE_lst, label=\"test_Boll_NRMSE\", linestyle='--', marker='o', color=\"red\") \n",
        "  axs[1,i].plot(x, best_val_loss_lst, label=\"best_val_loss\", linestyle='--', marker='o', color=\"blue\") \n",
        "  axs[0,i].set_title(\"dropout=\"+str(dp))\n",
        "  # axs[i].set_yscale(\"log\")\n",
        "  i= i+1\n",
        "\n",
        "fig.savefig(\"dist_VS_loss.png\")"
      ],
      "execution_count": null,
      "outputs": [
        {
          "output_type": "display_data",
          "data": {
            "image/png": "[encoded data removed]",
            "text/plain": [
              "<Figure size 1080x720 with 6 Axes>"
            ]
          },
          "metadata": {
            "tags": [],
            "needs_background": "light"
          }
        }
      ]
    },
    {
      "cell_type": "code",
      "metadata": {
        "id": "hRaU3luRuTwC",
        "colab_type": "code",
        "colab": {
          "base_uri": "https://localhost:8080/",
          "height": 34
        },
        "outputId": "8ba7caa5-35af-4215-ee30-f30746ca02eb"
      },
      "source": [
        "try:\n",
        "  # save the final result dictionary\n",
        "  # bc earlier versions of python does not support 'with' statement we have to do this?\n",
        "  result_json = json.dumps(result_dict)\n",
        "  f = open(\"result_dict.json\",\"w\")\n",
        "  f.write(result_json)\n",
        "  f.close()\n",
        "  print('saved result dictionary')\n",
        "  # load the json file later with\n",
        "  # f = open(\"result_dict.json\", \"r\")\n",
        "  # try:\n",
        "  #     result_dict = json.load(f)\n",
        "  # finally:\n",
        "  #     f.close()\n",
        "except:\n",
        "  print('could not save result dictionary')"
      ],
      "execution_count": null,
      "outputs": [
        {
          "output_type": "stream",
          "text": [
            "saved result dictionary\n"
          ],
          "name": "stdout"
        }
      ]
    },
    {
      "cell_type": "code",
      "metadata": {
        "id": "RXSmBGAzBVAs",
        "colab_type": "code",
        "colab": {}
      },
      "source": [
        "# predict w the best model, or in this case, only 1 model, on the test set\n",
        "    model_ht2b=tf.keras.models.load_model(str(cur_path)+'/model.best.h5',\n",
        "                                          custom_objects={'custom_loss_rmse': custom_loss_rmse})\n",
        "    \n",
        "    # in-sample -------------------------------------------------------------------------------------------------------------------------------------\n",
        "\n",
        "    susax=2\n",
        "    train_images_t2b = set_dict[dist]['train_images_t2b']\n",
        "    train_labels_t2b = set_dict[dist]['train_labels_t2b']\n",
        "    X_train = train_images_t2b\n",
        "    y_pred_ht2 = model_ht2b.predict(train_images_t2b)\n",
        "\n",
        "    plt.figure()\n",
        "    imshow_center(y_pred_ht2[20,:,:,susax])\n",
        "    plt.title(\"predicted susceptibility for the 20th battery in train set\")\n",
        "    plt.savefig(cur_path+\"/train_20_pred.png\")\n",
        "    plt.close()\n",
        "\n",
        "    plt.figure()\n",
        "    imshow_center(train_labels_t2b[20,:,:,susax])\n",
        "    plt.title(\"actual susceptibility for the 20th battery in train set\")\n",
        "    plt.savefig(cur_path+\"/train_20_true.png\")\n",
        "    plt.close()\n",
        "\n",
        "    plt.figure()\n",
        "    imshow_center(y_pred_ht2[20,:,:,susax]-train_labels_t2b[20,:,:,susax])\n",
        "    # plot the the predicted susceptibility - actual susceptibility in the same chanel which is '2' for the 20th battery in test set\n",
        "    # we want this difference to be as small as possible, not too extreme in either way\n",
        "    plt.title(\"error between predicted and true susceptibility\")\n",
        "    plt.savefig(cur_path+\"/train_20_error.png\")\n",
        "    plt.close()\n",
        "\n",
        "    train_diff = train_labels_t2b - y_pred_ht2\n",
        "    train_diff = tf.keras.backend.flatten(train_diff)\n",
        "    plt.figure(figsize=(15,7))\n",
        "    plt.hist(train_diff, bins=30, density=True, label='difference');\n",
        "    mn, mx = plt.xlim()\n",
        "    plt.xlim(mn, mx)\n",
        "    kde_xs = np.linspace(mn, mx, 60)\n",
        "    kde = stats.gaussian_kde(train_diff)\n",
        "    plt.plot(kde_xs, kde.pdf(kde_xs), label=\"PDF\")\n",
        "    plt.legend(loc=\"upper left\")\n",
        "    plt.ylabel('Probability')\n",
        "    plt.xlabel('difference')\n",
        "    range = np.max([np.abs(np.min(train_diff)), np.abs(np.max(train_diff))])\n",
        "    plt.xlim(-range, range)\n",
        "    plt.title(\"Histogram of differences\");\n",
        "    plt.savefig(cur_path+\"/train_diff_hist.png\")\n",
        "    plt.close()\n",
        "\n",
        "    yf,zf=calcfield(y_pred_ht2[20,:,:,:], A_dict[dist])\n",
        "    # calculate the y(dimension 0) and z(dimension 1) component of the magnetic field for the 20th battery\n",
        "    # from the predicted susceptibility output\n",
        "    # so we are kind of like recreating the input to see if it is the same as the actual input\n",
        "    # to see if the model learned the dipole forward kernel well\n",
        "\n",
        "    plt.figure()\n",
        "    imshow_center(np.squeeze(X_train[20,:,:,0])-yf)\n",
        "    plt.title(\"error between forwardly solved y-field from prediction and true input y-field\")\n",
        "    plt.savefig(cur_path+\"/train_20_yfield_diff.png\")\n",
        "    plt.close()\n",
        "\n",
        "    plt.figure()\n",
        "    imshow_center(np.squeeze(X_train[20,:,:,1])-zf)\n",
        "    plt.title(\"error between forwardly solved z-field from prediction and true input z-field\")\n",
        "    plt.savefig(cur_path+\"/train_20_zfield_diff.png\")\n",
        "    plt.close()\n",
        "\n",
        "    # calculate final train loss ------------\n",
        "\n",
        "    final_loss = custom_loss_rmse(train_labels_t2b, y_pred_ht2)\n",
        "    print('final RMSE loss on train set:', final_loss.numpy())\n",
        "    NRMSE = final_loss/K.mean(train_labels_t2b)\n",
        "    print('final normalized RMSE loss (div mean) on the train set:', NRMSE.numpy())\n",
        "    RMSE_range = final_loss /(tf.reduce_max(train_labels_t2b) - tf.reduce_min(train_labels_t2b))\n",
        "    print('final normalized RMSE loss (div range) on the train set:', RMSE_range.numpy())\n",
        "    train_arr = tf.keras.backend.flatten(train_labels_t2b).numpy()\n",
        "    IQR = stats.iqr(train_arr)\n",
        "    RMSE_IQR = final_loss/IQR\n",
        "    print('final normalized RMSE loss (div IQR) on the train set:', RMSE_IQR.numpy())\n",
        "    Boll_NRMSE = tf.norm(y_pred_ht2-train_labels_t2b) / tf.norm(train_labels_t2b)\n",
        "    print('final Bollman normalized RMSE loss on the train set:', Boll_NRMSE.numpy())\n",
        "\n",
        "    specs_dict['train_final_RMSE'] = final_loss.numpy()\n",
        "    specs_dict['train_final_NRMSE'] = NRMSE.numpy()\n",
        "    specs_dict['train_final_RMSE_range'] = RMSE_range.numpy()\n",
        "    specs_dict['train_final_RMSE_IQR'] = RMSE_IQR.numpy()\n",
        "    specs_dict['train_final_Boll_NRMSE'] = Boll_NRMSE.numpy()\n",
        "\n",
        "    # view final loss per battery ----------\n",
        "\n",
        "    Boll_NRMSE_train_lst = []\n",
        "\n",
        "    for i in np.arange(int(train_labels_t2b.shape[0])):\n",
        "      # print(i)\n",
        "      Boll_NRMSE = (tf.norm(y_pred_ht2[i,:,:,:]-train_labels_t2b[i,:,:,:]) \n",
        "                    / tf.norm(train_labels_t2b[i,:,:,:]))\n",
        "      Boll_NRMSE_train_lst.append(Boll_NRMSE)\n",
        "\n",
        "    plt.figure(figsize=(15,7))\n",
        "    plt.plot(Boll_NRMSE_train_lst, label=\"Boll_NRMSE per battery\")\n",
        "    plt.legend()\n",
        "    plt.xlabel(\"battery #\")\n",
        "    plt.ylabel(\"Boll_NRMSE\")\n",
        "    plt.savefig(cur_path+\"/train_Boll_NRMSE_per_battery.png\")\n",
        "    plt.close()\n",
        "\n",
        "    # -------------------------------------------\n",
        "\n",
        "    best_batt = np.argmin(Boll_NRMSE_train_lst)\n",
        "    best_batt_NRMSE = min(Boll_NRMSE_train_lst).numpy()\n",
        "    print(\"The best predicted battery is battery \", best_batt, \"from the train set with a Boll_NRMSE of \", best_batt_NRMSE)\n",
        "\n",
        "    plt.figure()\n",
        "    imshow_center(y_pred_ht2[best_batt,:,:,susax])\n",
        "    plt.title(\"predicted susceptibility for the \"+str(best_batt)+\" battery in train set\")\n",
        "    plt.savefig(cur_path+\"/train_best_pred.png\")\n",
        "    plt.close()\n",
        "\n",
        "    plt.figure()\n",
        "    imshow_center(train_labels_t2b[best_batt,:,:,susax])\n",
        "    plt.title(\"actual susceptibility for the \"+str(best_batt)+\" battery in train set\")\n",
        "    plt.savefig(cur_path+\"/train_best_true.png\")\n",
        "    plt.close()\n",
        "\n",
        "    plt.figure()\n",
        "    imshow_center(y_pred_ht2[best_batt,:,:,susax]-train_labels_t2b[best_batt,:,:,susax])\n",
        "    # plot the the predicted susceptibility - actual susceptibility in the same chanel which is '2' for the best battery in test set\n",
        "    # we want this difference to be as small as possible, not too extreme in either way\n",
        "    plt.title(\"error between predicted and true susceptibility\")\n",
        "    plt.savefig(cur_path+\"/train_best_error.png\")\n",
        "    plt.close()\n",
        "\n",
        "    yf,zf=calcfield(y_pred_ht2[best_batt,:,:,:], A_dict[dist])\n",
        "    # calculate the y(dimension 0) and z(dimension 1) component of the magnetic field for the 20th battery\n",
        "    # from the predicted susceptibility output\n",
        "    # so we are kind of like recreating the input to see if it is the same as the actual input\n",
        "    # to see if the model learned the dipole forward kernel well\n",
        "\n",
        "    plt.figure()\n",
        "    imshow_center(np.squeeze(X_train[best_batt,:,:,0])-yf)\n",
        "    plt.title(\"error between forwardly solved y-field from prediction and true input y-field\")\n",
        "    plt.savefig(cur_path+\"/train_best_yfield_diff.png\")\n",
        "    plt.close()\n",
        "\n",
        "    plt.figure()\n",
        "    imshow_center(np.squeeze(X_train[best_batt,:,:,1])-zf)\n",
        "    plt.title(\"error between forwardly solved z-field from prediction and true input z-field\")\n",
        "    plt.savefig(cur_path+\"/train_best_zfield_diff.png\")\n",
        "    plt.close()\n",
        "\n",
        "    # -------------------------------------------\n",
        "\n",
        "    worst_batt = np.argmax(Boll_NRMSE_train_lst)\n",
        "    worst_batt_NRMSE = max(Boll_NRMSE_train_lst).numpy()\n",
        "    print(\"The worst predicted battery is battery\", worst_batt, \"from the train set with a Boll_NRMSE of \", worst_batt_NRMSE)\n",
        "\n",
        "    plt.figure()\n",
        "    imshow_center(y_pred_ht2[worst_batt,:,:,susax])\n",
        "    plt.title(\"predicted susceptibility for the \"+str(worst_batt)+\" battery in train set\")\n",
        "    plt.savefig(cur_path+\"/train_worst_pred.png\")\n",
        "    plt.close()\n",
        "\n",
        "    plt.figure()\n",
        "    imshow_center(train_labels_t2b[worst_batt,:,:,susax])\n",
        "    plt.title(\"actual susceptibility for the \"+str(worst_batt)+\" battery in train set\")\n",
        "    plt.savefig(cur_path+\"/train_worst_true.png\")\n",
        "    plt.close()\n",
        "\n",
        "    plt.figure()\n",
        "    imshow_center(y_pred_ht2[worst_batt,:,:,susax]-train_labels_t2b[worst_batt,:,:,susax])\n",
        "    # plot the the predicted susceptibility - actual susceptibility in the same chanel which is '2' for the best battery in test set\n",
        "    # we want this difference to be as small as possible, not too extreme in either way\n",
        "    plt.title(\"error between predicted and true susceptibility\")\n",
        "    plt.savefig(cur_path+\"/train_worst_error.png\")\n",
        "    plt.close()\n",
        "\n",
        "    yf,zf=calcfield(y_pred_ht2[worst_batt,:,:,:], A_dict[dist])\n",
        "    # calculate the y(dimension 0) and z(dimension 1) component of the magnetic field for the 20th battery\n",
        "    # from the predicted susceptibility output\n",
        "    # so we are kind of like recreating the input to see if it is the same as the actual input\n",
        "    # to see if the model learned the dipole forward kernel well\n",
        "\n",
        "    plt.figure()\n",
        "    imshow_center(np.squeeze(X_train[worst_batt,:,:,0])-yf)\n",
        "    plt.title(\"error between forwardly solved y-field from prediction and true input y-field\")\n",
        "    plt.savefig(cur_path+\"/train_worst_yfield_diff.png\")\n",
        "    plt.close()\n",
        "\n",
        "    plt.figure()\n",
        "    imshow_center(np.squeeze(X_train[worst_batt,:,:,1])-zf)\n",
        "    plt.title(\"error between forwardly solved z-field from prediction and true input z-field\")\n",
        "    plt.savefig(cur_path+\"/train_worst_zfield_diff.png\")\n",
        "    plt.close()\n",
        "\n",
        "    print(\"are predictions for the two different batteries different?\" ,\n",
        "          np.all(y_pred_ht2[worst_batt,:,:,susax] == y_pred_ht2[best_batt,:,:,susax]) == False)\n",
        "\n",
        "    # out-of-sample ----------------------------------------------------------------------------------------------------------------------\n",
        "\n",
        "    susax=2\n",
        "    test_images_t2b = set_dict[dist]['test_images_t2b']\n",
        "    test_labels_t2b = set_dict[dist]['test_labels_t2b']\n",
        "    X_test = test_images_t2b\n",
        "    y_pred_ht2 = model_ht2b.predict(test_images_t2b)\n",
        "\n",
        "    plt.figure()\n",
        "    imshow_center(y_pred_ht2[20,:,:,susax])\n",
        "    plt.title(\"predicted susceptibility for the 20th battery in test set\")\n",
        "    plt.savefig(cur_path+\"/test_20_pred.png\")\n",
        "    plt.close()\n",
        "\n",
        "    plt.figure()\n",
        "    imshow_center(test_labels_t2b[20,:,:,susax])\n",
        "    plt.title(\"actual susceptibility for the 20th battery in test set\")\n",
        "    plt.savefig(cur_path+\"/test_20_true.png\")\n",
        "    plt.close()\n",
        "\n",
        "    plt.figure()\n",
        "    imshow_center(y_pred_ht2[20,:,:,susax]-test_labels_t2b[20,:,:,susax])\n",
        "    # plot the the predicted susceptibility - actual susceptibility in the same chanel which is '2' for the 20th battery in test set\n",
        "    # we want this difference to be as small as possible, not too extreme in either way\n",
        "    plt.title(\"error between predicted and true susceptibility\")\n",
        "    plt.savefig(cur_path+\"/test_20_error.png\")\n",
        "    plt.close()\n",
        "\n",
        "    test_diff = test_labels_t2b - y_pred_ht2\n",
        "    test_diff = tf.keras.backend.flatten(test_diff)\n",
        "    plt.figure(figsize=(15,7))\n",
        "    plt.hist(test_diff, bins=30, density=True, label='difference');\n",
        "    mn, mx = plt.xlim()\n",
        "    plt.xlim(mn, mx)\n",
        "    kde_xs = np.linspace(mn, mx, 60)\n",
        "    kde = stats.gaussian_kde(test_diff)\n",
        "    plt.plot(kde_xs, kde.pdf(kde_xs), label=\"PDF\")\n",
        "    plt.legend(loc=\"upper left\")\n",
        "    plt.ylabel('Probability')\n",
        "    plt.xlabel('difference')\n",
        "    range = np.max([np.abs(np.min(test_diff)), np.abs(np.max(test_diff))])\n",
        "    plt.xlim(-range, range)\n",
        "    plt.title(\"Histogram of differences\");\n",
        "    plt.savefig(cur_path+\"/test_diff_hist.png\")\n",
        "    plt.close()\n",
        "\n",
        "    yf,zf=calcfield(y_pred_ht2[20,:,:,:], A_dict[dist])\n",
        "    # calculate the y(dimension 0) and z(dimension 1) component of the magnetic field for the 20th battery\n",
        "    # from the predicted susceptibility output\n",
        "    # so we are kind of like recreating the input to see if it is the same as the actual input\n",
        "    # to see if the model learned the dipole forward kernel well\n",
        "\n",
        "    plt.figure()\n",
        "    imshow_center(np.squeeze(X_test[20,:,:,0])-yf)\n",
        "    plt.title(\"error between forwardly solved y-field from prediction and true input y-field\")\n",
        "    plt.savefig(cur_path+\"/test_20_yfield_diff.png\")\n",
        "    plt.close()\n",
        "\n",
        "    plt.figure()\n",
        "    imshow_center(np.squeeze(X_test[20,:,:,1])-zf)\n",
        "    plt.title(\"error between forwardly solved z-field from prediction and true input z-field\")\n",
        "    plt.savefig(cur_path+\"/test_20_zfield_diff.png\")\n",
        "    plt.close()\n",
        "\n",
        "    # calculate final test loss ------------\n",
        "\n",
        "    final_loss = custom_loss_rmse(test_labels_t2b, y_pred_ht2)\n",
        "    print('final RMSE loss on test set:', final_loss.numpy())\n",
        "    NRMSE = final_loss/K.mean(test_labels_t2b)\n",
        "    print('final normalized RMSE loss (div mean) on the test set:', NRMSE.numpy())\n",
        "    RMSE_range = final_loss /(tf.reduce_max(test_labels_t2b) - tf.reduce_min(test_labels_t2b))\n",
        "    print('final normalized RMSE loss (div range) on the test set:', RMSE_range.numpy())\n",
        "    test_arr = tf.keras.backend.flatten(test_labels_t2b).numpy()\n",
        "    IQR = stats.iqr(test_arr)\n",
        "    RMSE_IQR = final_loss/IQR\n",
        "    print('final normalized RMSE loss (div IQR) on the test set:', RMSE_IQR.numpy())\n",
        "    print('final norm of the difference tensor:', tf.norm(y_pred_ht2-test_labels_t2b).numpy())\n",
        "    Boll_NRMSE = tf.norm(y_pred_ht2-test_labels_t2b) / tf.norm(test_labels_t2b)\n",
        "    print('final Bollman normalized RMSE loss on the test set:', Boll_NRMSE.numpy())\n",
        "\n",
        "    specs_dict['test_final_RMSE'] = final_loss.numpy()\n",
        "    specs_dict['test_final_NRMSE'] = NRMSE.numpy()\n",
        "    specs_dict['test_final_RMSE_range'] = RMSE_range.numpy()\n",
        "    specs_dict['test_final_RMSE_IQR'] = RMSE_IQR.numpy()\n",
        "    specs_dict['test_final_Boll_NRMSE'] = Boll_NRMSE.numpy()\n",
        "\n",
        "    # view final loss per battery ----------\n",
        "    Boll_NRMSE_test_lst = []\n",
        "\n",
        "    for i in np.arange(int(test_labels_t2b.shape[0])):\n",
        "      # print(i)\n",
        "      Boll_NRMSE = (tf.norm(y_pred_ht2[i,:,:,:]-test_labels_t2b[i,:,:,:]) \n",
        "                    / tf.norm(test_labels_t2b[i,:,:,:]))\n",
        "      Boll_NRMSE_test_lst.append(Boll_NRMSE)\n",
        "\n",
        "    plt.figure(figsize=(15,7))\n",
        "    plt.plot(Boll_NRMSE_test_lst, label=\"Boll_NRMSE per battery\")\n",
        "    plt.legend()\n",
        "    plt.xlabel(\"battery #\")\n",
        "    plt.ylabel(\"Boll_NRMSE\")\n",
        "    plt.savefig(cur_path+\"/test_Boll_NRMSE_per_battery.png\")\n",
        "    plt.close()\n",
        "\n",
        "    # -------------------------------------------\n",
        "\n",
        "    best_batt = np.argmin(Boll_NRMSE_test_lst)\n",
        "    best_batt_NRMSE = min(Boll_NRMSE_test_lst).numpy()\n",
        "    print(\"The best predicted battery is battery\", best_batt, \"from the test set with a Boll_NRMSE of \", best_batt_NRMSE)\n",
        "\n",
        "    plt.figure()\n",
        "    imshow_center(y_pred_ht2[best_batt,:,:,susax])\n",
        "    plt.title(\"predicted susceptibility for the \"+str(best_batt)+\" battery in test set\")\n",
        "    plt.savefig(cur_path+\"/test_best_pred.png\")\n",
        "    plt.close()\n",
        "\n",
        "    plt.figure()\n",
        "    imshow_center(test_labels_t2b[best_batt,:,:,susax])\n",
        "    plt.title(\"actual susceptibility for the \"+str(best_batt)+\" battery in test set\")\n",
        "    plt.savefig(cur_path+\"/test_best_true.png\")\n",
        "    plt.close()\n",
        "\n",
        "    plt.figure()\n",
        "    imshow_center(y_pred_ht2[best_batt,:,:,susax]-test_labels_t2b[best_batt,:,:,susax])\n",
        "    # plot the the predicted susceptibility - actual susceptibility in the same chanel which is '2' for the best battery in test set\n",
        "    # we want this difference to be as small as possible, not too extreme in either way\n",
        "    plt.title(\"error between predicted and true susceptibility\")\n",
        "    plt.savefig(cur_path+\"/test_best_error.png\")\n",
        "    plt.close()\n",
        "\n",
        "    yf,zf=calcfield(y_pred_ht2[best_batt,:,:,:], A_dict[dist])\n",
        "    # calculate the y(dimension 0) and z(dimension 1) component of the magnetic field for the 20th battery\n",
        "    # from the predicted susceptibility output\n",
        "    # so we are kind of like recreating the input to see if it is the same as the actual input\n",
        "    # to see if the model learned the dipole forward kernel well\n",
        "\n",
        "    plt.figure()\n",
        "    imshow_center(np.squeeze(X_test[best_batt,:,:,0])-yf)\n",
        "    plt.title(\"error between forwardly solved y-field from prediction and true input y-field\")\n",
        "    plt.savefig(cur_path+\"/test_best_yfield_diff.png\")\n",
        "    plt.close()\n",
        "\n",
        "    plt.figure()\n",
        "    imshow_center(np.squeeze(X_test[best_batt,:,:,1])-zf)\n",
        "    plt.title(\"error between forwardly solved z-field from prediction and true input z-field\")\n",
        "    plt.savefig(cur_path+\"/test_best_zfield_diff.png\")\n",
        "    plt.close()\n",
        "\n",
        "    # -------------------------------------------\n",
        "\n",
        "    worst_batt = np.argmax(Boll_NRMSE_test_lst)\n",
        "    worst_batt_NRMSE = max(Boll_NRMSE_test_lst).numpy()\n",
        "    print(\"The worst predicted battery is battery\", worst_batt, \"from the test set with a Boll_NRMSE of \", worst_batt_NRMSE)\n",
        "\n",
        "    plt.figure()\n",
        "    imshow_center(y_pred_ht2[worst_batt,:,:,susax])\n",
        "    plt.title(\"predicted susceptibility for the \"+str(worst_batt)+\" battery in test set\")\n",
        "    plt.savefig(cur_path+\"/test_worst_pred.png\")\n",
        "    plt.close()\n",
        "\n",
        "    plt.figure()\n",
        "    imshow_center(test_labels_t2b[worst_batt,:,:,susax])\n",
        "    plt.title(\"actual susceptibility for the \"+str(worst_batt)+\" battery in test set\")\n",
        "    plt.savefig(cur_path+\"/test_worst_true.png\")\n",
        "    plt.close()\n",
        "\n",
        "    plt.figure()\n",
        "    imshow_center(y_pred_ht2[worst_batt,:,:,susax]-test_labels_t2b[worst_batt,:,:,susax])\n",
        "    # plot the the predicted susceptibility - actual susceptibility in the same chanel which is '2' for the best battery in test set\n",
        "    # we want this difference to be as small as possible, not too extreme in either way\n",
        "    plt.title(\"error between predicted and true susceptibility\")\n",
        "    plt.savefig(cur_path+\"/test_worst_error.png\")\n",
        "    plt.close()\n",
        "\n",
        "    yf,zf=calcfield(y_pred_ht2[worst_batt,:,:,:], A_dict[dist])\n",
        "    # calculate the y(dimension 0) and z(dimension 1) component of the magnetic field for the 20th battery\n",
        "    # from the predicted susceptibility output\n",
        "    # so we are kind of like recreating the input to see if it is the same as the actual input\n",
        "    # to see if the model learned the dipole forward kernel well\n",
        "\n",
        "    plt.figure()\n",
        "    imshow_center(np.squeeze(X_test[worst_batt,:,:,0])-yf)\n",
        "    plt.title(\"error between forwardly solved y-field from prediction and true input y-field\")\n",
        "    plt.savefig(cur_path+\"/test_worst_yfield_diff.png\")\n",
        "    plt.close()\n",
        "\n",
        "    plt.figure()\n",
        "    imshow_center(np.squeeze(X_test[worst_batt,:,:,1])-zf)\n",
        "    plt.title(\"error between forwardly solved z-field from prediction and true input z-field\")\n",
        "    plt.savefig(cur_path+\"/test_worst_zfield_diff.png\")\n",
        "    plt.close()\n",
        "\n",
        "    print(\"are predictions for the two different batteries different?\" ,\n",
        "          np.all(y_pred_ht2[worst_batt,:,:,susax] == y_pred_ht2[best_batt,:,:,susax]) == False)\n",
        "    \n",
        "    # save specs to result dictionary\n",
        "    result_dict[cur_path] = specs_dict\n",
        "\n",
        "    print(100*'|')"
      ],
      "execution_count": null,
      "outputs": []
    },
    {
      "cell_type": "code",
      "metadata": {
        "id": "1VH0ZN7cXeJI",
        "colab_type": "code",
        "colab": {}
      },
      "source": [
        ""
      ],
      "execution_count": null,
      "outputs": []
    }
  ]
}