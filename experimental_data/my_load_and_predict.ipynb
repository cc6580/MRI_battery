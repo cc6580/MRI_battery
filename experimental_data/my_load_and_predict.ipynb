{
  "nbformat": 4,
  "nbformat_minor": 0,
  "metadata": {
    "kernelspec": {
      "name": "python3",
      "display_name": "Python 3"
    },
    "colab": {
      "name": "my_load_and_predict.ipynb",
      "provenance": [],
      "collapsed_sections": [],
      "toc_visible": true
    }
  },
  "cells": [
    {
      "cell_type": "markdown",
      "metadata": {
        "id": "QfKVkvDeLNdG",
        "colab_type": "text"
      },
      "source": [
        "# Code for loading experimental data"
      ]
    },
    {
      "cell_type": "markdown",
      "metadata": {
        "id": "337zZEE2LNdI",
        "colab_type": "text"
      },
      "source": [
        "## Dipole field\n",
        "$\\mathbf{H}(\\mathbf{r})=\\frac{\\mathbf{B}(\\mathbf{r})}{\\mu_0} = \\frac{1}{4\\pi} \\left[ \\frac{3\\mathbf{\\hat{r}}(\\mathbf{m}\\cdot \\mathbf{\\hat{r}})-\\mathbf{m}}{r^3}\\right]$\n",
        "\n",
        "### z-component\n",
        "\n",
        "$\\frac{3\\mathbf{r}(\\mathbf{m}\\cdot \\mathbf{r})}{r^5}-\\frac{m_z}{r^3}$, so if only z-suscept: $\\frac{3r_z^2 m_z}{r^5}-\\frac{m_z}{r^3}$\n",
        "\n",
        "### y-component\n",
        "\n",
        "$\\frac{3\\mathbf{r}(\\mathbf{m}\\cdot \\mathbf{r})}{r^5}-\\frac{m_y}{r^3}$, so if only z-suscept: $\\frac{3r_y r_z m_z}{r^5}$\n",
        "\n"
      ]
    },
    {
      "cell_type": "markdown",
      "metadata": {
        "id": "lB_6h4woLNdI",
        "colab_type": "text"
      },
      "source": [
        "# Imports"
      ]
    },
    {
      "cell_type": "code",
      "metadata": {
        "id": "qykRFBvNLQHm",
        "colab_type": "code",
        "colab": {
          "base_uri": "https://localhost:8080/",
          "height": 122
        },
        "outputId": "54e3ab93-0cf3-4094-f98b-a608a47212bc"
      },
      "source": [
        "from google.colab import drive\n",
        "import os\n",
        "\n",
        "drive.mount('/content/drive')"
      ],
      "execution_count": 1,
      "outputs": [
        {
          "output_type": "stream",
          "text": [
            "Go to this URL in a browser: https://accounts.google.com/o/oauth2/auth?client_id=947318989803-6bn6qk8qdgf4n4g3pfee6491hc0brc4i.apps.googleusercontent.com&redirect_uri=urn%3aietf%3awg%3aoauth%3a2.0%3aoob&scope=email%20https%3a%2f%2fwww.googleapis.com%2fauth%2fdocs.test%20https%3a%2f%2fwww.googleapis.com%2fauth%2fdrive%20https%3a%2f%2fwww.googleapis.com%2fauth%2fdrive.photos.readonly%20https%3a%2f%2fwww.googleapis.com%2fauth%2fpeopleapi.readonly&response_type=code\n",
            "\n",
            "Enter your authorization code:\n",
            "··········\n",
            "Mounted at /content/drive\n"
          ],
          "name": "stdout"
        }
      ]
    },
    {
      "cell_type": "code",
      "metadata": {
        "id": "f6GyiZnpLNdK",
        "colab_type": "code",
        "colab": {}
      },
      "source": [
        "import numpy as np\n",
        "import matplotlib.pyplot as plt\n",
        "from matplotlib import transforms\n",
        "import scipy.io as sio\n",
        "from scipy import ndimage\n",
        "from scipy.io import loadmat\n",
        "import nibabel as nib\n",
        "import pickle as pk\n",
        "from scipy import interpolate"
      ],
      "execution_count": 2,
      "outputs": []
    },
    {
      "cell_type": "code",
      "metadata": {
        "id": "-xdiHWBRLNdO",
        "colab_type": "code",
        "colab": {}
      },
      "source": [
        "# set random seed for testing\n",
        "np.random.seed(30)"
      ],
      "execution_count": 3,
      "outputs": []
    },
    {
      "cell_type": "code",
      "metadata": {
        "id": "v-MnZ0K4LNdU",
        "colab_type": "code",
        "colab": {
          "base_uri": "https://localhost:8080/",
          "height": 34
        },
        "outputId": "204dc4a4-24e2-44d9-e817-09ae12cfe7ce"
      },
      "source": [
        "!type python"
      ],
      "execution_count": 4,
      "outputs": [
        {
          "output_type": "stream",
          "text": [
            "python is /usr/local/bin/python\n"
          ],
          "name": "stdout"
        }
      ]
    },
    {
      "cell_type": "code",
      "metadata": {
        "id": "6bBu0755LNdY",
        "colab_type": "code",
        "colab": {
          "base_uri": "https://localhost:8080/",
          "height": 102
        },
        "outputId": "57773705-4e03-42ce-fa4a-50805cc550cb"
      },
      "source": [
        "!jupyter kernelspec list"
      ],
      "execution_count": 5,
      "outputs": [
        {
          "output_type": "stream",
          "text": [
            "Available kernels:\n",
            "  ir         /usr/local/share/jupyter/kernels/ir\n",
            "  python2    /usr/local/share/jupyter/kernels/python2\n",
            "  python3    /usr/local/share/jupyter/kernels/python3\n",
            "  swift      /usr/local/share/jupyter/kernels/swift\n"
          ],
          "name": "stdout"
        }
      ]
    },
    {
      "cell_type": "code",
      "metadata": {
        "id": "EUuV1m9cLNdb",
        "colab_type": "code",
        "colab": {}
      },
      "source": [
        "import tensorflow as tf\n",
        "from tensorflow import keras\n",
        "from tensorflow.keras import models, layers\n",
        "from tensorflow.keras import backend as K"
      ],
      "execution_count": 6,
      "outputs": []
    },
    {
      "cell_type": "code",
      "metadata": {
        "id": "h3gDp1iwLNde",
        "colab_type": "code",
        "colab": {
          "base_uri": "https://localhost:8080/",
          "height": 51
        },
        "outputId": "4d5299d6-5a63-44d0-8e26-8380ed627447"
      },
      "source": [
        "print(tf.__version__)\n",
        "print(tf.__file__)"
      ],
      "execution_count": 7,
      "outputs": [
        {
          "output_type": "stream",
          "text": [
            "2.3.0\n",
            "/usr/local/lib/python3.6/dist-packages/tensorflow/__init__.py\n"
          ],
          "name": "stdout"
        }
      ]
    },
    {
      "cell_type": "code",
      "metadata": {
        "id": "qlVmbDfkLNdi",
        "colab_type": "code",
        "colab": {
          "base_uri": "https://localhost:8080/",
          "height": 34
        },
        "outputId": "ddcef54d-ad9c-4e4a-ded6-84154487ca6a"
      },
      "source": [
        "device_name = tf.test.gpu_device_name()\n",
        "# if device_name != '/device:GPU:0':\n",
        "#     raise SystemError('GPU device not found')\n",
        "print('Found GPU at: {}'.format(device_name))"
      ],
      "execution_count": 8,
      "outputs": [
        {
          "output_type": "stream",
          "text": [
            "Found GPU at: \n"
          ],
          "name": "stdout"
        }
      ]
    },
    {
      "cell_type": "markdown",
      "metadata": {
        "id": "iApo24UXLNdm",
        "colab_type": "text"
      },
      "source": [
        "# Read battery magnetometry data"
      ]
    },
    {
      "cell_type": "code",
      "metadata": {
        "id": "7n-vK0YSWj7K",
        "colab_type": "code",
        "colab": {}
      },
      "source": [
        "def imshow_center(data):\n",
        "  '''\n",
        "  Display 1 chanel of the data as an image; i.e. on a 2D regular raster.\n",
        "  input:\n",
        "    data: a single battery's \n",
        "      magnetic field image that is a 2-D array with shape [64,32] with scalar data,\n",
        "      or magnetic susceptibility image that is a 2-D array with shape [32,16]\n",
        "  output:\n",
        "    figure/image displaying all the range of values\n",
        "  '''\n",
        "  maxval=np.max(np.abs(data))\n",
        "  plt.imshow(data, cmap=\"seismic\",vmin=-maxval,vmax=maxval)\n",
        "  plt.colorbar()"
      ],
      "execution_count": 9,
      "outputs": []
    },
    {
      "cell_type": "markdown",
      "metadata": {
        "id": "BpZf2uEiQ7FJ",
        "colab_type": "text"
      },
      "source": [
        "## load one battery sample\n"
      ]
    },
    {
      "cell_type": "code",
      "metadata": {
        "id": "eEvX-GsILNdm",
        "colab_type": "code",
        "colab": {}
      },
      "source": [
        "fpath = '/content/drive/My Drive/Jerschow_Research/experimental data'\n",
        "\n",
        "local_fpath='battdata-summary, new send May 2019';\n",
        "# 2540: -87\n",
        "# 2810: -117 \n",
        "# 3000: -146\n",
        "# 3100: -195\n",
        "# 3340: -217\n",
        "fname='fmap_3340';"
      ],
      "execution_count": 10,
      "outputs": []
    },
    {
      "cell_type": "code",
      "metadata": {
        "id": "xCyw7tmcLNds",
        "colab_type": "code",
        "colab": {}
      },
      "source": [
        "compfname = fpath + '/' + local_fpath + '/' + fname\n",
        "mat_contents = loadmat(compfname)"
      ],
      "execution_count": 11,
      "outputs": []
    },
    {
      "cell_type": "code",
      "metadata": {
        "id": "cH2CzPK2LNdv",
        "colab_type": "code",
        "colab": {
          "base_uri": "https://localhost:8080/",
          "height": 629
        },
        "outputId": "8a65ac1d-ec5e-4c8b-9b23-bff3ceb2badc"
      },
      "source": [
        "mat_contents"
      ],
      "execution_count": 12,
      "outputs": [
        {
          "output_type": "execute_result",
          "data": {
            "text/plain": [
              "{'__globals__': [],\n",
              " '__header__': b'MATLAB 5.0 MAT-file, Platform: MACI64, Created on: Fri May 17 11:26:31 2019',\n",
              " '__version__': '1.0',\n",
              " 'cscale': array([[0.001, 0.002, 0.003, 0.004, 0.005, 0.006, 0.007, 0.008, 0.009,\n",
              "         0.01 , 0.011, 0.012, 0.013, 0.014, 0.015, 0.016, 0.017, 0.018,\n",
              "         0.019, 0.02 , 0.021, 0.022, 0.023, 0.024, 0.025, 0.026, 0.027,\n",
              "         0.028, 0.029, 0.03 , 0.031, 0.032, 0.033, 0.034, 0.035, 0.036,\n",
              "         0.037, 0.038, 0.039, 0.04 , 0.041]]),\n",
              " 'rscale': array([[7.40000e-05, 1.48000e-04, 2.22000e-04, ..., 1.19954e-01,\n",
              "         1.20028e-01, 1.20102e-01]]),\n",
              " 'yfield': array([[  8.44128072,   8.1238133 ,   6.80989855, ...,  -4.93349688,\n",
              "          -3.98436563,  -4.63475035],\n",
              "        [  8.56418591,   8.26660136,   6.82150513, ...,  -4.92732979,\n",
              "          -4.01846904,  -4.63737096],\n",
              "        [  8.67896637,   8.34222178,   6.93101032, ...,  -4.84814807,\n",
              "          -3.97239623,  -4.65554158],\n",
              "        ...,\n",
              "        [ -8.70246499,  -9.55873749, -10.01492062, ...,   3.5649549 ,\n",
              "           5.85745493,   4.58258628],\n",
              "        [ -8.62179036,  -9.42761995,  -9.93755248, ...,   3.48491814,\n",
              "           5.75831694,   4.58733143],\n",
              "        [ -8.57683256,  -9.28348641,  -9.83934564, ...,   3.41509208,\n",
              "           5.6520326 ,   4.60732367]]),\n",
              " 'zfield': array([[14.54457844, 15.57832778, 17.44040812, ...,  7.40718263,\n",
              "         11.70201811, 12.18111676],\n",
              "        [14.66012244, 15.58906047, 17.45092272, ...,  7.59060786,\n",
              "         11.70557457, 12.27622447],\n",
              "        [14.61782864, 15.62033349, 17.46974835, ...,  7.65290991,\n",
              "         11.63661026, 12.40515622],\n",
              "        ...,\n",
              "        [ 7.60229772, 10.47614042, 13.09914279, ..., 11.85295202,\n",
              "         15.12255568, 14.32897836],\n",
              "        [ 7.57413533, 10.45505587, 13.12461318, ..., 12.0003303 ,\n",
              "         15.15324695, 14.30369509],\n",
              "        [ 7.62335511, 10.38241982, 13.13482607, ..., 12.10614472,\n",
              "         15.16289958, 14.2663554 ]])}"
            ]
          },
          "metadata": {
            "tags": []
          },
          "execution_count": 12
        }
      ]
    },
    {
      "cell_type": "code",
      "metadata": {
        "id": "Ezr8a308LNdy",
        "colab_type": "code",
        "colab": {}
      },
      "source": [
        "cscale=mat_contents['cscale']\n",
        "rscale=mat_contents['rscale']\n",
        "zfield=mat_contents['zfield']\n",
        "yfield=mat_contents['yfield']"
      ],
      "execution_count": 13,
      "outputs": []
    },
    {
      "cell_type": "code",
      "metadata": {
        "id": "398HqOC7RBQ1",
        "colab_type": "code",
        "colab": {
          "base_uri": "https://localhost:8080/",
          "height": 85
        },
        "outputId": "a7a84a41-2671-425c-90c8-b792a58c7343"
      },
      "source": [
        "print(cscale.shape)\n",
        "print(rscale.shape)\n",
        "print(zfield.shape)\n",
        "print(yfield.shape)"
      ],
      "execution_count": 14,
      "outputs": [
        {
          "output_type": "stream",
          "text": [
            "(1, 41)\n",
            "(1, 1623)\n",
            "(1623, 41)\n",
            "(1623, 41)\n"
          ],
          "name": "stdout"
        }
      ]
    },
    {
      "cell_type": "code",
      "metadata": {
        "id": "70IKbDq5LNd0",
        "colab_type": "code",
        "colab": {}
      },
      "source": [
        "# downsample/resample to match nn needs (seems like easiest is to stick to powers of two)\n",
        "df=10;\n",
        "newcscale=np.linspace(cscale.min(),cscale.max(),32)\n",
        "newrscale=np.linspace(rscale.min(),rscale.max(),64)\n",
        "  # create new equally spaced grid points for rows and columns of the field data\n",
        "  # 64 rows by 32 columns\n",
        "\n",
        "# find field values at these new grid points by interpolation---------------------------------------\n",
        "\n",
        "yqfun = interpolate.interp2d(cscale,rscale,yfield)\n",
        "  # create a interpolation function object\n",
        "newy=yqfun(newcscale,newrscale)    \n",
        "  # use the function to find the field values for the new grid points\n",
        "zqfun = interpolate.interp2d(cscale,rscale,zfield)\n",
        "  # create a interpolation function object\n",
        "newz=zqfun(newcscale,newrscale)\n",
        "  # use the function to find the field values for the new grid points\n",
        "  \n",
        "rscale=newrscale\n",
        "cscale=newcscale"
      ],
      "execution_count": 15,
      "outputs": []
    },
    {
      "cell_type": "code",
      "metadata": {
        "id": "45d_MuciSREL",
        "colab_type": "code",
        "colab": {
          "base_uri": "https://localhost:8080/",
          "height": 51
        },
        "outputId": "12f834a6-16e6-4d62-ce6d-9994d221f6d8"
      },
      "source": [
        "# use RMS-mean bc field has negative values \n",
        "print(np.sqrt(np.mean(np.square(newy))))\n",
        "print(np.sqrt(np.mean(np.square(newz))))"
      ],
      "execution_count": 16,
      "outputs": [
        {
          "output_type": "stream",
          "text": [
            "35.82893656562189\n",
            "81.78687622392903\n"
          ],
          "name": "stdout"
        }
      ]
    },
    {
      "cell_type": "code",
      "metadata": {
        "id": "F_JAru1ZLNd3",
        "colab_type": "code",
        "colab": {}
      },
      "source": [
        "# originally, these numbers are in units of pico-Tesla\n",
        "# re-scale the values to get Tesla unit\n",
        "newy=newy*1e-12;\n",
        "newz=newz*1e-12;"
      ],
      "execution_count": 17,
      "outputs": []
    },
    {
      "cell_type": "code",
      "metadata": {
        "id": "Z_EzuUzOLNd6",
        "colab_type": "code",
        "colab": {
          "base_uri": "https://localhost:8080/",
          "height": 85
        },
        "outputId": "2499b7a7-b7a5-4ebc-af19-76f74dba471d"
      },
      "source": [
        "print(np.sqrt(np.mean(np.square(newy))))\n",
        "print(np.sqrt(np.mean(np.square(newz))))\n",
        "print(np.std(newy).mean())\n",
        "print(np.std(newz).mean())"
      ],
      "execution_count": 18,
      "outputs": [
        {
          "output_type": "stream",
          "text": [
            "3.5828936565621883e-11\n",
            "8.178687622392903e-11\n",
            "3.5699135764906516e-11\n",
            "7.902435221111758e-11\n"
          ],
          "name": "stdout"
        }
      ]
    },
    {
      "cell_type": "code",
      "metadata": {
        "id": "v9tGUYy_Qr6D",
        "colab_type": "code",
        "colab": {
          "base_uri": "https://localhost:8080/",
          "height": 51
        },
        "outputId": "be75bb16-2765-4370-c694-b0933f73a149"
      },
      "source": [
        "print(newy.shape)\n",
        "print(newz.shape)"
      ],
      "execution_count": 19,
      "outputs": [
        {
          "output_type": "stream",
          "text": [
            "(64, 32)\n",
            "(64, 32)\n"
          ],
          "name": "stdout"
        }
      ]
    },
    {
      "cell_type": "code",
      "metadata": {
        "scrolled": true,
        "id": "CJk26S0ILNd9",
        "colab_type": "code",
        "colab": {
          "base_uri": "https://localhost:8080/",
          "height": 276
        },
        "outputId": "46e2f4b0-c1dd-44e0-9d08-7dc23a8502c4"
      },
      "source": [
        "plt.imshow(newz)  \n",
        "plt.colorbar()\n",
        "plt.savefig('newz.png')"
      ],
      "execution_count": 20,
      "outputs": [
        {
          "output_type": "display_data",
          "data": {
            "image/png": "[encoded data removed]",
            "text/plain": [
              "<Figure size 432x288 with 2 Axes>"
            ]
          },
          "metadata": {
            "tags": [],
            "needs_background": "light"
          }
        }
      ]
    },
    {
      "cell_type": "code",
      "metadata": {
        "id": "qa9xOMWJWs1M",
        "colab_type": "code",
        "colab": {
          "base_uri": "https://localhost:8080/",
          "height": 276
        },
        "outputId": "df3330cb-3d35-4940-b6ba-8c58b80a85b1"
      },
      "source": [
        "imshow_center(newz)  \n",
        "plt.savefig('newz.png')"
      ],
      "execution_count": 21,
      "outputs": [
        {
          "output_type": "display_data",
          "data": {
            "image/png": "[encoded data removed]",
            "text/plain": [
              "<Figure size 432x288 with 2 Axes>"
            ]
          },
          "metadata": {
            "tags": [],
            "needs_background": "light"
          }
        }
      ]
    },
    {
      "cell_type": "code",
      "metadata": {
        "id": "VwTVyfxhwGtw",
        "colab_type": "code",
        "colab": {
          "base_uri": "https://localhost:8080/",
          "height": 51
        },
        "outputId": "37a2c110-64ca-465b-d7c6-d73344f96c7e"
      },
      "source": [
        "idx=np.nonzero(cscale>=0.009)\n",
        "idx"
      ],
      "execution_count": 22,
      "outputs": [
        {
          "output_type": "execute_result",
          "data": {
            "text/plain": [
              "(array([ 7,  8,  9, 10, 11, 12, 13, 14, 15, 16, 17, 18, 19, 20, 21, 22, 23,\n",
              "        24, 25, 26, 27, 28, 29, 30, 31]),)"
            ]
          },
          "metadata": {
            "tags": []
          },
          "execution_count": 22
        }
      ]
    },
    {
      "cell_type": "code",
      "metadata": {
        "id": "hXgI73S7LNeF",
        "colab_type": "code",
        "colab": {}
      },
      "source": [
        "# this throws an error, what am I trying to do exactly?\n",
        "if (fname=='fmap_2540'):\n",
        "    idx=np.nonzero(cscale>=0.009);\n",
        "    newy=newy[:,idx[0]];\n",
        "    newz=newz[:,idx[0]];\n",
        "    cscale=cscale[idx[0]];"
      ],
      "execution_count": 23,
      "outputs": []
    },
    {
      "cell_type": "code",
      "metadata": {
        "colab_type": "code",
        "id": "JjdEFLhxRB90",
        "colab": {
          "base_uri": "https://localhost:8080/",
          "height": 51
        },
        "outputId": "48a188cc-f59b-44b6-d62c-6b20fdb00b89"
      },
      "source": [
        "print(newy.shape)\n",
        "print(newz.shape)"
      ],
      "execution_count": 24,
      "outputs": [
        {
          "output_type": "stream",
          "text": [
            "(64, 32)\n",
            "(64, 32)\n"
          ],
          "name": "stdout"
        }
      ]
    },
    {
      "cell_type": "markdown",
      "metadata": {
        "id": "VbXxflcmVcsg",
        "colab_type": "text"
      },
      "source": [
        "### predict with simple model"
      ]
    },
    {
      "cell_type": "code",
      "metadata": {
        "id": "Yo4r4A85Ruil",
        "colab_type": "code",
        "colab": {}
      },
      "source": [
        "def custom_loss_rmse(y_true,y_pred):\n",
        "    loss=K.sqrt(K.mean(K.square(y_pred-y_true),axis=None))  #+K.sum(0*K.abs(penalty)) #can adjust the penalty weight\n",
        "    return loss"
      ],
      "execution_count": 25,
      "outputs": []
    },
    {
      "cell_type": "code",
      "metadata": {
        "id": "-H2JhhtfRerS",
        "colab_type": "code",
        "colab": {}
      },
      "source": [
        "model_ht2b=tf.keras.models.load_model('/content/drive/My Drive/Jerschow_Research/my_inversion/preprocess_suscept_inversion_files/model.best.h5',\n",
        "                                      custom_objects={'custom_loss_rmse': custom_loss_rmse})"
      ],
      "execution_count": 26,
      "outputs": []
    },
    {
      "cell_type": "code",
      "metadata": {
        "id": "9dTdMhwWrbjS",
        "colab_type": "code",
        "colab": {
          "base_uri": "https://localhost:8080/",
          "height": 51
        },
        "outputId": "a1464373-6152-4b0f-c9ba-330989e5b182"
      },
      "source": [
        "print(newy.shape)\n",
        "print(newz.shape)"
      ],
      "execution_count": 27,
      "outputs": [
        {
          "output_type": "stream",
          "text": [
            "(64, 32)\n",
            "(64, 32)\n"
          ],
          "name": "stdout"
        }
      ]
    },
    {
      "cell_type": "code",
      "metadata": {
        "id": "qX3PjPSsREpf",
        "colab_type": "code",
        "colab": {}
      },
      "source": [
        "X_test_og = np.stack([newy, newz], axis=2)\n",
        "\n",
        "assert np.all(X_test_og[:,:,0] == newy)\n",
        "assert np.all(X_test_og[:,:,1] == newz)"
      ],
      "execution_count": 28,
      "outputs": []
    },
    {
      "cell_type": "code",
      "metadata": {
        "id": "KGQvfp2yRQfc",
        "colab_type": "code",
        "colab": {
          "base_uri": "https://localhost:8080/",
          "height": 34
        },
        "outputId": "ee112aa8-9d7c-4d71-e6f0-62674901b26d"
      },
      "source": [
        "X_test_og.shape"
      ],
      "execution_count": 29,
      "outputs": [
        {
          "output_type": "execute_result",
          "data": {
            "text/plain": [
              "(64, 32, 2)"
            ]
          },
          "metadata": {
            "tags": []
          },
          "execution_count": 29
        }
      ]
    },
    {
      "cell_type": "code",
      "metadata": {
        "id": "V4F0S9ynSemS",
        "colab_type": "code",
        "colab": {
          "base_uri": "https://localhost:8080/",
          "height": 34
        },
        "outputId": "adc06d3f-1b63-4252-84e1-8f97d9f13e60"
      },
      "source": [
        "print(np.sqrt(np.mean(np.square(X_test_og))))"
      ],
      "execution_count": 30,
      "outputs": [
        {
          "output_type": "stream",
          "text": [
            "6.313796725383089e-11\n"
          ],
          "name": "stdout"
        }
      ]
    },
    {
      "cell_type": "code",
      "metadata": {
        "id": "uuC21DOySfah",
        "colab_type": "code",
        "colab": {}
      },
      "source": [
        "# rescale to shift all values to be around 0~1 b/c that is what the model was trained to recognize\n",
        "X_test = X_test_og * 1e10\n",
        "  # only 1e10 or 1e11 works! 1e12 breaks it!"
      ],
      "execution_count": 31,
      "outputs": []
    },
    {
      "cell_type": "code",
      "metadata": {
        "id": "KWEL1Wx-RS3I",
        "colab_type": "code",
        "colab": {
          "base_uri": "https://localhost:8080/",
          "height": 332
        },
        "outputId": "b4f1aede-8cef-4f32-cb10-b8e6e9f19ab7"
      },
      "source": [
        "X_test = X_test[np.newaxis,:,:,:]\n",
        "print(X_test.shape)\n",
        "y_pred_ht2 = model_ht2b.predict(X_test)\n",
        "print(y_pred_ht2.shape)\n",
        "\n",
        "plt.figure()\n",
        "imshow_center(y_pred_ht2[0,:,:,2])\n",
        "plt.title(\"predicted z-suscept\")"
      ],
      "execution_count": 32,
      "outputs": [
        {
          "output_type": "stream",
          "text": [
            "(1, 64, 32, 2)\n",
            "(1, 32, 16, 3)\n"
          ],
          "name": "stdout"
        },
        {
          "output_type": "execute_result",
          "data": {
            "text/plain": [
              "Text(0.5, 1.0, 'predicted z-suscept')"
            ]
          },
          "metadata": {
            "tags": []
          },
          "execution_count": 32
        },
        {
          "output_type": "display_data",
          "data": {
            "image/png": "[encoded data removed]",
            "text/plain": [
              "<Figure size 432x288 with 2 Axes>"
            ]
          },
          "metadata": {
            "tags": [],
            "needs_background": "light"
          }
        }
      ]
    },
    {
      "cell_type": "code",
      "metadata": {
        "id": "l6L5r1F6ZHTT",
        "colab_type": "code",
        "colab": {
          "base_uri": "https://localhost:8080/",
          "height": 298
        },
        "outputId": "61aa87dc-da10-4141-d2f7-e51d028caa04"
      },
      "source": [
        "plt.figure()\n",
        "imshow_center(y_pred_ht2[0,:,:,0])\n",
        "plt.title(\"predicted y_suscept\")\n",
        "  # should be close to all zeros"
      ],
      "execution_count": 33,
      "outputs": [
        {
          "output_type": "execute_result",
          "data": {
            "text/plain": [
              "Text(0.5, 1.0, 'predicted y_suscept')"
            ]
          },
          "metadata": {
            "tags": []
          },
          "execution_count": 33
        },
        {
          "output_type": "display_data",
          "data": {
            "image/png": "[encoded data removed]",
            "text/plain": [
              "<Figure size 432x288 with 2 Axes>"
            ]
          },
          "metadata": {
            "tags": [],
            "needs_background": "light"
          }
        }
      ]
    },
    {
      "cell_type": "code",
      "metadata": {
        "id": "grpfYs-rZIzA",
        "colab_type": "code",
        "colab": {
          "base_uri": "https://localhost:8080/",
          "height": 298
        },
        "outputId": "edfcbed8-2e28-48e2-eab5-4d54bd85ba79"
      },
      "source": [
        "plt.figure()\n",
        "imshow_center(y_pred_ht2[0,:,:,1])\n",
        "plt.title(\"predicted susceptibility\")\n",
        "  # should be close to all zeros"
      ],
      "execution_count": 34,
      "outputs": [
        {
          "output_type": "execute_result",
          "data": {
            "text/plain": [
              "Text(0.5, 1.0, 'predicted susceptibility')"
            ]
          },
          "metadata": {
            "tags": []
          },
          "execution_count": 34
        },
        {
          "output_type": "display_data",
          "data": {
            "image/png": "[encoded data removed]",
            "text/plain": [
              "<Figure size 432x288 with 2 Axes>"
            ]
          },
          "metadata": {
            "tags": [],
            "needs_background": "light"
          }
        }
      ]
    },
    {
      "cell_type": "code",
      "metadata": {
        "id": "9yAIZNwrTDf5",
        "colab_type": "code",
        "colab": {
          "base_uri": "https://localhost:8080/",
          "height": 298
        },
        "outputId": "56213381-de7c-4964-a5f4-a0fe2aff3b85"
      },
      "source": [
        "plt.figure()\n",
        "imshow_center(X_test[0,:,:,0])\n",
        "plt.title(\"y_field\")"
      ],
      "execution_count": 35,
      "outputs": [
        {
          "output_type": "execute_result",
          "data": {
            "text/plain": [
              "Text(0.5, 1.0, 'y_field')"
            ]
          },
          "metadata": {
            "tags": []
          },
          "execution_count": 35
        },
        {
          "output_type": "display_data",
          "data": {
            "image/png": "[encoded data removed]",
            "text/plain": [
              "<Figure size 432x288 with 2 Axes>"
            ]
          },
          "metadata": {
            "tags": [],
            "needs_background": "light"
          }
        }
      ]
    },
    {
      "cell_type": "code",
      "metadata": {
        "id": "fuufzYrdTI4w",
        "colab_type": "code",
        "colab": {
          "base_uri": "https://localhost:8080/",
          "height": 298
        },
        "outputId": "8b005267-ebec-4fb0-9505-3bea71cd3ec0"
      },
      "source": [
        "plt.figure()\n",
        "imshow_center(X_test[0,:,:,1])\n",
        "plt.title(\"z_field\")"
      ],
      "execution_count": 36,
      "outputs": [
        {
          "output_type": "execute_result",
          "data": {
            "text/plain": [
              "Text(0.5, 1.0, 'z_field')"
            ]
          },
          "metadata": {
            "tags": []
          },
          "execution_count": 36
        },
        {
          "output_type": "display_data",
          "data": {
            "image/png": "[encoded data removed]",
            "text/plain": [
              "<Figure size 432x288 with 2 Axes>"
            ]
          },
          "metadata": {
            "tags": [],
            "needs_background": "light"
          }
        }
      ]
    },
    {
      "cell_type": "markdown",
      "metadata": {
        "id": "mllRF5hqXZyJ",
        "colab_type": "text"
      },
      "source": [
        "## predict on all experimental samples"
      ]
    },
    {
      "cell_type": "code",
      "metadata": {
        "colab_type": "code",
        "id": "_uW-pKNlXqyU",
        "colab": {}
      },
      "source": [
        "fpath = '/content/drive/My Drive/Jerschow_Research/experimental data'\n",
        "\n",
        "local_fpath='battdata-summary, new send May 2019';\n",
        "# 2540: -87\n",
        "# 2810: -117 \n",
        "# 3000: -146\n",
        "# 3100: -195\n",
        "# 3340: -217\n",
        "fname_list = []\n",
        "# fname_list.append('fmap_2540')\n",
        "fname_list.append('fmap_2810')\n",
        "fname_list.append('fmap_3000')\n",
        "fname_list.append('fmap_3100')\n",
        "fname_list.append('fmap_3340')"
      ],
      "execution_count": 37,
      "outputs": []
    },
    {
      "cell_type": "code",
      "metadata": {
        "colab_type": "code",
        "id": "WhmXFxx1XqyY",
        "colab": {
          "base_uri": "https://localhost:8080/",
          "height": 425
        },
        "outputId": "407ea57c-6bcc-4e97-8459-ae03223bab54"
      },
      "source": [
        "expe_input_arr = np.empty((len(fname_list),64,32,2))\n",
        "i=0\n",
        "\n",
        "for fname in fname_list:\n",
        "  print(fname)\n",
        "  compfname = fpath + '/' + local_fpath + '/' + fname\n",
        "  mat_contents = loadmat(compfname)\n",
        "  cscale=mat_contents['cscale']\n",
        "  rscale=mat_contents['rscale']\n",
        "  zfield=mat_contents['zfield']\n",
        "  yfield=mat_contents['yfield']\n",
        "\n",
        "  # downsample/resample to match nn needs (seems like easiest is to stick to powers of two)\n",
        "  df=10;\n",
        "  newcscale=np.linspace(cscale.min(),cscale.max(),32)\n",
        "  newrscale=np.linspace(rscale.min(),rscale.max(),64)\n",
        "\n",
        "  yqfun = interpolate.interp2d(cscale,rscale,yfield)\n",
        "  newy=yqfun(newcscale,newrscale)\n",
        "  zqfun = interpolate.interp2d(cscale,rscale,zfield)\n",
        "  newz=zqfun(newcscale,newrscale)\n",
        "\n",
        "  rscale=newrscale\n",
        "  cscale=newcscale\n",
        "\n",
        "  newy=newy*1e-12;\n",
        "  newz=newz*1e-12;\n",
        "\n",
        "  print(newy.shape)\n",
        "  print(newz.shape)\n",
        "\n",
        "  if (fname=='fmap_2540'):\n",
        "    print(len(newy))\n",
        "    print(idx[0][1])\n",
        "    idx=np.nonzero(cscale>=0.009);\n",
        "    newy=newy[:,idx[0][1]];\n",
        "    newz=newz[:,idx[0][1]];\n",
        "    cscale=cscale[0:idx[0][1]];\n",
        "\n",
        "  X_test = np.stack([newy, newz], axis=2)\n",
        "  print(np.sqrt(np.mean(np.square(X_test))))\n",
        "  X_test = X_test * 1e10\n",
        "    # rescale by e10 to get the rms-mean closer to the synthetic data the model trained on\n",
        "  print(np.sqrt(np.mean(np.square(X_test))))\n",
        "\n",
        "  expe_input_arr[i,:,:,:] = X_test\n",
        "  i = i+1\n",
        "  print(50*'*')"
      ],
      "execution_count": 38,
      "outputs": [
        {
          "output_type": "stream",
          "text": [
            "fmap_2810\n",
            "(64, 32)\n",
            "(64, 32)\n",
            "2.969017416144135e-11\n",
            "0.2969017416144135\n",
            "**************************************************\n",
            "fmap_3000\n",
            "(64, 32)\n",
            "(64, 32)\n",
            "4.097729687388197e-11\n",
            "0.4097729687388197\n",
            "**************************************************\n",
            "fmap_3100\n",
            "(64, 32)\n",
            "(64, 32)\n",
            "5.459113570408479e-11\n",
            "0.5459113570408479\n",
            "**************************************************\n",
            "fmap_3340\n",
            "(64, 32)\n",
            "(64, 32)\n",
            "6.313796725383089e-11\n",
            "0.631379672538309\n",
            "**************************************************\n"
          ],
          "name": "stdout"
        }
      ]
    },
    {
      "cell_type": "code",
      "metadata": {
        "id": "QJv8tYhabM76",
        "colab_type": "code",
        "colab": {
          "base_uri": "https://localhost:8080/",
          "height": 34
        },
        "outputId": "cb19ac70-cc6f-4afe-cb9f-d51065c50a1b"
      },
      "source": [
        "expe_input_arr.shape"
      ],
      "execution_count": 39,
      "outputs": [
        {
          "output_type": "execute_result",
          "data": {
            "text/plain": [
              "(4, 64, 32, 2)"
            ]
          },
          "metadata": {
            "tags": []
          },
          "execution_count": 39
        }
      ]
    },
    {
      "cell_type": "code",
      "metadata": {
        "id": "mIvrZk2xi4B0",
        "colab_type": "code",
        "colab": {
          "base_uri": "https://localhost:8080/",
          "height": 34
        },
        "outputId": "f7b084b2-40b5-4cf4-c1a3-99a10cab2bbf"
      },
      "source": [
        "expe_input = tf.constant(expe_input_arr)\n",
        "type(expe_input)"
      ],
      "execution_count": 40,
      "outputs": [
        {
          "output_type": "execute_result",
          "data": {
            "text/plain": [
              "tensorflow.python.framework.ops.EagerTensor"
            ]
          },
          "metadata": {
            "tags": []
          },
          "execution_count": 40
        }
      ]
    },
    {
      "cell_type": "code",
      "metadata": {
        "colab_type": "code",
        "id": "Ie_wYQwsYs2E",
        "colab": {}
      },
      "source": [
        "def custom_loss_rmse(y_true,y_pred):\n",
        "    loss=K.sqrt(K.mean(K.square(y_pred-y_true),axis=None))  #+K.sum(0*K.abs(penalty)) #can adjust the penalty weight\n",
        "    return loss"
      ],
      "execution_count": 41,
      "outputs": []
    },
    {
      "cell_type": "code",
      "metadata": {
        "id": "HSlDJKX1fltB",
        "colab_type": "code",
        "colab": {}
      },
      "source": [
        "n_list = [0, 0.01, 0.03, 0.05,\n",
        "          0.07, 0.1, 0.2, 0.4, \n",
        "          0.6, 0.8, 1]\n",
        "\n",
        "test_boll_rmse_lst = [0.33758558338378714, 0.3582208999639208, 0.37393770020951206, 0.3480783758425738,\n",
        "                      0.38626023347215954, 0.3876631419674309, 0.3902154846462532, 0.42596870346660975, \n",
        "                      0.4688011961550924, 0.4971008470500618, 0.5299878001884477]"
      ],
      "execution_count": 42,
      "outputs": []
    },
    {
      "cell_type": "code",
      "metadata": {
        "id": "z-87rCzsgHHl",
        "colab_type": "code",
        "colab": {
          "base_uri": "https://localhost:8080/",
          "height": 296
        },
        "outputId": "a6488791-2b07-4217-8b0a-7c1603218cf8"
      },
      "source": [
        "plt.plot(n_list, test_boll_rmse_lst, marker='o')\n",
        "plt.xlabel('noise level')\n",
        "plt.ylabel('boll_RMSE on the syn test sets')"
      ],
      "execution_count": 43,
      "outputs": [
        {
          "output_type": "execute_result",
          "data": {
            "text/plain": [
              "Text(0, 0.5, 'boll_RMSE on the syn test sets')"
            ]
          },
          "metadata": {
            "tags": []
          },
          "execution_count": 43
        },
        {
          "output_type": "display_data",
          "data": {
            "image/png": "[encoded data removed]",
            "text/plain": [
              "<Figure size 432x288 with 1 Axes>"
            ]
          },
          "metadata": {
            "tags": [],
            "needs_background": "light"
          }
        }
      ]
    },
    {
      "cell_type": "code",
      "metadata": {
        "id": "OXGDB1LyaIRb",
        "colab_type": "code",
        "colab": {}
      },
      "source": [
        "folder_path = '/content/drive/My Drive/Jerschow_Research/experimental data/big_models'"
      ],
      "execution_count": 44,
      "outputs": []
    },
    {
      "cell_type": "markdown",
      "metadata": {
        "id": "KbQrTybddVP2",
        "colab_type": "text"
      },
      "source": [
        "### no noise big model"
      ]
    },
    {
      "cell_type": "code",
      "metadata": {
        "id": "8Pr6-6wwdarY",
        "colab_type": "code",
        "colab": {
          "base_uri": "https://localhost:8080/",
          "height": 34
        },
        "outputId": "fdce989e-11e7-4af8-8f12-8e10e2f169a7"
      },
      "source": [
        "noise=0\n",
        "file_path = folder_path+'/'+str(noise)+'.model.best.h5'\n",
        "model_ht2b = tf.keras.models.load_model(file_path,custom_objects={'custom_loss_rmse': custom_loss_rmse})\n",
        "print(file_path)"
      ],
      "execution_count": 45,
      "outputs": [
        {
          "output_type": "stream",
          "text": [
            "/content/drive/My Drive/Jerschow_Research/experimental data/big_models/0.model.best.h5\n"
          ],
          "name": "stdout"
        }
      ]
    },
    {
      "cell_type": "code",
      "metadata": {
        "colab_type": "code",
        "id": "rUbLV8E6brYw",
        "colab": {
          "base_uri": "https://localhost:8080/",
          "height": 615
        },
        "outputId": "22e2fb71-cdf0-48d5-bcb8-b7e2811969d4"
      },
      "source": [
        "X_test = expe_input\n",
        "print(X_test.shape)\n",
        "y_pred_ht2 = model_ht2b.predict(X_test)\n",
        "print(y_pred_ht2.shape)\n",
        "\n",
        "fig,axs = plt.subplots(1,len(fname_list), sharey='row', figsize=(13,39))\n",
        "print(axs.shape)\n",
        "\n",
        "for i in range(len(fname_list)):\n",
        "  plt.sca(axs[i])\n",
        "  imshow_center(y_pred_ht2[i,:,:,2])\n",
        "  plt.title(str(fname_list[i]))\n",
        "  # plt.figure()\n",
        "  # imshow_center(y_pred_ht2[i,:,:,1])\n",
        "  # plt.title(\"predicted y_suscept for \"+str(fname_list[i]))\n",
        "  # plt.figure()\n",
        "  # imshow_center(y_pred_ht2[i,:,:,0])\n",
        "  # plt.title(\"predicted x_suscept for \"+str(fname_list[i]))\n",
        "\n",
        "fig.suptitle(\"predicted z-suscept\", fontsize=20, y=0.6)\n",
        "# fig.subplots_adjust(top=-20)"
      ],
      "execution_count": 46,
      "outputs": [
        {
          "output_type": "stream",
          "text": [
            "(4, 64, 32, 2)\n",
            "(4, 32, 16, 3)\n",
            "(4,)\n"
          ],
          "name": "stdout"
        },
        {
          "output_type": "execute_result",
          "data": {
            "text/plain": [
              "Text(0.5, 0.6, 'predicted z-suscept')"
            ]
          },
          "metadata": {
            "tags": []
          },
          "execution_count": 46
        },
        {
          "output_type": "display_data",
          "data": {
            "image/png": "[encoded data removed]",
            "text/plain": [
              "<Figure size 936x2808 with 8 Axes>"
            ]
          },
          "metadata": {
            "tags": [],
            "needs_background": "light"
          }
        }
      ]
    },
    {
      "cell_type": "markdown",
      "metadata": {
        "id": "mzbIvYjcfIIm",
        "colab_type": "text"
      },
      "source": [
        "### 0.01 noise big model"
      ]
    },
    {
      "cell_type": "code",
      "metadata": {
        "colab_type": "code",
        "id": "gILL1BpXfL4q",
        "colab": {
          "base_uri": "https://localhost:8080/",
          "height": 34
        },
        "outputId": "3b87cd40-a508-46e2-dca0-1c4c765f0389"
      },
      "source": [
        "noise=0.01\n",
        "file_path = folder_path+'/'+str(noise)+'.model.best.h5'\n",
        "model_ht2b = tf.keras.models.load_model(file_path,custom_objects={'custom_loss_rmse': custom_loss_rmse})\n",
        "print(file_path)"
      ],
      "execution_count": 47,
      "outputs": [
        {
          "output_type": "stream",
          "text": [
            "/content/drive/My Drive/Jerschow_Research/experimental data/big_models/0.01.model.best.h5\n"
          ],
          "name": "stdout"
        }
      ]
    },
    {
      "cell_type": "code",
      "metadata": {
        "colab_type": "code",
        "id": "25WbJHl1fL4t",
        "colab": {
          "base_uri": "https://localhost:8080/",
          "height": 609
        },
        "outputId": "f3de3261-0c7e-4b9d-c633-e3e2384ff888"
      },
      "source": [
        "X_test = expe_input\n",
        "print(X_test.shape)\n",
        "y_pred_ht2 = model_ht2b.predict(X_test)\n",
        "print(y_pred_ht2.shape)\n",
        "\n",
        "fig,axs = plt.subplots(1,len(fname_list), sharey='row', figsize=(13,39))\n",
        "print(axs.shape)\n",
        "\n",
        "for i in range(len(fname_list)):\n",
        "  plt.sca(axs[i])\n",
        "  imshow_center(y_pred_ht2[i,:,:,2])\n",
        "  plt.title(str(fname_list[i]))\n",
        "  # plt.figure()\n",
        "  # imshow_center(y_pred_ht2[i,:,:,1])\n",
        "  # plt.title(\"predicted y_suscept for \"+str(fname_list[i]))\n",
        "  # plt.figure()\n",
        "  # imshow_center(y_pred_ht2[i,:,:,0])\n",
        "  # plt.title(\"predicted x_suscept for \"+str(fname_list[i]))\n",
        "\n",
        "fig.suptitle(\"predicted z-suscept\", fontsize=20, y=0.6)\n",
        "# fig.subplots_adjust(top=-20)"
      ],
      "execution_count": 48,
      "outputs": [
        {
          "output_type": "stream",
          "text": [
            "(4, 64, 32, 2)\n",
            "(4, 32, 16, 3)\n",
            "(4,)\n"
          ],
          "name": "stdout"
        },
        {
          "output_type": "execute_result",
          "data": {
            "text/plain": [
              "Text(0.5, 0.6, 'predicted z-suscept')"
            ]
          },
          "metadata": {
            "tags": []
          },
          "execution_count": 48
        },
        {
          "output_type": "display_data",
          "data": {
            "image/png": "[encoded data removed]",
            "text/plain": [
              "<Figure size 936x2808 with 8 Axes>"
            ]
          },
          "metadata": {
            "tags": [],
            "needs_background": "light"
          }
        }
      ]
    },
    {
      "cell_type": "markdown",
      "metadata": {
        "colab_type": "text",
        "id": "Y4_KmieKfe4e"
      },
      "source": [
        "### 0.03 noise big model"
      ]
    },
    {
      "cell_type": "code",
      "metadata": {
        "colab_type": "code",
        "id": "SJCRVQrWfe4g",
        "colab": {
          "base_uri": "https://localhost:8080/",
          "height": 34
        },
        "outputId": "456114b2-56be-4a88-9541-4abe1e58e93e"
      },
      "source": [
        "noise=0.03\n",
        "file_path = folder_path+'/'+str(noise)+'.model.best.h5'\n",
        "model_ht2b = tf.keras.models.load_model(file_path,custom_objects={'custom_loss_rmse': custom_loss_rmse})\n",
        "print(file_path)"
      ],
      "execution_count": 49,
      "outputs": [
        {
          "output_type": "stream",
          "text": [
            "/content/drive/My Drive/Jerschow_Research/experimental data/big_models/0.03.model.best.h5\n"
          ],
          "name": "stdout"
        }
      ]
    },
    {
      "cell_type": "code",
      "metadata": {
        "colab_type": "code",
        "id": "GMRBQndefe4i",
        "colab": {
          "base_uri": "https://localhost:8080/",
          "height": 609
        },
        "outputId": "0fe99260-f16b-49b0-8cf6-574c5d8b7983"
      },
      "source": [
        "X_test = expe_input\n",
        "print(X_test.shape)\n",
        "y_pred_ht2 = model_ht2b.predict(X_test)\n",
        "print(y_pred_ht2.shape)\n",
        "\n",
        "fig,axs = plt.subplots(1,len(fname_list), sharey='row', figsize=(13,39))\n",
        "print(axs.shape)\n",
        "\n",
        "for i in range(len(fname_list)):\n",
        "  plt.sca(axs[i])\n",
        "  imshow_center(y_pred_ht2[i,:,:,2])\n",
        "  plt.title(str(fname_list[i]))\n",
        "  # plt.figure()\n",
        "  # imshow_center(y_pred_ht2[i,:,:,1])\n",
        "  # plt.title(\"predicted y_suscept for \"+str(fname_list[i]))\n",
        "  # plt.figure()\n",
        "  # imshow_center(y_pred_ht2[i,:,:,0])\n",
        "  # plt.title(\"predicted x_suscept for \"+str(fname_list[i]))\n",
        "\n",
        "fig.suptitle(\"predicted z-suscept\", fontsize=20, y=0.6)\n",
        "# fig.subplots_adjust(top=-20)"
      ],
      "execution_count": 50,
      "outputs": [
        {
          "output_type": "stream",
          "text": [
            "(4, 64, 32, 2)\n",
            "(4, 32, 16, 3)\n",
            "(4,)\n"
          ],
          "name": "stdout"
        },
        {
          "output_type": "execute_result",
          "data": {
            "text/plain": [
              "Text(0.5, 0.6, 'predicted z-suscept')"
            ]
          },
          "metadata": {
            "tags": []
          },
          "execution_count": 50
        },
        {
          "output_type": "display_data",
          "data": {
            "image/png": "[encoded data removed]",
            "text/plain": [
              "<Figure size 936x2808 with 8 Axes>"
            ]
          },
          "metadata": {
            "tags": [],
            "needs_background": "light"
          }
        }
      ]
    },
    {
      "cell_type": "markdown",
      "metadata": {
        "colab_type": "text",
        "id": "PsfAVJFcfi0D"
      },
      "source": [
        "### 0.05 noise big model"
      ]
    },
    {
      "cell_type": "code",
      "metadata": {
        "colab_type": "code",
        "id": "dGBT9A8dfi0E",
        "colab": {
          "base_uri": "https://localhost:8080/",
          "height": 34
        },
        "outputId": "5260cf49-a90c-46d0-f6cd-065dd22676af"
      },
      "source": [
        "noise=0.05\n",
        "file_path = folder_path+'/'+str(noise)+'.model.best.h5'\n",
        "model_ht2b = tf.keras.models.load_model(file_path,custom_objects={'custom_loss_rmse': custom_loss_rmse})\n",
        "print(file_path)"
      ],
      "execution_count": 51,
      "outputs": [
        {
          "output_type": "stream",
          "text": [
            "/content/drive/My Drive/Jerschow_Research/experimental data/big_models/0.05.model.best.h5\n"
          ],
          "name": "stdout"
        }
      ]
    },
    {
      "cell_type": "code",
      "metadata": {
        "colab_type": "code",
        "id": "jW97iWqtfi0H",
        "colab": {
          "base_uri": "https://localhost:8080/",
          "height": 646
        },
        "outputId": "6d793587-ef69-4c8b-af3c-28290dd1fcfd"
      },
      "source": [
        "X_test = expe_input\n",
        "print(X_test.shape)\n",
        "y_pred_ht2 = model_ht2b.predict(X_test)\n",
        "print(y_pred_ht2.shape)\n",
        "\n",
        "fig,axs = plt.subplots(1,len(fname_list), sharey='row', figsize=(13,39))\n",
        "print(axs.shape)\n",
        "\n",
        "for i in range(len(fname_list)):\n",
        "  plt.sca(axs[i])\n",
        "  imshow_center(y_pred_ht2[i,:,:,2])\n",
        "  plt.title(str(fname_list[i]))\n",
        "  # plt.figure()\n",
        "  # imshow_center(y_pred_ht2[i,:,:,1])\n",
        "  # plt.title(\"predicted y_suscept for \"+str(fname_list[i]))\n",
        "  # plt.figure()\n",
        "  # imshow_center(y_pred_ht2[i,:,:,0])\n",
        "  # plt.title(\"predicted x_suscept for \"+str(fname_list[i]))\n",
        "\n",
        "fig.suptitle(\"predicted z-suscept\", fontsize=20, y=0.6)\n",
        "# fig.subplots_adjust(top=-20)"
      ],
      "execution_count": 52,
      "outputs": [
        {
          "output_type": "stream",
          "text": [
            "(4, 64, 32, 2)\n",
            "WARNING:tensorflow:5 out of the last 5 calls to <function Model.make_predict_function.<locals>.predict_function at 0x7f914a306378> triggered tf.function retracing. Tracing is expensive and the excessive number of tracings could be due to (1) creating @tf.function repeatedly in a loop, (2) passing tensors with different shapes, (3) passing Python objects instead of tensors. For (1), please define your @tf.function outside of the loop. For (2), @tf.function has experimental_relax_shapes=True option that relaxes argument shapes that can avoid unnecessary retracing. For (3), please refer to https://www.tensorflow.org/tutorials/customization/performance#python_or_tensor_args and https://www.tensorflow.org/api_docs/python/tf/function for  more details.\n",
            "(4, 32, 16, 3)\n",
            "(4,)\n"
          ],
          "name": "stdout"
        },
        {
          "output_type": "execute_result",
          "data": {
            "text/plain": [
              "Text(0.5, 0.6, 'predicted z-suscept')"
            ]
          },
          "metadata": {
            "tags": []
          },
          "execution_count": 52
        },
        {
          "output_type": "display_data",
          "data": {
            "image/png": "[encoded data removed]",
            "text/plain": [
              "<Figure size 936x2808 with 8 Axes>"
            ]
          },
          "metadata": {
            "tags": [],
            "needs_background": "light"
          }
        }
      ]
    },
    {
      "cell_type": "markdown",
      "metadata": {
        "colab_type": "text",
        "id": "X1onHn52fmlH"
      },
      "source": [
        "### 0.07 noise big model"
      ]
    },
    {
      "cell_type": "code",
      "metadata": {
        "colab_type": "code",
        "id": "r_P_DnTXfmlI",
        "colab": {
          "base_uri": "https://localhost:8080/",
          "height": 34
        },
        "outputId": "50986391-5645-4f34-9f66-b51dc9646536"
      },
      "source": [
        "noise=0.07\n",
        "file_path = folder_path+'/'+str(noise)+'.model.best.h5'\n",
        "model_ht2b = tf.keras.models.load_model(file_path,custom_objects={'custom_loss_rmse': custom_loss_rmse})\n",
        "print(file_path)"
      ],
      "execution_count": 53,
      "outputs": [
        {
          "output_type": "stream",
          "text": [
            "/content/drive/My Drive/Jerschow_Research/experimental data/big_models/0.07.model.best.h5\n"
          ],
          "name": "stdout"
        }
      ]
    },
    {
      "cell_type": "code",
      "metadata": {
        "colab_type": "code",
        "id": "FGkM96AHfmlL",
        "colab": {
          "base_uri": "https://localhost:8080/",
          "height": 646
        },
        "outputId": "06568d23-6c85-4689-cc37-a36bb18eb0b0"
      },
      "source": [
        "X_test = expe_input\n",
        "print(X_test.shape)\n",
        "y_pred_ht2 = model_ht2b.predict(X_test)\n",
        "print(y_pred_ht2.shape)\n",
        "\n",
        "fig,axs = plt.subplots(1,len(fname_list), sharey='row', figsize=(13,39))\n",
        "print(axs.shape)\n",
        "\n",
        "for i in range(len(fname_list)):\n",
        "  plt.sca(axs[i])\n",
        "  imshow_center(y_pred_ht2[i,:,:,2])\n",
        "  plt.title(str(fname_list[i]))\n",
        "  # plt.figure()\n",
        "  # imshow_center(y_pred_ht2[i,:,:,1])\n",
        "  # plt.title(\"predicted y_suscept for \"+str(fname_list[i]))\n",
        "  # plt.figure()\n",
        "  # imshow_center(y_pred_ht2[i,:,:,0])\n",
        "  # plt.title(\"predicted x_suscept for \"+str(fname_list[i]))\n",
        "\n",
        "fig.suptitle(\"predicted z-suscept\", fontsize=20, y=0.6)\n",
        "# fig.subplots_adjust(top=-20)"
      ],
      "execution_count": 54,
      "outputs": [
        {
          "output_type": "stream",
          "text": [
            "(4, 64, 32, 2)\n",
            "WARNING:tensorflow:6 out of the last 6 calls to <function Model.make_predict_function.<locals>.predict_function at 0x7f914629a620> triggered tf.function retracing. Tracing is expensive and the excessive number of tracings could be due to (1) creating @tf.function repeatedly in a loop, (2) passing tensors with different shapes, (3) passing Python objects instead of tensors. For (1), please define your @tf.function outside of the loop. For (2), @tf.function has experimental_relax_shapes=True option that relaxes argument shapes that can avoid unnecessary retracing. For (3), please refer to https://www.tensorflow.org/tutorials/customization/performance#python_or_tensor_args and https://www.tensorflow.org/api_docs/python/tf/function for  more details.\n",
            "(4, 32, 16, 3)\n",
            "(4,)\n"
          ],
          "name": "stdout"
        },
        {
          "output_type": "execute_result",
          "data": {
            "text/plain": [
              "Text(0.5, 0.6, 'predicted z-suscept')"
            ]
          },
          "metadata": {
            "tags": []
          },
          "execution_count": 54
        },
        {
          "output_type": "display_data",
          "data": {
            "image/png": "[encoded data removed]",
            "text/plain": [
              "<Figure size 936x2808 with 8 Axes>"
            ]
          },
          "metadata": {
            "tags": [],
            "needs_background": "light"
          }
        }
      ]
    },
    {
      "cell_type": "markdown",
      "metadata": {
        "colab_type": "text",
        "id": "4m1uTdKAenAu"
      },
      "source": [
        "### 0.1 noise big model"
      ]
    },
    {
      "cell_type": "code",
      "metadata": {
        "colab_type": "code",
        "id": "aCYP2Vzbeq7i",
        "colab": {
          "base_uri": "https://localhost:8080/",
          "height": 34
        },
        "outputId": "e0f80252-a6cd-4439-9d33-24acbdf99621"
      },
      "source": [
        "noise=0.1\n",
        "file_path = folder_path+'/'+str(noise)+'.model.best.h5'\n",
        "model_ht2b = tf.keras.models.load_model(file_path,custom_objects={'custom_loss_rmse': custom_loss_rmse})\n",
        "print(file_path)"
      ],
      "execution_count": 55,
      "outputs": [
        {
          "output_type": "stream",
          "text": [
            "/content/drive/My Drive/Jerschow_Research/experimental data/big_models/0.1.model.best.h5\n"
          ],
          "name": "stdout"
        }
      ]
    },
    {
      "cell_type": "code",
      "metadata": {
        "colab_type": "code",
        "id": "BdVygiC-eq7m",
        "colab": {
          "base_uri": "https://localhost:8080/",
          "height": 646
        },
        "outputId": "f295f7f5-609a-414a-9ff7-ee820cc0e598"
      },
      "source": [
        "X_test = expe_input\n",
        "print(X_test.shape)\n",
        "y_pred_ht2 = model_ht2b.predict(X_test)\n",
        "print(y_pred_ht2.shape)\n",
        "\n",
        "fig,axs = plt.subplots(1,len(fname_list), sharey='row', figsize=(13,39))\n",
        "print(axs.shape)\n",
        "\n",
        "for i in range(len(fname_list)):\n",
        "  plt.sca(axs[i])\n",
        "  imshow_center(y_pred_ht2[i,:,:,2])\n",
        "  plt.title(str(fname_list[i]))\n",
        "  # plt.figure()\n",
        "  # imshow_center(y_pred_ht2[i,:,:,1])\n",
        "  # plt.title(\"predicted y_suscept for \"+str(fname_list[i]))\n",
        "  # plt.figure()\n",
        "  # imshow_center(y_pred_ht2[i,:,:,0])\n",
        "  # plt.title(\"predicted x_suscept for \"+str(fname_list[i]))\n",
        "\n",
        "fig.suptitle(\"predicted z-suscept\", fontsize=20, y=0.6)\n",
        "# fig.subplots_adjust(top=-20)"
      ],
      "execution_count": 56,
      "outputs": [
        {
          "output_type": "stream",
          "text": [
            "(4, 64, 32, 2)\n",
            "WARNING:tensorflow:7 out of the last 7 calls to <function Model.make_predict_function.<locals>.predict_function at 0x7f914af8c400> triggered tf.function retracing. Tracing is expensive and the excessive number of tracings could be due to (1) creating @tf.function repeatedly in a loop, (2) passing tensors with different shapes, (3) passing Python objects instead of tensors. For (1), please define your @tf.function outside of the loop. For (2), @tf.function has experimental_relax_shapes=True option that relaxes argument shapes that can avoid unnecessary retracing. For (3), please refer to https://www.tensorflow.org/tutorials/customization/performance#python_or_tensor_args and https://www.tensorflow.org/api_docs/python/tf/function for  more details.\n",
            "(4, 32, 16, 3)\n",
            "(4,)\n"
          ],
          "name": "stdout"
        },
        {
          "output_type": "execute_result",
          "data": {
            "text/plain": [
              "Text(0.5, 0.6, 'predicted z-suscept')"
            ]
          },
          "metadata": {
            "tags": []
          },
          "execution_count": 56
        },
        {
          "output_type": "display_data",
          "data": {
            "image/png": "[encoded data removed]",
            "text/plain": [
              "<Figure size 936x2808 with 8 Axes>"
            ]
          },
          "metadata": {
            "tags": [],
            "needs_background": "light"
          }
        }
      ]
    },
    {
      "cell_type": "markdown",
      "metadata": {
        "colab_type": "text",
        "id": "XH0vHBEFe1I3"
      },
      "source": [
        "### 0.2 noise big model"
      ]
    },
    {
      "cell_type": "code",
      "metadata": {
        "colab_type": "code",
        "id": "R6uKZiL_eyDn",
        "colab": {
          "base_uri": "https://localhost:8080/",
          "height": 34
        },
        "outputId": "138b5ce9-233f-4e62-c5a1-51e571017624"
      },
      "source": [
        "noise=0.2\n",
        "file_path = folder_path+'/'+str(noise)+'.model.best.h5'\n",
        "model_ht2b = tf.keras.models.load_model(file_path,custom_objects={'custom_loss_rmse': custom_loss_rmse})\n",
        "print(file_path)"
      ],
      "execution_count": 57,
      "outputs": [
        {
          "output_type": "stream",
          "text": [
            "/content/drive/My Drive/Jerschow_Research/experimental data/big_models/0.2.model.best.h5\n"
          ],
          "name": "stdout"
        }
      ]
    },
    {
      "cell_type": "code",
      "metadata": {
        "colab_type": "code",
        "id": "QjEeszDfeyDr",
        "colab": {
          "base_uri": "https://localhost:8080/",
          "height": 646
        },
        "outputId": "f11abfcb-5045-42c7-9921-34ef4b776191"
      },
      "source": [
        "X_test = expe_input\n",
        "print(X_test.shape)\n",
        "y_pred_ht2 = model_ht2b.predict(X_test)\n",
        "print(y_pred_ht2.shape)\n",
        "\n",
        "fig,axs = plt.subplots(1,len(fname_list), sharey='row', figsize=(13,39))\n",
        "print(axs.shape)\n",
        "\n",
        "for i in range(len(fname_list)):\n",
        "  plt.sca(axs[i])\n",
        "  imshow_center(y_pred_ht2[i,:,:,2])\n",
        "  plt.title(str(fname_list[i]))\n",
        "  # plt.figure()\n",
        "  # imshow_center(y_pred_ht2[i,:,:,1])\n",
        "  # plt.title(\"predicted y_suscept for \"+str(fname_list[i]))\n",
        "  # plt.figure()\n",
        "  # imshow_center(y_pred_ht2[i,:,:,0])\n",
        "  # plt.title(\"predicted x_suscept for \"+str(fname_list[i]))\n",
        "\n",
        "fig.suptitle(\"predicted z-suscept\", fontsize=20, y=0.6)\n",
        "# fig.subplots_adjust(top=-20)"
      ],
      "execution_count": 58,
      "outputs": [
        {
          "output_type": "stream",
          "text": [
            "(4, 64, 32, 2)\n",
            "WARNING:tensorflow:8 out of the last 8 calls to <function Model.make_predict_function.<locals>.predict_function at 0x7f9145e49d90> triggered tf.function retracing. Tracing is expensive and the excessive number of tracings could be due to (1) creating @tf.function repeatedly in a loop, (2) passing tensors with different shapes, (3) passing Python objects instead of tensors. For (1), please define your @tf.function outside of the loop. For (2), @tf.function has experimental_relax_shapes=True option that relaxes argument shapes that can avoid unnecessary retracing. For (3), please refer to https://www.tensorflow.org/tutorials/customization/performance#python_or_tensor_args and https://www.tensorflow.org/api_docs/python/tf/function for  more details.\n",
            "(4, 32, 16, 3)\n",
            "(4,)\n"
          ],
          "name": "stdout"
        },
        {
          "output_type": "execute_result",
          "data": {
            "text/plain": [
              "Text(0.5, 0.6, 'predicted z-suscept')"
            ]
          },
          "metadata": {
            "tags": []
          },
          "execution_count": 58
        },
        {
          "output_type": "display_data",
          "data": {
            "image/png": "[encoded data removed]",
            "text/plain": [
              "<Figure size 936x2808 with 8 Axes>"
            ]
          },
          "metadata": {
            "tags": [],
            "needs_background": "light"
          }
        }
      ]
    },
    {
      "cell_type": "markdown",
      "metadata": {
        "colab_type": "text",
        "id": "3DcKYNJSe4-d"
      },
      "source": [
        "### 0.4 noise big model"
      ]
    },
    {
      "cell_type": "code",
      "metadata": {
        "colab_type": "code",
        "id": "p6zOur0-e1u2",
        "colab": {
          "base_uri": "https://localhost:8080/",
          "height": 34
        },
        "outputId": "dab1e115-7c7d-4b03-9edd-ecfd7d4d756f"
      },
      "source": [
        "noise=0.4\n",
        "file_path = folder_path+'/'+str(noise)+'.model.best.h5'\n",
        "model_ht2b = tf.keras.models.load_model(file_path,custom_objects={'custom_loss_rmse': custom_loss_rmse})\n",
        "print(file_path)"
      ],
      "execution_count": 59,
      "outputs": [
        {
          "output_type": "stream",
          "text": [
            "/content/drive/My Drive/Jerschow_Research/experimental data/big_models/0.4.model.best.h5\n"
          ],
          "name": "stdout"
        }
      ]
    },
    {
      "cell_type": "code",
      "metadata": {
        "colab_type": "code",
        "id": "ley49WUae1u4",
        "colab": {
          "base_uri": "https://localhost:8080/",
          "height": 646
        },
        "outputId": "6390a3dd-967c-45dc-de7b-e0805dfaa100"
      },
      "source": [
        "X_test = expe_input\n",
        "print(X_test.shape)\n",
        "y_pred_ht2 = model_ht2b.predict(X_test)\n",
        "print(y_pred_ht2.shape)\n",
        "\n",
        "fig,axs = plt.subplots(1,len(fname_list), sharey='row', figsize=(13,39))\n",
        "print(axs.shape)\n",
        "\n",
        "for i in range(len(fname_list)):\n",
        "  plt.sca(axs[i])\n",
        "  imshow_center(y_pred_ht2[i,:,:,2])\n",
        "  plt.title(str(fname_list[i]))\n",
        "  # plt.figure()\n",
        "  # imshow_center(y_pred_ht2[i,:,:,1])\n",
        "  # plt.title(\"predicted y_suscept for \"+str(fname_list[i]))\n",
        "  # plt.figure()\n",
        "  # imshow_center(y_pred_ht2[i,:,:,0])\n",
        "  # plt.title(\"predicted x_suscept for \"+str(fname_list[i]))\n",
        "\n",
        "fig.suptitle(\"predicted z-suscept\", fontsize=20, y=0.6)\n",
        "# fig.subplots_adjust(top=-20)"
      ],
      "execution_count": 60,
      "outputs": [
        {
          "output_type": "stream",
          "text": [
            "(4, 64, 32, 2)\n",
            "WARNING:tensorflow:9 out of the last 9 calls to <function Model.make_predict_function.<locals>.predict_function at 0x7f914629a268> triggered tf.function retracing. Tracing is expensive and the excessive number of tracings could be due to (1) creating @tf.function repeatedly in a loop, (2) passing tensors with different shapes, (3) passing Python objects instead of tensors. For (1), please define your @tf.function outside of the loop. For (2), @tf.function has experimental_relax_shapes=True option that relaxes argument shapes that can avoid unnecessary retracing. For (3), please refer to https://www.tensorflow.org/tutorials/customization/performance#python_or_tensor_args and https://www.tensorflow.org/api_docs/python/tf/function for  more details.\n",
            "(4, 32, 16, 3)\n",
            "(4,)\n"
          ],
          "name": "stdout"
        },
        {
          "output_type": "execute_result",
          "data": {
            "text/plain": [
              "Text(0.5, 0.6, 'predicted z-suscept')"
            ]
          },
          "metadata": {
            "tags": []
          },
          "execution_count": 60
        },
        {
          "output_type": "display_data",
          "data": {
            "image/png": "[encoded data removed]",
            "text/plain": [
              "<Figure size 936x2808 with 8 Axes>"
            ]
          },
          "metadata": {
            "tags": [],
            "needs_background": "light"
          }
        }
      ]
    },
    {
      "cell_type": "markdown",
      "metadata": {
        "colab_type": "text",
        "id": "qxiwaKkBfNIq"
      },
      "source": [
        "### 0.6 noise big model"
      ]
    },
    {
      "cell_type": "code",
      "metadata": {
        "colab_type": "code",
        "id": "iITh6K3Ge87-",
        "colab": {
          "base_uri": "https://localhost:8080/",
          "height": 34
        },
        "outputId": "677f661e-34a6-4c28-f201-ad6f5fa995ea"
      },
      "source": [
        "noise=0.6\n",
        "file_path = folder_path+'/'+str(noise)+'.model.best.h5'\n",
        "model_ht2b = tf.keras.models.load_model(file_path,custom_objects={'custom_loss_rmse': custom_loss_rmse})\n",
        "print(file_path)"
      ],
      "execution_count": 61,
      "outputs": [
        {
          "output_type": "stream",
          "text": [
            "/content/drive/My Drive/Jerschow_Research/experimental data/big_models/0.6.model.best.h5\n"
          ],
          "name": "stdout"
        }
      ]
    },
    {
      "cell_type": "code",
      "metadata": {
        "colab_type": "code",
        "id": "MqPm-gPOe88B",
        "colab": {
          "base_uri": "https://localhost:8080/",
          "height": 646
        },
        "outputId": "10a01242-87d5-4280-8ad7-1ac7902f761d"
      },
      "source": [
        "X_test = expe_input\n",
        "print(X_test.shape)\n",
        "y_pred_ht2 = model_ht2b.predict(X_test)\n",
        "print(y_pred_ht2.shape)\n",
        "\n",
        "fig,axs = plt.subplots(1,len(fname_list), sharey='row', figsize=(13,39))\n",
        "print(axs.shape)\n",
        "\n",
        "for i in range(len(fname_list)):\n",
        "  plt.sca(axs[i])\n",
        "  imshow_center(y_pred_ht2[i,:,:,2])\n",
        "  plt.title(str(fname_list[i]))\n",
        "  # plt.figure()\n",
        "  # imshow_center(y_pred_ht2[i,:,:,1])\n",
        "  # plt.title(\"predicted y_suscept for \"+str(fname_list[i]))\n",
        "  # plt.figure()\n",
        "  # imshow_center(y_pred_ht2[i,:,:,0])\n",
        "  # plt.title(\"predicted x_suscept for \"+str(fname_list[i]))\n",
        "\n",
        "fig.suptitle(\"predicted z-suscept\", fontsize=20, y=0.6)\n",
        "# fig.subplots_adjust(top=-20)"
      ],
      "execution_count": 62,
      "outputs": [
        {
          "output_type": "stream",
          "text": [
            "(4, 64, 32, 2)\n",
            "WARNING:tensorflow:10 out of the last 10 calls to <function Model.make_predict_function.<locals>.predict_function at 0x7f91493e3840> triggered tf.function retracing. Tracing is expensive and the excessive number of tracings could be due to (1) creating @tf.function repeatedly in a loop, (2) passing tensors with different shapes, (3) passing Python objects instead of tensors. For (1), please define your @tf.function outside of the loop. For (2), @tf.function has experimental_relax_shapes=True option that relaxes argument shapes that can avoid unnecessary retracing. For (3), please refer to https://www.tensorflow.org/tutorials/customization/performance#python_or_tensor_args and https://www.tensorflow.org/api_docs/python/tf/function for  more details.\n",
            "(4, 32, 16, 3)\n",
            "(4,)\n"
          ],
          "name": "stdout"
        },
        {
          "output_type": "execute_result",
          "data": {
            "text/plain": [
              "Text(0.5, 0.6, 'predicted z-suscept')"
            ]
          },
          "metadata": {
            "tags": []
          },
          "execution_count": 62
        },
        {
          "output_type": "display_data",
          "data": {
            "image/png": "[encoded data removed]",
            "text/plain": [
              "<Figure size 936x2808 with 8 Axes>"
            ]
          },
          "metadata": {
            "tags": [],
            "needs_background": "light"
          }
        }
      ]
    },
    {
      "cell_type": "markdown",
      "metadata": {
        "colab_type": "text",
        "id": "Mt9ZG6gBfQLe"
      },
      "source": [
        "### 0.8 noise big model"
      ]
    },
    {
      "cell_type": "code",
      "metadata": {
        "colab_type": "code",
        "id": "HXDRpB_4fAyZ",
        "colab": {
          "base_uri": "https://localhost:8080/",
          "height": 34
        },
        "outputId": "9a0a1914-9c97-44b3-f01d-d740c1cc4389"
      },
      "source": [
        "noise=0.8\n",
        "file_path = folder_path+'/'+str(noise)+'.model.best.h5'\n",
        "model_ht2b = tf.keras.models.load_model(file_path,custom_objects={'custom_loss_rmse': custom_loss_rmse})\n",
        "print(file_path)"
      ],
      "execution_count": 63,
      "outputs": [
        {
          "output_type": "stream",
          "text": [
            "/content/drive/My Drive/Jerschow_Research/experimental data/big_models/0.8.model.best.h5\n"
          ],
          "name": "stdout"
        }
      ]
    },
    {
      "cell_type": "code",
      "metadata": {
        "colab_type": "code",
        "id": "02k7U-8OfAye",
        "colab": {
          "base_uri": "https://localhost:8080/",
          "height": 646
        },
        "outputId": "8d5515cf-0d6f-40a2-eaa4-35bbd086dd30"
      },
      "source": [
        "X_test = expe_input\n",
        "print(X_test.shape)\n",
        "y_pred_ht2 = model_ht2b.predict(X_test)\n",
        "print(y_pred_ht2.shape)\n",
        "\n",
        "fig,axs = plt.subplots(1,len(fname_list), sharey='row', figsize=(13,39))\n",
        "print(axs.shape)\n",
        "\n",
        "for i in range(len(fname_list)):\n",
        "  plt.sca(axs[i])\n",
        "  imshow_center(y_pred_ht2[i,:,:,2])\n",
        "  plt.title(str(fname_list[i]))\n",
        "  # plt.figure()\n",
        "  # imshow_center(y_pred_ht2[i,:,:,1])\n",
        "  # plt.title(\"predicted y_suscept for \"+str(fname_list[i]))\n",
        "  # plt.figure()\n",
        "  # imshow_center(y_pred_ht2[i,:,:,0])\n",
        "  # plt.title(\"predicted x_suscept for \"+str(fname_list[i]))\n",
        "\n",
        "fig.suptitle(\"predicted z-suscept\", fontsize=20, y=0.6)\n",
        "# fig.subplots_adjust(top=-20)"
      ],
      "execution_count": 64,
      "outputs": [
        {
          "output_type": "stream",
          "text": [
            "(4, 64, 32, 2)\n",
            "WARNING:tensorflow:11 out of the last 11 calls to <function Model.make_predict_function.<locals>.predict_function at 0x7f914450a620> triggered tf.function retracing. Tracing is expensive and the excessive number of tracings could be due to (1) creating @tf.function repeatedly in a loop, (2) passing tensors with different shapes, (3) passing Python objects instead of tensors. For (1), please define your @tf.function outside of the loop. For (2), @tf.function has experimental_relax_shapes=True option that relaxes argument shapes that can avoid unnecessary retracing. For (3), please refer to https://www.tensorflow.org/tutorials/customization/performance#python_or_tensor_args and https://www.tensorflow.org/api_docs/python/tf/function for  more details.\n",
            "(4, 32, 16, 3)\n",
            "(4,)\n"
          ],
          "name": "stdout"
        },
        {
          "output_type": "execute_result",
          "data": {
            "text/plain": [
              "Text(0.5, 0.6, 'predicted z-suscept')"
            ]
          },
          "metadata": {
            "tags": []
          },
          "execution_count": 64
        },
        {
          "output_type": "display_data",
          "data": {
            "image/png": "[encoded data removed]",
            "text/plain": [
              "<Figure size 936x2808 with 8 Axes>"
            ]
          },
          "metadata": {
            "tags": [],
            "needs_background": "light"
          }
        }
      ]
    },
    {
      "cell_type": "markdown",
      "metadata": {
        "colab_type": "text",
        "id": "O1xdLCdGfydb"
      },
      "source": [
        "### 1 noise big model"
      ]
    },
    {
      "cell_type": "code",
      "metadata": {
        "colab_type": "code",
        "id": "v17IvATCfydd",
        "colab": {
          "base_uri": "https://localhost:8080/",
          "height": 34
        },
        "outputId": "dde16289-6d97-472e-f2eb-4ddea0646b71"
      },
      "source": [
        "noise=1\n",
        "file_path = folder_path+'/'+str(noise)+'.model.best.h5'\n",
        "model_ht2b = tf.keras.models.load_model(file_path,custom_objects={'custom_loss_rmse': custom_loss_rmse})\n",
        "print(file_path)"
      ],
      "execution_count": 65,
      "outputs": [
        {
          "output_type": "stream",
          "text": [
            "/content/drive/My Drive/Jerschow_Research/experimental data/big_models/1.model.best.h5\n"
          ],
          "name": "stdout"
        }
      ]
    },
    {
      "cell_type": "code",
      "metadata": {
        "colab_type": "code",
        "id": "ayoXCgUAfydi",
        "colab": {
          "base_uri": "https://localhost:8080/",
          "height": 646
        },
        "outputId": "936fa14d-88ab-495d-caa8-e3e0f751c6bf"
      },
      "source": [
        "X_test = expe_input\n",
        "print(X_test.shape)\n",
        "y_pred_ht2 = model_ht2b.predict(X_test)\n",
        "print(y_pred_ht2.shape)\n",
        "\n",
        "fig,axs = plt.subplots(1,len(fname_list), sharey='row', figsize=(13,39))\n",
        "print(axs.shape)\n",
        "\n",
        "for i in range(len(fname_list)):\n",
        "  plt.sca(axs[i])\n",
        "  imshow_center(y_pred_ht2[i,:,:,2])\n",
        "  plt.title(str(fname_list[i]))\n",
        "  # plt.figure()\n",
        "  # imshow_center(y_pred_ht2[i,:,:,1])\n",
        "  # plt.title(\"predicted y_suscept for \"+str(fname_list[i]))\n",
        "  # plt.figure()\n",
        "  # imshow_center(y_pred_ht2[i,:,:,0])\n",
        "  # plt.title(\"predicted x_suscept for \"+str(fname_list[i]))\n",
        "\n",
        "fig.suptitle(\"predicted z-suscept\", fontsize=20, y=0.6)\n",
        "# fig.subplots_adjust(top=-20)"
      ],
      "execution_count": 66,
      "outputs": [
        {
          "output_type": "stream",
          "text": [
            "(4, 64, 32, 2)\n",
            "WARNING:tensorflow:11 out of the last 11 calls to <function Model.make_predict_function.<locals>.predict_function at 0x7f9143715d90> triggered tf.function retracing. Tracing is expensive and the excessive number of tracings could be due to (1) creating @tf.function repeatedly in a loop, (2) passing tensors with different shapes, (3) passing Python objects instead of tensors. For (1), please define your @tf.function outside of the loop. For (2), @tf.function has experimental_relax_shapes=True option that relaxes argument shapes that can avoid unnecessary retracing. For (3), please refer to https://www.tensorflow.org/tutorials/customization/performance#python_or_tensor_args and https://www.tensorflow.org/api_docs/python/tf/function for  more details.\n",
            "(4, 32, 16, 3)\n",
            "(4,)\n"
          ],
          "name": "stdout"
        },
        {
          "output_type": "execute_result",
          "data": {
            "text/plain": [
              "Text(0.5, 0.6, 'predicted z-suscept')"
            ]
          },
          "metadata": {
            "tags": []
          },
          "execution_count": 66
        },
        {
          "output_type": "display_data",
          "data": {
            "image/png": "[encoded data removed]",
            "text/plain": [
              "<Figure size 936x2808 with 8 Axes>"
            ]
          },
          "metadata": {
            "tags": [],
            "needs_background": "light"
          }
        }
      ]
    },
    {
      "cell_type": "markdown",
      "metadata": {
        "id": "m-dDuq15hhVQ",
        "colab_type": "text"
      },
      "source": [
        "## SVD - setup"
      ]
    },
    {
      "cell_type": "code",
      "metadata": {
        "id": "XMPFMozEhjdc",
        "colab_type": "code",
        "colab": {}
      },
      "source": [
        "battery_dims=np.array([5,30,40])*1e-3;\n",
        "dims=np.array([5,50,60])*1e-3;  # cell dimensions"
      ],
      "execution_count": 67,
      "outputs": []
    },
    {
      "cell_type": "code",
      "metadata": {
        "id": "oHQlfWrQhnT9",
        "colab_type": "code",
        "colab": {}
      },
      "source": [
        "probe_dist=1.59e-2;   # 2 cm top and bottom\n",
        "npts=[1,16,32];\n",
        "dV=np.prod(dims/npts);   # this is volume per point in the susceptibility map, seems the correct way\n",
        "\n",
        "# for new send data\n",
        "centery=0.021;\n",
        "centerz=0.062;\n",
        "\n",
        "field_dims=np.array([60,80])*1e-3;\n",
        "# see here: this volume probably calculated incorrectly, but it's also probably not needed\n",
        "field_npts=[20,30];\n",
        "dVfield=np.prod(field_dims/field_npts);  "
      ],
      "execution_count": 68,
      "outputs": []
    },
    {
      "cell_type": "code",
      "metadata": {
        "id": "Z-IjpHC4h4iI",
        "colab_type": "code",
        "colab": {}
      },
      "source": [
        "# this way bottom of cell starts at x=0 (+padding), so the probe_dist is measured from the bottom of cell\n",
        "srcpos=[[],[],[]]\n",
        "for i in range(3):\n",
        "    srcpos[i]=np.linspace(0,dims[i],npts[i]+2)\n",
        "    srcpos[i]=srcpos[i][1:(npts[i]+1)]\n",
        "srcpos[1]=srcpos[1]+centery-dims[1]/2\n",
        "srcpos[2]=srcpos[2]+centerz-dims[2]/2\n",
        "\n",
        "srcxv,srcyv,srczv=np.meshgrid(srcpos[0],srcpos[1],srcpos[2],indexing='ij')\n",
        "\n",
        "src_fulllength=np.prod(npts)\n",
        "src_pos_list=np.concatenate((srcxv.reshape((src_fulllength,1)),\n",
        "                             srcyv.reshape((src_fulllength,1)),\n",
        "                             srczv.reshape((src_fulllength,1))),axis=1)"
      ],
      "execution_count": 69,
      "outputs": []
    },
    {
      "cell_type": "code",
      "metadata": {
        "id": "5eZc91Rzh6St",
        "colab_type": "code",
        "colab": {
          "base_uri": "https://localhost:8080/",
          "height": 34
        },
        "outputId": "d914f6cf-c678-4a82-d4ae-3f38c7f09878"
      },
      "source": [
        "rv, cv = np.meshgrid(rscale, cscale, indexing='ij')  # ij indexing produces same shape as newy, newz\n",
        "fulllength=np.prod(newy.shape)\n",
        "print(fulllength)"
      ],
      "execution_count": 70,
      "outputs": [
        {
          "output_type": "stream",
          "text": [
            "2048\n"
          ],
          "name": "stdout"
        }
      ]
    },
    {
      "cell_type": "code",
      "metadata": {
        "id": "B2Eb1sKYiCVv",
        "colab_type": "code",
        "colab": {
          "base_uri": "https://localhost:8080/",
          "height": 34
        },
        "outputId": "2a4c9b7c-5629-4778-b0f2-ba5b4e6fad75"
      },
      "source": [
        "field_pos_list=np.concatenate((cv.reshape((fulllength,1)),rv.reshape((fulllength,1))),axis=1)\n",
        "field_pos_list=np.insert(field_pos_list,0,probe_dist,axis=1)\n",
        "print(field_pos_list.shape)"
      ],
      "execution_count": 71,
      "outputs": [
        {
          "output_type": "stream",
          "text": [
            "(2048, 3)\n"
          ],
          "name": "stdout"
        }
      ]
    },
    {
      "cell_type": "markdown",
      "metadata": {
        "id": "VZeTzTaviFhx",
        "colab_type": "text"
      },
      "source": [
        "### 1-D"
      ]
    },
    {
      "cell_type": "code",
      "metadata": {
        "id": "zrYJA5XoiGei",
        "colab_type": "code",
        "colab": {}
      },
      "source": [
        "# modified for multidim to include multiple field components (y-z)\n",
        "# now modif for x-y-z source dims\n",
        "\n",
        "oneD=True   \n",
        "  # whether or not to do z-only calc in this framework\n",
        "\n",
        "# make sure to reshape such that multiply the correct field components\n",
        "# A matrix is not very sparse, so maybe faster to do in non-sparse setup\n",
        "fpl=field_pos_list.shape[0]\n",
        "  # total number of field grid points per 1 channel of the field image\n",
        "spl=src_pos_list.shape[0]\n",
        "  # total number of suscept grid points per 1 channel of the suscept image\n",
        "\n",
        "A=np.zeros((2,fpl,spl,3),dtype=float)\n",
        "  # allocate space for the coefficient matrix\n",
        "  # need to account for all 2 channels of the field and all 3 channels of the suscept\n",
        "\n",
        "for i in range(src_pos_list.shape[0]):\n",
        "    posdiff=src_pos_list[i,:]-field_pos_list\n",
        "    inv_r=1/np.sqrt(np.sum(posdiff**2,axis=1))\n",
        "    inv_r5=inv_r**5\n",
        "    inv_r3=inv_r**3\n",
        "    \n",
        "    for fidx in range(2):\n",
        "        fidx2=fidx+1    # this is the real dim index (compatible with sidx)\n",
        "                        # since I only have y and z components of the field\n",
        "                        # they corresponds to the [1] and [2] indices of each grid position\n",
        "        \n",
        "        if oneD:  \n",
        "          # then we only fill in the last dimension for the suscept, aka, the [2] index\n",
        "          # keep all other coefficients 0\n",
        "          sidx=2\n",
        "          A[fidx,:,i,sidx]=3*posdiff[:,fidx2]*posdiff[:,sidx]*inv_r5\n",
        "          if sidx==fidx2:\n",
        "            A[fidx,:,i,sidx]=A[fidx,:,i,sidx]-inv_r3\n",
        "        \n",
        "        else:     \n",
        "          # then we fill in all 3 dimensions for the suscept\n",
        "          for sidx in range(3):\n",
        "            A[fidx,:,i,sidx]=3*posdiff[:,fidx2]*posdiff[:,sidx]*inv_r5\n",
        "            if sidx==fidx2:\n",
        "              A[fidx,:,i,sidx]=A[fidx,:,i,sidx]-inv_r3\n",
        "    \n",
        "A=A.reshape((fpl*2,src_pos_list.shape[0]*3))\n",
        "  # 2-D matrix with dim: 64*32*2-by-32*16*3\n",
        "  # so each row multiplies all field values of 1 battery sample"
      ],
      "execution_count": 79,
      "outputs": []
    },
    {
      "cell_type": "markdown",
      "metadata": {
        "id": "_c7tGYmg_-Hx",
        "colab_type": "text"
      },
      "source": [
        "* the important thing is to figure out how it is reshaped. \n",
        "* before, A had shape (2, 2048, 512, 3)\n",
        "* allocate a new 2-D array with shape (4096, 1536)\n",
        "\n",
        "each row is filled in first with \n",
        "1. `newA[0,0] = oldA[0,0,0,0]`\n",
        "1. `newA[0,1] = oldA[0,0,0,1]`\n",
        "1. `newA[0,3] = oldA[0,0,0,2]`\n",
        "1. `newA[0,4] = oldA[0,0,1,0]`\n",
        "1. `newA[0,5] = oldA[0,0,1,1]`\n",
        "1. `newA[0,6] = oldA[0,0,1,2]`\n",
        "1. ...\n"
      ]
    },
    {
      "cell_type": "markdown",
      "metadata": {
        "id": "61HqLKrSMvyY",
        "colab_type": "text"
      },
      "source": [
        "So each row of the `A` matrix is filled with coefficients in the order of `x,y,z,x,y,z,...`. Thus, When we multiply the `A` matrix with the the `mag-suscept`, the `mag-suscept` needs to be reshaped into a column vector also of the save order `x,y,z,x,y,z,...`. This is why in the `calcfield` function, the `A` matrix is multiplied with the reshaped suscept image, because that `np.reshape` will by default unpack values in the same order."
      ]
    },
    {
      "cell_type": "markdown",
      "metadata": {
        "id": "GZPivobtaXHZ",
        "colab_type": "text"
      },
      "source": [
        "However, for the inverse multiplication, since the `2` of the old shape `(2, 2048, 512, 3)` was the last dimension unpacked during reshaping `A`, each **column** of the the `A` matrix were filled with all `y-field` coefficients first, and then all `z-field` coefficients next. It was not intertwined like the coefficients for the susceptibilities. thus, when we use the inverse matrix `P` (which was calculated from `A`) to multiply our `mag-field` image, we need to reshape the `fields` into all `y-channel` in the first half, and then all `z-channel` in the second half. That is why we can no longer just simply use the `np.reshape` method, but instead needs to concatenate the two flattened `field` arrays. \n",
        "\n",
        "(then, maybe look into the `calcfield` function where after multiplying the correct components with each other, is it correct to lump the first entire half of the result as the `y-field` and the second entire half as the `z-field`? Should the `y` and `z` field components be separated out in a skipping manner?)"
      ]
    },
    {
      "cell_type": "code",
      "metadata": {
        "id": "RMjqZmFyiKGs",
        "colab_type": "code",
        "colab": {}
      },
      "source": [
        "B0=20e-6\n",
        "A=A*dV*B0/4/np.pi"
      ],
      "execution_count": 80,
      "outputs": []
    },
    {
      "cell_type": "code",
      "metadata": {
        "id": "ubbWdZPukuEl",
        "colab_type": "code",
        "colab": {
          "base_uri": "https://localhost:8080/",
          "height": 34
        },
        "outputId": "8287574d-dd94-48d4-b4c7-0d5913819dc6"
      },
      "source": [
        "print(A.shape)"
      ],
      "execution_count": 81,
      "outputs": [
        {
          "output_type": "stream",
          "text": [
            "(4096, 1536)\n"
          ],
          "name": "stdout"
        }
      ]
    },
    {
      "cell_type": "markdown",
      "metadata": {
        "id": "9krJ-NYtiXc-",
        "colab_type": "text"
      },
      "source": [
        "#### method2: SVD approach using pinv ocmmand to calculate the pseudoinverse (much faster)"
      ]
    },
    {
      "cell_type": "code",
      "metadata": {
        "id": "7hB3tsrBinkL",
        "colab_type": "code",
        "colab": {}
      },
      "source": [
        "rcond=1e-1    # 1e-3 starts to significantly degrade synthetic data\n",
        "P=np.linalg.pinv(A,rcond)"
      ],
      "execution_count": 82,
      "outputs": []
    },
    {
      "cell_type": "code",
      "metadata": {
        "id": "qTtTieetjnCE",
        "colab_type": "code",
        "colab": {
          "base_uri": "https://localhost:8080/",
          "height": 51
        },
        "outputId": "32d6eb09-7569-4289-94c7-f88da0061430"
      },
      "source": [
        "print(A.shape)\n",
        "print(P.shape)"
      ],
      "execution_count": 83,
      "outputs": [
        {
          "output_type": "stream",
          "text": [
            "(4096, 1536)\n",
            "(1536, 4096)\n"
          ],
          "name": "stdout"
        }
      ]
    },
    {
      "cell_type": "markdown",
      "metadata": {
        "id": "0yruJqXigXql",
        "colab_type": "text"
      },
      "source": [
        "## Use SVD to calculate result (for now just using second approach)\n",
        "* you could test, for example how well it performs with synthetic data based on what rcond value is, but for the experimental data it appeared to be a narrow range around 1e-1. Was not fully explored yet\n",
        "* note that "
      ]
    },
    {
      "cell_type": "markdown",
      "metadata": {
        "id": "i4Xm7CulnUQm",
        "colab_type": "text"
      },
      "source": [
        "### one sample"
      ]
    },
    {
      "cell_type": "code",
      "metadata": {
        "id": "Q5Oqr0E9j1xu",
        "colab_type": "code",
        "colab": {
          "base_uri": "https://localhost:8080/",
          "height": 51
        },
        "outputId": "b64acaf3-9534-477e-9e1c-e3463eddf7ff"
      },
      "source": [
        "print(A.shape)\n",
        "print(P.shape)"
      ],
      "execution_count": 91,
      "outputs": [
        {
          "output_type": "stream",
          "text": [
            "(4096, 1536)\n",
            "(1536, 4096)\n"
          ],
          "name": "stdout"
        }
      ]
    },
    {
      "cell_type": "code",
      "metadata": {
        "id": "wqBsbdKrkPG7",
        "colab_type": "code",
        "colab": {
          "base_uri": "https://localhost:8080/",
          "height": 34
        },
        "outputId": "304d8a3b-4f5d-4a94-bfe7-450faa84641e"
      },
      "source": [
        "# magfield was undefined in the code, is this the correct way?\n",
        "# this is not the correct way\n",
        "my_magfield = np.squeeze(expe_input_arr[-1]).reshape(fulllength*2)\n",
        "my_magfield = my_magfield[:,np.newaxis]\n",
        "print(my_magfield.shape)"
      ],
      "execution_count": 84,
      "outputs": [
        {
          "output_type": "stream",
          "text": [
            "(4096, 1)\n"
          ],
          "name": "stdout"
        }
      ]
    },
    {
      "cell_type": "code",
      "metadata": {
        "id": "FvvNfTnu0Gly",
        "colab_type": "code",
        "colab": {
          "base_uri": "https://localhost:8080/",
          "height": 293
        },
        "outputId": "036575f2-ef1c-45e7-f9dc-7fe3b5b1728d"
      },
      "source": [
        "result=np.dot(P,my_magfield)\n",
        "result=result.reshape((npts[0],npts[1],npts[2],3))\n",
        "plt.imshow(np.transpose(np.squeeze(result[0,:,:,2])),cmap='seismic')\n",
        "# transpose to have z point up\n",
        "plt.colorbar()"
      ],
      "execution_count": 85,
      "outputs": [
        {
          "output_type": "execute_result",
          "data": {
            "text/plain": [
              "<matplotlib.colorbar.Colorbar at 0x7f914365d908>"
            ]
          },
          "metadata": {
            "tags": []
          },
          "execution_count": 85
        },
        {
          "output_type": "display_data",
          "data": {
            "image/png": "[encoded data removed]",
            "text/plain": [
              "<Figure size 432x288 with 2 Axes>"
            ]
          },
          "metadata": {
            "tags": [],
            "needs_background": "light"
          }
        }
      ]
    },
    {
      "cell_type": "code",
      "metadata": {
        "id": "kEE9cZMq1u8n",
        "colab_type": "code",
        "colab": {
          "base_uri": "https://localhost:8080/",
          "height": 34
        },
        "outputId": "93cad523-6b10-4a1d-da10-ec10e7f2d20c"
      },
      "source": [
        "# this is still not the correct way\n",
        "# was only done to make sure error was not due to data storage\n",
        "my_magfield2 = np.reshape(np.stack((newy, newz), axis=2), fulllength*2)\n",
        "my_magfield2 = my_magfield2[:, np.newaxis]\n",
        "print(my_magfield2.shape)"
      ],
      "execution_count": 86,
      "outputs": [
        {
          "output_type": "stream",
          "text": [
            "(4096, 1)\n"
          ],
          "name": "stdout"
        }
      ]
    },
    {
      "cell_type": "code",
      "metadata": {
        "id": "QB3JPJODrPCj",
        "colab_type": "code",
        "colab": {
          "base_uri": "https://localhost:8080/",
          "height": 34
        },
        "outputId": "60368d47-9557-4af2-cb83-8252d09f4097"
      },
      "source": [
        "# Jerschow's way, which is the correct way of unpacking the field values\n",
        "magfield=np.concatenate((newy.reshape((fulllength,1)),newz.reshape((fulllength,1))),axis=0)\n",
        "print(magfield.shape)"
      ],
      "execution_count": 88,
      "outputs": [
        {
          "output_type": "stream",
          "text": [
            "(4096, 1)\n"
          ],
          "name": "stdout"
        }
      ]
    },
    {
      "cell_type": "code",
      "metadata": {
        "id": "MNf-_kjm2MGC",
        "colab_type": "code",
        "colab": {
          "base_uri": "https://localhost:8080/",
          "height": 136
        },
        "outputId": "054c46f8-4d39-4abf-915b-eaa3ec0e1089"
      },
      "source": [
        "my_magfield == magfield * 1e10"
      ],
      "execution_count": 90,
      "outputs": [
        {
          "output_type": "execute_result",
          "data": {
            "text/plain": [
              "array([[ True],\n",
              "       [False],\n",
              "       [False],\n",
              "       ...,\n",
              "       [False],\n",
              "       [False],\n",
              "       [ True]])"
            ]
          },
          "metadata": {
            "tags": []
          },
          "execution_count": 90
        }
      ]
    },
    {
      "cell_type": "code",
      "metadata": {
        "id": "DxpAq0tbuhWA",
        "colab_type": "code",
        "colab": {
          "base_uri": "https://localhost:8080/",
          "height": 136
        },
        "outputId": "db3d8e8e-887e-4520-d95b-db5ef61b9a01"
      },
      "source": [
        "my_magfield == my_magfield2 * 1e10"
      ],
      "execution_count": 91,
      "outputs": [
        {
          "output_type": "execute_result",
          "data": {
            "text/plain": [
              "array([[ True],\n",
              "       [ True],\n",
              "       [ True],\n",
              "       ...,\n",
              "       [ True],\n",
              "       [ True],\n",
              "       [ True]])"
            ]
          },
          "metadata": {
            "tags": []
          },
          "execution_count": 91
        }
      ]
    },
    {
      "cell_type": "code",
      "metadata": {
        "id": "8qM7ynbti_WF",
        "colab_type": "code",
        "colab": {
          "base_uri": "https://localhost:8080/",
          "height": 283
        },
        "outputId": "581005b1-5ee5-4150-dda8-23ed9cfa66a7"
      },
      "source": [
        "result=np.dot(P,magfield)\n",
        "result=result.reshape((npts[0],npts[1],npts[2],3))\n",
        "plt.imshow(np.transpose(np.squeeze(result[0,:,:,2])),cmap='seismic')\n",
        "# transpose to have z point up\n",
        "plt.colorbar()"
      ],
      "execution_count": 92,
      "outputs": [
        {
          "output_type": "execute_result",
          "data": {
            "text/plain": [
              "<matplotlib.colorbar.Colorbar at 0x7f914a0321d0>"
            ]
          },
          "metadata": {
            "tags": []
          },
          "execution_count": 92
        },
        {
          "output_type": "display_data",
          "data": {
            "image/png": "[encoded data removed]",
            "text/plain": [
              "<Figure size 432x288 with 2 Axes>"
            ]
          },
          "metadata": {
            "tags": [],
            "needs_background": "light"
          }
        }
      ]
    },
    {
      "cell_type": "code",
      "metadata": {
        "id": "pEGvhPWysdSn",
        "colab_type": "code",
        "colab": {
          "base_uri": "https://localhost:8080/",
          "height": 283
        },
        "outputId": "39d8123d-a74c-47e7-ef9a-703524cd9630"
      },
      "source": [
        "result=np.dot(P,my_magfield2)\n",
        "result=result.reshape((npts[0],npts[1],npts[2],3))\n",
        "plt.imshow(np.transpose(np.squeeze(result[0,:,:,2])),cmap='seismic')\n",
        "# transpose to have z point up\n",
        "plt.colorbar()"
      ],
      "execution_count": 93,
      "outputs": [
        {
          "output_type": "execute_result",
          "data": {
            "text/plain": [
              "<matplotlib.colorbar.Colorbar at 0x7f9149fc8c88>"
            ]
          },
          "metadata": {
            "tags": []
          },
          "execution_count": 93
        },
        {
          "output_type": "display_data",
          "data": {
            "image/png": "[encoded data removed]",
            "text/plain": [
              "<Figure size 432x288 with 2 Axes>"
            ]
          },
          "metadata": {
            "tags": [],
            "needs_background": "light"
          }
        }
      ]
    },
    {
      "cell_type": "code",
      "metadata": {
        "id": "B-gNxeTitEuv",
        "colab_type": "code",
        "colab": {
          "base_uri": "https://localhost:8080/",
          "height": 34
        },
        "outputId": "62f1fd1c-d3a8-4222-9192-df9ecb2424a5"
      },
      "source": [
        "np.all(expe_input_arr[3,:,:,0] == newy * 1e10)"
      ],
      "execution_count": 94,
      "outputs": [
        {
          "output_type": "execute_result",
          "data": {
            "text/plain": [
              "True"
            ]
          },
          "metadata": {
            "tags": []
          },
          "execution_count": 94
        }
      ]
    },
    {
      "cell_type": "code",
      "metadata": {
        "id": "Ir8JBgNTtLZh",
        "colab_type": "code",
        "colab": {
          "base_uri": "https://localhost:8080/",
          "height": 34
        },
        "outputId": "9ec89bf5-df5c-47e8-dbee-335141b68e14"
      },
      "source": [
        "np.all(expe_input_arr[3,:,:,1] == newz * 1e10)"
      ],
      "execution_count": 95,
      "outputs": [
        {
          "output_type": "execute_result",
          "data": {
            "text/plain": [
              "True"
            ]
          },
          "metadata": {
            "tags": []
          },
          "execution_count": 95
        }
      ]
    },
    {
      "cell_type": "markdown",
      "metadata": {
        "id": "aPS6wTJ2vj0S",
        "colab_type": "text"
      },
      "source": [
        "So the reason I am getting different calculations is not because numbers got changes when I put them all in the tensor, but it is because the reshaping action was different when trying to get them into the right shape for the matrix multiplication."
      ]
    },
    {
      "cell_type": "markdown",
      "metadata": {
        "id": "nC-JP9Ndwvze",
        "colab_type": "text"
      },
      "source": [
        "### reshaping test"
      ]
    },
    {
      "cell_type": "code",
      "metadata": {
        "id": "tp5c70f-wx9O",
        "colab_type": "code",
        "colab": {}
      },
      "source": [
        "yarr = 2 * np.ones((2,2))\n",
        "zarr = np.zeros((2,2))"
      ],
      "execution_count": 102,
      "outputs": []
    },
    {
      "cell_type": "code",
      "metadata": {
        "id": "B8hgTB4iw8bI",
        "colab_type": "code",
        "colab": {
          "base_uri": "https://localhost:8080/",
          "height": 51
        },
        "outputId": "fad2b058-3aef-466d-ed86-ee72ad40e283"
      },
      "source": [
        "yarr"
      ],
      "execution_count": 103,
      "outputs": [
        {
          "output_type": "execute_result",
          "data": {
            "text/plain": [
              "array([[2., 2.],\n",
              "       [2., 2.]])"
            ]
          },
          "metadata": {
            "tags": []
          },
          "execution_count": 103
        }
      ]
    },
    {
      "cell_type": "code",
      "metadata": {
        "id": "Ji7o1skFw9my",
        "colab_type": "code",
        "colab": {
          "base_uri": "https://localhost:8080/",
          "height": 51
        },
        "outputId": "09d4d3f3-55e6-4e42-9759-4ea865b775b2"
      },
      "source": [
        "zarr"
      ],
      "execution_count": 104,
      "outputs": [
        {
          "output_type": "execute_result",
          "data": {
            "text/plain": [
              "array([[0., 0.],\n",
              "       [0., 0.]])"
            ]
          },
          "metadata": {
            "tags": []
          },
          "execution_count": 104
        }
      ]
    },
    {
      "cell_type": "markdown",
      "metadata": {
        "id": "UDQ0dzbvxRRB",
        "colab_type": "text"
      },
      "source": [
        "#### stack then reshape way"
      ]
    },
    {
      "cell_type": "code",
      "metadata": {
        "id": "FKV1vsiew-ja",
        "colab_type": "code",
        "colab": {
          "base_uri": "https://localhost:8080/",
          "height": 102
        },
        "outputId": "ebf27833-673c-4ae6-a72a-9e6aca4e6a82"
      },
      "source": [
        "# my way\n",
        "sample = np.stack((yarr, zarr), axis=2)\n",
        "print(sample[:,:,0])\n",
        "print()\n",
        "print(sample[:,:,1])"
      ],
      "execution_count": 109,
      "outputs": [
        {
          "output_type": "stream",
          "text": [
            "[[2. 2.]\n",
            " [2. 2.]]\n",
            "\n",
            "[[0. 0.]\n",
            " [0. 0.]]\n"
          ],
          "name": "stdout"
        }
      ]
    },
    {
      "cell_type": "code",
      "metadata": {
        "id": "tIJ0bXO6xGXR",
        "colab_type": "code",
        "colab": {
          "base_uri": "https://localhost:8080/",
          "height": 153
        },
        "outputId": "65c5a04e-b428-43b7-c9e8-b640128ddc97"
      },
      "source": [
        "sample_vec = sample.reshape(8)\n",
        "sample_vec = sample_vec[:, np.newaxis]\n",
        "sample_vec"
      ],
      "execution_count": 106,
      "outputs": [
        {
          "output_type": "execute_result",
          "data": {
            "text/plain": [
              "array([[2.],\n",
              "       [0.],\n",
              "       [2.],\n",
              "       [0.],\n",
              "       [2.],\n",
              "       [0.],\n",
              "       [2.],\n",
              "       [0.]])"
            ]
          },
          "metadata": {
            "tags": []
          },
          "execution_count": 106
        }
      ]
    },
    {
      "cell_type": "markdown",
      "metadata": {
        "id": "X6mgeCS3ydfe",
        "colab_type": "text"
      },
      "source": [
        "so the problem is when you use the `np.reshape` function, the default order is C-like, with the last axis index changing fastest, back to the first axis index changing slowest. This means that while you're filling in the new reshaped array with the same values from the old array, you are filling them in with the following order:\n",
        "\n",
        "1. `arr[0,0,0] = 2`\n",
        "\n",
        "1. `arr[0,0,1] = 0`\n",
        "\n",
        "1. `arr[0,1,0] = 2`\n",
        "\n",
        "1. `arr[0,1,1] = 0`\n",
        "\n",
        "1. ...\n",
        "\n",
        "So you are actually intertwinning the `y-field` values with the `z-field` values, instead of making all `y-field` values go in first, then the `z-field` values.\n",
        "\n",
        "This intertwining of values of course can cause some confusion, but it is not necessarily wrong. Whether it produces the right matrix products fully depends on how the `A`, and in turn, the `P` matrix is set up. If those matrices were set up where the first half of each row is intended to be multiplied to the `y-chanel`, and the second half to the `z-chanel`, then this method of reshaping our input mag-field image is wrong. But if `A` and `P` were reshaped using the same `np.reshape` function, then more investigation is needed to make sure the right coefficients are matched to the right field values. "
      ]
    },
    {
      "cell_type": "code",
      "metadata": {
        "id": "iJkC3gUc8l8H",
        "colab_type": "code",
        "colab": {
          "base_uri": "https://localhost:8080/",
          "height": 153
        },
        "outputId": "a5193b31-2de3-4bed-896f-dc831244ce4b"
      },
      "source": [
        "sample_vec = sample.reshape(8, order='F')\n",
        "sample_vec = sample_vec[:, np.newaxis]\n",
        "sample_vec"
      ],
      "execution_count": 107,
      "outputs": [
        {
          "output_type": "execute_result",
          "data": {
            "text/plain": [
              "array([[2.],\n",
              "       [2.],\n",
              "       [2.],\n",
              "       [2.],\n",
              "       [0.],\n",
              "       [0.],\n",
              "       [0.],\n",
              "       [0.]])"
            ]
          },
          "metadata": {
            "tags": []
          },
          "execution_count": 107
        }
      ]
    },
    {
      "cell_type": "markdown",
      "metadata": {
        "id": "0SGBw3OQx6uK",
        "colab_type": "text"
      },
      "source": [
        "#### reshape then concatenate way"
      ]
    },
    {
      "cell_type": "code",
      "metadata": {
        "id": "jDhR1u2vx-ak",
        "colab_type": "code",
        "colab": {
          "base_uri": "https://localhost:8080/",
          "height": 153
        },
        "outputId": "e8284546-b128-4f89-c5fc-98e899ee66cb"
      },
      "source": [
        "# magfield=np.concatenate((newy.reshape((fulllength,1)),newz.reshape((fulllength,1))),axis=0)\n",
        "sample_vec = np.concatenate((yarr.reshape((4,1)), zarr.reshape((4,1))), axis=0)\n",
        "sample_vec"
      ],
      "execution_count": 110,
      "outputs": [
        {
          "output_type": "execute_result",
          "data": {
            "text/plain": [
              "array([[2.],\n",
              "       [2.],\n",
              "       [2.],\n",
              "       [2.],\n",
              "       [0.],\n",
              "       [0.],\n",
              "       [0.],\n",
              "       [0.]])"
            ]
          },
          "metadata": {
            "tags": []
          },
          "execution_count": 110
        }
      ]
    },
    {
      "cell_type": "markdown",
      "metadata": {
        "id": "51eQVenV2Opf",
        "colab_type": "text"
      },
      "source": [
        "This way, each 2-D matrix was first reshaped into a column vector by flattening out each row, and then the 2 column vectors were concatenated, with the first half of the column vector being the first `y-channel` and the second half of the column vector being the second `z-channel`."
      ]
    },
    {
      "cell_type": "code",
      "metadata": {
        "id": "_XQLFju_2h0N",
        "colab_type": "code",
        "colab": {}
      },
      "source": [
        ""
      ],
      "execution_count": null,
      "outputs": []
    },
    {
      "cell_type": "markdown",
      "metadata": {
        "id": "u2SBVI1KnXVR",
        "colab_type": "text"
      },
      "source": [
        "### all samples"
      ]
    },
    {
      "cell_type": "code",
      "metadata": {
        "id": "MujDy340nS3d",
        "colab_type": "code",
        "colab": {
          "base_uri": "https://localhost:8080/",
          "height": 34
        },
        "outputId": "bef3f7e0-0108-48d2-9e13-b3aabb8b6160"
      },
      "source": [
        "print(fname_list)"
      ],
      "execution_count": 96,
      "outputs": [
        {
          "output_type": "stream",
          "text": [
            "['fmap_2810', 'fmap_3000', 'fmap_3100', 'fmap_3340']\n"
          ],
          "name": "stdout"
        }
      ]
    },
    {
      "cell_type": "code",
      "metadata": {
        "id": "RIHsVIVPcoV-",
        "colab_type": "code",
        "colab": {
          "base_uri": "https://localhost:8080/",
          "height": 34
        },
        "outputId": "989806f3-9939-48b0-9e7a-184e032d52a2"
      },
      "source": [
        "b = 10\n",
        "a = b*1e10\n",
        "b == a*1e-10"
      ],
      "execution_count": 99,
      "outputs": [
        {
          "output_type": "execute_result",
          "data": {
            "text/plain": [
              "True"
            ]
          },
          "metadata": {
            "tags": []
          },
          "execution_count": 99
        }
      ]
    },
    {
      "cell_type": "code",
      "metadata": {
        "id": "CvgzXGKejAqa",
        "colab_type": "code",
        "colab": {
          "base_uri": "https://localhost:8080/",
          "height": 649
        },
        "outputId": "2dea94bc-e19b-4e34-e8de-1dee95604e47"
      },
      "source": [
        "fig,axs = plt.subplots(1,len(fname_list), sharey='row', figsize=(13,39))\n",
        "print(axs.shape)\n",
        "\n",
        "for i in range(len(fname_list)):\n",
        "  newy = expe_input_arr[i,:,:,0]*1e-10\n",
        "  newz = expe_input_arr[i,:,:,1]*1e-10\n",
        "    # scale back to original values\n",
        "  magfield=np.concatenate((newy.reshape((fulllength,1)),newz.reshape((fulllength,1))),axis=0)\n",
        "  result=np.dot(P,magfield)\n",
        "  result=result.reshape((npts[0],npts[1],npts[2],3))\n",
        "  print(result.shape)\n",
        "  \n",
        "  plt.sca(axs[i])\n",
        "  imshow_center(np.transpose(result[0,:,:,2]))\n",
        "  plt.title(str(fname_list[i]))\n",
        "  # plt.figure()\n",
        "  # imshow_center(y_pred_ht2[i,:,:,1])\n",
        "  # plt.title(\"predicted y_suscept for \"+str(fname_list[i]))\n",
        "  # plt.figure()\n",
        "  # imshow_center(y_pred_ht2[i,:,:,0])\n",
        "  # plt.title(\"predicted x_suscept for \"+str(fname_list[i]))\n",
        "\n",
        "fig.suptitle(\"predicted z-suscept\", fontsize=20, y=0.6)\n",
        "# fig.subplots_adjust(top=-20)"
      ],
      "execution_count": 105,
      "outputs": [
        {
          "output_type": "stream",
          "text": [
            "(4,)\n",
            "(1, 16, 32, 3)\n",
            "(1, 16, 32, 3)\n",
            "(1, 16, 32, 3)\n",
            "(1, 16, 32, 3)\n"
          ],
          "name": "stdout"
        },
        {
          "output_type": "execute_result",
          "data": {
            "text/plain": [
              "Text(0.5, 0.6, 'predicted z-suscept')"
            ]
          },
          "metadata": {
            "tags": []
          },
          "execution_count": 105
        },
        {
          "output_type": "display_data",
          "data": {
            "image/png": "[encoded data removed]",
            "text/plain": [
              "<Figure size 936x2808 with 8 Axes>"
            ]
          },
          "metadata": {
            "tags": [],
            "needs_background": "light"
          }
        }
      ]
    },
    {
      "cell_type": "code",
      "metadata": {
        "id": "6zh613QfmI6h",
        "colab_type": "code",
        "colab": {
          "base_uri": "https://localhost:8080/",
          "height": 34
        },
        "outputId": "fbafff4e-568c-409d-e8c0-5f1a199bf862"
      },
      "source": [
        "np.any(expe_input_arr[0] == expe_input_arr[2])"
      ],
      "execution_count": 101,
      "outputs": [
        {
          "output_type": "execute_result",
          "data": {
            "text/plain": [
              "False"
            ]
          },
          "metadata": {
            "tags": []
          },
          "execution_count": 101
        }
      ]
    },
    {
      "cell_type": "code",
      "metadata": {
        "id": "b1g8bZKnmmaI",
        "colab_type": "code",
        "colab": {
          "base_uri": "https://localhost:8080/",
          "height": 649
        },
        "outputId": "758bb478-467c-4538-cf2d-eef6b31c9dfa"
      },
      "source": [
        "fig,axs = plt.subplots(1,len(fname_list), sharey='row', figsize=(13,39))\n",
        "print(axs.shape)\n",
        "\n",
        "for i in range(len(fname_list)):\n",
        "  newy = expe_input_arr[i,:,:,0]*1e-10\n",
        "  newz = expe_input_arr[i,:,:,1]*1e-10\n",
        "    # scale back to original values\n",
        "  magfield=np.concatenate((newy.reshape((fulllength,1)),newz.reshape((fulllength,1))),axis=0)\n",
        "  result=np.dot(P,magfield)\n",
        "  result=result.reshape((npts[2],npts[1],3))\n",
        "  print(result.shape)\n",
        "  \n",
        "  plt.sca(axs[i])\n",
        "  imshow_center((result[:,:,2]))\n",
        "  plt.title(str(fname_list[i]))\n",
        "  # plt.figure()\n",
        "  # imshow_center(y_pred_ht2[i,:,:,1])\n",
        "  # plt.title(\"predicted y_suscept for \"+str(fname_list[i]))\n",
        "  # plt.figure()\n",
        "  # imshow_center(y_pred_ht2[i,:,:,0])\n",
        "  # plt.title(\"predicted x_suscept for \"+str(fname_list[i]))\n",
        "\n",
        "fig.suptitle(\"predicted z-suscept\", fontsize=20, y=0.6)\n",
        "# fig.subplots_adjust(top=-20)"
      ],
      "execution_count": 104,
      "outputs": [
        {
          "output_type": "stream",
          "text": [
            "(4,)\n",
            "(32, 16, 3)\n",
            "(32, 16, 3)\n",
            "(32, 16, 3)\n",
            "(32, 16, 3)\n"
          ],
          "name": "stdout"
        },
        {
          "output_type": "execute_result",
          "data": {
            "text/plain": [
              "Text(0.5, 0.6, 'predicted z-suscept')"
            ]
          },
          "metadata": {
            "tags": []
          },
          "execution_count": 104
        },
        {
          "output_type": "display_data",
          "data": {
            "image/png": "[encoded data removed]",
            "text/plain": [
              "<Figure size 936x2808 with 8 Axes>"
            ]
          },
          "metadata": {
            "tags": [],
            "needs_background": "light"
          }
        }
      ]
    },
    {
      "cell_type": "code",
      "metadata": {
        "id": "DUf0Tgqur8LA",
        "colab_type": "code",
        "colab": {}
      },
      "source": [
        "# we cannot just simply reshape the result image into the correct dimensions\n",
        "# the result was calculated for the transpose image, so we need to first reshape it into the transpose\n",
        "# then, transpose the transpose to store the correct orientation of the graph into the prediction tensor"
      ],
      "execution_count": 112,
      "outputs": []
    },
    {
      "cell_type": "code",
      "metadata": {
        "id": "IaTHFxAzp6bk",
        "colab_type": "code",
        "colab": {
          "base_uri": "https://localhost:8080/",
          "height": 717
        },
        "outputId": "0834c455-3b28-46f0-8e04-c63c44d37477"
      },
      "source": [
        "fig,axs = plt.subplots(1,len(fname_list), sharey='row', figsize=(13,39))\n",
        "print(axs.shape)\n",
        "\n",
        "for i in range(len(fname_list)):\n",
        "  newy = expe_input_arr[i,:,:,0]*1e-10\n",
        "  newz = expe_input_arr[i,:,:,1]*1e-10\n",
        "    # scale back to original values\n",
        "  magfield=np.concatenate((newy.reshape((fulllength,1)),newz.reshape((fulllength,1))),axis=0)\n",
        "  result=np.dot(P,magfield)\n",
        "  result=result.reshape((npts[0],npts[1],npts[2],3))\n",
        "  print(result.shape)\n",
        "  y_pred_svd = np.empty((1,32,16,3))\n",
        "  for ii in range(3):\n",
        "    y_pred_svd[0,:,:,ii] = np.squeeze(np.transpose(result[:,:,:,ii]))\n",
        "  print(y_pred_svd.shape)\n",
        "  \n",
        "  plt.sca(axs[i])\n",
        "  imshow_center((y_pred_svd[0,:,:,2]))\n",
        "  plt.title(str(fname_list[i]))\n",
        "  # plt.figure()\n",
        "  # imshow_center(y_pred_ht2[i,:,:,1])\n",
        "  # plt.title(\"predicted y_suscept for \"+str(fname_list[i]))\n",
        "  # plt.figure()\n",
        "  # imshow_center(y_pred_ht2[i,:,:,0])\n",
        "  # plt.title(\"predicted x_suscept for \"+str(fname_list[i]))\n",
        "\n",
        "fig.suptitle(\"predicted z-suscept\", fontsize=20, y=0.6)\n",
        "# fig.subplots_adjust(top=-20)"
      ],
      "execution_count": 111,
      "outputs": [
        {
          "output_type": "stream",
          "text": [
            "(4,)\n",
            "(1, 16, 32, 3)\n",
            "(1, 32, 16, 3)\n",
            "(1, 16, 32, 3)\n",
            "(1, 32, 16, 3)\n",
            "(1, 16, 32, 3)\n",
            "(1, 32, 16, 3)\n",
            "(1, 16, 32, 3)\n",
            "(1, 32, 16, 3)\n"
          ],
          "name": "stdout"
        },
        {
          "output_type": "execute_result",
          "data": {
            "text/plain": [
              "Text(0.5, 0.6, 'predicted z-suscept')"
            ]
          },
          "metadata": {
            "tags": []
          },
          "execution_count": 111
        },
        {
          "output_type": "display_data",
          "data": {
            "image/png": "[encoded data removed]",
            "text/plain": [
              "<Figure size 936x2808 with 8 Axes>"
            ]
          },
          "metadata": {
            "tags": [],
            "needs_background": "light"
          }
        }
      ]
    },
    {
      "cell_type": "code",
      "metadata": {
        "id": "_LyKGtfJqrnF",
        "colab_type": "code",
        "colab": {}
      },
      "source": [
        ""
      ],
      "execution_count": null,
      "outputs": []
    }
  ]
}